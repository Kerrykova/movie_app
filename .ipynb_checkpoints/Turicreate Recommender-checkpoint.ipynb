{
 "cells": [
  {
   "cell_type": "code",
   "execution_count": 1,
   "metadata": {},
   "outputs": [],
   "source": [
    "import turicreate as tc"
   ]
  },
  {
   "cell_type": "code",
   "execution_count": 3,
   "metadata": {},
   "outputs": [
    {
     "data": {
      "text/html": [
       "<pre>Finished parsing file /Users/kerrykovacik/Desktop/Career/Data Boot Camp/HW/Project 3/ml-100k/u.data</pre>"
      ],
      "text/plain": [
       "Finished parsing file /Users/kerrykovacik/Desktop/Career/Data Boot Camp/HW/Project 3/ml-100k/u.data"
      ]
     },
     "metadata": {},
     "output_type": "display_data"
    },
    {
     "data": {
      "text/html": [
       "<pre>Parsing completed. Parsed 100 lines in 0.083951 secs.</pre>"
      ],
      "text/plain": [
       "Parsing completed. Parsed 100 lines in 0.083951 secs."
      ]
     },
     "metadata": {},
     "output_type": "display_data"
    },
    {
     "name": "stdout",
     "output_type": "stream",
     "text": [
      "------------------------------------------------------\n",
      "Inferred types from first 100 line(s) of file as \n",
      "column_type_hints=[str]\n",
      "If parsing fails due to incorrect types, you can correct\n",
      "the inferred type list above and pass it to read_csv in\n",
      "the column_type_hints argument\n",
      "------------------------------------------------------\n"
     ]
    },
    {
     "data": {
      "text/html": [
       "<pre>Finished parsing file /Users/kerrykovacik/Desktop/Career/Data Boot Camp/HW/Project 3/ml-100k/u.data</pre>"
      ],
      "text/plain": [
       "Finished parsing file /Users/kerrykovacik/Desktop/Career/Data Boot Camp/HW/Project 3/ml-100k/u.data"
      ]
     },
     "metadata": {},
     "output_type": "display_data"
    },
    {
     "data": {
      "text/html": [
       "<pre>Parsing completed. Parsed 99999 lines in 0.064395 secs.</pre>"
      ],
      "text/plain": [
       "Parsing completed. Parsed 99999 lines in 0.064395 secs."
      ]
     },
     "metadata": {},
     "output_type": "display_data"
    }
   ],
   "source": [
    "ratings = tc.SFrame.read_csv('../ml-latest-small/ratings.csv')\n"
   ]
  },
  {
   "cell_type": "code",
   "execution_count": 4,
   "metadata": {},
   "outputs": [
    {
     "data": {
      "text/html": [
       "<pre>Unexpected characters after last column. \"A (1995)|01-Jan-1995||http://us.imdb.com/M/title-exact?Kid%20in%20King%20Arthur's%20Court\"\n",
       "Parse failed at token ending at: \n",
       "\t560|Kid in King Arthur's Court, A (1995)|01-Jan-1995||http://us.imdb.com/M/title-exact?Kid%20in%20King%20Arthur's%20Court,\u001b[1;31m^\u001b[0m%20A%20(1995)|0|0|1|0|1|1|0|0|0|1|0|0|0|0|1|1|0|0|0\n",
       "Successfully parsed 1 tokens: \n",
       "\t0: 560|Kid in ... ur's Court</pre>"
      ],
      "text/plain": [
       "Unexpected characters after last column. \"A (1995)|01-Jan-1995||http://us.imdb.com/M/title-exact?Kid%20in%20King%20Arthur's%20Court\"\n",
       "Parse failed at token ending at: \n",
       "\t560|Kid in King Arthur's Court, A (1995)|01-Jan-1995||http://us.imdb.com/M/title-exact?Kid%20in%20King%20Arthur's%20Court,\u001b[1;31m^\u001b[0m%20A%20(1995)|0|0|1|0|1|1|0|0|0|1|0|0|0|0|1|1|0|0|0\n",
       "Successfully parsed 1 tokens: \n",
       "\t0: 560|Kid in ... ur's Court"
      ]
     },
     "metadata": {},
     "output_type": "display_data"
    },
    {
     "name": "stdout",
     "output_type": "stream",
     "text": [
      "------------------------------------------------------\n",
      "Inferred types from first 100 line(s) of file as \n",
      "column_type_hints=[str]"
     ]
    },
    {
     "data": {
      "text/html": [
       "<pre>Unexpected characters after last column. \"The (1995)|01-Jan-1995||http://us.imdb.com/M/title-exact?Quick%20and%20the%20Dead\"\n",
       "Parse failed at token ending at: \n",
       "\t562|Quick and the Dead, The (1995)|01-Jan-1995||http://us.imdb.com/M/title-exact?Quick%20and%20the%20Dead,\u001b[1;31m^\u001b[0m%20The%20(1995)|0|1|1|0|0|0|0|0|0|0|0|0|0|0|0|0|0|0|1\n",
       "Successfully parsed 1 tokens: \n",
       "\t0: 562|Quick  ... d the Dead</pre>"
      ],
      "text/plain": [
       "Unexpected characters after last column. \"The (1995)|01-Jan-1995||http://us.imdb.com/M/title-exact?Quick%20and%20the%20Dead\"\n",
       "Parse failed at token ending at: \n",
       "\t562|Quick and the Dead, The (1995)|01-Jan-1995||http://us.imdb.com/M/title-exact?Quick%20and%20the%20Dead,\u001b[1;31m^\u001b[0m%20The%20(1995)|0|1|1|0|0|0|0|0|0|0|0|0|0|0|0|0|0|0|1\n",
       "Successfully parsed 1 tokens: \n",
       "\t0: 562|Quick  ... d the Dead"
      ]
     },
     "metadata": {},
     "output_type": "display_data"
    },
    {
     "name": "stdout",
     "output_type": "stream",
     "text": [
      "\n",
      "If parsing fails due to incorrect types, you can correct\n",
      "the inferred type list above and pass it to read_csv in\n",
      "the column_type_hints argument\n",
      "------------------------------------------------------\n"
     ]
    },
    {
     "data": {
      "text/html": [
       "<pre>Unexpected characters after last column. \"The (1995)|14-Aug-1995||http://us.imdb.com/M/title-exact?Usual%20Suspects\"\n",
       "Parse failed at token ending at: \n",
       "\t12|Usual Suspects, The (1995)|14-Aug-1995||http://us.imdb.com/M/title-exact?Usual%20Suspects,\u001b[1;31m^\u001b[0m%20The%20(1995)|0|0|0|0|0|0|1|0|0|0|0|0|0|0|0|0|1|0|0\n",
       "Successfully parsed 1 tokens: \n",
       "\t0: 12|Usual Suspects</pre>"
      ],
      "text/plain": [
       "Unexpected characters after last column. \"The (1995)|14-Aug-1995||http://us.imdb.com/M/title-exact?Usual%20Suspects\"\n",
       "Parse failed at token ending at: \n",
       "\t12|Usual Suspects, The (1995)|14-Aug-1995||http://us.imdb.com/M/title-exact?Usual%20Suspects,\u001b[1;31m^\u001b[0m%20The%20(1995)|0|0|0|0|0|0|1|0|0|0|0|0|0|0|0|0|1|0|0\n",
       "Successfully parsed 1 tokens: \n",
       "\t0: 12|Usual Suspects"
      ]
     },
     "metadata": {},
     "output_type": "display_data"
    },
    {
     "data": {
      "text/html": [
       "<pre>Unexpected characters after last column. \"%20The%22%20(1995)%20(mini)|0|0|0|0|0|0|0|0|0|0|0|1|0|0|0|0|0|0|0\"\n",
       "Parse failed at token ending at: \n",
       "\t563|Stephen King's The Langoliers (1995)|01-Jan-1995||http://us.imdb.com/M/title-exact?%22Langoliers,%20The%22%20(1995)%20(mini)|0|0|0|0|0|0|0|0|0|0|0|1|0|0|0|0|0|0|0\u001b[1;31m^\u001b[0m\n",
       "Successfully parsed 1 tokens: \n",
       "\t0: 563|Stephe ... Langoliers</pre>"
      ],
      "text/plain": [
       "Unexpected characters after last column. \"%20The%22%20(1995)%20(mini)|0|0|0|0|0|0|0|0|0|0|0|1|0|0|0|0|0|0|0\"\n",
       "Parse failed at token ending at: \n",
       "\t563|Stephen King's The Langoliers (1995)|01-Jan-1995||http://us.imdb.com/M/title-exact?%22Langoliers,%20The%22%20(1995)%20(mini)|0|0|0|0|0|0|0|0|0|0|0|1|0|0|0|0|0|0|0\u001b[1;31m^\u001b[0m\n",
       "Successfully parsed 1 tokens: \n",
       "\t0: 563|Stephe ... Langoliers"
      ]
     },
     "metadata": {},
     "output_type": "display_data"
    },
    {
     "data": {
      "text/html": [
       "<pre>Unexpected characters after last column. \"Il (1994)|01-Jan-1994||http://us.imdb.com/M/title-exact?Postino\"\n",
       "Parse failed at token ending at: \n",
       "\t14|Postino, Il (1994)|01-Jan-1994||http://us.imdb.com/M/title-exact?Postino,\u001b[1;31m^\u001b[0m%20Il%20(1994)|0|0|0|0|0|0|0|0|1|0|0|0|0|0|1|0|0|0|0\n",
       "Successfully parsed 1 tokens: \n",
       "\t0: 14|Postino</pre>"
      ],
      "text/plain": [
       "Unexpected characters after last column. \"Il (1994)|01-Jan-1994||http://us.imdb.com/M/title-exact?Postino\"\n",
       "Parse failed at token ending at: \n",
       "\t14|Postino, Il (1994)|01-Jan-1994||http://us.imdb.com/M/title-exact?Postino,\u001b[1;31m^\u001b[0m%20Il%20(1994)|0|0|0|0|0|0|0|0|1|0|0|0|0|0|1|0|0|0|0\n",
       "Successfully parsed 1 tokens: \n",
       "\t0: 14|Postino"
      ]
     },
     "metadata": {},
     "output_type": "display_data"
    },
    {
     "data": {
      "text/html": [
       "<pre>Unexpected characters after last column. \"The (1995)|01-Jan-1995||http://us.imdb.com/M/title-exact?Badkonake%20Sefid%20(1995)|0|0|0|0|0|0|0|0|1|0|0|0|0|0|0|0|0|0|0\"\n",
       "Parse failed at token ending at: \n",
       "\t18|White Balloon, The (1995)|01-Jan-1995||http://us.imdb.com/M/title-exact?Badkonake%20Sefid%20(1995)|0|0|0|0|0|0|0|0|1|0|0|0|0|0|0|0|0|0|0\u001b[1;31m^\u001b[0m\n",
       "Successfully parsed 1 tokens: \n",
       "\t0: 18|White Balloon</pre>"
      ],
      "text/plain": [
       "Unexpected characters after last column. \"The (1995)|01-Jan-1995||http://us.imdb.com/M/title-exact?Badkonake%20Sefid%20(1995)|0|0|0|0|0|0|0|0|1|0|0|0|0|0|0|0|0|0|0\"\n",
       "Parse failed at token ending at: \n",
       "\t18|White Balloon, The (1995)|01-Jan-1995||http://us.imdb.com/M/title-exact?Badkonake%20Sefid%20(1995)|0|0|0|0|0|0|0|0|1|0|0|0|0|0|0|0|0|0|0\u001b[1;31m^\u001b[0m\n",
       "Successfully parsed 1 tokens: \n",
       "\t0: 18|White Balloon"
      ]
     },
     "metadata": {},
     "output_type": "display_data"
    },
    {
     "data": {
      "text/html": [
       "<pre>Unexpected characters after last column. \"The (1954)|01-Jan-1954||http://us.imdb.com/M/title-exact?Last%20Time%20I%20Saw%20Paris\"\n",
       "Parse failed at token ending at: \n",
       "\t1123|Last Time I Saw Paris, The (1954)|01-Jan-1954||http://us.imdb.com/M/title-exact?Last%20Time%20I%20Saw%20Paris,\u001b[1;31m^\u001b[0m%20The%20(1954)|0|0|0|0|0|0|0|0|1|0|0|0|0|0|0|0|0|0|0\n",
       "Successfully parsed 1 tokens: \n",
       "\t0: 1123|Last  ...  Saw Paris</pre>"
      ],
      "text/plain": [
       "Unexpected characters after last column. \"The (1954)|01-Jan-1954||http://us.imdb.com/M/title-exact?Last%20Time%20I%20Saw%20Paris\"\n",
       "Parse failed at token ending at: \n",
       "\t1123|Last Time I Saw Paris, The (1954)|01-Jan-1954||http://us.imdb.com/M/title-exact?Last%20Time%20I%20Saw%20Paris,\u001b[1;31m^\u001b[0m%20The%20(1954)|0|0|0|0|0|0|0|0|1|0|0|0|0|0|0|0|0|0|0\n",
       "Successfully parsed 1 tokens: \n",
       "\t0: 1123|Last  ...  Saw Paris"
      ]
     },
     "metadata": {},
     "output_type": "display_data"
    },
    {
     "data": {
      "text/html": [
       "<pre>Unexpected characters after last column. \"But Came Down a Mountain\"\n",
       "Parse failed at token ending at: \n",
       "\t580|Englishman Who Went Up a Hill, But Came Down a Mountain,\u001b[1;31m^\u001b[0m The (1995)|01-Jan-1995||http://us.imdb.com/M/ti\n",
       "Successfully parsed 1 tokens: \n",
       "\t0: 580|Englis ...  Up a Hill</pre>"
      ],
      "text/plain": [
       "Unexpected characters after last column. \"But Came Down a Mountain\"\n",
       "Parse failed at token ending at: \n",
       "\t580|Englishman Who Went Up a Hill, But Came Down a Mountain,\u001b[1;31m^\u001b[0m The (1995)|01-Jan-1995||http://us.imdb.com/M/ti\n",
       "Successfully parsed 1 tokens: \n",
       "\t0: 580|Englis ...  Up a Hill"
      ]
     },
     "metadata": {},
     "output_type": "display_data"
    },
    {
     "data": {
      "text/html": [
       "<pre>Unexpected characters after last column. \"A (1932)|01-Jan-1932||http://us.imdb.com/M/title-exact?Farewell%20to%20Arms\"\n",
       "Parse failed at token ending at: \n",
       "\t1124|Farewell to Arms, A (1932)|01-Jan-1932||http://us.imdb.com/M/title-exact?Farewell%20to%20Arms,\u001b[1;31m^\u001b[0m%20A%20(1932)|0|0|0|0|0|0|0|0|0|0|0|0|0|0|1|0|0|1|0\n",
       "Successfully parsed 1 tokens: \n",
       "\t0: 1124|Farewell to Arms</pre>"
      ],
      "text/plain": [
       "Unexpected characters after last column. \"A (1932)|01-Jan-1932||http://us.imdb.com/M/title-exact?Farewell%20to%20Arms\"\n",
       "Parse failed at token ending at: \n",
       "\t1124|Farewell to Arms, A (1932)|01-Jan-1932||http://us.imdb.com/M/title-exact?Farewell%20to%20Arms,\u001b[1;31m^\u001b[0m%20A%20(1932)|0|0|0|0|0|0|0|0|0|0|0|0|0|0|1|0|0|1|0\n",
       "Successfully parsed 1 tokens: \n",
       "\t0: 1124|Farewell to Arms"
      ]
     },
     "metadata": {},
     "output_type": "display_data"
    },
    {
     "data": {
      "text/html": [
       "<pre>Unexpected characters after last column. \"The (1993)|01-Jan-1993||http://us.imdb.com/M/title-exact?Piano\"\n",
       "Parse failed at token ending at: \n",
       "\t582|Piano, The (1993)|01-Jan-1993||http://us.imdb.com/M/title-exact?Piano,\u001b[1;31m^\u001b[0m%20The%20(1993)|0|0|0|0|0|0|0|0|1|0|0|0|0|0|1|0|0|0|0\n",
       "Successfully parsed 1 tokens: \n",
       "\t0: 582|Piano</pre>"
      ],
      "text/plain": [
       "Unexpected characters after last column. \"The (1993)|01-Jan-1993||http://us.imdb.com/M/title-exact?Piano\"\n",
       "Parse failed at token ending at: \n",
       "\t582|Piano, The (1993)|01-Jan-1993||http://us.imdb.com/M/title-exact?Piano,\u001b[1;31m^\u001b[0m%20The%20(1993)|0|0|0|0|0|0|0|0|1|0|0|0|0|0|1|0|0|0|0\n",
       "Successfully parsed 1 tokens: \n",
       "\t0: 582|Piano"
      ]
     },
     "metadata": {},
     "output_type": "display_data"
    },
    {
     "data": {
      "text/html": [
       "<pre>Unexpected characters after last column. \"The (1961)|01-Jan-1961||http://us.imdb.com/M/title-exact?Innocents\"\n",
       "Parse failed at token ending at: \n",
       "\t1125|Innocents, The (1961)|01-Jan-1961||http://us.imdb.com/M/title-exact?Innocents,\u001b[1;31m^\u001b[0m%20The%20(1961)|0|0|0|0|0|0|0|0|0|0|0|0|0|0|0|0|1|0|0\n",
       "Successfully parsed 1 tokens: \n",
       "\t0: 1125|Innocents</pre>"
      ],
      "text/plain": [
       "Unexpected characters after last column. \"The (1961)|01-Jan-1961||http://us.imdb.com/M/title-exact?Innocents\"\n",
       "Parse failed at token ending at: \n",
       "\t1125|Innocents, The (1961)|01-Jan-1961||http://us.imdb.com/M/title-exact?Innocents,\u001b[1;31m^\u001b[0m%20The%20(1961)|0|0|0|0|0|0|0|0|0|0|0|0|0|0|0|0|1|0|0\n",
       "Successfully parsed 1 tokens: \n",
       "\t0: 1125|Innocents"
      ]
     },
     "metadata": {},
     "output_type": "display_data"
    },
    {
     "data": {
      "text/html": [
       "<pre>Unexpected characters after last column. \"The (1996)|08-Mar-1996||http://us.imdb.com/M/title-exact?Birdcage\"\n",
       "Parse failed at token ending at: \n",
       "\t25|Birdcage, The (1996)|08-Mar-1996||http://us.imdb.com/M/title-exact?Birdcage,\u001b[1;31m^\u001b[0m%20The%20(1996)|0|0|0|0|0|1|0|0|0|0|0|0|0|0|0|0|0|0|0\n",
       "Successfully parsed 1 tokens: \n",
       "\t0: 25|Birdcage</pre>"
      ],
      "text/plain": [
       "Unexpected characters after last column. \"The (1996)|08-Mar-1996||http://us.imdb.com/M/title-exact?Birdcage\"\n",
       "Parse failed at token ending at: \n",
       "\t25|Birdcage, The (1996)|08-Mar-1996||http://us.imdb.com/M/title-exact?Birdcage,\u001b[1;31m^\u001b[0m%20The%20(1996)|0|0|0|0|0|1|0|0|0|0|0|0|0|0|0|0|0|0|0\n",
       "Successfully parsed 1 tokens: \n",
       "\t0: 25|Birdcage"
      ]
     },
     "metadata": {},
     "output_type": "display_data"
    },
    {
     "data": {
      "text/html": [
       "<pre>415 lines failed to parse correctly</pre>"
      ],
      "text/plain": [
       "415 lines failed to parse correctly"
      ]
     },
     "metadata": {},
     "output_type": "display_data"
    },
    {
     "data": {
      "text/html": [
       "<pre>Finished parsing file /Users/kerrykovacik/Desktop/Career/Data Boot Camp/HW/Project 3/ml-100k/u.item</pre>"
      ],
      "text/plain": [
       "Finished parsing file /Users/kerrykovacik/Desktop/Career/Data Boot Camp/HW/Project 3/ml-100k/u.item"
      ]
     },
     "metadata": {},
     "output_type": "display_data"
    },
    {
     "data": {
      "text/html": [
       "<pre>Parsing completed. Parsed 100 lines in 0.014787 secs.</pre>"
      ],
      "text/plain": [
       "Parsing completed. Parsed 100 lines in 0.014787 secs."
      ]
     },
     "metadata": {},
     "output_type": "display_data"
    },
    {
     "data": {
      "text/html": [
       "<pre>Unexpected characters after last column. \"The (1995)|14-Aug-1995||http://us.imdb.com/M/title-exact?Usual%20Suspects\"\n",
       "Parse failed at token ending at: \n",
       "\t12|Usual Suspects, The (1995)|14-Aug-1995||http://us.imdb.com/M/title-exact?Usual%20Suspects,\u001b[1;31m^\u001b[0m%20The%20(1995)|0|0|0|0|0|0|1|0|0|0|0|0|0|0|0|0|1|0|0\n",
       "Successfully parsed 1 tokens: \n",
       "\t0: 12|Usual Suspects</pre>"
      ],
      "text/plain": [
       "Unexpected characters after last column. \"The (1995)|14-Aug-1995||http://us.imdb.com/M/title-exact?Usual%20Suspects\"\n",
       "Parse failed at token ending at: \n",
       "\t12|Usual Suspects, The (1995)|14-Aug-1995||http://us.imdb.com/M/title-exact?Usual%20Suspects,\u001b[1;31m^\u001b[0m%20The%20(1995)|0|0|0|0|0|0|1|0|0|0|0|0|0|0|0|0|1|0|0\n",
       "Successfully parsed 1 tokens: \n",
       "\t0: 12|Usual Suspects"
      ]
     },
     "metadata": {},
     "output_type": "display_data"
    },
    {
     "data": {
      "text/html": [
       "<pre>Unexpected characters after last column. \"Il (1994)|01-Jan-1994||http://us.imdb.com/M/title-exact?Postino\"\n",
       "Parse failed at token ending at: \n",
       "\t14|Postino, Il (1994)|01-Jan-1994||http://us.imdb.com/M/title-exact?Postino,\u001b[1;31m^\u001b[0m%20Il%20(1994)|0|0|0|0|0|0|0|0|1|0|0|0|0|0|1|0|0|0|0\n",
       "Successfully parsed 1 tokens: \n",
       "\t0: 14|Postino</pre>"
      ],
      "text/plain": [
       "Unexpected characters after last column. \"Il (1994)|01-Jan-1994||http://us.imdb.com/M/title-exact?Postino\"\n",
       "Parse failed at token ending at: \n",
       "\t14|Postino, Il (1994)|01-Jan-1994||http://us.imdb.com/M/title-exact?Postino,\u001b[1;31m^\u001b[0m%20Il%20(1994)|0|0|0|0|0|0|0|0|1|0|0|0|0|0|1|0|0|0|0\n",
       "Successfully parsed 1 tokens: \n",
       "\t0: 14|Postino"
      ]
     },
     "metadata": {},
     "output_type": "display_data"
    },
    {
     "data": {
      "text/html": [
       "<pre>Unexpected characters after last column. \"The (1995)|01-Jan-1995||http://us.imdb.com/M/title-exact?Badkonake%20Sefid%20(1995)|0|0|0|0|0|0|0|0|1|0|0|0|0|0|0|0|0|0|0\"\n",
       "Parse failed at token ending at: \n",
       "\t18|White Balloon, The (1995)|01-Jan-1995||http://us.imdb.com/M/title-exact?Badkonake%20Sefid%20(1995)|0|0|0|0|0|0|0|0|1|0|0|0|0|0|0|0|0|0|0\u001b[1;31m^\u001b[0m\n",
       "Successfully parsed 1 tokens: \n",
       "\t0: 18|White Balloon</pre>"
      ],
      "text/plain": [
       "Unexpected characters after last column. \"The (1995)|01-Jan-1995||http://us.imdb.com/M/title-exact?Badkonake%20Sefid%20(1995)|0|0|0|0|0|0|0|0|1|0|0|0|0|0|0|0|0|0|0\"\n",
       "Parse failed at token ending at: \n",
       "\t18|White Balloon, The (1995)|01-Jan-1995||http://us.imdb.com/M/title-exact?Badkonake%20Sefid%20(1995)|0|0|0|0|0|0|0|0|1|0|0|0|0|0|0|0|0|0|0\u001b[1;31m^\u001b[0m\n",
       "Successfully parsed 1 tokens: \n",
       "\t0: 18|White Balloon"
      ]
     },
     "metadata": {},
     "output_type": "display_data"
    },
    {
     "data": {
      "text/html": [
       "<pre>Unexpected characters after last column. \"The (1996)|08-Mar-1996||http://us.imdb.com/M/title-exact?Birdcage\"\n",
       "Parse failed at token ending at: \n",
       "\t25|Birdcage, The (1996)|08-Mar-1996||http://us.imdb.com/M/title-exact?Birdcage,\u001b[1;31m^\u001b[0m%20The%20(1996)|0|0|0|0|0|1|0|0|0|0|0|0|0|0|0|0|0|0|0\n",
       "Successfully parsed 1 tokens: \n",
       "\t0: 25|Birdcage</pre>"
      ],
      "text/plain": [
       "Unexpected characters after last column. \"The (1996)|08-Mar-1996||http://us.imdb.com/M/title-exact?Birdcage\"\n",
       "Parse failed at token ending at: \n",
       "\t25|Birdcage, The (1996)|08-Mar-1996||http://us.imdb.com/M/title-exact?Birdcage,\u001b[1;31m^\u001b[0m%20The%20(1996)|0|0|0|0|0|1|0|0|0|0|0|0|0|0|0|0|0|0|0\n",
       "Successfully parsed 1 tokens: \n",
       "\t0: 25|Birdcage"
      ]
     },
     "metadata": {},
     "output_type": "display_data"
    },
    {
     "data": {
      "text/html": [
       "<pre>Unexpected characters after last column. \"The (1995)|01-Jan-1995||http://us.imdb.com/M/title-exact?Brothers%20McMullen\"\n",
       "Parse failed at token ending at: \n",
       "\t26|Brothers McMullen, The (1995)|01-Jan-1995||http://us.imdb.com/M/title-exact?Brothers%20McMullen,\u001b[1;31m^\u001b[0m%20The%20(1995)|0|0|0|0|0|1|0|0|0|0|0|0|0|0|0|0|0|0|0\n",
       "Successfully parsed 1 tokens: \n",
       "\t0: 26|Brothers McMullen</pre>"
      ],
      "text/plain": [
       "Unexpected characters after last column. \"The (1995)|01-Jan-1995||http://us.imdb.com/M/title-exact?Brothers%20McMullen\"\n",
       "Parse failed at token ending at: \n",
       "\t26|Brothers McMullen, The (1995)|01-Jan-1995||http://us.imdb.com/M/title-exact?Brothers%20McMullen,\u001b[1;31m^\u001b[0m%20The%20(1995)|0|0|0|0|0|1|0|0|0|0|0|0|0|0|0|0|0|0|0\n",
       "Successfully parsed 1 tokens: \n",
       "\t0: 26|Brothers McMullen"
      ]
     },
     "metadata": {},
     "output_type": "display_data"
    },
    {
     "data": {
      "text/html": [
       "<pre>Unexpected characters after last column. \"The (1995)|01-Jan-1995||http://us.imdb.com/M/title-exact?Doom%20Generation\"\n",
       "Parse failed at token ending at: \n",
       "\t34|Doom Generation, The (1995)|01-Jan-1995||http://us.imdb.com/M/title-exact?Doom%20Generation,\u001b[1;31m^\u001b[0m%20The%20(1995)|0|0|0|0|0|1|0|0|1|0|0|0|0|0|0|0|0|0|0\n",
       "Successfully parsed 1 tokens: \n",
       "\t0: 34|Doom Generation</pre>"
      ],
      "text/plain": [
       "Unexpected characters after last column. \"The (1995)|01-Jan-1995||http://us.imdb.com/M/title-exact?Doom%20Generation\"\n",
       "Parse failed at token ending at: \n",
       "\t34|Doom Generation, The (1995)|01-Jan-1995||http://us.imdb.com/M/title-exact?Doom%20Generation,\u001b[1;31m^\u001b[0m%20The%20(1995)|0|0|0|0|0|1|0|0|1|0|0|0|0|0|0|0|0|0|0\n",
       "Successfully parsed 1 tokens: \n",
       "\t0: 34|Doom Generation"
      ]
     },
     "metadata": {},
     "output_type": "display_data"
    },
    {
     "data": {
      "text/html": [
       "<pre>Unexpected characters after last column. \"The (1995)|01-Jan-1995||http://us.imdb.com/M/title-exact?Net\"\n",
       "Parse failed at token ending at: \n",
       "\t38|Net, The (1995)|01-Jan-1995||http://us.imdb.com/M/title-exact?Net,\u001b[1;31m^\u001b[0m%20The%20(1995)|0|0|0|0|0|0|0|0|0|0|0|0|0|0|0|1|1|0|0\n",
       "Successfully parsed 1 tokens: \n",
       "\t0: 38|Net</pre>"
      ],
      "text/plain": [
       "Unexpected characters after last column. \"The (1995)|01-Jan-1995||http://us.imdb.com/M/title-exact?Net\"\n",
       "Parse failed at token ending at: \n",
       "\t38|Net, The (1995)|01-Jan-1995||http://us.imdb.com/M/title-exact?Net,\u001b[1;31m^\u001b[0m%20The%20(1995)|0|0|0|0|0|0|0|0|0|0|0|0|0|0|0|1|1|0|0\n",
       "Successfully parsed 1 tokens: \n",
       "\t0: 38|Net"
      ]
     },
     "metadata": {},
     "output_type": "display_data"
    },
    {
     "data": {
      "text/html": [
       "<pre>Unexpected characters after last column. \"Thanks for Everything! Julie Newmar (1995)|01-Jan-1995||http://us.imdb.com/M/title-exact?To%20Wong%20Foo\"\n",
       "Parse failed at token ending at: \n",
       "\t40|To Wong Foo, Thanks for Everything! Julie Newmar (1995)|01-Jan-1995||http://us.imdb.com/M/title-exact?To%20Wong%20Foo,\u001b[1;31m^\u001b[0m%20Thanks%20for%20Everything!%20Julie%20Newmar%20(1995)|0|0|0|0|0|1|0|0|0|0|0|0|0|0|0|0|0|0|0\n",
       "Successfully parsed 1 tokens: \n",
       "\t0: 40|To Wong Foo</pre>"
      ],
      "text/plain": [
       "Unexpected characters after last column. \"Thanks for Everything! Julie Newmar (1995)|01-Jan-1995||http://us.imdb.com/M/title-exact?To%20Wong%20Foo\"\n",
       "Parse failed at token ending at: \n",
       "\t40|To Wong Foo, Thanks for Everything! Julie Newmar (1995)|01-Jan-1995||http://us.imdb.com/M/title-exact?To%20Wong%20Foo,\u001b[1;31m^\u001b[0m%20Thanks%20for%20Everything!%20Julie%20Newmar%20(1995)|0|0|0|0|0|1|0|0|0|0|0|0|0|0|0|0|0|0|0\n",
       "Successfully parsed 1 tokens: \n",
       "\t0: 40|To Wong Foo"
      ]
     },
     "metadata": {},
     "output_type": "display_data"
    },
    {
     "data": {
      "text/html": [
       "<pre>Unexpected characters after last column. \"The (1994)|01-Jan-1994||http://us.imdb.com/M/title-exact?Madness%20of%20King%20George\"\n",
       "Parse failed at token ending at: \n",
       "\t52|Madness of King George, The (1994)|01-Jan-1994||http://us.imdb.com/M/title-exact?Madness%20of%20King%20George,\u001b[1;31m^\u001b[0m%20The%20(1994)|0|0|0|0|0|0|0|0|1|0|0|0|0|0|0|0|0|0|0\n",
       "Successfully parsed 1 tokens: \n",
       "\t0: 52|Madness ... ing George</pre>"
      ],
      "text/plain": [
       "Unexpected characters after last column. \"The (1994)|01-Jan-1994||http://us.imdb.com/M/title-exact?Madness%20of%20King%20George\"\n",
       "Parse failed at token ending at: \n",
       "\t52|Madness of King George, The (1994)|01-Jan-1994||http://us.imdb.com/M/title-exact?Madness%20of%20King%20George,\u001b[1;31m^\u001b[0m%20The%20(1994)|0|0|0|0|0|0|0|0|1|0|0|0|0|0|0|0|0|0|0\n",
       "Successfully parsed 1 tokens: \n",
       "\t0: 52|Madness ... ing George"
      ]
     },
     "metadata": {},
     "output_type": "display_data"
    },
    {
     "data": {
      "text/html": [
       "<pre>Unexpected characters after last column. \"The (1994)|01-Jan-1994||http://us.imdb.com/Title?L%E9on+(1994)|0|0|0|0|0|0|1|0|1|0|0|0|0|0|1|0|1|0|0\"\n",
       "Parse failed at token ending at: \n",
       "\t55|Professional, The (1994)|01-Jan-1994||http://us.imdb.com/Title?L%E9on+(1994)|0|0|0|0|0|0|1|0|1|0|0|0|0|0|1|0|1|0|0\u001b[1;31m^\u001b[0m\n",
       "Successfully parsed 1 tokens: \n",
       "\t0: 55|Professional</pre>"
      ],
      "text/plain": [
       "Unexpected characters after last column. \"The (1994)|01-Jan-1994||http://us.imdb.com/Title?L%E9on+(1994)|0|0|0|0|0|0|1|0|1|0|0|0|0|0|1|0|1|0|0\"\n",
       "Parse failed at token ending at: \n",
       "\t55|Professional, The (1994)|01-Jan-1994||http://us.imdb.com/Title?L%E9on+(1994)|0|0|0|0|0|0|1|0|1|0|0|0|0|0|1|0|1|0|0\u001b[1;31m^\u001b[0m\n",
       "Successfully parsed 1 tokens: \n",
       "\t0: 55|Professional"
      ]
     },
     "metadata": {},
     "output_type": "display_data"
    },
    {
     "data": {
      "text/html": [
       "<pre>415 lines failed to parse correctly</pre>"
      ],
      "text/plain": [
       "415 lines failed to parse correctly"
      ]
     },
     "metadata": {},
     "output_type": "display_data"
    },
    {
     "data": {
      "text/html": [
       "<pre>Finished parsing file /Users/kerrykovacik/Desktop/Career/Data Boot Camp/HW/Project 3/ml-100k/u.item</pre>"
      ],
      "text/plain": [
       "Finished parsing file /Users/kerrykovacik/Desktop/Career/Data Boot Camp/HW/Project 3/ml-100k/u.item"
      ]
     },
     "metadata": {},
     "output_type": "display_data"
    },
    {
     "data": {
      "text/html": [
       "<pre>Parsing completed. Parsed 1266 lines in 0.012033 secs.</pre>"
      ],
      "text/plain": [
       "Parsing completed. Parsed 1266 lines in 0.012033 secs."
      ]
     },
     "metadata": {},
     "output_type": "display_data"
    }
   ],
   "source": [
    "items = tc.SFrame.read_csv('../ml-latest-small/movies.csv')\n"
   ]
  },
  {
   "cell_type": "code",
   "execution_count": 5,
   "metadata": {},
   "outputs": [
    {
     "ename": "AssertionError",
     "evalue": "Provided user column \"userId\" not found in data set.",
     "output_type": "error",
     "traceback": [
      "\u001b[0;31m---------------------------------------------------------------------------\u001b[0m",
      "\u001b[0;31mAssertionError\u001b[0m                            Traceback (most recent call last)",
      "\u001b[0;32m<ipython-input-5-c42afe13281f>\u001b[0m in \u001b[0;36m<module>\u001b[0;34m()\u001b[0m\n\u001b[0;32m----> 1\u001b[0;31m \u001b[0mtraining_data\u001b[0m\u001b[0;34m,\u001b[0m \u001b[0mvalidation_data\u001b[0m \u001b[0;34m=\u001b[0m \u001b[0mtc\u001b[0m\u001b[0;34m.\u001b[0m\u001b[0mrecommender\u001b[0m\u001b[0;34m.\u001b[0m\u001b[0mutil\u001b[0m\u001b[0;34m.\u001b[0m\u001b[0mrandom_split_by_user\u001b[0m\u001b[0;34m(\u001b[0m\u001b[0mratings\u001b[0m\u001b[0;34m,\u001b[0m \u001b[0;34m'userId'\u001b[0m\u001b[0;34m,\u001b[0m \u001b[0;34m'movieId'\u001b[0m\u001b[0;34m)\u001b[0m\u001b[0;34m\u001b[0m\u001b[0m\n\u001b[0m",
      "\u001b[0;32m/Users/kerrykovacik/anaconda3/envs/venv/lib/python2.7/site-packages/turicreate/toolkits/recommender/util.pyc\u001b[0m in \u001b[0;36mrandom_split_by_user\u001b[0;34m(dataset, user_id, item_id, max_num_users, item_test_proportion, random_seed)\u001b[0m\n\u001b[1;32m    484\u001b[0m \u001b[0;34m\u001b[0m\u001b[0m\n\u001b[1;32m    485\u001b[0m     \u001b[0;32massert\u001b[0m \u001b[0muser_id\u001b[0m \u001b[0;32min\u001b[0m \u001b[0mdataset\u001b[0m\u001b[0;34m.\u001b[0m\u001b[0mcolumn_names\u001b[0m\u001b[0;34m(\u001b[0m\u001b[0;34m)\u001b[0m\u001b[0;34m,\u001b[0m\u001b[0;31m \u001b[0m\u001b[0;31m\\\u001b[0m\u001b[0;34m\u001b[0m\u001b[0m\n\u001b[0;32m--> 486\u001b[0;31m         \u001b[0;34m'Provided user column \"{0}\" not found in data set.'\u001b[0m\u001b[0;34m.\u001b[0m\u001b[0mformat\u001b[0m\u001b[0;34m(\u001b[0m\u001b[0muser_id\u001b[0m\u001b[0;34m)\u001b[0m\u001b[0;34m\u001b[0m\u001b[0m\n\u001b[0m\u001b[1;32m    487\u001b[0m     \u001b[0;32massert\u001b[0m \u001b[0mitem_id\u001b[0m \u001b[0;32min\u001b[0m \u001b[0mdataset\u001b[0m\u001b[0;34m.\u001b[0m\u001b[0mcolumn_names\u001b[0m\u001b[0;34m(\u001b[0m\u001b[0;34m)\u001b[0m\u001b[0;34m,\u001b[0m\u001b[0;31m \u001b[0m\u001b[0;31m\\\u001b[0m\u001b[0;34m\u001b[0m\u001b[0m\n\u001b[1;32m    488\u001b[0m         \u001b[0;34m'Provided item column \"{0}\" not found in data set.'\u001b[0m\u001b[0;34m.\u001b[0m\u001b[0mformat\u001b[0m\u001b[0;34m(\u001b[0m\u001b[0mitem_id\u001b[0m\u001b[0;34m)\u001b[0m\u001b[0;34m\u001b[0m\u001b[0m\n",
      "\u001b[0;31mAssertionError\u001b[0m: Provided user column \"userId\" not found in data set."
     ]
    }
   ],
   "source": [
    "training_data, validation_data = tc.recommender.util.random_split_by_user(ratings, 'userId', 'movieId')\n"
   ]
  },
  {
   "cell_type": "code",
   "execution_count": null,
   "metadata": {},
   "outputs": [],
   "source": []
  }
 ],
 "metadata": {
  "kernelspec": {
   "display_name": "venv",
   "language": "python",
   "name": "venv"
  },
  "language_info": {
   "codemirror_mode": {
    "name": "ipython",
    "version": 2
   },
   "file_extension": ".py",
   "mimetype": "text/x-python",
   "name": "python",
   "nbconvert_exporter": "python",
   "pygments_lexer": "ipython2",
   "version": "2.7.16"
  }
 },
 "nbformat": 4,
 "nbformat_minor": 2
}
