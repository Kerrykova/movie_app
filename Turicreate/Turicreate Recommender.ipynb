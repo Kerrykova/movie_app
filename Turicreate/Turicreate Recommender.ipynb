{
 "cells": [
  {
   "cell_type": "markdown",
   "metadata": {},
   "source": [
    "Explored using Turicreate\n",
    "https://apple.github.io/turicreate/docs/api/"
   ]
  },
  {
   "cell_type": "code",
   "execution_count": 1,
   "metadata": {},
   "outputs": [],
   "source": [
    "import turicreate as tc\n",
    "import warnings\n",
    "warnings.simplefilter('ignore')\n"
   ]
  },
  {
   "cell_type": "code",
   "execution_count": 2,
   "metadata": {},
   "outputs": [
    {
     "data": {
      "text/html": [
       "<pre>Finished parsing file /Users/kerrykovacik/Desktop/Career/Data Boot Camp/HW/Project 3/movie_app/data/ml-20m/201820M.csv</pre>"
      ],
      "text/plain": [
       "Finished parsing file /Users/kerrykovacik/Desktop/Career/Data Boot Camp/HW/Project 3/movie_app/data/ml-20m/201820M.csv"
      ]
     },
     "metadata": {},
     "output_type": "display_data"
    },
    {
     "data": {
      "text/html": [
       "<pre>Parsing completed. Parsed 100 lines in 2.13649 secs.</pre>"
      ],
      "text/plain": [
       "Parsing completed. Parsed 100 lines in 2.13649 secs."
      ]
     },
     "metadata": {},
     "output_type": "display_data"
    },
    {
     "name": "stdout",
     "output_type": "stream",
     "text": [
      "------------------------------------------------------\n",
      "Inferred types from first 100 line(s) of file as \n",
      "column_type_hints=[int,int,int,float,int,int,int,int,int,int,int,int,int,int,int,int,int,int,int,int,int,int,int,int]\n",
      "If parsing fails due to incorrect types, you can correct\n",
      "the inferred type list above and pass it to read_csv in\n",
      "the column_type_hints argument\n",
      "------------------------------------------------------\n"
     ]
    },
    {
     "data": {
      "text/html": [
       "<pre>Read 859305 lines. Lines per second: 218503</pre>"
      ],
      "text/plain": [
       "Read 859305 lines. Lines per second: 218503"
      ]
     },
     "metadata": {},
     "output_type": "display_data"
    },
    {
     "data": {
      "text/html": [
       "<pre>Read 3360765 lines. Lines per second: 372589</pre>"
      ],
      "text/plain": [
       "Read 3360765 lines. Lines per second: 372589"
      ]
     },
     "metadata": {},
     "output_type": "display_data"
    },
    {
     "data": {
      "text/html": [
       "<pre>Read 5872531 lines. Lines per second: 406411</pre>"
      ],
      "text/plain": [
       "Read 5872531 lines. Lines per second: 406411"
      ]
     },
     "metadata": {},
     "output_type": "display_data"
    },
    {
     "data": {
      "text/html": [
       "<pre>Read 9210498 lines. Lines per second: 446096</pre>"
      ],
      "text/plain": [
       "Read 9210498 lines. Lines per second: 446096"
      ]
     },
     "metadata": {},
     "output_type": "display_data"
    },
    {
     "data": {
      "text/html": [
       "<pre>Read 11675500 lines. Lines per second: 454768</pre>"
      ],
      "text/plain": [
       "Read 11675500 lines. Lines per second: 454768"
      ]
     },
     "metadata": {},
     "output_type": "display_data"
    },
    {
     "data": {
      "text/html": [
       "<pre>Read 14129172 lines. Lines per second: 450864</pre>"
      ],
      "text/plain": [
       "Read 14129172 lines. Lines per second: 450864"
      ]
     },
     "metadata": {},
     "output_type": "display_data"
    },
    {
     "data": {
      "text/html": [
       "<pre>Read 16581467 lines. Lines per second: 452828</pre>"
      ],
      "text/plain": [
       "Read 16581467 lines. Lines per second: 452828"
      ]
     },
     "metadata": {},
     "output_type": "display_data"
    },
    {
     "data": {
      "text/html": [
       "<pre>Read 19836282 lines. Lines per second: 469529</pre>"
      ],
      "text/plain": [
       "Read 19836282 lines. Lines per second: 469529"
      ]
     },
     "metadata": {},
     "output_type": "display_data"
    },
    {
     "data": {
      "text/html": [
       "<pre>Finished parsing file /Users/kerrykovacik/Desktop/Career/Data Boot Camp/HW/Project 3/movie_app/data/ml-20m/201820M.csv</pre>"
      ],
      "text/plain": [
       "Finished parsing file /Users/kerrykovacik/Desktop/Career/Data Boot Camp/HW/Project 3/movie_app/data/ml-20m/201820M.csv"
      ]
     },
     "metadata": {},
     "output_type": "display_data"
    },
    {
     "data": {
      "text/html": [
       "<pre>Parsing completed. Parsed 20000263 lines in 42.595 secs.</pre>"
      ],
      "text/plain": [
       "Parsing completed. Parsed 20000263 lines in 42.595 secs."
      ]
     },
     "metadata": {},
     "output_type": "display_data"
    }
   ],
   "source": [
    "data = tc.SFrame.read_csv('../data/ml-20m/201820M.csv')"
   ]
  },
  {
   "cell_type": "code",
   "execution_count": 3,
   "metadata": {},
   "outputs": [
    {
     "data": {
      "text/html": [
       "<pre>Materializing SFrame</pre>"
      ],
      "text/plain": [
       "Materializing SFrame"
      ]
     },
     "metadata": {},
     "output_type": "display_data"
    },
    {
     "data": {
      "text/html": [
       "<html>                 <body>                     <iframe style=\"border:0;margin:0\" width=\"1000\" height=\"7500\" srcdoc='<html lang=\"en\">                         <head>                             <script src=\"https://cdnjs.cloudflare.com/ajax/libs/vega/3.0.8/vega.js\"></script>                             <script src=\"https://cdnjs.cloudflare.com/ajax/libs/vega-embed/3.0.0-rc7/vega-embed.js\"></script>                             <script src=\"https://cdnjs.cloudflare.com/ajax/libs/vega-tooltip/0.5.1/vega-tooltip.min.js\"></script>                             <link rel=\"stylesheet\" type=\"text/css\" href=\"https://cdnjs.cloudflare.com/ajax/libs/vega-tooltip/0.5.1/vega-tooltip.min.css\">                             <style>                             .vega-actions > a{                                 color:white;                                 text-decoration: none;                                 font-family: \"Arial\";                                 cursor:pointer;                                 padding:5px;                                 background:#AAAAAA;                                 border-radius:4px;                                 padding-left:10px;                                 padding-right:10px;                                 margin-right:5px;                             }                             .vega-actions{                                 margin-top:20px;                                 text-align:center                             }                            .vega-actions > a{                                 background:#999999;                            }                             </style>                         </head>                         <body>                             <div id=\"vis\">                             </div>                             <script>                                 var vega_json = \"{\\\"config\\\": {\\\"style\\\": {\\\"rect\\\": {\\\"stroke\\\": \\\"rgba(200, 200, 200, 0.5)\\\"}, \\\"group-title\\\": {\\\"fontWeight\\\": \\\"normal\\\", \\\"font\\\": \\\"HelveticaNeue-Light, Arial\\\", \\\"fontSize\\\": 20, \\\"fill\\\": \\\"#595959\\\"}}, \\\"axisY\\\": {\\\"minExtent\\\": 30}, \\\"axis\\\": {\\\"titlePadding\\\": 9, \\\"labelPadding\\\": 10, \\\"labelFont\\\": \\\"HelveticaNeue-Light, Arial\\\", \\\"labelFontSize\\\": 7, \\\"labelColor\\\": \\\"#595959\\\", \\\"titleFont\\\": \\\"HelveticaNeue-Light, Arial\\\", \\\"titleFontSize\\\": 12, \\\"titleColor\\\": \\\"#595959\\\", \\\"titleFontWeight\\\": \\\"normal\\\"}}, \\\"height\\\": 7280, \\\"padding\\\": 8, \\\"width\\\": 800, \\\"marks\\\": [{\\\"encode\\\": {\\\"enter\\\": {\\\"strokeWidth\\\": {\\\"value\\\": 0}, \\\"clip\\\": {\\\"value\\\": 0}, \\\"height\\\": {\\\"value\\\": 366}, \\\"width\\\": {\\\"value\\\": 734}, \\\"stroke\\\": {\\\"value\\\": \\\"#000000\\\"}, \\\"fillOpacity\\\": {\\\"value\\\": 0}, \\\"y\\\": {\\\"value\\\": 0}, \\\"x\\\": {\\\"value\\\": 0}, \\\"fill\\\": {\\\"value\\\": \\\"#ffffff\\\"}}}, \\\"type\\\": \\\"group\\\", \\\"marks\\\": [{\\\"encode\\\": {\\\"enter\\\": {\\\"strokeWidth\\\": {\\\"value\\\": 0}, \\\"clip\\\": {\\\"value\\\": 0}, \\\"height\\\": {\\\"value\\\": 366}, \\\"width\\\": {\\\"value\\\": 734}, \\\"stroke\\\": {\\\"value\\\": \\\"#000000\\\"}, \\\"fillOpacity\\\": {\\\"value\\\": 0}, \\\"y\\\": {\\\"value\\\": 0}, \\\"x\\\": {\\\"value\\\": 0}, \\\"fill\\\": {\\\"value\\\": \\\"#ffffff\\\"}}}, \\\"marks\\\": [{\\\"encode\\\": {\\\"update\\\": {\\\"y\\\": {\\\"field\\\": \\\"c_main_background\\\"}, \\\"x\\\": {\\\"signal\\\": \\\"datum[\\\\\\\"c_x_axis_back\\\\\\\"]\\\"}}, \\\"enter\\\": {\\\"strokeWidth\\\": {\\\"value\\\": 0.5}, \\\"height\\\": {\\\"value\\\": 250}, \\\"width\\\": {\\\"value\\\": 700}, \\\"stroke\\\": {\\\"value\\\": \\\"#DEDEDE\\\"}, \\\"fillOpacity\\\": {\\\"value\\\": 1}, \\\"y\\\": {\\\"value\\\": 66}, \\\"x\\\": {\\\"value\\\": 33}, \\\"fill\\\": {\\\"value\\\": \\\"#FEFEFE\\\"}}}, \\\"type\\\": \\\"rect\\\", \\\"from\\\": {\\\"data\\\": \\\"data_2\\\"}}, {\\\"encode\\\": {\\\"update\\\": {\\\"y\\\": {\\\"field\\\": \\\"c_top_bar\\\"}, \\\"x\\\": {\\\"signal\\\": \\\"datum[\\\\\\\"c_x_axis_back\\\\\\\"]\\\"}}, \\\"enter\\\": {\\\"strokeWidth\\\": {\\\"value\\\": 0.5}, \\\"height\\\": {\\\"value\\\": 30}, \\\"width\\\": {\\\"value\\\": 700}, \\\"stroke\\\": {\\\"value\\\": \\\"#DEDEDE\\\"}, \\\"fillOpacity\\\": {\\\"value\\\": 1}, \\\"y\\\": {\\\"value\\\": 43}, \\\"x\\\": {\\\"value\\\": 33}, \\\"fill\\\": {\\\"value\\\": \\\"#F5F5F5\\\"}}}, \\\"type\\\": \\\"rect\\\", \\\"from\\\": {\\\"data\\\": \\\"data_2\\\"}}, {\\\"encode\\\": {\\\"update\\\": {\\\"y\\\": {\\\"field\\\": \\\"c_top_type\\\"}, \\\"x\\\": {\\\"signal\\\": \\\"datum[\\\\\\\"c_x_axis_back\\\\\\\"]+687\\\"}}, \\\"enter\\\": {\\\"fontStyle\\\": {\\\"value\\\": \\\"normal\\\"}, \\\"angle\\\": {\\\"value\\\": 0}, \\\"baseline\\\": {\\\"value\\\": \\\"middle\\\"}, \\\"text\\\": {\\\"signal\\\": \\\"&apos;&apos;+datum[\\\\\\\"type\\\\\\\"]\\\"}, \\\"align\\\": {\\\"value\\\": \\\"right\\\"}, \\\"fontWeight\\\": {\\\"value\\\": \\\"normal\\\"}, \\\"fontSize\\\": {\\\"value\\\": 12}, \\\"dx\\\": {\\\"value\\\": 0, \\\"offset\\\": 0}, \\\"dy\\\": {\\\"value\\\": 0, \\\"offset\\\": 0}, \\\"y\\\": {\\\"value\\\": 58}, \\\"x\\\": {\\\"value\\\": 720}, \\\"font\\\": {\\\"value\\\": \\\"AvenirNext-Medium\\\"}, \\\"fill\\\": {\\\"value\\\": \\\"#595859\\\"}}}, \\\"type\\\": \\\"text\\\", \\\"from\\\": {\\\"data\\\": \\\"data_2\\\"}}, {\\\"encode\\\": {\\\"update\\\": {\\\"y\\\": {\\\"field\\\": \\\"c_top_title\\\"}, \\\"x\\\": {\\\"signal\\\": \\\"datum[\\\\\\\"c_x_axis_back\\\\\\\"]+11\\\"}}, \\\"enter\\\": {\\\"fontStyle\\\": {\\\"value\\\": \\\"normal\\\"}, \\\"angle\\\": {\\\"value\\\": 0}, \\\"baseline\\\": {\\\"value\\\": \\\"middle\\\"}, \\\"text\\\": {\\\"signal\\\": \\\"&apos;&apos;+datum[\\\\\\\"title\\\\\\\"]\\\"}, \\\"align\\\": {\\\"value\\\": \\\"left\\\"}, \\\"fontWeight\\\": {\\\"value\\\": \\\"normal\\\"}, \\\"fontSize\\\": {\\\"value\\\": 15}, \\\"dx\\\": {\\\"value\\\": 0, \\\"offset\\\": 0}, \\\"dy\\\": {\\\"value\\\": 0, \\\"offset\\\": 0}, \\\"y\\\": {\\\"value\\\": 59}, \\\"x\\\": {\\\"value\\\": 44}, \\\"font\\\": {\\\"value\\\": \\\"AvenirNext-Medium\\\"}, \\\"fill\\\": {\\\"value\\\": \\\"#9B9B9B\\\"}}}, \\\"type\\\": \\\"text\\\", \\\"from\\\": {\\\"data\\\": \\\"data_2\\\"}}, {\\\"encode\\\": {\\\"update\\\": {\\\"x2\\\": {\\\"signal\\\": \\\"datum[\\\\\\\"c_x_axis_back\\\\\\\"]+687\\\"}, \\\"x\\\": {\\\"signal\\\": \\\"datum[\\\\\\\"c_x_axis_back\\\\\\\"]+467\\\"}, \\\"y2\\\": {\\\"field\\\": \\\"c_rule\\\"}, \\\"y\\\": {\\\"field\\\": \\\"c_rule\\\"}}, \\\"enter\\\": {\\\"strokeWidth\\\": {\\\"value\\\": 1}, \\\"strokeCap\\\": {\\\"value\\\": \\\"butt\\\"}, \\\"x2\\\": {\\\"value\\\": 720}, \\\"stroke\\\": {\\\"value\\\": \\\"#EDEDEB\\\"}, \\\"y\\\": {\\\"value\\\": 178}, \\\"x\\\": {\\\"value\\\": 500}, \\\"y2\\\": {\\\"value\\\": 178}}}, \\\"type\\\": \\\"rule\\\", \\\"from\\\": {\\\"data\\\": \\\"data_2\\\"}}, {\\\"encode\\\": {\\\"update\\\": {\\\"y\\\": {\\\"field\\\": \\\"c_num_rows\\\"}, \\\"x\\\": {\\\"signal\\\": \\\"datum[\\\\\\\"c_x_axis_back\\\\\\\"]+467\\\"}}, \\\"enter\\\": {\\\"fontStyle\\\": {\\\"value\\\": \\\"normal\\\"}, \\\"angle\\\": {\\\"value\\\": 0}, \\\"baseline\\\": {\\\"value\\\": \\\"middle\\\"}, \\\"text\\\": {\\\"value\\\": \\\"Num. Rows:\\\"}, \\\"align\\\": {\\\"value\\\": \\\"left\\\"}, \\\"fontWeight\\\": {\\\"value\\\": \\\"normal\\\"}, \\\"fontSize\\\": {\\\"value\\\": 12}, \\\"dx\\\": {\\\"value\\\": 0, \\\"offset\\\": 0}, \\\"dy\\\": {\\\"value\\\": 0, \\\"offset\\\": 0}, \\\"y\\\": {\\\"value\\\": 106}, \\\"x\\\": {\\\"value\\\": 500}, \\\"font\\\": {\\\"value\\\": \\\"AvenirNext-Medium\\\"}, \\\"fill\\\": {\\\"value\\\": \\\"#4A4A4A\\\"}}}, \\\"type\\\": \\\"text\\\", \\\"from\\\": {\\\"data\\\": \\\"data_2\\\"}}, {\\\"encode\\\": {\\\"update\\\": {\\\"y\\\": {\\\"field\\\": \\\"c_num_unique\\\"}, \\\"x\\\": {\\\"signal\\\": \\\"datum[\\\\\\\"c_x_axis_back\\\\\\\"]+467\\\"}}, \\\"enter\\\": {\\\"fontStyle\\\": {\\\"value\\\": \\\"normal\\\"}, \\\"angle\\\": {\\\"value\\\": 0}, \\\"baseline\\\": {\\\"value\\\": \\\"middle\\\"}, \\\"text\\\": {\\\"value\\\": \\\"Num. Unique:\\\"}, \\\"align\\\": {\\\"value\\\": \\\"left\\\"}, \\\"fontWeight\\\": {\\\"value\\\": \\\"normal\\\"}, \\\"fontSize\\\": {\\\"value\\\": 12}, \\\"dx\\\": {\\\"value\\\": 0, \\\"offset\\\": 0}, \\\"dy\\\": {\\\"value\\\": 0, \\\"offset\\\": 0}, \\\"y\\\": {\\\"value\\\": 130}, \\\"x\\\": {\\\"value\\\": 500}, \\\"font\\\": {\\\"value\\\": \\\"AvenirNext-Medium\\\"}, \\\"fill\\\": {\\\"value\\\": \\\"#4A4A4A\\\"}}}, \\\"type\\\": \\\"text\\\", \\\"from\\\": {\\\"data\\\": \\\"data_2\\\"}}, {\\\"encode\\\": {\\\"update\\\": {\\\"y\\\": {\\\"field\\\": \\\"c_missing\\\"}, \\\"x\\\": {\\\"signal\\\": \\\"datum[\\\\\\\"c_x_axis_back\\\\\\\"]+467\\\"}}, \\\"enter\\\": {\\\"fontStyle\\\": {\\\"value\\\": \\\"normal\\\"}, \\\"angle\\\": {\\\"value\\\": 0}, \\\"baseline\\\": {\\\"value\\\": \\\"middle\\\"}, \\\"text\\\": {\\\"value\\\": \\\"Missing:\\\"}, \\\"align\\\": {\\\"value\\\": \\\"left\\\"}, \\\"fontWeight\\\": {\\\"value\\\": \\\"normal\\\"}, \\\"fontSize\\\": {\\\"value\\\": 12}, \\\"dx\\\": {\\\"value\\\": 0, \\\"offset\\\": 0}, \\\"dy\\\": {\\\"value\\\": 0, \\\"offset\\\": 0}, \\\"y\\\": {\\\"value\\\": 154}, \\\"x\\\": {\\\"value\\\": 500}, \\\"font\\\": {\\\"value\\\": \\\"AvenirNext-Medium\\\"}, \\\"fill\\\": {\\\"value\\\": \\\"#4A4A4A\\\"}}}, \\\"type\\\": \\\"text\\\", \\\"from\\\": {\\\"data\\\": \\\"data_2\\\"}}, {\\\"encode\\\": {\\\"update\\\": {\\\"y\\\": {\\\"field\\\": \\\"c_num_rows_val\\\"}, \\\"x\\\": {\\\"signal\\\": \\\"datum[\\\\\\\"c_x_axis_back\\\\\\\"]+667\\\"}}, \\\"enter\\\": {\\\"fontStyle\\\": {\\\"value\\\": \\\"normal\\\"}, \\\"angle\\\": {\\\"value\\\": 0}, \\\"baseline\\\": {\\\"value\\\": \\\"middle\\\"}, \\\"text\\\": {\\\"signal\\\": \\\"toString(format(datum[\\\\\\\"num_row\\\\\\\"], \\\\\\\",\\\\\\\"))\\\"}, \\\"align\\\": {\\\"value\\\": \\\"right\\\"}, \\\"fontWeight\\\": {\\\"value\\\": \\\"normal\\\"}, \\\"fontSize\\\": {\\\"value\\\": 12}, \\\"dx\\\": {\\\"value\\\": 0, \\\"offset\\\": 0}, \\\"dy\\\": {\\\"value\\\": 0, \\\"offset\\\": 0}, \\\"y\\\": {\\\"value\\\": 105}, \\\"x\\\": {\\\"value\\\": 700}, \\\"font\\\": {\\\"value\\\": \\\"AvenirNext-Medium\\\"}, \\\"fill\\\": {\\\"value\\\": \\\"#5A5A5A\\\"}}}, \\\"type\\\": \\\"text\\\", \\\"from\\\": {\\\"data\\\": \\\"data_2\\\"}}, {\\\"encode\\\": {\\\"update\\\": {\\\"y\\\": {\\\"field\\\": \\\"c_num_unique_val\\\"}, \\\"x\\\": {\\\"signal\\\": \\\"datum[\\\\\\\"c_x_axis_back\\\\\\\"]+667\\\"}}, \\\"enter\\\": {\\\"fontStyle\\\": {\\\"value\\\": \\\"normal\\\"}, \\\"angle\\\": {\\\"value\\\": 0}, \\\"baseline\\\": {\\\"value\\\": \\\"middle\\\"}, \\\"text\\\": {\\\"signal\\\": \\\"toString(format(datum[\\\\\\\"num_unique\\\\\\\"], \\\\\\\",\\\\\\\"))\\\"}, \\\"align\\\": {\\\"value\\\": \\\"right\\\"}, \\\"fontWeight\\\": {\\\"value\\\": \\\"normal\\\"}, \\\"fontSize\\\": {\\\"value\\\": 12}, \\\"dx\\\": {\\\"value\\\": 0, \\\"offset\\\": 0}, \\\"dy\\\": {\\\"value\\\": 0, \\\"offset\\\": 0}, \\\"y\\\": {\\\"value\\\": 130}, \\\"x\\\": {\\\"value\\\": 700}, \\\"font\\\": {\\\"value\\\": \\\"AvenirNext-Medium\\\"}, \\\"fill\\\": {\\\"value\\\": \\\"#5A5A5A\\\"}}}, \\\"type\\\": \\\"text\\\", \\\"from\\\": {\\\"data\\\": \\\"data_2\\\"}}, {\\\"encode\\\": {\\\"update\\\": {\\\"y\\\": {\\\"field\\\": \\\"c_missing_val\\\"}, \\\"x\\\": {\\\"signal\\\": \\\"datum[\\\\\\\"c_x_axis_back\\\\\\\"]+667\\\"}}, \\\"enter\\\": {\\\"fontStyle\\\": {\\\"value\\\": \\\"normal\\\"}, \\\"angle\\\": {\\\"value\\\": 0}, \\\"baseline\\\": {\\\"value\\\": \\\"middle\\\"}, \\\"text\\\": {\\\"signal\\\": \\\"toString(format(datum[\\\\\\\"num_missing\\\\\\\"], \\\\\\\",\\\\\\\"))\\\"}, \\\"align\\\": {\\\"value\\\": \\\"right\\\"}, \\\"fontWeight\\\": {\\\"value\\\": \\\"normal\\\"}, \\\"fontSize\\\": {\\\"value\\\": 12}, \\\"dx\\\": {\\\"value\\\": 0, \\\"offset\\\": 0}, \\\"dy\\\": {\\\"value\\\": 0, \\\"offset\\\": 0}, \\\"y\\\": {\\\"value\\\": 154}, \\\"x\\\": {\\\"value\\\": 700}, \\\"font\\\": {\\\"value\\\": \\\"AvenirNext-Medium\\\"}, \\\"fill\\\": {\\\"value\\\": \\\"#5A5A5A\\\"}}}, \\\"type\\\": \\\"text\\\", \\\"from\\\": {\\\"data\\\": \\\"data_2\\\"}}, {\\\"encode\\\": {\\\"update\\\": {\\\"y\\\": {\\\"field\\\": \\\"c_frequent_items\\\"}, \\\"x\\\": {\\\"signal\\\": \\\"datum[\\\\\\\"c_x_axis_back\\\\\\\"]+467\\\"}}, \\\"enter\\\": {\\\"fontStyle\\\": {\\\"value\\\": \\\"normal\\\"}, \\\"angle\\\": {\\\"value\\\": 0}, \\\"baseline\\\": {\\\"value\\\": \\\"middle\\\"}, \\\"clip\\\": {\\\"value\\\": true}, \\\"text\\\": {\\\"signal\\\": \\\"(toString(datum[\\\\\\\"type\\\\\\\"]) == \\\\\\\"str\\\\\\\")? \\\\\\\"Frequent Items\\\\\\\":\\\\\\\"\\\\\\\"\\\"}, \\\"align\\\": {\\\"value\\\": \\\"left\\\"}, \\\"fontWeight\\\": {\\\"value\\\": \\\"bold\\\"}, \\\"fontSize\\\": {\\\"value\\\": 11}, \\\"dx\\\": {\\\"value\\\": 0, \\\"offset\\\": 0}, \\\"dy\\\": {\\\"value\\\": 0, \\\"offset\\\": 0}, \\\"y\\\": {\\\"value\\\": 200}, \\\"x\\\": {\\\"value\\\": 500}, \\\"font\\\": {\\\"value\\\": \\\"AvenirNext-Medium\\\"}, \\\"fill\\\": {\\\"value\\\": \\\"#4A4A4A\\\"}}}, \\\"type\\\": \\\"text\\\", \\\"from\\\": {\\\"data\\\": \\\"data_2\\\"}}, {\\\"encode\\\": {\\\"update\\\": {\\\"y\\\": {\\\"field\\\": \\\"c_first_item\\\"}, \\\"x\\\": {\\\"signal\\\": \\\"datum[\\\\\\\"c_x_axis_back\\\\\\\"]+487\\\"}}, \\\"enter\\\": {\\\"fontStyle\\\": {\\\"value\\\": \\\"normal\\\"}, \\\"angle\\\": {\\\"value\\\": 0}, \\\"baseline\\\": {\\\"value\\\": \\\"middle\\\"}, \\\"clip\\\": {\\\"value\\\": true}, \\\"text\\\": {\\\"signal\\\": \\\"((datum[\\\\\\\"categorical\\\\\\\"].length >= 1) &amp;&amp; (toString(datum[\\\\\\\"type\\\\\\\"]) == \\\\\\\"str\\\\\\\"))? toString(datum[\\\\\\\"categorical\\\\\\\"][0][\\\\\\\"label\\\\\\\"]):\\\\\\\"\\\\\\\"\\\"}, \\\"align\\\": {\\\"value\\\": \\\"left\\\"}, \\\"fontWeight\\\": {\\\"value\\\": \\\"normal\\\"}, \\\"fontSize\\\": {\\\"value\\\": 11}, \\\"dx\\\": {\\\"value\\\": 0, \\\"offset\\\": 0}, \\\"dy\\\": {\\\"value\\\": 0, \\\"offset\\\": 0}, \\\"y\\\": {\\\"value\\\": 200}, \\\"x\\\": {\\\"value\\\": 520}, \\\"font\\\": {\\\"value\\\": \\\"AvenirNext-Medium\\\"}, \\\"fill\\\": {\\\"value\\\": \\\"#4A4A4A\\\"}}}, \\\"type\\\": \\\"text\\\", \\\"from\\\": {\\\"data\\\": \\\"data_2\\\"}}, {\\\"encode\\\": {\\\"update\\\": {\\\"y\\\": {\\\"field\\\": \\\"c_second_item\\\"}, \\\"x\\\": {\\\"signal\\\": \\\"datum[\\\\\\\"c_x_axis_back\\\\\\\"]+487\\\"}}, \\\"enter\\\": {\\\"fontStyle\\\": {\\\"value\\\": \\\"normal\\\"}, \\\"angle\\\": {\\\"value\\\": 0}, \\\"baseline\\\": {\\\"value\\\": \\\"middle\\\"}, \\\"clip\\\": {\\\"value\\\": true}, \\\"text\\\": {\\\"signal\\\": \\\"((datum[\\\\\\\"categorical\\\\\\\"].length >= 2) &amp;&amp; (toString(datum[\\\\\\\"type\\\\\\\"]) == \\\\\\\"str\\\\\\\"))? toString(datum[\\\\\\\"categorical\\\\\\\"][1][\\\\\\\"label\\\\\\\"]):\\\\\\\"\\\\\\\"\\\"}, \\\"align\\\": {\\\"value\\\": \\\"left\\\"}, \\\"fontWeight\\\": {\\\"value\\\": \\\"normal\\\"}, \\\"fontSize\\\": {\\\"value\\\": 11}, \\\"dx\\\": {\\\"value\\\": 0, \\\"offset\\\": 0}, \\\"dy\\\": {\\\"value\\\": 0, \\\"offset\\\": 0}, \\\"y\\\": {\\\"value\\\": 200}, \\\"x\\\": {\\\"value\\\": 520}, \\\"font\\\": {\\\"value\\\": \\\"AvenirNext-Medium\\\"}, \\\"fill\\\": {\\\"value\\\": \\\"#4A4A4A\\\"}}}, \\\"type\\\": \\\"text\\\", \\\"from\\\": {\\\"data\\\": \\\"data_2\\\"}}, {\\\"encode\\\": {\\\"update\\\": {\\\"y\\\": {\\\"field\\\": \\\"c_third_item\\\"}, \\\"x\\\": {\\\"signal\\\": \\\"datum[\\\\\\\"c_x_axis_back\\\\\\\"]+487\\\"}}, \\\"enter\\\": {\\\"fontStyle\\\": {\\\"value\\\": \\\"normal\\\"}, \\\"angle\\\": {\\\"value\\\": 0}, \\\"baseline\\\": {\\\"value\\\": \\\"middle\\\"}, \\\"clip\\\": {\\\"value\\\": true}, \\\"text\\\": {\\\"signal\\\": \\\"((datum[\\\\\\\"categorical\\\\\\\"].length >= 3) &amp;&amp; (toString(datum[\\\\\\\"type\\\\\\\"]) == \\\\\\\"str\\\\\\\"))? toString(datum[\\\\\\\"categorical\\\\\\\"][2][\\\\\\\"label\\\\\\\"]):\\\\\\\"\\\\\\\"\\\"}, \\\"align\\\": {\\\"value\\\": \\\"left\\\"}, \\\"fontWeight\\\": {\\\"value\\\": \\\"normal\\\"}, \\\"fontSize\\\": {\\\"value\\\": 11}, \\\"dx\\\": {\\\"value\\\": 0, \\\"offset\\\": 0}, \\\"dy\\\": {\\\"value\\\": 0, \\\"offset\\\": 0}, \\\"y\\\": {\\\"value\\\": 200}, \\\"x\\\": {\\\"value\\\": 520}, \\\"font\\\": {\\\"value\\\": \\\"AvenirNext-Medium\\\"}, \\\"fill\\\": {\\\"value\\\": \\\"#4A4A4A\\\"}}}, \\\"type\\\": \\\"text\\\", \\\"from\\\": {\\\"data\\\": \\\"data_2\\\"}}, {\\\"encode\\\": {\\\"update\\\": {\\\"y\\\": {\\\"field\\\": \\\"c_fourth_item\\\"}, \\\"x\\\": {\\\"signal\\\": \\\"datum[\\\\\\\"c_x_axis_back\\\\\\\"]+487\\\"}}, \\\"enter\\\": {\\\"fontStyle\\\": {\\\"value\\\": \\\"normal\\\"}, \\\"angle\\\": {\\\"value\\\": 0}, \\\"baseline\\\": {\\\"value\\\": \\\"middle\\\"}, \\\"clip\\\": {\\\"value\\\": true}, \\\"text\\\": {\\\"signal\\\": \\\"((datum[\\\\\\\"categorical\\\\\\\"].length >= 4) &amp;&amp; (toString(datum[\\\\\\\"type\\\\\\\"]) == \\\\\\\"str\\\\\\\"))? toString(datum[\\\\\\\"categorical\\\\\\\"][3][\\\\\\\"label\\\\\\\"]):\\\\\\\"\\\\\\\"\\\"}, \\\"align\\\": {\\\"value\\\": \\\"left\\\"}, \\\"fontWeight\\\": {\\\"value\\\": \\\"normal\\\"}, \\\"fontSize\\\": {\\\"value\\\": 11}, \\\"dx\\\": {\\\"value\\\": 0, \\\"offset\\\": 0}, \\\"dy\\\": {\\\"value\\\": 0, \\\"offset\\\": 0}, \\\"y\\\": {\\\"value\\\": 200}, \\\"x\\\": {\\\"value\\\": 520}, \\\"font\\\": {\\\"value\\\": \\\"AvenirNext-Medium\\\"}, \\\"fill\\\": {\\\"value\\\": \\\"#4A4A4A\\\"}}}, \\\"type\\\": \\\"text\\\", \\\"from\\\": {\\\"data\\\": \\\"data_2\\\"}}, {\\\"encode\\\": {\\\"update\\\": {\\\"y\\\": {\\\"field\\\": \\\"c_fifth_item\\\"}, \\\"x\\\": {\\\"signal\\\": \\\"datum[\\\\\\\"c_x_axis_back\\\\\\\"]+487\\\"}}, \\\"enter\\\": {\\\"fontStyle\\\": {\\\"value\\\": \\\"normal\\\"}, \\\"angle\\\": {\\\"value\\\": 0}, \\\"baseline\\\": {\\\"value\\\": \\\"middle\\\"}, \\\"clip\\\": {\\\"value\\\": true}, \\\"text\\\": {\\\"signal\\\": \\\"((datum[\\\\\\\"categorical\\\\\\\"].length >= 5) &amp;&amp; (toString(datum[\\\\\\\"type\\\\\\\"]) == \\\\\\\"str\\\\\\\"))? toString(datum[\\\\\\\"categorical\\\\\\\"][4][\\\\\\\"label\\\\\\\"]):\\\\\\\"\\\\\\\"\\\"}, \\\"align\\\": {\\\"value\\\": \\\"left\\\"}, \\\"fontWeight\\\": {\\\"value\\\": \\\"normal\\\"}, \\\"fontSize\\\": {\\\"value\\\": 11}, \\\"dx\\\": {\\\"value\\\": 0, \\\"offset\\\": 0}, \\\"dy\\\": {\\\"value\\\": 0, \\\"offset\\\": 0}, \\\"y\\\": {\\\"value\\\": 200}, \\\"x\\\": {\\\"value\\\": 520}, \\\"font\\\": {\\\"value\\\": \\\"AvenirNext-Medium\\\"}, \\\"fill\\\": {\\\"value\\\": \\\"#4A4A4A\\\"}}}, \\\"type\\\": \\\"text\\\", \\\"from\\\": {\\\"data\\\": \\\"data_2\\\"}}, {\\\"encode\\\": {\\\"update\\\": {\\\"y\\\": {\\\"field\\\": \\\"c_first_item\\\"}, \\\"x\\\": {\\\"signal\\\": \\\"datum[\\\\\\\"c_x_axis_back\\\\\\\"]+667\\\"}}, \\\"enter\\\": {\\\"fontStyle\\\": {\\\"value\\\": \\\"normal\\\"}, \\\"angle\\\": {\\\"value\\\": 0}, \\\"baseline\\\": {\\\"value\\\": \\\"middle\\\"}, \\\"clip\\\": {\\\"value\\\": true}, \\\"text\\\": {\\\"signal\\\": \\\"((datum[\\\\\\\"categorical\\\\\\\"].length >= 1) &amp;&amp; (toString(datum[\\\\\\\"type\\\\\\\"]) == \\\\\\\"str\\\\\\\"))? toString(datum[\\\\\\\"categorical\\\\\\\"][0][\\\\\\\"count\\\\\\\"]):\\\\\\\"\\\\\\\"\\\"}, \\\"align\\\": {\\\"value\\\": \\\"right\\\"}, \\\"fontWeight\\\": {\\\"value\\\": \\\"normal\\\"}, \\\"fontSize\\\": {\\\"value\\\": 11}, \\\"dx\\\": {\\\"value\\\": 0, \\\"offset\\\": 0}, \\\"dy\\\": {\\\"value\\\": 0, \\\"offset\\\": 0}, \\\"y\\\": {\\\"value\\\": 200}, \\\"x\\\": {\\\"value\\\": 700}, \\\"font\\\": {\\\"value\\\": \\\"AvenirNext-Medium\\\"}, \\\"fill\\\": {\\\"value\\\": \\\"#7A7A7A\\\"}}}, \\\"type\\\": \\\"text\\\", \\\"from\\\": {\\\"data\\\": \\\"data_2\\\"}}, {\\\"encode\\\": {\\\"update\\\": {\\\"y\\\": {\\\"field\\\": \\\"c_second_item\\\"}, \\\"x\\\": {\\\"signal\\\": \\\"datum[\\\\\\\"c_x_axis_back\\\\\\\"]+667\\\"}}, \\\"enter\\\": {\\\"fontStyle\\\": {\\\"value\\\": \\\"normal\\\"}, \\\"angle\\\": {\\\"value\\\": 0}, \\\"baseline\\\": {\\\"value\\\": \\\"middle\\\"}, \\\"clip\\\": {\\\"value\\\": true}, \\\"text\\\": {\\\"signal\\\": \\\"((datum[\\\\\\\"categorical\\\\\\\"].length >= 2) &amp;&amp; (toString(datum[\\\\\\\"type\\\\\\\"]) == \\\\\\\"str\\\\\\\"))? toString(datum[\\\\\\\"categorical\\\\\\\"][1][\\\\\\\"count\\\\\\\"]):\\\\\\\"\\\\\\\"\\\"}, \\\"align\\\": {\\\"value\\\": \\\"right\\\"}, \\\"fontWeight\\\": {\\\"value\\\": \\\"normal\\\"}, \\\"fontSize\\\": {\\\"value\\\": 10}, \\\"dx\\\": {\\\"value\\\": 0, \\\"offset\\\": 0}, \\\"dy\\\": {\\\"value\\\": 0, \\\"offset\\\": 0}, \\\"y\\\": {\\\"value\\\": 200}, \\\"x\\\": {\\\"value\\\": 700}, \\\"font\\\": {\\\"value\\\": \\\"AvenirNext-Medium\\\"}, \\\"fill\\\": {\\\"value\\\": \\\"#7A7A7A\\\"}}}, \\\"type\\\": \\\"text\\\", \\\"from\\\": {\\\"data\\\": \\\"data_2\\\"}}, {\\\"encode\\\": {\\\"update\\\": {\\\"y\\\": {\\\"field\\\": \\\"c_third_item\\\"}, \\\"x\\\": {\\\"signal\\\": \\\"datum[\\\\\\\"c_x_axis_back\\\\\\\"]+667\\\"}}, \\\"enter\\\": {\\\"fontStyle\\\": {\\\"value\\\": \\\"normal\\\"}, \\\"angle\\\": {\\\"value\\\": 0}, \\\"baseline\\\": {\\\"value\\\": \\\"middle\\\"}, \\\"clip\\\": {\\\"value\\\": true}, \\\"text\\\": {\\\"signal\\\": \\\"((datum[\\\\\\\"categorical\\\\\\\"].length >= 3) &amp;&amp; (toString(datum[\\\\\\\"type\\\\\\\"]) == \\\\\\\"str\\\\\\\"))? toString(datum[\\\\\\\"categorical\\\\\\\"][2][\\\\\\\"count\\\\\\\"]):\\\\\\\"\\\\\\\"\\\"}, \\\"align\\\": {\\\"value\\\": \\\"right\\\"}, \\\"fontWeight\\\": {\\\"value\\\": \\\"normal\\\"}, \\\"fontSize\\\": {\\\"value\\\": 10}, \\\"dx\\\": {\\\"value\\\": 0, \\\"offset\\\": 0}, \\\"dy\\\": {\\\"value\\\": 0, \\\"offset\\\": 0}, \\\"y\\\": {\\\"value\\\": 200}, \\\"x\\\": {\\\"value\\\": 700}, \\\"font\\\": {\\\"value\\\": \\\"AvenirNext-Medium\\\"}, \\\"fill\\\": {\\\"value\\\": \\\"#7A7A7A\\\"}}}, \\\"type\\\": \\\"text\\\", \\\"from\\\": {\\\"data\\\": \\\"data_2\\\"}}, {\\\"encode\\\": {\\\"update\\\": {\\\"y\\\": {\\\"field\\\": \\\"c_fourth_item\\\"}, \\\"x\\\": {\\\"signal\\\": \\\"datum[\\\\\\\"c_x_axis_back\\\\\\\"]+667\\\"}}, \\\"enter\\\": {\\\"fontStyle\\\": {\\\"value\\\": \\\"normal\\\"}, \\\"angle\\\": {\\\"value\\\": 0}, \\\"baseline\\\": {\\\"value\\\": \\\"middle\\\"}, \\\"clip\\\": {\\\"value\\\": true}, \\\"text\\\": {\\\"signal\\\": \\\"((datum[\\\\\\\"categorical\\\\\\\"].length >= 4) &amp;&amp; (toString(datum[\\\\\\\"type\\\\\\\"]) == \\\\\\\"str\\\\\\\"))? toString(datum[\\\\\\\"categorical\\\\\\\"][3][\\\\\\\"count\\\\\\\"]):\\\\\\\"\\\\\\\"\\\"}, \\\"align\\\": {\\\"value\\\": \\\"right\\\"}, \\\"fontWeight\\\": {\\\"value\\\": \\\"normal\\\"}, \\\"fontSize\\\": {\\\"value\\\": 10}, \\\"dx\\\": {\\\"value\\\": 0, \\\"offset\\\": 0}, \\\"dy\\\": {\\\"value\\\": 0, \\\"offset\\\": 0}, \\\"y\\\": {\\\"value\\\": 200}, \\\"x\\\": {\\\"value\\\": 700}, \\\"font\\\": {\\\"value\\\": \\\"AvenirNext-Medium\\\"}, \\\"fill\\\": {\\\"value\\\": \\\"#7A7A7A\\\"}}}, \\\"type\\\": \\\"text\\\", \\\"from\\\": {\\\"data\\\": \\\"data_2\\\"}}, {\\\"encode\\\": {\\\"update\\\": {\\\"y\\\": {\\\"field\\\": \\\"c_fifth_item\\\"}, \\\"x\\\": {\\\"signal\\\": \\\"datum[\\\\\\\"c_x_axis_back\\\\\\\"]+667\\\"}}, \\\"enter\\\": {\\\"fontStyle\\\": {\\\"value\\\": \\\"normal\\\"}, \\\"angle\\\": {\\\"value\\\": 0}, \\\"baseline\\\": {\\\"value\\\": \\\"middle\\\"}, \\\"clip\\\": {\\\"value\\\": true}, \\\"text\\\": {\\\"signal\\\": \\\"((datum[\\\\\\\"categorical\\\\\\\"].length >= 5) &amp;&amp; (toString(datum[\\\\\\\"type\\\\\\\"]) == \\\\\\\"str\\\\\\\"))? toString(datum[\\\\\\\"categorical\\\\\\\"][4][\\\\\\\"count\\\\\\\"]):\\\\\\\"\\\\\\\"\\\"}, \\\"align\\\": {\\\"value\\\": \\\"right\\\"}, \\\"fontWeight\\\": {\\\"value\\\": \\\"normal\\\"}, \\\"fontSize\\\": {\\\"value\\\": 10}, \\\"dx\\\": {\\\"value\\\": 0, \\\"offset\\\": 0}, \\\"dy\\\": {\\\"value\\\": 0, \\\"offset\\\": 0}, \\\"y\\\": {\\\"value\\\": 200}, \\\"x\\\": {\\\"value\\\": 700}, \\\"font\\\": {\\\"value\\\": \\\"AvenirNext-Medium\\\"}, \\\"fill\\\": {\\\"value\\\": \\\"#7A7A7A\\\"}}}, \\\"type\\\": \\\"text\\\", \\\"from\\\": {\\\"data\\\": \\\"data_2\\\"}}, {\\\"encode\\\": {\\\"update\\\": {\\\"y\\\": {\\\"field\\\": \\\"c_mean\\\"}, \\\"x\\\": {\\\"signal\\\": \\\"datum[\\\\\\\"c_x_axis_back\\\\\\\"]+467\\\"}}, \\\"enter\\\": {\\\"fontStyle\\\": {\\\"value\\\": \\\"normal\\\"}, \\\"angle\\\": {\\\"value\\\": 0}, \\\"baseline\\\": {\\\"value\\\": \\\"middle\\\"}, \\\"clip\\\": {\\\"value\\\": true}, \\\"text\\\": {\\\"signal\\\": \\\"(toString(datum[\\\\\\\"type\\\\\\\"]) == \\\\\\\"integer\\\\\\\" || toString(datum[\\\\\\\"type\\\\\\\"]) == \\\\\\\"float\\\\\\\")? \\\\\\\"Mean:\\\\\\\":\\\\\\\"\\\\\\\"\\\"}, \\\"align\\\": {\\\"value\\\": \\\"left\\\"}, \\\"fontWeight\\\": {\\\"value\\\": \\\"bold\\\"}, \\\"fontSize\\\": {\\\"value\\\": 11}, \\\"dx\\\": {\\\"value\\\": 0, \\\"offset\\\": 0}, \\\"dy\\\": {\\\"value\\\": 0, \\\"offset\\\": 0}, \\\"y\\\": {\\\"value\\\": 200}, \\\"x\\\": {\\\"value\\\": 500}, \\\"font\\\": {\\\"value\\\": \\\"AvenirNext-Medium\\\"}, \\\"fill\\\": {\\\"value\\\": \\\"#4A4A4A\\\"}}}, \\\"type\\\": \\\"text\\\", \\\"from\\\": {\\\"data\\\": \\\"data_2\\\"}}, {\\\"encode\\\": {\\\"update\\\": {\\\"y\\\": {\\\"field\\\": \\\"c_min\\\"}, \\\"x\\\": {\\\"signal\\\": \\\"datum[\\\\\\\"c_x_axis_back\\\\\\\"]+467\\\"}}, \\\"enter\\\": {\\\"fontStyle\\\": {\\\"value\\\": \\\"normal\\\"}, \\\"angle\\\": {\\\"value\\\": 0}, \\\"baseline\\\": {\\\"value\\\": \\\"middle\\\"}, \\\"text\\\": {\\\"signal\\\": \\\"(toString(datum[\\\\\\\"type\\\\\\\"]) == \\\\\\\"integer\\\\\\\" || toString(datum[\\\\\\\"type\\\\\\\"]) == \\\\\\\"float\\\\\\\")? \\\\\\\"Min:\\\\\\\":\\\\\\\"\\\\\\\"\\\"}, \\\"align\\\": {\\\"value\\\": \\\"left\\\"}, \\\"fontWeight\\\": {\\\"value\\\": \\\"bold\\\"}, \\\"fontSize\\\": {\\\"value\\\": 11}, \\\"dx\\\": {\\\"value\\\": 0, \\\"offset\\\": 0}, \\\"dy\\\": {\\\"value\\\": 0, \\\"offset\\\": 0}, \\\"y\\\": {\\\"value\\\": 220}, \\\"x\\\": {\\\"value\\\": 500}, \\\"font\\\": {\\\"value\\\": \\\"AvenirNext-Medium\\\"}, \\\"fill\\\": {\\\"value\\\": \\\"#4A4A4A\\\"}}}, \\\"type\\\": \\\"text\\\", \\\"from\\\": {\\\"data\\\": \\\"data_2\\\"}}, {\\\"encode\\\": {\\\"update\\\": {\\\"y\\\": {\\\"field\\\": \\\"c_max\\\"}, \\\"x\\\": {\\\"signal\\\": \\\"datum[\\\\\\\"c_x_axis_back\\\\\\\"]+467\\\"}}, \\\"enter\\\": {\\\"fontStyle\\\": {\\\"value\\\": \\\"normal\\\"}, \\\"angle\\\": {\\\"value\\\": 0}, \\\"baseline\\\": {\\\"value\\\": \\\"middle\\\"}, \\\"text\\\": {\\\"signal\\\": \\\"(toString(datum[\\\\\\\"type\\\\\\\"]) == \\\\\\\"integer\\\\\\\" || toString(datum[\\\\\\\"type\\\\\\\"]) == \\\\\\\"float\\\\\\\")? \\\\\\\"Max:\\\\\\\":\\\\\\\"\\\\\\\"\\\"}, \\\"align\\\": {\\\"value\\\": \\\"left\\\"}, \\\"fontWeight\\\": {\\\"value\\\": \\\"bold\\\"}, \\\"fontSize\\\": {\\\"value\\\": 11}, \\\"dx\\\": {\\\"value\\\": 0, \\\"offset\\\": 0}, \\\"dy\\\": {\\\"value\\\": 0, \\\"offset\\\": 0}, \\\"y\\\": {\\\"value\\\": 240}, \\\"x\\\": {\\\"value\\\": 500}, \\\"font\\\": {\\\"value\\\": \\\"AvenirNext-Medium\\\"}, \\\"fill\\\": {\\\"value\\\": \\\"#4A4A4A\\\"}}}, \\\"type\\\": \\\"text\\\", \\\"from\\\": {\\\"data\\\": \\\"data_2\\\"}}, {\\\"encode\\\": {\\\"update\\\": {\\\"y\\\": {\\\"field\\\": \\\"c_median\\\"}, \\\"x\\\": {\\\"signal\\\": \\\"datum[\\\\\\\"c_x_axis_back\\\\\\\"]+467\\\"}}, \\\"enter\\\": {\\\"fontStyle\\\": {\\\"value\\\": \\\"normal\\\"}, \\\"angle\\\": {\\\"value\\\": 0}, \\\"baseline\\\": {\\\"value\\\": \\\"middle\\\"}, \\\"text\\\": {\\\"signal\\\": \\\"(toString(datum[\\\\\\\"type\\\\\\\"]) == \\\\\\\"integer\\\\\\\" || toString(datum[\\\\\\\"type\\\\\\\"]) == \\\\\\\"float\\\\\\\")? \\\\\\\"Median:\\\\\\\":\\\\\\\"\\\\\\\"\\\"}, \\\"align\\\": {\\\"value\\\": \\\"left\\\"}, \\\"fontWeight\\\": {\\\"value\\\": \\\"bold\\\"}, \\\"fontSize\\\": {\\\"value\\\": 11}, \\\"dx\\\": {\\\"value\\\": 0, \\\"offset\\\": 0}, \\\"dy\\\": {\\\"value\\\": 0, \\\"offset\\\": 0}, \\\"y\\\": {\\\"value\\\": 260}, \\\"x\\\": {\\\"value\\\": 500}, \\\"font\\\": {\\\"value\\\": \\\"AvenirNext-Medium\\\"}, \\\"fill\\\": {\\\"value\\\": \\\"#4A4A4A\\\"}}}, \\\"type\\\": \\\"text\\\", \\\"from\\\": {\\\"data\\\": \\\"data_2\\\"}}, {\\\"encode\\\": {\\\"update\\\": {\\\"y\\\": {\\\"field\\\": \\\"c_stdev\\\"}, \\\"x\\\": {\\\"signal\\\": \\\"datum[\\\\\\\"c_x_axis_back\\\\\\\"]+467\\\"}}, \\\"enter\\\": {\\\"fontStyle\\\": {\\\"value\\\": \\\"normal\\\"}, \\\"angle\\\": {\\\"value\\\": 0}, \\\"baseline\\\": {\\\"value\\\": \\\"middle\\\"}, \\\"text\\\": {\\\"signal\\\": \\\"(toString(datum[\\\\\\\"type\\\\\\\"]) == \\\\\\\"integer\\\\\\\" || toString(datum[\\\\\\\"type\\\\\\\"]) == \\\\\\\"float\\\\\\\")? \\\\\\\"St. Dev:\\\\\\\":\\\\\\\"\\\\\\\"\\\"}, \\\"align\\\": {\\\"value\\\": \\\"left\\\"}, \\\"fontWeight\\\": {\\\"value\\\": \\\"bold\\\"}, \\\"fontSize\\\": {\\\"value\\\": 11}, \\\"dx\\\": {\\\"value\\\": 0, \\\"offset\\\": 0}, \\\"dy\\\": {\\\"value\\\": 0, \\\"offset\\\": 0}, \\\"y\\\": {\\\"value\\\": 280}, \\\"x\\\": {\\\"value\\\": 500}, \\\"font\\\": {\\\"value\\\": \\\"AvenirNext-Medium\\\"}, \\\"fill\\\": {\\\"value\\\": \\\"#4A4A4A\\\"}}}, \\\"type\\\": \\\"text\\\", \\\"from\\\": {\\\"data\\\": \\\"data_2\\\"}}, {\\\"encode\\\": {\\\"update\\\": {\\\"y\\\": {\\\"field\\\": \\\"c_mean_val\\\"}, \\\"x\\\": {\\\"signal\\\": \\\"datum[\\\\\\\"c_x_axis_back\\\\\\\"]+667\\\"}}, \\\"enter\\\": {\\\"fontStyle\\\": {\\\"value\\\": \\\"normal\\\"}, \\\"angle\\\": {\\\"value\\\": 0}, \\\"baseline\\\": {\\\"value\\\": \\\"middle\\\"}, \\\"text\\\": {\\\"signal\\\": \\\"(toString(datum[\\\\\\\"type\\\\\\\"]) == \\\\\\\"integer\\\\\\\" || toString(datum[\\\\\\\"type\\\\\\\"]) == \\\\\\\"float\\\\\\\")?toString(format(datum[\\\\\\\"mean\\\\\\\"], \\\\\\\",\\\\\\\")):\\\\\\\"\\\\\\\"\\\"}, \\\"align\\\": {\\\"value\\\": \\\"right\\\"}, \\\"fontWeight\\\": {\\\"value\\\": \\\"normal\\\"}, \\\"fontSize\\\": {\\\"value\\\": 10}, \\\"dx\\\": {\\\"value\\\": 0, \\\"offset\\\": 0}, \\\"dy\\\": {\\\"value\\\": 0, \\\"offset\\\": 0}, \\\"y\\\": {\\\"value\\\": 198}, \\\"x\\\": {\\\"value\\\": 700}, \\\"font\\\": {\\\"value\\\": \\\"AvenirNext-Medium\\\"}, \\\"fill\\\": {\\\"value\\\": \\\"#6A6A6A\\\"}}}, \\\"type\\\": \\\"text\\\", \\\"from\\\": {\\\"data\\\": \\\"data_2\\\"}}, {\\\"encode\\\": {\\\"update\\\": {\\\"y\\\": {\\\"field\\\": \\\"c_min_val\\\"}, \\\"x\\\": {\\\"signal\\\": \\\"datum[\\\\\\\"c_x_axis_back\\\\\\\"]+667\\\"}}, \\\"enter\\\": {\\\"fontStyle\\\": {\\\"value\\\": \\\"normal\\\"}, \\\"angle\\\": {\\\"value\\\": 0}, \\\"baseline\\\": {\\\"value\\\": \\\"middle\\\"}, \\\"text\\\": {\\\"signal\\\": \\\"(toString(datum[\\\\\\\"type\\\\\\\"]) == \\\\\\\"integer\\\\\\\" || toString(datum[\\\\\\\"type\\\\\\\"]) == \\\\\\\"float\\\\\\\")?toString(format(datum[\\\\\\\"min\\\\\\\"], \\\\\\\",\\\\\\\")):\\\\\\\"\\\\\\\"\\\"}, \\\"align\\\": {\\\"value\\\": \\\"right\\\"}, \\\"fontWeight\\\": {\\\"value\\\": \\\"normal\\\"}, \\\"fontSize\\\": {\\\"value\\\": 10}, \\\"dx\\\": {\\\"value\\\": 0, \\\"offset\\\": 0}, \\\"dy\\\": {\\\"value\\\": 0, \\\"offset\\\": 0}, \\\"y\\\": {\\\"value\\\": 218}, \\\"x\\\": {\\\"value\\\": 700}, \\\"font\\\": {\\\"value\\\": \\\"AvenirNext-Medium\\\"}, \\\"fill\\\": {\\\"value\\\": \\\"#6A6A6A\\\"}}}, \\\"type\\\": \\\"text\\\", \\\"from\\\": {\\\"data\\\": \\\"data_2\\\"}}, {\\\"encode\\\": {\\\"update\\\": {\\\"y\\\": {\\\"field\\\": \\\"c_max_val\\\"}, \\\"x\\\": {\\\"signal\\\": \\\"datum[\\\\\\\"c_x_axis_back\\\\\\\"]+667\\\"}}, \\\"enter\\\": {\\\"fontStyle\\\": {\\\"value\\\": \\\"normal\\\"}, \\\"angle\\\": {\\\"value\\\": 0}, \\\"baseline\\\": {\\\"value\\\": \\\"middle\\\"}, \\\"text\\\": {\\\"signal\\\": \\\"(toString(datum[\\\\\\\"type\\\\\\\"]) == \\\\\\\"integer\\\\\\\" || toString(datum[\\\\\\\"type\\\\\\\"]) == \\\\\\\"float\\\\\\\")?toString(format(datum[\\\\\\\"max\\\\\\\"], \\\\\\\",\\\\\\\")):\\\\\\\"\\\\\\\"\\\"}, \\\"align\\\": {\\\"value\\\": \\\"right\\\"}, \\\"fontWeight\\\": {\\\"value\\\": \\\"normal\\\"}, \\\"fontSize\\\": {\\\"value\\\": 10}, \\\"dx\\\": {\\\"value\\\": 0, \\\"offset\\\": 0}, \\\"dy\\\": {\\\"value\\\": 0, \\\"offset\\\": 0}, \\\"y\\\": {\\\"value\\\": 238}, \\\"x\\\": {\\\"value\\\": 700}, \\\"font\\\": {\\\"value\\\": \\\"AvenirNext-Medium\\\"}, \\\"fill\\\": {\\\"value\\\": \\\"#6A6A6A\\\"}}}, \\\"type\\\": \\\"text\\\", \\\"from\\\": {\\\"data\\\": \\\"data_2\\\"}}, {\\\"encode\\\": {\\\"update\\\": {\\\"y\\\": {\\\"field\\\": \\\"c_median_val\\\"}, \\\"x\\\": {\\\"signal\\\": \\\"datum[\\\\\\\"c_x_axis_back\\\\\\\"]+667\\\"}}, \\\"enter\\\": {\\\"fontStyle\\\": {\\\"value\\\": \\\"normal\\\"}, \\\"angle\\\": {\\\"value\\\": 0}, \\\"baseline\\\": {\\\"value\\\": \\\"middle\\\"}, \\\"text\\\": {\\\"signal\\\": \\\"(toString(datum[\\\\\\\"type\\\\\\\"]) == \\\\\\\"integer\\\\\\\" || toString(datum[\\\\\\\"type\\\\\\\"]) == \\\\\\\"float\\\\\\\")?toString(format(datum[\\\\\\\"median\\\\\\\"], \\\\\\\",\\\\\\\")):\\\\\\\"\\\\\\\"\\\"}, \\\"align\\\": {\\\"value\\\": \\\"right\\\"}, \\\"fontWeight\\\": {\\\"value\\\": \\\"normal\\\"}, \\\"fontSize\\\": {\\\"value\\\": 10}, \\\"dx\\\": {\\\"value\\\": 0, \\\"offset\\\": 0}, \\\"dy\\\": {\\\"value\\\": 0, \\\"offset\\\": 0}, \\\"y\\\": {\\\"value\\\": 258}, \\\"x\\\": {\\\"value\\\": 700}, \\\"font\\\": {\\\"value\\\": \\\"AvenirNext-Medium\\\"}, \\\"fill\\\": {\\\"value\\\": \\\"#6A6A6A\\\"}}}, \\\"type\\\": \\\"text\\\", \\\"from\\\": {\\\"data\\\": \\\"data_2\\\"}}, {\\\"encode\\\": {\\\"update\\\": {\\\"y\\\": {\\\"field\\\": \\\"c_stdev_val\\\"}, \\\"x\\\": {\\\"signal\\\": \\\"datum[\\\\\\\"c_x_axis_back\\\\\\\"]+667\\\"}}, \\\"enter\\\": {\\\"fontStyle\\\": {\\\"value\\\": \\\"normal\\\"}, \\\"angle\\\": {\\\"value\\\": 0}, \\\"baseline\\\": {\\\"value\\\": \\\"middle\\\"}, \\\"text\\\": {\\\"signal\\\": \\\"(toString(datum[\\\\\\\"type\\\\\\\"]) == \\\\\\\"integer\\\\\\\" || toString(datum[\\\\\\\"type\\\\\\\"]) == \\\\\\\"float\\\\\\\")?toString(format(datum[\\\\\\\"stdev\\\\\\\"], \\\\\\\",\\\\\\\")):\\\\\\\"\\\\\\\"\\\"}, \\\"align\\\": {\\\"value\\\": \\\"right\\\"}, \\\"fontWeight\\\": {\\\"value\\\": \\\"normal\\\"}, \\\"fontSize\\\": {\\\"value\\\": 10}, \\\"dx\\\": {\\\"value\\\": 0, \\\"offset\\\": 0}, \\\"dy\\\": {\\\"value\\\": 0, \\\"offset\\\": 0}, \\\"y\\\": {\\\"value\\\": 278}, \\\"x\\\": {\\\"value\\\": 700}, \\\"font\\\": {\\\"value\\\": \\\"AvenirNext-Medium\\\"}, \\\"fill\\\": {\\\"value\\\": \\\"#6A6A6A\\\"}}}, \\\"type\\\": \\\"text\\\", \\\"from\\\": {\\\"data\\\": \\\"data_2\\\"}}, {\\\"style\\\": \\\"cell\\\", \\\"from\\\": {\\\"facet\\\": {\\\"field\\\": \\\"numeric\\\", \\\"data\\\": \\\"data_2\\\", \\\"name\\\": \\\"new_data\\\"}}, \\\"scales\\\": [{\\\"domain\\\": {\\\"sort\\\": true, \\\"fields\\\": [\\\"left\\\", \\\"right\\\"], \\\"data\\\": \\\"new_data\\\"}, \\\"name\\\": \\\"x\\\", \\\"zero\\\": true, \\\"range\\\": [0, {\\\"signal\\\": \\\"width\\\"}], \\\"type\\\": \\\"linear\\\", \\\"nice\\\": true}, {\\\"domain\\\": {\\\"field\\\": \\\"count\\\", \\\"data\\\": \\\"new_data\\\"}, \\\"name\\\": \\\"y\\\", \\\"zero\\\": true, \\\"range\\\": [{\\\"signal\\\": \\\"height\\\"}, 0], \\\"type\\\": \\\"linear\\\", \\\"nice\\\": true}], \\\"axes\\\": [{\\\"scale\\\": \\\"x\\\", \\\"title\\\": \\\"Values\\\", \\\"tickCount\\\": {\\\"signal\\\": \\\"ceil(width/40)\\\"}, \\\"zindex\\\": 1, \\\"labelOverlap\\\": true, \\\"orient\\\": \\\"bottom\\\"}, {\\\"domain\\\": false, \\\"scale\\\": \\\"x\\\", \\\"ticks\\\": false, \\\"labels\\\": false, \\\"tickCount\\\": {\\\"signal\\\": \\\"ceil(width/40)\\\"}, \\\"zindex\\\": 0, \\\"grid\\\": true, \\\"minExtent\\\": 0, \\\"gridScale\\\": \\\"y\\\", \\\"orient\\\": \\\"bottom\\\", \\\"maxExtent\\\": 0}, {\\\"scale\\\": \\\"y\\\", \\\"title\\\": \\\"Count\\\", \\\"tickCount\\\": {\\\"signal\\\": \\\"ceil(height/40)\\\"}, \\\"zindex\\\": 1, \\\"labelOverlap\\\": true, \\\"orient\\\": \\\"left\\\"}, {\\\"domain\\\": false, \\\"scale\\\": \\\"y\\\", \\\"ticks\\\": false, \\\"labels\\\": false, \\\"tickCount\\\": {\\\"signal\\\": \\\"ceil(height/40)\\\"}, \\\"zindex\\\": 0, \\\"grid\\\": true, \\\"minExtent\\\": 0, \\\"gridScale\\\": \\\"x\\\", \\\"orient\\\": \\\"left\\\", \\\"maxExtent\\\": 0}], \\\"signals\\\": [{\\\"name\\\": \\\"width\\\", \\\"update\\\": \\\"250\\\"}, {\\\"name\\\": \\\"height\\\", \\\"update\\\": \\\"150\\\"}], \\\"marks\\\": [{\\\"encode\\\": {\\\"hover\\\": {\\\"fill\\\": {\\\"value\\\": \\\"#7EC2F3\\\"}}, \\\"update\\\": {\\\"x2\\\": {\\\"field\\\": \\\"right\\\", \\\"scale\\\": \\\"x\\\"}, \\\"x\\\": {\\\"field\\\": \\\"left\\\", \\\"scale\\\": \\\"x\\\"}, \\\"y2\\\": {\\\"scale\\\": \\\"y\\\", \\\"value\\\": 0}, \\\"y\\\": {\\\"field\\\": \\\"count\\\", \\\"scale\\\": \\\"y\\\"}, \\\"fill\\\": {\\\"value\\\": \\\"#108EE9\\\"}}}, \\\"from\\\": {\\\"data\\\": \\\"new_data\\\"}, \\\"style\\\": [\\\"rect\\\"], \\\"type\\\": \\\"rect\\\", \\\"name\\\": \\\"marks\\\"}], \\\"encode\\\": {\\\"update\\\": {\\\"x\\\": {\\\"signal\\\": \\\"datum[\\\\\\\"c_x_axis_back\\\\\\\"]+87\\\"}, \\\"clip\\\": {\\\"field\\\": \\\"c_clip_val\\\"}, \\\"width\\\": {\\\"field\\\": \\\"c_width_numeric_val\\\"}}, \\\"enter\\\": {\\\"strokeWidth\\\": {\\\"value\\\": 0}, \\\"height\\\": {\\\"value\\\": 150}, \\\"width\\\": {\\\"value\\\": 250}, \\\"stroke\\\": {\\\"value\\\": \\\"#000000\\\"}, \\\"fillOpacity\\\": {\\\"value\\\": 0}, \\\"y\\\": {\\\"field\\\": \\\"graph_offset\\\"}, \\\"x\\\": {\\\"value\\\": 120}, \\\"fill\\\": {\\\"value\\\": \\\"#ffffff\\\"}}}, \\\"type\\\": \\\"group\\\"}, {\\\"style\\\": \\\"cell\\\", \\\"from\\\": {\\\"facet\\\": {\\\"field\\\": \\\"categorical\\\", \\\"data\\\": \\\"data_2\\\", \\\"name\\\": \\\"data_5\\\"}}, \\\"scales\\\": [{\\\"domain\\\": {\\\"field\\\": \\\"count\\\", \\\"data\\\": \\\"data_5\\\"}, \\\"name\\\": \\\"x\\\", \\\"zero\\\": true, \\\"range\\\": [0, 250], \\\"type\\\": \\\"linear\\\", \\\"nice\\\": true}, {\\\"paddingInner\\\": 0.1, \\\"domain\\\": {\\\"sort\\\": {\\\"field\\\": \\\"label_idx\\\", \\\"order\\\": \\\"descending\\\", \\\"op\\\": \\\"mean\\\"}, \\\"field\\\": \\\"label\\\", \\\"data\\\": \\\"data_5\\\"}, \\\"name\\\": \\\"y\\\", \\\"paddingOuter\\\": 0.05, \\\"range\\\": [150, 0], \\\"type\\\": \\\"band\\\"}], \\\"axes\\\": [{\\\"scale\\\": \\\"x\\\", \\\"title\\\": \\\"Count\\\", \\\"tickCount\\\": {\\\"signal\\\": \\\"ceil(width/40)\\\"}, \\\"zindex\\\": 1, \\\"labelOverlap\\\": true, \\\"orient\\\": \\\"top\\\"}, {\\\"domain\\\": false, \\\"scale\\\": \\\"x\\\", \\\"ticks\\\": false, \\\"labels\\\": false, \\\"tickCount\\\": {\\\"signal\\\": \\\"ceil(width/40)\\\"}, \\\"zindex\\\": 0, \\\"grid\\\": true, \\\"minExtent\\\": 0, \\\"gridScale\\\": \\\"y\\\", \\\"orient\\\": \\\"top\\\", \\\"maxExtent\\\": 0}, {\\\"zindex\\\": 1, \\\"title\\\": \\\"Label\\\", \\\"scale\\\": \\\"y\\\", \\\"orient\\\": \\\"left\\\", \\\"labelOverlap\\\": true}], \\\"signals\\\": [{\\\"on\\\": [{\\\"events\\\": \\\"mousemove\\\", \\\"update\\\": \\\"isTuple(group()) ? group() : unit\\\"}], \\\"name\\\": \\\"unit\\\", \\\"value\\\": {}}, {\\\"name\\\": \\\"pts\\\", \\\"update\\\": \\\"data(\\\\\\\"pts_store\\\\\\\").length &amp;&amp; {count: data(\\\\\\\"pts_store\\\\\\\")[0].values[0]}\\\"}, {\\\"on\\\": [{\\\"force\\\": true, \\\"events\\\": [{\\\"source\\\": \\\"scope\\\", \\\"type\\\": \\\"click\\\"}], \\\"update\\\": \\\"datum &amp;&amp; item().mark.marktype !== &apos;group&apos; ? {unit: \\\\\\\"\\\\\\\", encodings: [\\\\\\\"x\\\\\\\"], fields: [\\\\\\\"count\\\\\\\"], values: [datum[\\\\\\\"count\\\\\\\"]]} : null\\\"}], \\\"name\\\": \\\"pts_tuple\\\", \\\"value\\\": {}}, {\\\"on\\\": [{\\\"events\\\": {\\\"signal\\\": \\\"pts_tuple\\\"}, \\\"update\\\": \\\"modify(\\\\\\\"pts_store\\\\\\\", pts_tuple, true)\\\"}], \\\"name\\\": \\\"pts_modify\\\"}], \\\"marks\\\": [{\\\"encode\\\": {\\\"hover\\\": {\\\"fill\\\": {\\\"value\\\": \\\"#7EC2F3\\\"}}, \\\"update\\\": {\\\"x2\\\": {\\\"scale\\\": \\\"x\\\", \\\"value\\\": 0}, \\\"x\\\": {\\\"field\\\": \\\"count\\\", \\\"scale\\\": \\\"x\\\"}, \\\"fill\\\": {\\\"value\\\": \\\"#108EE9\\\"}, \\\"y\\\": {\\\"field\\\": \\\"label\\\", \\\"scale\\\": \\\"y\\\"}, \\\"height\\\": {\\\"band\\\": true, \\\"scale\\\": \\\"y\\\"}}}, \\\"from\\\": {\\\"data\\\": \\\"data_5\\\"}, \\\"style\\\": [\\\"bar\\\"], \\\"type\\\": \\\"rect\\\", \\\"name\\\": \\\"marks\\\"}], \\\"encode\\\": {\\\"update\\\": {\\\"x\\\": {\\\"signal\\\": \\\"datum[\\\\\\\"c_x_axis_back\\\\\\\"]+137\\\"}, \\\"clip\\\": {\\\"field\\\": \\\"c_clip_val_cat\\\"}, \\\"width\\\": {\\\"field\\\": \\\"c_width_numeric_val_cat\\\"}}, \\\"enter\\\": {\\\"strokeWidth\\\": {\\\"value\\\": 0}, \\\"height\\\": {\\\"value\\\": 150}, \\\"width\\\": {\\\"value\\\": 250}, \\\"stroke\\\": {\\\"value\\\": \\\"#000000\\\"}, \\\"fillOpacity\\\": {\\\"value\\\": 0}, \\\"y\\\": {\\\"field\\\": \\\"graph_offset_categorical\\\"}, \\\"x\\\": {\\\"value\\\": 170}, \\\"fill\\\": {\\\"value\\\": \\\"#ffffff\\\"}}}, \\\"type\\\": \\\"group\\\"}], \\\"axes\\\": [], \\\"type\\\": \\\"group\\\", \\\"scales\\\": []}]}], \\\"$schema\\\": \\\"https://vega.github.io/schema/vega/v4.json\\\", \\\"data\\\": [{\\\"name\\\": \\\"pts_store\\\"}, {\\\"values\\\": [{\\\"a\\\": 0, \\\"num_row\\\": 20000263, \\\"title\\\": \\\"X1\\\", \\\"max\\\": 20000262.0, \\\"min\\\": 0.0, \\\"median\\\": 19025315.0, \\\"num_missing\\\": 0, \\\"num_unique\\\": 20000263, \\\"categorical\\\": [], \\\"numeric\\\": [{\\\"count\\\": 939525, \\\"right\\\": 939525, \\\"left\\\": -67108.4}, {\\\"count\\\": 1006633, \\\"right\\\": 1946160.0, \\\"left\\\": 939525}, {\\\"count\\\": 1006633, \\\"right\\\": 2952790.0, \\\"left\\\": 1946160.0}, {\\\"count\\\": 1006633, \\\"right\\\": 3959420.0, \\\"left\\\": 2952790.0}, {\\\"count\\\": 1006633, \\\"right\\\": 4966060.0, \\\"left\\\": 3959420.0}, {\\\"count\\\": 1006633, \\\"right\\\": 5972690.0, \\\"left\\\": 4966060.0}, {\\\"count\\\": 1006633, \\\"right\\\": 6979320.0, \\\"left\\\": 5972690.0}, {\\\"count\\\": 1006633, \\\"right\\\": 7985960.0, \\\"left\\\": 6979320.0}, {\\\"count\\\": 1006633, \\\"right\\\": 8992590.0, \\\"left\\\": 7985960.0}, {\\\"count\\\": 1006633, \\\"right\\\": 9999220.0, \\\"left\\\": 8992590.0}, {\\\"count\\\": 1006633, \\\"right\\\": 11005900.0, \\\"left\\\": 9999220.0}, {\\\"count\\\": 1006633, \\\"right\\\": 12012500.0, \\\"left\\\": 11005900.0}, {\\\"count\\\": 1006633, \\\"right\\\": 13019100.0, \\\"left\\\": 12012500.0}, {\\\"count\\\": 1006633, \\\"right\\\": 14025800.0, \\\"left\\\": 13019100.0}, {\\\"count\\\": 1006633, \\\"right\\\": 15032400.0, \\\"left\\\": 14025800.0}, {\\\"count\\\": 1006632, \\\"right\\\": 16039000.0, \\\"left\\\": 15032400.0}, {\\\"count\\\": 1006633, \\\"right\\\": 17045700.0, \\\"left\\\": 16039000.0}, {\\\"count\\\": 1006633, \\\"right\\\": 18052300.0, \\\"left\\\": 17045700.0}, {\\\"count\\\": 1006633, \\\"right\\\": 19058900.0, \\\"left\\\": 18052300.0}, {\\\"count\\\": 941345, \\\"right\\\": 20065600.0, \\\"left\\\": 19058900.0}], \\\"stdev\\\": 5773578.613457, \\\"type\\\": \\\"integer\\\", \\\"mean\\\": 10000131.0}, {\\\"a\\\": 1, \\\"num_row\\\": 20000263, \\\"title\\\": \\\"userId\\\", \\\"max\\\": 138493.0, \\\"min\\\": 1.0, \\\"median\\\": 69261.0, \\\"num_missing\\\": 0, \\\"num_unique\\\": 138493, \\\"categorical\\\": [], \\\"numeric\\\": [{\\\"count\\\": 459827, \\\"right\\\": 3148.73, \\\"left\\\": -4191.3}, {\\\"count\\\": 1091434, \\\"right\\\": 10488.8, \\\"left\\\": 3148.73}, {\\\"count\\\": 1076301, \\\"right\\\": 17828.8, \\\"left\\\": 10488.8}, {\\\"count\\\": 1067903, \\\"right\\\": 25168.8, \\\"left\\\": 17828.8}, {\\\"count\\\": 1036399, \\\"right\\\": 32508.9, \\\"left\\\": 25168.8}, {\\\"count\\\": 1057208, \\\"right\\\": 39848.9, \\\"left\\\": 32508.9}, {\\\"count\\\": 1063208, \\\"right\\\": 47188.9, \\\"left\\\": 39848.9}, {\\\"count\\\": 1064227, \\\"right\\\": 54529, \\\"left\\\": 47188.9}, {\\\"count\\\": 1035448, \\\"right\\\": 61869, \\\"left\\\": 54529}, {\\\"count\\\": 1054837, \\\"right\\\": 69209, \\\"left\\\": 61869}, {\\\"count\\\": 1069574, \\\"right\\\": 76549, \\\"left\\\": 69209}, {\\\"count\\\": 1067082, \\\"right\\\": 83889.1, \\\"left\\\": 76549}, {\\\"count\\\": 1062530, \\\"right\\\": 91229.1, \\\"left\\\": 83889.1}, {\\\"count\\\": 1066656, \\\"right\\\": 98569.1, \\\"left\\\": 91229.1}, {\\\"count\\\": 1045784, \\\"right\\\": 105909, \\\"left\\\": 98569.1}, {\\\"count\\\": 1042663, \\\"right\\\": 113249, \\\"left\\\": 105909}, {\\\"count\\\": 1076061, \\\"right\\\": 120589, \\\"left\\\": 113249}, {\\\"count\\\": 1042323, \\\"right\\\": 127929, \\\"left\\\": 120589}, {\\\"count\\\": 1070413, \\\"right\\\": 135269, \\\"left\\\": 127929}, {\\\"count\\\": 450385, \\\"right\\\": 142609, \\\"left\\\": 135269}], \\\"stdev\\\": 40038.625652, \\\"type\\\": \\\"integer\\\", \\\"mean\\\": 69045.872583}, {\\\"a\\\": 2, \\\"num_row\\\": 20000263, \\\"title\\\": \\\"movieId\\\", \\\"max\\\": 131262.0, \\\"min\\\": 1.0, \\\"median\\\": 3010.0, \\\"num_missing\\\": 0, \\\"num_unique\\\": 26744, \\\"categorical\\\": [], \\\"numeric\\\": [{\\\"count\\\": 15621881, \\\"right\\\": 5370.72, \\\"left\\\": -1340.17}, {\\\"count\\\": 2025887, \\\"right\\\": 12081.6, \\\"left\\\": 5370.72}, {\\\"count\\\": 0, \\\"right\\\": 18792.5, \\\"left\\\": 12081.6}, {\\\"count\\\": 0, \\\"right\\\": 25503.4, \\\"left\\\": 18792.5}, {\\\"count\\\": 248705, \\\"right\\\": 32214.3, \\\"left\\\": 25503.4}, {\\\"count\\\": 243911, \\\"right\\\": 38925.2, \\\"left\\\": 32214.3}, {\\\"count\\\": 215504, \\\"right\\\": 45636, \\\"left\\\": 38925.2}, {\\\"count\\\": 312305, \\\"right\\\": 52346.9, \\\"left\\\": 45636}, {\\\"count\\\": 331482, \\\"right\\\": 59057.8, \\\"left\\\": 52346.9}, {\\\"count\\\": 212056, \\\"right\\\": 65768.7, \\\"left\\\": 59057.8}, {\\\"count\\\": 196337, \\\"right\\\": 72479.6, \\\"left\\\": 65768.7}, {\\\"count\\\": 136772, \\\"right\\\": 79190.5, \\\"left\\\": 72479.6}, {\\\"count\\\": 118086, \\\"right\\\": 85901.4, \\\"left\\\": 79190.5}, {\\\"count\\\": 124098, \\\"right\\\": 92612.2, \\\"left\\\": 85901.4}, {\\\"count\\\": 84704, \\\"right\\\": 99323.1, \\\"left\\\": 92612.2}, {\\\"count\\\": 55927, \\\"right\\\": 106034, \\\"left\\\": 99323.1}, {\\\"count\\\": 51435, \\\"right\\\": 112745, \\\"left\\\": 106034}, {\\\"count\\\": 17717, \\\"right\\\": 119456, \\\"left\\\": 112745}, {\\\"count\\\": 1754, \\\"right\\\": 126167, \\\"left\\\": 119456}, {\\\"count\\\": 1702, \\\"right\\\": 132878, \\\"left\\\": 126167}], \\\"stdev\\\": 19789.476951, \\\"type\\\": \\\"integer\\\", \\\"mean\\\": 9041.56733}, {\\\"a\\\": 3, \\\"num_row\\\": 20000263, \\\"title\\\": \\\"rating\\\", \\\"max\\\": 5.0, \\\"min\\\": 0.5, \\\"median\\\": 2.0, \\\"num_missing\\\": 0, \\\"num_unique\\\": 10, \\\"categorical\\\": [], \\\"numeric\\\": [{\\\"count\\\": 239125, \\\"right\\\": 0.666, \\\"left\\\": 0.434}, {\\\"count\\\": 0, \\\"right\\\": 0.898, \\\"left\\\": 0.666}, {\\\"count\\\": 680732, \\\"right\\\": 1.13, \\\"left\\\": 0.898}, {\\\"count\\\": 0, \\\"right\\\": 1.362, \\\"left\\\": 1.13}, {\\\"count\\\": 279252, \\\"right\\\": 1.594, \\\"left\\\": 1.362}, {\\\"count\\\": 0, \\\"right\\\": 1.826, \\\"left\\\": 1.594}, {\\\"count\\\": 1430997, \\\"right\\\": 2.058, \\\"left\\\": 1.826}, {\\\"count\\\": 0, \\\"right\\\": 2.29, \\\"left\\\": 2.058}, {\\\"count\\\": 883398, \\\"right\\\": 2.522, \\\"left\\\": 2.29}, {\\\"count\\\": 0, \\\"right\\\": 2.754, \\\"left\\\": 2.522}, {\\\"count\\\": 0, \\\"right\\\": 2.986, \\\"left\\\": 2.754}, {\\\"count\\\": 4291193, \\\"right\\\": 3.218, \\\"left\\\": 2.986}, {\\\"count\\\": 0, \\\"right\\\": 3.45, \\\"left\\\": 3.218}, {\\\"count\\\": 2200156, \\\"right\\\": 3.682, \\\"left\\\": 3.45}, {\\\"count\\\": 0, \\\"right\\\": 3.914, \\\"left\\\": 3.682}, {\\\"count\\\": 5561926, \\\"right\\\": 4.146, \\\"left\\\": 3.914}, {\\\"count\\\": 0, \\\"right\\\": 4.378, \\\"left\\\": 4.146}, {\\\"count\\\": 1534824, \\\"right\\\": 4.61, \\\"left\\\": 4.378}, {\\\"count\\\": 0, \\\"right\\\": 4.842, \\\"left\\\": 4.61}, {\\\"count\\\": 2898660, \\\"right\\\": 5.074, \\\"left\\\": 4.842}], \\\"stdev\\\": 1.051989, \\\"type\\\": \\\"float\\\", \\\"mean\\\": 3.525529}, {\\\"a\\\": 4, \\\"num_row\\\": 20000263, \\\"title\\\": \\\"(no genres listed)\\\", \\\"max\\\": 1.0, \\\"min\\\": 0.0, \\\"median\\\": 0.0, \\\"num_missing\\\": 0, \\\"num_unique\\\": 2, \\\"categorical\\\": [], \\\"numeric\\\": [{\\\"count\\\": 19999902, \\\"right\\\": 0.04084, \\\"left\\\": -0.01036}, {\\\"count\\\": 0, \\\"right\\\": 0.09204, \\\"left\\\": 0.04084}, {\\\"count\\\": 0, \\\"right\\\": 0.14324, \\\"left\\\": 0.09204}, {\\\"count\\\": 0, \\\"right\\\": 0.19444, \\\"left\\\": 0.14324}, {\\\"count\\\": 0, \\\"right\\\": 0.24564, \\\"left\\\": 0.19444}, {\\\"count\\\": 0, \\\"right\\\": 0.29684, \\\"left\\\": 0.24564}, {\\\"count\\\": 0, \\\"right\\\": 0.34804, \\\"left\\\": 0.29684}, {\\\"count\\\": 0, \\\"right\\\": 0.39924, \\\"left\\\": 0.34804}, {\\\"count\\\": 0, \\\"right\\\": 0.45044, \\\"left\\\": 0.39924}, {\\\"count\\\": 0, \\\"right\\\": 0.50164, \\\"left\\\": 0.45044}, {\\\"count\\\": 0, \\\"right\\\": 0.55284, \\\"left\\\": 0.50164}, {\\\"count\\\": 0, \\\"right\\\": 0.60404, \\\"left\\\": 0.55284}, {\\\"count\\\": 0, \\\"right\\\": 0.65524, \\\"left\\\": 0.60404}, {\\\"count\\\": 0, \\\"right\\\": 0.70644, \\\"left\\\": 0.65524}, {\\\"count\\\": 0, \\\"right\\\": 0.75764, \\\"left\\\": 0.70644}, {\\\"count\\\": 0, \\\"right\\\": 0.80884, \\\"left\\\": 0.75764}, {\\\"count\\\": 0, \\\"right\\\": 0.86004, \\\"left\\\": 0.80884}, {\\\"count\\\": 0, \\\"right\\\": 0.91124, \\\"left\\\": 0.86004}, {\\\"count\\\": 0, \\\"right\\\": 0.96244, \\\"left\\\": 0.91124}, {\\\"count\\\": 361, \\\"right\\\": 1.01364, \\\"left\\\": 0.96244}], \\\"stdev\\\": 0.004248, \\\"type\\\": \\\"integer\\\", \\\"mean\\\": 1.8e-05}, {\\\"a\\\": 5, \\\"num_row\\\": 20000263, \\\"title\\\": \\\"Action\\\", \\\"max\\\": 1.0, \\\"min\\\": 0.0, \\\"median\\\": 0.0, \\\"num_missing\\\": 0, \\\"num_unique\\\": 2, \\\"categorical\\\": [], \\\"numeric\\\": [{\\\"count\\\": 14386055, \\\"right\\\": 0.04084, \\\"left\\\": -0.01036}, {\\\"count\\\": 0, \\\"right\\\": 0.09204, \\\"left\\\": 0.04084}, {\\\"count\\\": 0, \\\"right\\\": 0.14324, \\\"left\\\": 0.09204}, {\\\"count\\\": 0, \\\"right\\\": 0.19444, \\\"left\\\": 0.14324}, {\\\"count\\\": 0, \\\"right\\\": 0.24564, \\\"left\\\": 0.19444}, {\\\"count\\\": 0, \\\"right\\\": 0.29684, \\\"left\\\": 0.24564}, {\\\"count\\\": 0, \\\"right\\\": 0.34804, \\\"left\\\": 0.29684}, {\\\"count\\\": 0, \\\"right\\\": 0.39924, \\\"left\\\": 0.34804}, {\\\"count\\\": 0, \\\"right\\\": 0.45044, \\\"left\\\": 0.39924}, {\\\"count\\\": 0, \\\"right\\\": 0.50164, \\\"left\\\": 0.45044}, {\\\"count\\\": 0, \\\"right\\\": 0.55284, \\\"left\\\": 0.50164}, {\\\"count\\\": 0, \\\"right\\\": 0.60404, \\\"left\\\": 0.55284}, {\\\"count\\\": 0, \\\"right\\\": 0.65524, \\\"left\\\": 0.60404}, {\\\"count\\\": 0, \\\"right\\\": 0.70644, \\\"left\\\": 0.65524}, {\\\"count\\\": 0, \\\"right\\\": 0.75764, \\\"left\\\": 0.70644}, {\\\"count\\\": 0, \\\"right\\\": 0.80884, \\\"left\\\": 0.75764}, {\\\"count\\\": 0, \\\"right\\\": 0.86004, \\\"left\\\": 0.80884}, {\\\"count\\\": 0, \\\"right\\\": 0.91124, \\\"left\\\": 0.86004}, {\\\"count\\\": 0, \\\"right\\\": 0.96244, \\\"left\\\": 0.91124}, {\\\"count\\\": 5614208, \\\"right\\\": 1.01364, \\\"left\\\": 0.96244}], \\\"stdev\\\": 0.449344, \\\"type\\\": \\\"integer\\\", \\\"mean\\\": 0.280707}, {\\\"a\\\": 6, \\\"num_row\\\": 20000263, \\\"title\\\": \\\"Adventure\\\", \\\"max\\\": 1.0, \\\"min\\\": 0.0, \\\"median\\\": 0.0, \\\"num_missing\\\": 0, \\\"num_unique\\\": 2, \\\"categorical\\\": [], \\\"numeric\\\": [{\\\"count\\\": 15619912, \\\"right\\\": 0.03988, \\\"left\\\": -0.01132}, {\\\"count\\\": 0, \\\"right\\\": 0.09108, \\\"left\\\": 0.03988}, {\\\"count\\\": 0, \\\"right\\\": 0.14228, \\\"left\\\": 0.09108}, {\\\"count\\\": 0, \\\"right\\\": 0.19348, \\\"left\\\": 0.14228}, {\\\"count\\\": 0, \\\"right\\\": 0.24468, \\\"left\\\": 0.19348}, {\\\"count\\\": 0, \\\"right\\\": 0.29588, \\\"left\\\": 0.24468}, {\\\"count\\\": 0, \\\"right\\\": 0.34708, \\\"left\\\": 0.29588}, {\\\"count\\\": 0, \\\"right\\\": 0.39828, \\\"left\\\": 0.34708}, {\\\"count\\\": 0, \\\"right\\\": 0.44948, \\\"left\\\": 0.39828}, {\\\"count\\\": 0, \\\"right\\\": 0.50068, \\\"left\\\": 0.44948}, {\\\"count\\\": 0, \\\"right\\\": 0.55188, \\\"left\\\": 0.50068}, {\\\"count\\\": 0, \\\"right\\\": 0.60308, \\\"left\\\": 0.55188}, {\\\"count\\\": 0, \\\"right\\\": 0.65428, \\\"left\\\": 0.60308}, {\\\"count\\\": 0, \\\"right\\\": 0.70548, \\\"left\\\": 0.65428}, {\\\"count\\\": 0, \\\"right\\\": 0.75668, \\\"left\\\": 0.70548}, {\\\"count\\\": 0, \\\"right\\\": 0.80788, \\\"left\\\": 0.75668}, {\\\"count\\\": 0, \\\"right\\\": 0.85908, \\\"left\\\": 0.80788}, {\\\"count\\\": 0, \\\"right\\\": 0.91028, \\\"left\\\": 0.85908}, {\\\"count\\\": 0, \\\"right\\\": 0.96148, \\\"left\\\": 0.91028}, {\\\"count\\\": 4380351, \\\"right\\\": 1.01268, \\\"left\\\": 0.96148}], \\\"stdev\\\": 0.413579, \\\"type\\\": \\\"integer\\\", \\\"mean\\\": 0.219015}, {\\\"a\\\": 7, \\\"num_row\\\": 20000263, \\\"title\\\": \\\"Animation\\\", \\\"max\\\": 1.0, \\\"min\\\": 0.0, \\\"median\\\": 0.0, \\\"num_missing\\\": 0, \\\"num_unique\\\": 2, \\\"categorical\\\": [], \\\"numeric\\\": [{\\\"count\\\": 18859787, \\\"right\\\": 0.04084, \\\"left\\\": -0.01036}, {\\\"count\\\": 0, \\\"right\\\": 0.09204, \\\"left\\\": 0.04084}, {\\\"count\\\": 0, \\\"right\\\": 0.14324, \\\"left\\\": 0.09204}, {\\\"count\\\": 0, \\\"right\\\": 0.19444, \\\"left\\\": 0.14324}, {\\\"count\\\": 0, \\\"right\\\": 0.24564, \\\"left\\\": 0.19444}, {\\\"count\\\": 0, \\\"right\\\": 0.29684, \\\"left\\\": 0.24564}, {\\\"count\\\": 0, \\\"right\\\": 0.34804, \\\"left\\\": 0.29684}, {\\\"count\\\": 0, \\\"right\\\": 0.39924, \\\"left\\\": 0.34804}, {\\\"count\\\": 0, \\\"right\\\": 0.45044, \\\"left\\\": 0.39924}, {\\\"count\\\": 0, \\\"right\\\": 0.50164, \\\"left\\\": 0.45044}, {\\\"count\\\": 0, \\\"right\\\": 0.55284, \\\"left\\\": 0.50164}, {\\\"count\\\": 0, \\\"right\\\": 0.60404, \\\"left\\\": 0.55284}, {\\\"count\\\": 0, \\\"right\\\": 0.65524, \\\"left\\\": 0.60404}, {\\\"count\\\": 0, \\\"right\\\": 0.70644, \\\"left\\\": 0.65524}, {\\\"count\\\": 0, \\\"right\\\": 0.75764, \\\"left\\\": 0.70644}, {\\\"count\\\": 0, \\\"right\\\": 0.80884, \\\"left\\\": 0.75764}, {\\\"count\\\": 0, \\\"right\\\": 0.86004, \\\"left\\\": 0.80884}, {\\\"count\\\": 0, \\\"right\\\": 0.91124, \\\"left\\\": 0.86004}, {\\\"count\\\": 0, \\\"right\\\": 0.96244, \\\"left\\\": 0.91124}, {\\\"count\\\": 1140476, \\\"right\\\": 1.01364, \\\"left\\\": 0.96244}], \\\"stdev\\\": 0.231887, \\\"type\\\": \\\"integer\\\", \\\"mean\\\": 0.057023}, {\\\"a\\\": 8, \\\"num_row\\\": 20000263, \\\"title\\\": \\\"Children\\\", \\\"max\\\": 1.0, \\\"min\\\": 0.0, \\\"median\\\": 0.0, \\\"num_missing\\\": 0, \\\"num_unique\\\": 2, \\\"categorical\\\": [], \\\"numeric\\\": [{\\\"count\\\": 18331014, \\\"right\\\": 0.03988, \\\"left\\\": -0.01132}, {\\\"count\\\": 0, \\\"right\\\": 0.09108, \\\"left\\\": 0.03988}, {\\\"count\\\": 0, \\\"right\\\": 0.14228, \\\"left\\\": 0.09108}, {\\\"count\\\": 0, \\\"right\\\": 0.19348, \\\"left\\\": 0.14228}, {\\\"count\\\": 0, \\\"right\\\": 0.24468, \\\"left\\\": 0.19348}, {\\\"count\\\": 0, \\\"right\\\": 0.29588, \\\"left\\\": 0.24468}, {\\\"count\\\": 0, \\\"right\\\": 0.34708, \\\"left\\\": 0.29588}, {\\\"count\\\": 0, \\\"right\\\": 0.39828, \\\"left\\\": 0.34708}, {\\\"count\\\": 0, \\\"right\\\": 0.44948, \\\"left\\\": 0.39828}, {\\\"count\\\": 0, \\\"right\\\": 0.50068, \\\"left\\\": 0.44948}, {\\\"count\\\": 0, \\\"right\\\": 0.55188, \\\"left\\\": 0.50068}, {\\\"count\\\": 0, \\\"right\\\": 0.60308, \\\"left\\\": 0.55188}, {\\\"count\\\": 0, \\\"right\\\": 0.65428, \\\"left\\\": 0.60308}, {\\\"count\\\": 0, \\\"right\\\": 0.70548, \\\"left\\\": 0.65428}, {\\\"count\\\": 0, \\\"right\\\": 0.75668, \\\"left\\\": 0.70548}, {\\\"count\\\": 0, \\\"right\\\": 0.80788, \\\"left\\\": 0.75668}, {\\\"count\\\": 0, \\\"right\\\": 0.85908, \\\"left\\\": 0.80788}, {\\\"count\\\": 0, \\\"right\\\": 0.91028, \\\"left\\\": 0.85908}, {\\\"count\\\": 0, \\\"right\\\": 0.96148, \\\"left\\\": 0.91028}, {\\\"count\\\": 1669249, \\\"right\\\": 1.01268, \\\"left\\\": 0.96148}], \\\"stdev\\\": 0.276578, \\\"type\\\": \\\"integer\\\", \\\"mean\\\": 0.083461}, {\\\"a\\\": 9, \\\"num_row\\\": 20000263, \\\"title\\\": \\\"Comedy\\\", \\\"max\\\": 1.0, \\\"min\\\": 0.0, \\\"median\\\": 0.0, \\\"num_missing\\\": 0, \\\"num_unique\\\": 2, \\\"categorical\\\": [], \\\"numeric\\\": [{\\\"count\\\": 12498029, \\\"right\\\": 0.04084, \\\"left\\\": -0.01036}, {\\\"count\\\": 0, \\\"right\\\": 0.09204, \\\"left\\\": 0.04084}, {\\\"count\\\": 0, \\\"right\\\": 0.14324, \\\"left\\\": 0.09204}, {\\\"count\\\": 0, \\\"right\\\": 0.19444, \\\"left\\\": 0.14324}, {\\\"count\\\": 0, \\\"right\\\": 0.24564, \\\"left\\\": 0.19444}, {\\\"count\\\": 0, \\\"right\\\": 0.29684, \\\"left\\\": 0.24564}, {\\\"count\\\": 0, \\\"right\\\": 0.34804, \\\"left\\\": 0.29684}, {\\\"count\\\": 0, \\\"right\\\": 0.39924, \\\"left\\\": 0.34804}, {\\\"count\\\": 0, \\\"right\\\": 0.45044, \\\"left\\\": 0.39924}, {\\\"count\\\": 0, \\\"right\\\": 0.50164, \\\"left\\\": 0.45044}, {\\\"count\\\": 0, \\\"right\\\": 0.55284, \\\"left\\\": 0.50164}, {\\\"count\\\": 0, \\\"right\\\": 0.60404, \\\"left\\\": 0.55284}, {\\\"count\\\": 0, \\\"right\\\": 0.65524, \\\"left\\\": 0.60404}, {\\\"count\\\": 0, \\\"right\\\": 0.70644, \\\"left\\\": 0.65524}, {\\\"count\\\": 0, \\\"right\\\": 0.75764, \\\"left\\\": 0.70644}, {\\\"count\\\": 0, \\\"right\\\": 0.80884, \\\"left\\\": 0.75764}, {\\\"count\\\": 0, \\\"right\\\": 0.86004, \\\"left\\\": 0.80884}, {\\\"count\\\": 0, \\\"right\\\": 0.91124, \\\"left\\\": 0.86004}, {\\\"count\\\": 0, \\\"right\\\": 0.96244, \\\"left\\\": 0.91124}, {\\\"count\\\": 7502234, \\\"right\\\": 1.01364, \\\"left\\\": 0.96244}], \\\"stdev\\\": 0.48415, \\\"type\\\": \\\"integer\\\", \\\"mean\\\": 0.375107}, {\\\"a\\\": 10, \\\"num_row\\\": 20000263, \\\"title\\\": \\\"Crime\\\", \\\"max\\\": 1.0, \\\"min\\\": 0.0, \\\"median\\\": 0.0, \\\"num_missing\\\": 0, \\\"num_unique\\\": 2, \\\"categorical\\\": [], \\\"numeric\\\": [{\\\"count\\\": 16701928, \\\"right\\\": 0.04084, \\\"left\\\": -0.01036}, {\\\"count\\\": 0, \\\"right\\\": 0.09204, \\\"left\\\": 0.04084}, {\\\"count\\\": 0, \\\"right\\\": 0.14324, \\\"left\\\": 0.09204}, {\\\"count\\\": 0, \\\"right\\\": 0.19444, \\\"left\\\": 0.14324}, {\\\"count\\\": 0, \\\"right\\\": 0.24564, \\\"left\\\": 0.19444}, {\\\"count\\\": 0, \\\"right\\\": 0.29684, \\\"left\\\": 0.24564}, {\\\"count\\\": 0, \\\"right\\\": 0.34804, \\\"left\\\": 0.29684}, {\\\"count\\\": 0, \\\"right\\\": 0.39924, \\\"left\\\": 0.34804}, {\\\"count\\\": 0, \\\"right\\\": 0.45044, \\\"left\\\": 0.39924}, {\\\"count\\\": 0, \\\"right\\\": 0.50164, \\\"left\\\": 0.45044}, {\\\"count\\\": 0, \\\"right\\\": 0.55284, \\\"left\\\": 0.50164}, {\\\"count\\\": 0, \\\"right\\\": 0.60404, \\\"left\\\": 0.55284}, {\\\"count\\\": 0, \\\"right\\\": 0.65524, \\\"left\\\": 0.60404}, {\\\"count\\\": 0, \\\"right\\\": 0.70644, \\\"left\\\": 0.65524}, {\\\"count\\\": 0, \\\"right\\\": 0.75764, \\\"left\\\": 0.70644}, {\\\"count\\\": 0, \\\"right\\\": 0.80884, \\\"left\\\": 0.75764}, {\\\"count\\\": 0, \\\"right\\\": 0.86004, \\\"left\\\": 0.80884}, {\\\"count\\\": 0, \\\"right\\\": 0.91124, \\\"left\\\": 0.86004}, {\\\"count\\\": 0, \\\"right\\\": 0.96244, \\\"left\\\": 0.91124}, {\\\"count\\\": 3298335, \\\"right\\\": 1.01364, \\\"left\\\": 0.96244}], \\\"stdev\\\": 0.371103, \\\"type\\\": \\\"integer\\\", \\\"mean\\\": 0.164915}, {\\\"a\\\": 11, \\\"num_row\\\": 20000263, \\\"title\\\": \\\"Documentary\\\", \\\"max\\\": 1.0, \\\"min\\\": 0.0, \\\"median\\\": 0.0, \\\"num_missing\\\": 0, \\\"num_unique\\\": 2, \\\"categorical\\\": [], \\\"numeric\\\": [{\\\"count\\\": 19755644, \\\"right\\\": 0.04084, \\\"left\\\": -0.01036}, {\\\"count\\\": 0, \\\"right\\\": 0.09204, \\\"left\\\": 0.04084}, {\\\"count\\\": 0, \\\"right\\\": 0.14324, \\\"left\\\": 0.09204}, {\\\"count\\\": 0, \\\"right\\\": 0.19444, \\\"left\\\": 0.14324}, {\\\"count\\\": 0, \\\"right\\\": 0.24564, \\\"left\\\": 0.19444}, {\\\"count\\\": 0, \\\"right\\\": 0.29684, \\\"left\\\": 0.24564}, {\\\"count\\\": 0, \\\"right\\\": 0.34804, \\\"left\\\": 0.29684}, {\\\"count\\\": 0, \\\"right\\\": 0.39924, \\\"left\\\": 0.34804}, {\\\"count\\\": 0, \\\"right\\\": 0.45044, \\\"left\\\": 0.39924}, {\\\"count\\\": 0, \\\"right\\\": 0.50164, \\\"left\\\": 0.45044}, {\\\"count\\\": 0, \\\"right\\\": 0.55284, \\\"left\\\": 0.50164}, {\\\"count\\\": 0, \\\"right\\\": 0.60404, \\\"left\\\": 0.55284}, {\\\"count\\\": 0, \\\"right\\\": 0.65524, \\\"left\\\": 0.60404}, {\\\"count\\\": 0, \\\"right\\\": 0.70644, \\\"left\\\": 0.65524}, {\\\"count\\\": 0, \\\"right\\\": 0.75764, \\\"left\\\": 0.70644}, {\\\"count\\\": 0, \\\"right\\\": 0.80884, \\\"left\\\": 0.75764}, {\\\"count\\\": 0, \\\"right\\\": 0.86004, \\\"left\\\": 0.80884}, {\\\"count\\\": 0, \\\"right\\\": 0.91124, \\\"left\\\": 0.86004}, {\\\"count\\\": 0, \\\"right\\\": 0.96244, \\\"left\\\": 0.91124}, {\\\"count\\\": 244619, \\\"right\\\": 1.01364, \\\"left\\\": 0.96244}], \\\"stdev\\\": 0.109914, \\\"type\\\": \\\"integer\\\", \\\"mean\\\": 0.012231}, {\\\"a\\\": 12, \\\"num_row\\\": 20000263, \\\"title\\\": \\\"Drama\\\", \\\"max\\\": 1.0, \\\"min\\\": 0.0, \\\"median\\\": 0.0, \\\"num_missing\\\": 0, \\\"num_unique\\\": 2, \\\"categorical\\\": [], \\\"numeric\\\": [{\\\"count\\\": 11142410, \\\"right\\\": 0.04084, \\\"left\\\": -0.01036}, {\\\"count\\\": 0, \\\"right\\\": 0.09204, \\\"left\\\": 0.04084}, {\\\"count\\\": 0, \\\"right\\\": 0.14324, \\\"left\\\": 0.09204}, {\\\"count\\\": 0, \\\"right\\\": 0.19444, \\\"left\\\": 0.14324}, {\\\"count\\\": 0, \\\"right\\\": 0.24564, \\\"left\\\": 0.19444}, {\\\"count\\\": 0, \\\"right\\\": 0.29684, \\\"left\\\": 0.24564}, {\\\"count\\\": 0, \\\"right\\\": 0.34804, \\\"left\\\": 0.29684}, {\\\"count\\\": 0, \\\"right\\\": 0.39924, \\\"left\\\": 0.34804}, {\\\"count\\\": 0, \\\"right\\\": 0.45044, \\\"left\\\": 0.39924}, {\\\"count\\\": 0, \\\"right\\\": 0.50164, \\\"left\\\": 0.45044}, {\\\"count\\\": 0, \\\"right\\\": 0.55284, \\\"left\\\": 0.50164}, {\\\"count\\\": 0, \\\"right\\\": 0.60404, \\\"left\\\": 0.55284}, {\\\"count\\\": 0, \\\"right\\\": 0.65524, \\\"left\\\": 0.60404}, {\\\"count\\\": 0, \\\"right\\\": 0.70644, \\\"left\\\": 0.65524}, {\\\"count\\\": 0, \\\"right\\\": 0.75764, \\\"left\\\": 0.70644}, {\\\"count\\\": 0, \\\"right\\\": 0.80884, \\\"left\\\": 0.75764}, {\\\"count\\\": 0, \\\"right\\\": 0.86004, \\\"left\\\": 0.80884}, {\\\"count\\\": 0, \\\"right\\\": 0.91124, \\\"left\\\": 0.86004}, {\\\"count\\\": 0, \\\"right\\\": 0.96244, \\\"left\\\": 0.91124}, {\\\"count\\\": 8857853, \\\"right\\\": 1.01364, \\\"left\\\": 0.96244}], \\\"stdev\\\": 0.496727, \\\"type\\\": \\\"integer\\\", \\\"mean\\\": 0.442887}, {\\\"a\\\": 13, \\\"num_row\\\": 20000263, \\\"title\\\": \\\"Fantasy\\\", \\\"max\\\": 1.0, \\\"min\\\": 0.0, \\\"median\\\": 0.0, \\\"num_missing\\\": 0, \\\"num_unique\\\": 2, \\\"categorical\\\": [], \\\"numeric\\\": [{\\\"count\\\": 17888860, \\\"right\\\": 0.03988, \\\"left\\\": -0.01132}, {\\\"count\\\": 0, \\\"right\\\": 0.09108, \\\"left\\\": 0.03988}, {\\\"count\\\": 0, \\\"right\\\": 0.14228, \\\"left\\\": 0.09108}, {\\\"count\\\": 0, \\\"right\\\": 0.19348, \\\"left\\\": 0.14228}, {\\\"count\\\": 0, \\\"right\\\": 0.24468, \\\"left\\\": 0.19348}, {\\\"count\\\": 0, \\\"right\\\": 0.29588, \\\"left\\\": 0.24468}, {\\\"count\\\": 0, \\\"right\\\": 0.34708, \\\"left\\\": 0.29588}, {\\\"count\\\": 0, \\\"right\\\": 0.39828, \\\"left\\\": 0.34708}, {\\\"count\\\": 0, \\\"right\\\": 0.44948, \\\"left\\\": 0.39828}, {\\\"count\\\": 0, \\\"right\\\": 0.50068, \\\"left\\\": 0.44948}, {\\\"count\\\": 0, \\\"right\\\": 0.55188, \\\"left\\\": 0.50068}, {\\\"count\\\": 0, \\\"right\\\": 0.60308, \\\"left\\\": 0.55188}, {\\\"count\\\": 0, \\\"right\\\": 0.65428, \\\"left\\\": 0.60308}, {\\\"count\\\": 0, \\\"right\\\": 0.70548, \\\"left\\\": 0.65428}, {\\\"count\\\": 0, \\\"right\\\": 0.75668, \\\"left\\\": 0.70548}, {\\\"count\\\": 0, \\\"right\\\": 0.80788, \\\"left\\\": 0.75668}, {\\\"count\\\": 0, \\\"right\\\": 0.85908, \\\"left\\\": 0.80788}, {\\\"count\\\": 0, \\\"right\\\": 0.91028, \\\"left\\\": 0.85908}, {\\\"count\\\": 0, \\\"right\\\": 0.96148, \\\"left\\\": 0.91028}, {\\\"count\\\": 2111403, \\\"right\\\": 1.01268, \\\"left\\\": 0.96148}], \\\"stdev\\\": 0.307285, \\\"type\\\": \\\"integer\\\", \\\"mean\\\": 0.105569}, {\\\"a\\\": 14, \\\"num_row\\\": 20000263, \\\"title\\\": \\\"Film-Noir\\\", \\\"max\\\": 1.0, \\\"min\\\": 0.0, \\\"median\\\": 0.0, \\\"num_missing\\\": 0, \\\"num_unique\\\": 2, \\\"categorical\\\": [], \\\"numeric\\\": [{\\\"count\\\": 19783574, \\\"right\\\": 0.04084, \\\"left\\\": -0.01036}, {\\\"count\\\": 0, \\\"right\\\": 0.09204, \\\"left\\\": 0.04084}, {\\\"count\\\": 0, \\\"right\\\": 0.14324, \\\"left\\\": 0.09204}, {\\\"count\\\": 0, \\\"right\\\": 0.19444, \\\"left\\\": 0.14324}, {\\\"count\\\": 0, \\\"right\\\": 0.24564, \\\"left\\\": 0.19444}, {\\\"count\\\": 0, \\\"right\\\": 0.29684, \\\"left\\\": 0.24564}, {\\\"count\\\": 0, \\\"right\\\": 0.34804, \\\"left\\\": 0.29684}, {\\\"count\\\": 0, \\\"right\\\": 0.39924, \\\"left\\\": 0.34804}, {\\\"count\\\": 0, \\\"right\\\": 0.45044, \\\"left\\\": 0.39924}, {\\\"count\\\": 0, \\\"right\\\": 0.50164, \\\"left\\\": 0.45044}, {\\\"count\\\": 0, \\\"right\\\": 0.55284, \\\"left\\\": 0.50164}, {\\\"count\\\": 0, \\\"right\\\": 0.60404, \\\"left\\\": 0.55284}, {\\\"count\\\": 0, \\\"right\\\": 0.65524, \\\"left\\\": 0.60404}, {\\\"count\\\": 0, \\\"right\\\": 0.70644, \\\"left\\\": 0.65524}, {\\\"count\\\": 0, \\\"right\\\": 0.75764, \\\"left\\\": 0.70644}, {\\\"count\\\": 0, \\\"right\\\": 0.80884, \\\"left\\\": 0.75764}, {\\\"count\\\": 0, \\\"right\\\": 0.86004, \\\"left\\\": 0.80884}, {\\\"count\\\": 0, \\\"right\\\": 0.91124, \\\"left\\\": 0.86004}, {\\\"count\\\": 0, \\\"right\\\": 0.96244, \\\"left\\\": 0.91124}, {\\\"count\\\": 216689, \\\"right\\\": 1.01364, \\\"left\\\": 0.96244}], \\\"stdev\\\": 0.103523, \\\"type\\\": \\\"integer\\\", \\\"mean\\\": 0.010834}, {\\\"a\\\": 15, \\\"num_row\\\": 20000263, \\\"title\\\": \\\"Horror\\\", \\\"max\\\": 1.0, \\\"min\\\": 0.0, \\\"median\\\": 0.0, \\\"num_missing\\\": 0, \\\"num_unique\\\": 2, \\\"categorical\\\": [], \\\"numeric\\\": [{\\\"count\\\": 18517526, \\\"right\\\": 0.04084, \\\"left\\\": -0.01036}, {\\\"count\\\": 0, \\\"right\\\": 0.09204, \\\"left\\\": 0.04084}, {\\\"count\\\": 0, \\\"right\\\": 0.14324, \\\"left\\\": 0.09204}, {\\\"count\\\": 0, \\\"right\\\": 0.19444, \\\"left\\\": 0.14324}, {\\\"count\\\": 0, \\\"right\\\": 0.24564, \\\"left\\\": 0.19444}, {\\\"count\\\": 0, \\\"right\\\": 0.29684, \\\"left\\\": 0.24564}, {\\\"count\\\": 0, \\\"right\\\": 0.34804, \\\"left\\\": 0.29684}, {\\\"count\\\": 0, \\\"right\\\": 0.39924, \\\"left\\\": 0.34804}, {\\\"count\\\": 0, \\\"right\\\": 0.45044, \\\"left\\\": 0.39924}, {\\\"count\\\": 0, \\\"right\\\": 0.50164, \\\"left\\\": 0.45044}, {\\\"count\\\": 0, \\\"right\\\": 0.55284, \\\"left\\\": 0.50164}, {\\\"count\\\": 0, \\\"right\\\": 0.60404, \\\"left\\\": 0.55284}, {\\\"count\\\": 0, \\\"right\\\": 0.65524, \\\"left\\\": 0.60404}, {\\\"count\\\": 0, \\\"right\\\": 0.70644, \\\"left\\\": 0.65524}, {\\\"count\\\": 0, \\\"right\\\": 0.75764, \\\"left\\\": 0.70644}, {\\\"count\\\": 0, \\\"right\\\": 0.80884, \\\"left\\\": 0.75764}, {\\\"count\\\": 0, \\\"right\\\": 0.86004, \\\"left\\\": 0.80884}, {\\\"count\\\": 0, \\\"right\\\": 0.91124, \\\"left\\\": 0.86004}, {\\\"count\\\": 0, \\\"right\\\": 0.96244, \\\"left\\\": 0.91124}, {\\\"count\\\": 1482737, \\\"right\\\": 1.01364, \\\"left\\\": 0.96244}], \\\"stdev\\\": 0.261992, \\\"type\\\": \\\"integer\\\", \\\"mean\\\": 0.074136}, {\\\"a\\\": 16, \\\"num_row\\\": 20000263, \\\"title\\\": \\\"IMAX\\\", \\\"max\\\": 1.0, \\\"min\\\": 0.0, \\\"median\\\": 0.0, \\\"num_missing\\\": 0, \\\"num_unique\\\": 2, \\\"categorical\\\": [], \\\"numeric\\\": [{\\\"count\\\": 19507897, \\\"right\\\": 0.04084, \\\"left\\\": -0.01036}, {\\\"count\\\": 0, \\\"right\\\": 0.09204, \\\"left\\\": 0.04084}, {\\\"count\\\": 0, \\\"right\\\": 0.14324, \\\"left\\\": 0.09204}, {\\\"count\\\": 0, \\\"right\\\": 0.19444, \\\"left\\\": 0.14324}, {\\\"count\\\": 0, \\\"right\\\": 0.24564, \\\"left\\\": 0.19444}, {\\\"count\\\": 0, \\\"right\\\": 0.29684, \\\"left\\\": 0.24564}, {\\\"count\\\": 0, \\\"right\\\": 0.34804, \\\"left\\\": 0.29684}, {\\\"count\\\": 0, \\\"right\\\": 0.39924, \\\"left\\\": 0.34804}, {\\\"count\\\": 0, \\\"right\\\": 0.45044, \\\"left\\\": 0.39924}, {\\\"count\\\": 0, \\\"right\\\": 0.50164, \\\"left\\\": 0.45044}, {\\\"count\\\": 0, \\\"right\\\": 0.55284, \\\"left\\\": 0.50164}, {\\\"count\\\": 0, \\\"right\\\": 0.60404, \\\"left\\\": 0.55284}, {\\\"count\\\": 0, \\\"right\\\": 0.65524, \\\"left\\\": 0.60404}, {\\\"count\\\": 0, \\\"right\\\": 0.70644, \\\"left\\\": 0.65524}, {\\\"count\\\": 0, \\\"right\\\": 0.75764, \\\"left\\\": 0.70644}, {\\\"count\\\": 0, \\\"right\\\": 0.80884, \\\"left\\\": 0.75764}, {\\\"count\\\": 0, \\\"right\\\": 0.86004, \\\"left\\\": 0.80884}, {\\\"count\\\": 0, \\\"right\\\": 0.91124, \\\"left\\\": 0.86004}, {\\\"count\\\": 0, \\\"right\\\": 0.96244, \\\"left\\\": 0.91124}, {\\\"count\\\": 492366, \\\"right\\\": 1.01364, \\\"left\\\": 0.96244}], \\\"stdev\\\": 0.154958, \\\"type\\\": \\\"integer\\\", \\\"mean\\\": 0.024618}, {\\\"a\\\": 17, \\\"num_row\\\": 20000263, \\\"title\\\": \\\"Musical\\\", \\\"max\\\": 1.0, \\\"min\\\": 0.0, \\\"median\\\": 0.0, \\\"num_missing\\\": 0, \\\"num_unique\\\": 2, \\\"categorical\\\": [], \\\"numeric\\\": [{\\\"count\\\": 19129348, \\\"right\\\": 0.04084, \\\"left\\\": -0.01036}, {\\\"count\\\": 0, \\\"right\\\": 0.09204, \\\"left\\\": 0.04084}, {\\\"count\\\": 0, \\\"right\\\": 0.14324, \\\"left\\\": 0.09204}, {\\\"count\\\": 0, \\\"right\\\": 0.19444, \\\"left\\\": 0.14324}, {\\\"count\\\": 0, \\\"right\\\": 0.24564, \\\"left\\\": 0.19444}, {\\\"count\\\": 0, \\\"right\\\": 0.29684, \\\"left\\\": 0.24564}, {\\\"count\\\": 0, \\\"right\\\": 0.34804, \\\"left\\\": 0.29684}, {\\\"count\\\": 0, \\\"right\\\": 0.39924, \\\"left\\\": 0.34804}, {\\\"count\\\": 0, \\\"right\\\": 0.45044, \\\"left\\\": 0.39924}, {\\\"count\\\": 0, \\\"right\\\": 0.50164, \\\"left\\\": 0.45044}, {\\\"count\\\": 0, \\\"right\\\": 0.55284, \\\"left\\\": 0.50164}, {\\\"count\\\": 0, \\\"right\\\": 0.60404, \\\"left\\\": 0.55284}, {\\\"count\\\": 0, \\\"right\\\": 0.65524, \\\"left\\\": 0.60404}, {\\\"count\\\": 0, \\\"right\\\": 0.70644, \\\"left\\\": 0.65524}, {\\\"count\\\": 0, \\\"right\\\": 0.75764, \\\"left\\\": 0.70644}, {\\\"count\\\": 0, \\\"right\\\": 0.80884, \\\"left\\\": 0.75764}, {\\\"count\\\": 0, \\\"right\\\": 0.86004, \\\"left\\\": 0.80884}, {\\\"count\\\": 0, \\\"right\\\": 0.91124, \\\"left\\\": 0.86004}, {\\\"count\\\": 0, \\\"right\\\": 0.96244, \\\"left\\\": 0.91124}, {\\\"count\\\": 870915, \\\"right\\\": 1.01364, \\\"left\\\": 0.96244}], \\\"stdev\\\": 0.204081, \\\"type\\\": \\\"integer\\\", \\\"mean\\\": 0.043545}, {\\\"a\\\": 18, \\\"num_row\\\": 20000263, \\\"title\\\": \\\"Mystery\\\", \\\"max\\\": 1.0, \\\"min\\\": 0.0, \\\"median\\\": 0.0, \\\"num_missing\\\": 0, \\\"num_unique\\\": 2, \\\"categorical\\\": [], \\\"numeric\\\": [{\\\"count\\\": 18442981, \\\"right\\\": 0.04084, \\\"left\\\": -0.01036}, {\\\"count\\\": 0, \\\"right\\\": 0.09204, \\\"left\\\": 0.04084}, {\\\"count\\\": 0, \\\"right\\\": 0.14324, \\\"left\\\": 0.09204}, {\\\"count\\\": 0, \\\"right\\\": 0.19444, \\\"left\\\": 0.14324}, {\\\"count\\\": 0, \\\"right\\\": 0.24564, \\\"left\\\": 0.19444}, {\\\"count\\\": 0, \\\"right\\\": 0.29684, \\\"left\\\": 0.24564}, {\\\"count\\\": 0, \\\"right\\\": 0.34804, \\\"left\\\": 0.29684}, {\\\"count\\\": 0, \\\"right\\\": 0.39924, \\\"left\\\": 0.34804}, {\\\"count\\\": 0, \\\"right\\\": 0.45044, \\\"left\\\": 0.39924}, {\\\"count\\\": 0, \\\"right\\\": 0.50164, \\\"left\\\": 0.45044}, {\\\"count\\\": 0, \\\"right\\\": 0.55284, \\\"left\\\": 0.50164}, {\\\"count\\\": 0, \\\"right\\\": 0.60404, \\\"left\\\": 0.55284}, {\\\"count\\\": 0, \\\"right\\\": 0.65524, \\\"left\\\": 0.60404}, {\\\"count\\\": 0, \\\"right\\\": 0.70644, \\\"left\\\": 0.65524}, {\\\"count\\\": 0, \\\"right\\\": 0.75764, \\\"left\\\": 0.70644}, {\\\"count\\\": 0, \\\"right\\\": 0.80884, \\\"left\\\": 0.75764}, {\\\"count\\\": 0, \\\"right\\\": 0.86004, \\\"left\\\": 0.80884}, {\\\"count\\\": 0, \\\"right\\\": 0.91124, \\\"left\\\": 0.86004}, {\\\"count\\\": 0, \\\"right\\\": 0.96244, \\\"left\\\": 0.91124}, {\\\"count\\\": 1557282, \\\"right\\\": 1.01364, \\\"left\\\": 0.96244}], \\\"stdev\\\": 0.267956, \\\"type\\\": \\\"integer\\\", \\\"mean\\\": 0.077863}, {\\\"a\\\": 19, \\\"num_row\\\": 20000263, \\\"title\\\": \\\"Romance\\\", \\\"max\\\": 1.0, \\\"min\\\": 0.0, \\\"median\\\": 0.0, \\\"num_missing\\\": 0, \\\"num_unique\\\": 2, \\\"categorical\\\": [], \\\"numeric\\\": [{\\\"count\\\": 16198261, \\\"right\\\": 0.04084, \\\"left\\\": -0.01036}, {\\\"count\\\": 0, \\\"right\\\": 0.09204, \\\"left\\\": 0.04084}, {\\\"count\\\": 0, \\\"right\\\": 0.14324, \\\"left\\\": 0.09204}, {\\\"count\\\": 0, \\\"right\\\": 0.19444, \\\"left\\\": 0.14324}, {\\\"count\\\": 0, \\\"right\\\": 0.24564, \\\"left\\\": 0.19444}, {\\\"count\\\": 0, \\\"right\\\": 0.29684, \\\"left\\\": 0.24564}, {\\\"count\\\": 0, \\\"right\\\": 0.34804, \\\"left\\\": 0.29684}, {\\\"count\\\": 0, \\\"right\\\": 0.39924, \\\"left\\\": 0.34804}, {\\\"count\\\": 0, \\\"right\\\": 0.45044, \\\"left\\\": 0.39924}, {\\\"count\\\": 0, \\\"right\\\": 0.50164, \\\"left\\\": 0.45044}, {\\\"count\\\": 0, \\\"right\\\": 0.55284, \\\"left\\\": 0.50164}, {\\\"count\\\": 0, \\\"right\\\": 0.60404, \\\"left\\\": 0.55284}, {\\\"count\\\": 0, \\\"right\\\": 0.65524, \\\"left\\\": 0.60404}, {\\\"count\\\": 0, \\\"right\\\": 0.70644, \\\"left\\\": 0.65524}, {\\\"count\\\": 0, \\\"right\\\": 0.75764, \\\"left\\\": 0.70644}, {\\\"count\\\": 0, \\\"right\\\": 0.80884, \\\"left\\\": 0.75764}, {\\\"count\\\": 0, \\\"right\\\": 0.86004, \\\"left\\\": 0.80884}, {\\\"count\\\": 0, \\\"right\\\": 0.91124, \\\"left\\\": 0.86004}, {\\\"count\\\": 0, \\\"right\\\": 0.96244, \\\"left\\\": 0.91124}, {\\\"count\\\": 3802002, \\\"right\\\": 1.01364, \\\"left\\\": 0.96244}], \\\"stdev\\\": 0.392378, \\\"type\\\": \\\"integer\\\", \\\"mean\\\": 0.190098}, {\\\"a\\\": 20, \\\"num_row\\\": 20000263, \\\"title\\\": \\\"Sci-Fi\\\", \\\"max\\\": 1.0, \\\"min\\\": 0.0, \\\"median\\\": 0.0, \\\"num_missing\\\": 0, \\\"num_unique\\\": 2, \\\"categorical\\\": [], \\\"numeric\\\": [{\\\"count\\\": 16850122, \\\"right\\\": 0.04084, \\\"left\\\": -0.01036}, {\\\"count\\\": 0, \\\"right\\\": 0.09204, \\\"left\\\": 0.04084}, {\\\"count\\\": 0, \\\"right\\\": 0.14324, \\\"left\\\": 0.09204}, {\\\"count\\\": 0, \\\"right\\\": 0.19444, \\\"left\\\": 0.14324}, {\\\"count\\\": 0, \\\"right\\\": 0.24564, \\\"left\\\": 0.19444}, {\\\"count\\\": 0, \\\"right\\\": 0.29684, \\\"left\\\": 0.24564}, {\\\"count\\\": 0, \\\"right\\\": 0.34804, \\\"left\\\": 0.29684}, {\\\"count\\\": 0, \\\"right\\\": 0.39924, \\\"left\\\": 0.34804}, {\\\"count\\\": 0, \\\"right\\\": 0.45044, \\\"left\\\": 0.39924}, {\\\"count\\\": 0, \\\"right\\\": 0.50164, \\\"left\\\": 0.45044}, {\\\"count\\\": 0, \\\"right\\\": 0.55284, \\\"left\\\": 0.50164}, {\\\"count\\\": 0, \\\"right\\\": 0.60404, \\\"left\\\": 0.55284}, {\\\"count\\\": 0, \\\"right\\\": 0.65524, \\\"left\\\": 0.60404}, {\\\"count\\\": 0, \\\"right\\\": 0.70644, \\\"left\\\": 0.65524}, {\\\"count\\\": 0, \\\"right\\\": 0.75764, \\\"left\\\": 0.70644}, {\\\"count\\\": 0, \\\"right\\\": 0.80884, \\\"left\\\": 0.75764}, {\\\"count\\\": 0, \\\"right\\\": 0.86004, \\\"left\\\": 0.80884}, {\\\"count\\\": 0, \\\"right\\\": 0.91124, \\\"left\\\": 0.86004}, {\\\"count\\\": 0, \\\"right\\\": 0.96244, \\\"left\\\": 0.91124}, {\\\"count\\\": 3150141, \\\"right\\\": 1.01364, \\\"left\\\": 0.96244}], \\\"stdev\\\": 0.364276, \\\"type\\\": \\\"integer\\\", \\\"mean\\\": 0.157505}, {\\\"a\\\": 21, \\\"num_row\\\": 20000263, \\\"title\\\": \\\"Thriller\\\", \\\"max\\\": 1.0, \\\"min\\\": 0.0, \\\"median\\\": 0.0, \\\"num_missing\\\": 0, \\\"num_unique\\\": 2, \\\"categorical\\\": [], \\\"numeric\\\": [{\\\"count\\\": 14686757, \\\"right\\\": 0.04084, \\\"left\\\": -0.01036}, {\\\"count\\\": 0, \\\"right\\\": 0.09204, \\\"left\\\": 0.04084}, {\\\"count\\\": 0, \\\"right\\\": 0.14324, \\\"left\\\": 0.09204}, {\\\"count\\\": 0, \\\"right\\\": 0.19444, \\\"left\\\": 0.14324}, {\\\"count\\\": 0, \\\"right\\\": 0.24564, \\\"left\\\": 0.19444}, {\\\"count\\\": 0, \\\"right\\\": 0.29684, \\\"left\\\": 0.24564}, {\\\"count\\\": 0, \\\"right\\\": 0.34804, \\\"left\\\": 0.29684}, {\\\"count\\\": 0, \\\"right\\\": 0.39924, \\\"left\\\": 0.34804}, {\\\"count\\\": 0, \\\"right\\\": 0.45044, \\\"left\\\": 0.39924}, {\\\"count\\\": 0, \\\"right\\\": 0.50164, \\\"left\\\": 0.45044}, {\\\"count\\\": 0, \\\"right\\\": 0.55284, \\\"left\\\": 0.50164}, {\\\"count\\\": 0, \\\"right\\\": 0.60404, \\\"left\\\": 0.55284}, {\\\"count\\\": 0, \\\"right\\\": 0.65524, \\\"left\\\": 0.60404}, {\\\"count\\\": 0, \\\"right\\\": 0.70644, \\\"left\\\": 0.65524}, {\\\"count\\\": 0, \\\"right\\\": 0.75764, \\\"left\\\": 0.70644}, {\\\"count\\\": 0, \\\"right\\\": 0.80884, \\\"left\\\": 0.75764}, {\\\"count\\\": 0, \\\"right\\\": 0.86004, \\\"left\\\": 0.80884}, {\\\"count\\\": 0, \\\"right\\\": 0.91124, \\\"left\\\": 0.86004}, {\\\"count\\\": 0, \\\"right\\\": 0.96244, \\\"left\\\": 0.91124}, {\\\"count\\\": 5313506, \\\"right\\\": 1.01364, \\\"left\\\": 0.96244}], \\\"stdev\\\": 0.44169, \\\"type\\\": \\\"integer\\\", \\\"mean\\\": 0.265672}, {\\\"a\\\": 22, \\\"num_row\\\": 20000263, \\\"title\\\": \\\"War\\\", \\\"max\\\": 1.0, \\\"min\\\": 0.0, \\\"median\\\": 0.0, \\\"num_missing\\\": 0, \\\"num_unique\\\": 2, \\\"categorical\\\": [], \\\"numeric\\\": [{\\\"count\\\": 18951645, \\\"right\\\": 0.04084, \\\"left\\\": -0.01036}, {\\\"count\\\": 0, \\\"right\\\": 0.09204, \\\"left\\\": 0.04084}, {\\\"count\\\": 0, \\\"right\\\": 0.14324, \\\"left\\\": 0.09204}, {\\\"count\\\": 0, \\\"right\\\": 0.19444, \\\"left\\\": 0.14324}, {\\\"count\\\": 0, \\\"right\\\": 0.24564, \\\"left\\\": 0.19444}, {\\\"count\\\": 0, \\\"right\\\": 0.29684, \\\"left\\\": 0.24564}, {\\\"count\\\": 0, \\\"right\\\": 0.34804, \\\"left\\\": 0.29684}, {\\\"count\\\": 0, \\\"right\\\": 0.39924, \\\"left\\\": 0.34804}, {\\\"count\\\": 0, \\\"right\\\": 0.45044, \\\"left\\\": 0.39924}, {\\\"count\\\": 0, \\\"right\\\": 0.50164, \\\"left\\\": 0.45044}, {\\\"count\\\": 0, \\\"right\\\": 0.55284, \\\"left\\\": 0.50164}, {\\\"count\\\": 0, \\\"right\\\": 0.60404, \\\"left\\\": 0.55284}, {\\\"count\\\": 0, \\\"right\\\": 0.65524, \\\"left\\\": 0.60404}, {\\\"count\\\": 0, \\\"right\\\": 0.70644, \\\"left\\\": 0.65524}, {\\\"count\\\": 0, \\\"right\\\": 0.75764, \\\"left\\\": 0.70644}, {\\\"count\\\": 0, \\\"right\\\": 0.80884, \\\"left\\\": 0.75764}, {\\\"count\\\": 0, \\\"right\\\": 0.86004, \\\"left\\\": 0.80884}, {\\\"count\\\": 0, \\\"right\\\": 0.91124, \\\"left\\\": 0.86004}, {\\\"count\\\": 0, \\\"right\\\": 0.96244, \\\"left\\\": 0.91124}, {\\\"count\\\": 1048618, \\\"right\\\": 1.01364, \\\"left\\\": 0.96244}], \\\"stdev\\\": 0.222893, \\\"type\\\": \\\"integer\\\", \\\"mean\\\": 0.05243}, {\\\"a\\\": 23, \\\"num_row\\\": 20000263, \\\"title\\\": \\\"Western\\\", \\\"max\\\": 1.0, \\\"min\\\": 0.0, \\\"median\\\": 0.0, \\\"num_missing\\\": 0, \\\"num_unique\\\": 2, \\\"categorical\\\": [], \\\"numeric\\\": [{\\\"count\\\": 19576549, \\\"right\\\": 0.04084, \\\"left\\\": -0.01036}, {\\\"count\\\": 0, \\\"right\\\": 0.09204, \\\"left\\\": 0.04084}, {\\\"count\\\": 0, \\\"right\\\": 0.14324, \\\"left\\\": 0.09204}, {\\\"count\\\": 0, \\\"right\\\": 0.19444, \\\"left\\\": 0.14324}, {\\\"count\\\": 0, \\\"right\\\": 0.24564, \\\"left\\\": 0.19444}, {\\\"count\\\": 0, \\\"right\\\": 0.29684, \\\"left\\\": 0.24564}, {\\\"count\\\": 0, \\\"right\\\": 0.34804, \\\"left\\\": 0.29684}, {\\\"count\\\": 0, \\\"right\\\": 0.39924, \\\"left\\\": 0.34804}, {\\\"count\\\": 0, \\\"right\\\": 0.45044, \\\"left\\\": 0.39924}, {\\\"count\\\": 0, \\\"right\\\": 0.50164, \\\"left\\\": 0.45044}, {\\\"count\\\": 0, \\\"right\\\": 0.55284, \\\"left\\\": 0.50164}, {\\\"count\\\": 0, \\\"right\\\": 0.60404, \\\"left\\\": 0.55284}, {\\\"count\\\": 0, \\\"right\\\": 0.65524, \\\"left\\\": 0.60404}, {\\\"count\\\": 0, \\\"right\\\": 0.70644, \\\"left\\\": 0.65524}, {\\\"count\\\": 0, \\\"right\\\": 0.75764, \\\"left\\\": 0.70644}, {\\\"count\\\": 0, \\\"right\\\": 0.80884, \\\"left\\\": 0.75764}, {\\\"count\\\": 0, \\\"right\\\": 0.86004, \\\"left\\\": 0.80884}, {\\\"count\\\": 0, \\\"right\\\": 0.91124, \\\"left\\\": 0.86004}, {\\\"count\\\": 0, \\\"right\\\": 0.96244, \\\"left\\\": 0.91124}, {\\\"count\\\": 423714, \\\"right\\\": 1.01364, \\\"left\\\": 0.96244}], \\\"stdev\\\": 0.144002, \\\"type\\\": \\\"integer\\\", \\\"mean\\\": 0.021185}], \\\"name\\\": \\\"source_2\\\"}, {\\\"source\\\": \\\"source_2\\\", \\\"name\\\": \\\"data_2\\\", \\\"transform\\\": [{\\\"expr\\\": \\\"20\\\", \\\"as\\\": \\\"c_x_axis_back\\\", \\\"type\\\": \\\"formula\\\"}, {\\\"expr\\\": \\\"toNumber(datum[\\\\\\\"a\\\\\\\"])*300+66\\\", \\\"as\\\": \\\"c_main_background\\\", \\\"type\\\": \\\"formula\\\"}, {\\\"expr\\\": \\\"toNumber(datum[\\\\\\\"a\\\\\\\"])*300+43\\\", \\\"as\\\": \\\"c_top_bar\\\", \\\"type\\\": \\\"formula\\\"}, {\\\"expr\\\": \\\"toNumber(datum[\\\\\\\"a\\\\\\\"])*300+59\\\", \\\"as\\\": \\\"c_top_title\\\", \\\"type\\\": \\\"formula\\\"}, {\\\"expr\\\": \\\"toNumber(datum[\\\\\\\"a\\\\\\\"])*300+58\\\", \\\"as\\\": \\\"c_top_type\\\", \\\"type\\\": \\\"formula\\\"}, {\\\"expr\\\": \\\"toNumber(datum[\\\\\\\"a\\\\\\\"])*300+178\\\", \\\"as\\\": \\\"c_rule\\\", \\\"type\\\": \\\"formula\\\"}, {\\\"expr\\\": \\\"toNumber(datum[\\\\\\\"a\\\\\\\"])*300+106\\\", \\\"as\\\": \\\"c_num_rows\\\", \\\"type\\\": \\\"formula\\\"}, {\\\"expr\\\": \\\"toNumber(datum[\\\\\\\"a\\\\\\\"])*300+130\\\", \\\"as\\\": \\\"c_num_unique\\\", \\\"type\\\": \\\"formula\\\"}, {\\\"expr\\\": \\\"toNumber(datum[\\\\\\\"a\\\\\\\"])*300+154\\\", \\\"as\\\": \\\"c_missing\\\", \\\"type\\\": \\\"formula\\\"}, {\\\"expr\\\": \\\"toNumber(datum[\\\\\\\"a\\\\\\\"])*300+105\\\", \\\"as\\\": \\\"c_num_rows_val\\\", \\\"type\\\": \\\"formula\\\"}, {\\\"expr\\\": \\\"toNumber(datum[\\\\\\\"a\\\\\\\"])*300+130\\\", \\\"as\\\": \\\"c_num_unique_val\\\", \\\"type\\\": \\\"formula\\\"}, {\\\"expr\\\": \\\"toNumber(datum[\\\\\\\"a\\\\\\\"])*300+154\\\", \\\"as\\\": \\\"c_missing_val\\\", \\\"type\\\": \\\"formula\\\"}, {\\\"expr\\\": \\\"toNumber(datum[\\\\\\\"a\\\\\\\"])*300+195\\\", \\\"as\\\": \\\"c_frequent_items\\\", \\\"type\\\": \\\"formula\\\"}, {\\\"expr\\\": \\\"toNumber(datum[\\\\\\\"a\\\\\\\"])*300+218\\\", \\\"as\\\": \\\"c_first_item\\\", \\\"type\\\": \\\"formula\\\"}, {\\\"expr\\\": \\\"toNumber(datum[\\\\\\\"a\\\\\\\"])*300+235\\\", \\\"as\\\": \\\"c_second_item\\\", \\\"type\\\": \\\"formula\\\"}, {\\\"expr\\\": \\\"toNumber(datum[\\\\\\\"a\\\\\\\"])*300+252\\\", \\\"as\\\": \\\"c_third_item\\\", \\\"type\\\": \\\"formula\\\"}, {\\\"expr\\\": \\\"toNumber(datum[\\\\\\\"a\\\\\\\"])*300+269\\\", \\\"as\\\": \\\"c_fourth_item\\\", \\\"type\\\": \\\"formula\\\"}, {\\\"expr\\\": \\\"toNumber(datum[\\\\\\\"a\\\\\\\"])*300+286\\\", \\\"as\\\": \\\"c_fifth_item\\\", \\\"type\\\": \\\"formula\\\"}, {\\\"expr\\\": \\\"toNumber(datum[\\\\\\\"a\\\\\\\"])*300+200\\\", \\\"as\\\": \\\"c_mean\\\", \\\"type\\\": \\\"formula\\\"}, {\\\"expr\\\": \\\"toNumber(datum[\\\\\\\"a\\\\\\\"])*300+220\\\", \\\"as\\\": \\\"c_min\\\", \\\"type\\\": \\\"formula\\\"}, {\\\"expr\\\": \\\"toNumber(datum[\\\\\\\"a\\\\\\\"])*300+240\\\", \\\"as\\\": \\\"c_max\\\", \\\"type\\\": \\\"formula\\\"}, {\\\"expr\\\": \\\"toNumber(datum[\\\\\\\"a\\\\\\\"])*300+260\\\", \\\"as\\\": \\\"c_median\\\", \\\"type\\\": \\\"formula\\\"}, {\\\"expr\\\": \\\"toNumber(datum[\\\\\\\"a\\\\\\\"])*300+280\\\", \\\"as\\\": \\\"c_stdev\\\", \\\"type\\\": \\\"formula\\\"}, {\\\"expr\\\": \\\"toNumber(datum[\\\\\\\"a\\\\\\\"])*300+198\\\", \\\"as\\\": \\\"c_mean_val\\\", \\\"type\\\": \\\"formula\\\"}, {\\\"expr\\\": \\\"toNumber(datum[\\\\\\\"a\\\\\\\"])*300+218\\\", \\\"as\\\": \\\"c_min_val\\\", \\\"type\\\": \\\"formula\\\"}, {\\\"expr\\\": \\\"toNumber(datum[\\\\\\\"a\\\\\\\"])*300+238\\\", \\\"as\\\": \\\"c_max_val\\\", \\\"type\\\": \\\"formula\\\"}, {\\\"expr\\\": \\\"toNumber(datum[\\\\\\\"a\\\\\\\"])*300+258\\\", \\\"as\\\": \\\"c_median_val\\\", \\\"type\\\": \\\"formula\\\"}, {\\\"expr\\\": \\\"toNumber(datum[\\\\\\\"a\\\\\\\"])*300+278\\\", \\\"as\\\": \\\"c_stdev_val\\\", \\\"type\\\": \\\"formula\\\"}, {\\\"expr\\\": \\\"toNumber(datum[\\\\\\\"a\\\\\\\"])*300+106\\\", \\\"as\\\": \\\"graph_offset\\\", \\\"type\\\": \\\"formula\\\"}, {\\\"expr\\\": \\\"toNumber(datum[\\\\\\\"a\\\\\\\"])*300+132\\\", \\\"as\\\": \\\"graph_offset_categorical\\\", \\\"type\\\": \\\"formula\\\"}, {\\\"expr\\\": \\\"(toString(datum[\\\\\\\"type\\\\\\\"]) == \\\\\\\"integer\\\\\\\" || toString(datum[\\\\\\\"type\\\\\\\"]) == \\\\\\\"float\\\\\\\")?false:true\\\", \\\"as\\\": \\\"c_clip_val\\\", \\\"type\\\": \\\"formula\\\"}, {\\\"expr\\\": \\\"(toString(datum[\\\\\\\"type\\\\\\\"]) == \\\\\\\"integer\\\\\\\" || toString(datum[\\\\\\\"type\\\\\\\"]) == \\\\\\\"float\\\\\\\")?250:0\\\", \\\"as\\\": \\\"c_width_numeric_val\\\", \\\"type\\\": \\\"formula\\\"}, {\\\"expr\\\": \\\"(toString(datum[\\\\\\\"type\\\\\\\"]) == \\\\\\\"str\\\\\\\")?false:true\\\", \\\"as\\\": \\\"c_clip_val_cat\\\", \\\"type\\\": \\\"formula\\\"}, {\\\"expr\\\": \\\"(toString(datum[\\\\\\\"type\\\\\\\"]) == \\\\\\\"str\\\\\\\")?250:0\\\", \\\"as\\\": \\\"c_width_numeric_val_cat\\\", \\\"type\\\": \\\"formula\\\"}]}], \\\"metadata\\\": {\\\"bubbleOpts\\\": {\\\"fields\\\": [{\\\"field\\\": \\\"left\\\"}, {\\\"field\\\": \\\"right\\\"}, {\\\"field\\\": \\\"count\\\"}, {\\\"field\\\": \\\"label\\\"}], \\\"showAllFields\\\": false}}}\";                                 var vega_json_parsed = JSON.parse(vega_json);                                 var toolTipOpts = {                                     showAllFields: true                                 };                                 if(vega_json_parsed[\"metadata\"] != null){                                     if(vega_json_parsed[\"metadata\"][\"bubbleOpts\"] != null){                                         toolTipOpts = vega_json_parsed[\"metadata\"][\"bubbleOpts\"];                                     };                                 };                                 vegaEmbed(\"#vis\", vega_json_parsed).then(function (result) {                                     vegaTooltip.vega(result.view, toolTipOpts);                                  });                             </script>                         </body>                     </html>' src=\"demo_iframe_srcdoc.htm\">                         <p>Your browser does not support iframes.</p>                     </iframe>                 </body>             </html>"
      ],
      "text/plain": [
       "<IPython.core.display.HTML object>"
      ]
     },
     "metadata": {},
     "output_type": "display_data"
    }
   ],
   "source": [
    "data.show()"
   ]
  },
  {
   "cell_type": "code",
   "execution_count": 6,
   "metadata": {},
   "outputs": [],
   "source": [
    "train, test = tc.recommender.util.random_split_by_user(data, user_id=\"userId\", item_id=\"movieId\")\n"
   ]
  },
  {
   "cell_type": "code",
   "execution_count": 9,
   "metadata": {},
   "outputs": [
    {
     "data": {
      "text/html": [
       "<pre>Preparing data set.</pre>"
      ],
      "text/plain": [
       "Preparing data set."
      ]
     },
     "metadata": {},
     "output_type": "display_data"
    },
    {
     "data": {
      "text/html": [
       "<pre>    Data has 19970119 observations with 138493 users and 26658 items.</pre>"
      ],
      "text/plain": [
       "    Data has 19970119 observations with 138493 users and 26658 items."
      ]
     },
     "metadata": {},
     "output_type": "display_data"
    },
    {
     "data": {
      "text/html": [
       "<pre>    Data prepared in: 96.07s</pre>"
      ],
      "text/plain": [
       "    Data prepared in: 96.07s"
      ]
     },
     "metadata": {},
     "output_type": "display_data"
    },
    {
     "data": {
      "text/html": [
       "<pre>Training factorization_recommender for recommendations.</pre>"
      ],
      "text/plain": [
       "Training factorization_recommender for recommendations."
      ]
     },
     "metadata": {},
     "output_type": "display_data"
    },
    {
     "data": {
      "text/html": [
       "<pre>+--------------------------------+--------------------------------------------------+----------+</pre>"
      ],
      "text/plain": [
       "+--------------------------------+--------------------------------------------------+----------+"
      ]
     },
     "metadata": {},
     "output_type": "display_data"
    },
    {
     "data": {
      "text/html": [
       "<pre>| Parameter                      | Description                                      | Value    |</pre>"
      ],
      "text/plain": [
       "| Parameter                      | Description                                      | Value    |"
      ]
     },
     "metadata": {},
     "output_type": "display_data"
    },
    {
     "data": {
      "text/html": [
       "<pre>+--------------------------------+--------------------------------------------------+----------+</pre>"
      ],
      "text/plain": [
       "+--------------------------------+--------------------------------------------------+----------+"
      ]
     },
     "metadata": {},
     "output_type": "display_data"
    },
    {
     "data": {
      "text/html": [
       "<pre>| num_factors                    | Factor Dimension                                 | 8        |</pre>"
      ],
      "text/plain": [
       "| num_factors                    | Factor Dimension                                 | 8        |"
      ]
     },
     "metadata": {},
     "output_type": "display_data"
    },
    {
     "data": {
      "text/html": [
       "<pre>| regularization                 | L2 Regularization on Factors                     | 1e-08    |</pre>"
      ],
      "text/plain": [
       "| regularization                 | L2 Regularization on Factors                     | 1e-08    |"
      ]
     },
     "metadata": {},
     "output_type": "display_data"
    },
    {
     "data": {
      "text/html": [
       "<pre>| solver                         | Solver used for training                         | adagrad  |</pre>"
      ],
      "text/plain": [
       "| solver                         | Solver used for training                         | adagrad  |"
      ]
     },
     "metadata": {},
     "output_type": "display_data"
    },
    {
     "data": {
      "text/html": [
       "<pre>| linear_regularization          | L2 Regularization on Linear Coefficients         | 1e-10    |</pre>"
      ],
      "text/plain": [
       "| linear_regularization          | L2 Regularization on Linear Coefficients         | 1e-10    |"
      ]
     },
     "metadata": {},
     "output_type": "display_data"
    },
    {
     "data": {
      "text/html": [
       "<pre>| max_iterations                 | Maximum Number of Iterations                     | 50       |</pre>"
      ],
      "text/plain": [
       "| max_iterations                 | Maximum Number of Iterations                     | 50       |"
      ]
     },
     "metadata": {},
     "output_type": "display_data"
    },
    {
     "data": {
      "text/html": [
       "<pre>+--------------------------------+--------------------------------------------------+----------+</pre>"
      ],
      "text/plain": [
       "+--------------------------------+--------------------------------------------------+----------+"
      ]
     },
     "metadata": {},
     "output_type": "display_data"
    },
    {
     "data": {
      "text/html": [
       "<pre>  Optimizing model using SGD; tuning step size.</pre>"
      ],
      "text/plain": [
       "  Optimizing model using SGD; tuning step size."
      ]
     },
     "metadata": {},
     "output_type": "display_data"
    },
    {
     "data": {
      "text/html": [
       "<pre>  Using 2496264 / 19970119 points for tuning the step size.</pre>"
      ],
      "text/plain": [
       "  Using 2496264 / 19970119 points for tuning the step size."
      ]
     },
     "metadata": {},
     "output_type": "display_data"
    },
    {
     "data": {
      "text/html": [
       "<pre>+---------+-------------------+------------------------------------------+</pre>"
      ],
      "text/plain": [
       "+---------+-------------------+------------------------------------------+"
      ]
     },
     "metadata": {},
     "output_type": "display_data"
    },
    {
     "data": {
      "text/html": [
       "<pre>| Attempt | Initial Step Size | Estimated Objective Value                |</pre>"
      ],
      "text/plain": [
       "| Attempt | Initial Step Size | Estimated Objective Value                |"
      ]
     },
     "metadata": {},
     "output_type": "display_data"
    },
    {
     "data": {
      "text/html": [
       "<pre>+---------+-------------------+------------------------------------------+</pre>"
      ],
      "text/plain": [
       "+---------+-------------------+------------------------------------------+"
      ]
     },
     "metadata": {},
     "output_type": "display_data"
    },
    {
     "data": {
      "text/html": [
       "<pre>| 0       | 2.17391           | Not Viable                               |</pre>"
      ],
      "text/plain": [
       "| 0       | 2.17391           | Not Viable                               |"
      ]
     },
     "metadata": {},
     "output_type": "display_data"
    },
    {
     "data": {
      "text/html": [
       "<pre>| 1       | 0.543478          | Not Viable                               |</pre>"
      ],
      "text/plain": [
       "| 1       | 0.543478          | Not Viable                               |"
      ]
     },
     "metadata": {},
     "output_type": "display_data"
    },
    {
     "data": {
      "text/html": [
       "<pre>| 2       | 0.13587           | 0.771449                                 |</pre>"
      ],
      "text/plain": [
       "| 2       | 0.13587           | 0.771449                                 |"
      ]
     },
     "metadata": {},
     "output_type": "display_data"
    },
    {
     "data": {
      "text/html": [
       "<pre>| 3       | 0.0679348         | 0.828288                                 |</pre>"
      ],
      "text/plain": [
       "| 3       | 0.0679348         | 0.828288                                 |"
      ]
     },
     "metadata": {},
     "output_type": "display_data"
    },
    {
     "data": {
      "text/html": [
       "<pre>| 4       | 0.0339674         | 0.839525                                 |</pre>"
      ],
      "text/plain": [
       "| 4       | 0.0339674         | 0.839525                                 |"
      ]
     },
     "metadata": {},
     "output_type": "display_data"
    },
    {
     "data": {
      "text/html": [
       "<pre>| 5       | 0.0169837         | No Decrease (1.90864 >= 1.10384)         |</pre>"
      ],
      "text/plain": [
       "| 5       | 0.0169837         | No Decrease (1.90864 >= 1.10384)         |"
      ]
     },
     "metadata": {},
     "output_type": "display_data"
    },
    {
     "data": {
      "text/html": [
       "<pre>+---------+-------------------+------------------------------------------+</pre>"
      ],
      "text/plain": [
       "+---------+-------------------+------------------------------------------+"
      ]
     },
     "metadata": {},
     "output_type": "display_data"
    },
    {
     "data": {
      "text/html": [
       "<pre>| Final   | 0.13587           | 0.771449                                 |</pre>"
      ],
      "text/plain": [
       "| Final   | 0.13587           | 0.771449                                 |"
      ]
     },
     "metadata": {},
     "output_type": "display_data"
    },
    {
     "data": {
      "text/html": [
       "<pre>+---------+-------------------+------------------------------------------+</pre>"
      ],
      "text/plain": [
       "+---------+-------------------+------------------------------------------+"
      ]
     },
     "metadata": {},
     "output_type": "display_data"
    },
    {
     "data": {
      "text/html": [
       "<pre>Starting Optimization.</pre>"
      ],
      "text/plain": [
       "Starting Optimization."
      ]
     },
     "metadata": {},
     "output_type": "display_data"
    },
    {
     "data": {
      "text/html": [
       "<pre>+---------+--------------+-------------------+-----------------------+-------------+</pre>"
      ],
      "text/plain": [
       "+---------+--------------+-------------------+-----------------------+-------------+"
      ]
     },
     "metadata": {},
     "output_type": "display_data"
    },
    {
     "data": {
      "text/html": [
       "<pre>| Iter.   | Elapsed Time | Approx. Objective | Approx. Training RMSE | Step Size   |</pre>"
      ],
      "text/plain": [
       "| Iter.   | Elapsed Time | Approx. Objective | Approx. Training RMSE | Step Size   |"
      ]
     },
     "metadata": {},
     "output_type": "display_data"
    },
    {
     "data": {
      "text/html": [
       "<pre>+---------+--------------+-------------------+-----------------------+-------------+</pre>"
      ],
      "text/plain": [
       "+---------+--------------+-------------------+-----------------------+-------------+"
      ]
     },
     "metadata": {},
     "output_type": "display_data"
    },
    {
     "data": {
      "text/html": [
       "<pre>| Initial | 574us        | 1.10654           | 1.05192               |             |</pre>"
      ],
      "text/plain": [
       "| Initial | 574us        | 1.10654           | 1.05192               |             |"
      ]
     },
     "metadata": {},
     "output_type": "display_data"
    },
    {
     "data": {
      "text/html": [
       "<pre>+---------+--------------+-------------------+-----------------------+-------------+</pre>"
      ],
      "text/plain": [
       "+---------+--------------+-------------------+-----------------------+-------------+"
      ]
     },
     "metadata": {},
     "output_type": "display_data"
    },
    {
     "data": {
      "text/html": [
       "<pre>| 1       | 39.64s       | 1.95555           | 1.39822               | 0.13587     |</pre>"
      ],
      "text/plain": [
       "| 1       | 39.64s       | 1.95555           | 1.39822               | 0.13587     |"
      ]
     },
     "metadata": {},
     "output_type": "display_data"
    },
    {
     "data": {
      "text/html": [
       "<pre>| 2       | 1m 27s       | 1.01626           | 1.00792               | 0.13587     |</pre>"
      ],
      "text/plain": [
       "| 2       | 1m 27s       | 1.01626           | 1.00792               | 0.13587     |"
      ]
     },
     "metadata": {},
     "output_type": "display_data"
    },
    {
     "data": {
      "text/html": [
       "<pre>| 3       | 2m 9s        | 0.842505          | 0.91771               | 0.13587     |</pre>"
      ],
      "text/plain": [
       "| 3       | 2m 9s        | 0.842505          | 0.91771               | 0.13587     |"
      ]
     },
     "metadata": {},
     "output_type": "display_data"
    },
    {
     "data": {
      "text/html": [
       "<pre>| 4       | 2m 52s       | 0.790997          | 0.889213              | 0.13587     |</pre>"
      ],
      "text/plain": [
       "| 4       | 2m 52s       | 0.790997          | 0.889213              | 0.13587     |"
      ]
     },
     "metadata": {},
     "output_type": "display_data"
    },
    {
     "data": {
      "text/html": [
       "<pre>| 5       | 3m 32s       | 0.763946          | 0.873873              | 0.13587     |</pre>"
      ],
      "text/plain": [
       "| 5       | 3m 32s       | 0.763946          | 0.873873              | 0.13587     |"
      ]
     },
     "metadata": {},
     "output_type": "display_data"
    },
    {
     "data": {
      "text/html": [
       "<pre>| 7       | 4m 58s       | 0.734419          | 0.856811              | 0.13587     |</pre>"
      ],
      "text/plain": [
       "| 7       | 4m 58s       | 0.734419          | 0.856811              | 0.13587     |"
      ]
     },
     "metadata": {},
     "output_type": "display_data"
    },
    {
     "data": {
      "text/html": [
       "<pre>| 8       | 5m 38s       | 0.725587          | 0.85164               | 0.13587     |</pre>"
      ],
      "text/plain": [
       "| 8       | 5m 38s       | 0.725587          | 0.85164               | 0.13587     |"
      ]
     },
     "metadata": {},
     "output_type": "display_data"
    },
    {
     "data": {
      "text/html": [
       "<pre>| 9       | 6m 17s       | 0.719             | 0.847764              | 0.13587     |</pre>"
      ],
      "text/plain": [
       "| 9       | 6m 17s       | 0.719             | 0.847764              | 0.13587     |"
      ]
     },
     "metadata": {},
     "output_type": "display_data"
    },
    {
     "data": {
      "text/html": [
       "<pre>| 10      | 6m 57s       | 0.713628          | 0.84459               | 0.13587     |</pre>"
      ],
      "text/plain": [
       "| 10      | 6m 57s       | 0.713628          | 0.84459               | 0.13587     |"
      ]
     },
     "metadata": {},
     "output_type": "display_data"
    },
    {
     "data": {
      "text/html": [
       "<pre>| 11      | 7m 36s       | 0.709532          | 0.842161              | 0.13587     |</pre>"
      ],
      "text/plain": [
       "| 11      | 7m 36s       | 0.709532          | 0.842161              | 0.13587     |"
      ]
     },
     "metadata": {},
     "output_type": "display_data"
    },
    {
     "data": {
      "text/html": [
       "<pre>| 12      | 8m 14s       | 0.70592           | 0.840013              | 0.13587     |</pre>"
      ],
      "text/plain": [
       "| 12      | 8m 14s       | 0.70592           | 0.840013              | 0.13587     |"
      ]
     },
     "metadata": {},
     "output_type": "display_data"
    },
    {
     "data": {
      "text/html": [
       "<pre>| 13      | 9m 0s        | 0.703218          | 0.838403              | 0.13587     |</pre>"
      ],
      "text/plain": [
       "| 13      | 9m 0s        | 0.703218          | 0.838403              | 0.13587     |"
      ]
     },
     "metadata": {},
     "output_type": "display_data"
    },
    {
     "data": {
      "text/html": [
       "<pre>| 14      | 9m 45s       | 0.701262          | 0.837235              | 0.13587     |</pre>"
      ],
      "text/plain": [
       "| 14      | 9m 45s       | 0.701262          | 0.837235              | 0.13587     |"
      ]
     },
     "metadata": {},
     "output_type": "display_data"
    },
    {
     "data": {
      "text/html": [
       "<pre>| 15      | 10m 32s      | 0.700352          | 0.83669               | 0.13587     |</pre>"
      ],
      "text/plain": [
       "| 15      | 10m 32s      | 0.700352          | 0.83669               | 0.13587     |"
      ]
     },
     "metadata": {},
     "output_type": "display_data"
    },
    {
     "data": {
      "text/html": [
       "<pre>| 16      | 11m 18s      | 1.26553           | 1.12482               | 0.13587     |</pre>"
      ],
      "text/plain": [
       "| 16      | 11m 18s      | 1.26553           | 1.12482               | 0.13587     |"
      ]
     },
     "metadata": {},
     "output_type": "display_data"
    },
    {
     "data": {
      "text/html": [
       "<pre>| 17      | 12m 41s      | 0.827054          | 0.909262              | 0.13587     |</pre>"
      ],
      "text/plain": [
       "| 17      | 12m 41s      | 0.827054          | 0.909262              | 0.13587     |"
      ]
     },
     "metadata": {},
     "output_type": "display_data"
    },
    {
     "data": {
      "text/html": [
       "<pre>| 18      | 13m 30s      | 0.733861          | 0.856485              | 0.13587     |</pre>"
      ],
      "text/plain": [
       "| 18      | 13m 30s      | 0.733861          | 0.856485              | 0.13587     |"
      ]
     },
     "metadata": {},
     "output_type": "display_data"
    },
    {
     "data": {
      "text/html": [
       "<pre>| 19      | 14m 12s      | 0.718432          | 0.84743               | 0.13587     |</pre>"
      ],
      "text/plain": [
       "| 19      | 14m 12s      | 0.718432          | 0.84743               | 0.13587     |"
      ]
     },
     "metadata": {},
     "output_type": "display_data"
    },
    {
     "data": {
      "text/html": [
       "<pre>| 20      | 14m 51s      | 0.71071           | 0.842862              | 0.13587     |</pre>"
      ],
      "text/plain": [
       "| 20      | 14m 51s      | 0.71071           | 0.842862              | 0.13587     |"
      ]
     },
     "metadata": {},
     "output_type": "display_data"
    },
    {
     "data": {
      "text/html": [
       "<pre>| 21      | 15m 29s      | 0.705524          | 0.83978               | 0.13587     |</pre>"
      ],
      "text/plain": [
       "| 21      | 15m 29s      | 0.705524          | 0.83978               | 0.13587     |"
      ]
     },
     "metadata": {},
     "output_type": "display_data"
    },
    {
     "data": {
      "text/html": [
       "<pre>| 22      | 16m 17s      | 0.702507          | 0.837982              | 0.13587     |</pre>"
      ],
      "text/plain": [
       "| 22      | 16m 17s      | 0.702507          | 0.837982              | 0.13587     |"
      ]
     },
     "metadata": {},
     "output_type": "display_data"
    },
    {
     "data": {
      "text/html": [
       "<pre>| 23      | 16m 59s      | 0.699334          | 0.836086              | 0.13587     |</pre>"
      ],
      "text/plain": [
       "| 23      | 16m 59s      | 0.699334          | 0.836086              | 0.13587     |"
      ]
     },
     "metadata": {},
     "output_type": "display_data"
    },
    {
     "data": {
      "text/html": [
       "<pre>| 24      | 17m 37s      | 0.69774           | 0.835132              | 0.13587     |</pre>"
      ],
      "text/plain": [
       "| 24      | 17m 37s      | 0.69774           | 0.835132              | 0.13587     |"
      ]
     },
     "metadata": {},
     "output_type": "display_data"
    },
    {
     "data": {
      "text/html": [
       "<pre>| 25      | 18m 14s      | 0.773162          | 0.879128              | 0.13587     |</pre>"
      ],
      "text/plain": [
       "| 25      | 18m 14s      | 0.773162          | 0.879128              | 0.13587     |"
      ]
     },
     "metadata": {},
     "output_type": "display_data"
    },
    {
     "data": {
      "text/html": [
       "<pre>| 26      | 18m 50s      | 0.76786           | 0.876108              | 0.13587     |</pre>"
      ],
      "text/plain": [
       "| 26      | 18m 50s      | 0.76786           | 0.876108              | 0.13587     |"
      ]
     },
     "metadata": {},
     "output_type": "display_data"
    },
    {
     "data": {
      "text/html": [
       "<pre>| 27      | 19m 27s      | 0.714797          | 0.845282              | 0.13587     |</pre>"
      ],
      "text/plain": [
       "| 27      | 19m 27s      | 0.714797          | 0.845282              | 0.13587     |"
      ]
     },
     "metadata": {},
     "output_type": "display_data"
    },
    {
     "data": {
      "text/html": [
       "<pre>| 28      | 20m 3s       | 0.707313          | 0.840844              | 0.13587     |</pre>"
      ],
      "text/plain": [
       "| 28      | 20m 3s       | 0.707313          | 0.840844              | 0.13587     |"
      ]
     },
     "metadata": {},
     "output_type": "display_data"
    },
    {
     "data": {
      "text/html": [
       "<pre>| 29      | 20m 40s      | 0.703353          | 0.838485              | 0.13587     |</pre>"
      ],
      "text/plain": [
       "| 29      | 20m 40s      | 0.703353          | 0.838485              | 0.13587     |"
      ]
     },
     "metadata": {},
     "output_type": "display_data"
    },
    {
     "data": {
      "text/html": [
       "<pre>| 30      | 21m 20s      | 0.701097          | 0.837138              | 0.13587     |</pre>"
      ],
      "text/plain": [
       "| 30      | 21m 20s      | 0.701097          | 0.837138              | 0.13587     |"
      ]
     },
     "metadata": {},
     "output_type": "display_data"
    },
    {
     "data": {
      "text/html": [
       "<pre>| 31      | 21m 56s      | 0.700791          | 0.836955              | 0.13587     |</pre>"
      ],
      "text/plain": [
       "| 31      | 21m 56s      | 0.700791          | 0.836955              | 0.13587     |"
      ]
     },
     "metadata": {},
     "output_type": "display_data"
    },
    {
     "data": {
      "text/html": [
       "<pre>| 32      | 22m 41s      | DIVERGED          | DIVERGED              | 0.13587     |</pre>"
      ],
      "text/plain": [
       "| 32      | 22m 41s      | DIVERGED          | DIVERGED              | 0.13587     |"
      ]
     },
     "metadata": {},
     "output_type": "display_data"
    },
    {
     "data": {
      "text/html": [
       "<pre>| RESET   | 22m 50s      | 1.10668           | 1.05199               |             |</pre>"
      ],
      "text/plain": [
       "| RESET   | 22m 50s      | 1.10668           | 1.05199               |             |"
      ]
     },
     "metadata": {},
     "output_type": "display_data"
    },
    {
     "data": {
      "text/html": [
       "<pre>| 1       | 23m 40s      | DIVERGED          | DIVERGED              | 0.0679348   |</pre>"
      ],
      "text/plain": [
       "| 1       | 23m 40s      | DIVERGED          | DIVERGED              | 0.0679348   |"
      ]
     },
     "metadata": {},
     "output_type": "display_data"
    },
    {
     "data": {
      "text/html": [
       "<pre>| RESET   | 23m 48s      | 1.10657           | 1.05194               |             |</pre>"
      ],
      "text/plain": [
       "| RESET   | 23m 48s      | 1.10657           | 1.05194               |             |"
      ]
     },
     "metadata": {},
     "output_type": "display_data"
    },
    {
     "data": {
      "text/html": [
       "<pre>| 1       | 24m 25s      | 0.956688          | 0.978024              | 0.0339674   |</pre>"
      ],
      "text/plain": [
       "| 1       | 24m 25s      | 0.956688          | 0.978024              | 0.0339674   |"
      ]
     },
     "metadata": {},
     "output_type": "display_data"
    },
    {
     "data": {
      "text/html": [
       "<pre>| 2       | 25m 2s       | 0.80861           | 0.899165              | 0.0339674   |</pre>"
      ],
      "text/plain": [
       "| 2       | 25m 2s       | 0.80861           | 0.899165              | 0.0339674   |"
      ]
     },
     "metadata": {},
     "output_type": "display_data"
    },
    {
     "data": {
      "text/html": [
       "<pre>| 3       | 25m 38s      | 0.764638          | 0.874382              | 0.0339674   |</pre>"
      ],
      "text/plain": [
       "| 3       | 25m 38s      | 0.764638          | 0.874382              | 0.0339674   |"
      ]
     },
     "metadata": {},
     "output_type": "display_data"
    },
    {
     "data": {
      "text/html": [
       "<pre>| 4       | 26m 13s      | 0.743494          | 0.86221               | 0.0339674   |</pre>"
      ],
      "text/plain": [
       "| 4       | 26m 13s      | 0.743494          | 0.86221               | 0.0339674   |"
      ]
     },
     "metadata": {},
     "output_type": "display_data"
    },
    {
     "data": {
      "text/html": [
       "<pre>| 5       | 26m 50s      | 0.735373          | 0.857489              | 0.0339674   |</pre>"
      ],
      "text/plain": [
       "| 5       | 26m 50s      | 0.735373          | 0.857489              | 0.0339674   |"
      ]
     },
     "metadata": {},
     "output_type": "display_data"
    },
    {
     "data": {
      "text/html": [
       "<pre>| 6       | 27m 25s      | 0.728524          | 0.853485              | 0.0339674   |</pre>"
      ],
      "text/plain": [
       "| 6       | 27m 25s      | 0.728524          | 0.853485              | 0.0339674   |"
      ]
     },
     "metadata": {},
     "output_type": "display_data"
    },
    {
     "data": {
      "text/html": [
       "<pre>| 7       | 28m 5s       | 0.727672          | 0.852985              | 0.0339674   |</pre>"
      ],
      "text/plain": [
       "| 7       | 28m 5s       | 0.727672          | 0.852985              | 0.0339674   |"
      ]
     },
     "metadata": {},
     "output_type": "display_data"
    },
    {
     "data": {
      "text/html": [
       "<pre>| 8       | 28m 42s      | 0.719288          | 0.848056              | 0.0339674   |</pre>"
      ],
      "text/plain": [
       "| 8       | 28m 42s      | 0.719288          | 0.848056              | 0.0339674   |"
      ]
     },
     "metadata": {},
     "output_type": "display_data"
    },
    {
     "data": {
      "text/html": [
       "<pre>| 9       | 29m 20s      | 0.71751           | 0.847006              | 0.0339674   |</pre>"
      ],
      "text/plain": [
       "| 9       | 29m 20s      | 0.71751           | 0.847006              | 0.0339674   |"
      ]
     },
     "metadata": {},
     "output_type": "display_data"
    },
    {
     "data": {
      "text/html": [
       "<pre>| 10      | 30m 5s       | 0.717204          | 0.846825              | 0.0339674   |</pre>"
      ],
      "text/plain": [
       "| 10      | 30m 5s       | 0.717204          | 0.846825              | 0.0339674   |"
      ]
     },
     "metadata": {},
     "output_type": "display_data"
    },
    {
     "data": {
      "text/html": [
       "<pre>| 11      | 32m 18s      | 0.768158          | 0.876393              | 0.0339674   |</pre>"
      ],
      "text/plain": [
       "| 11      | 32m 18s      | 0.768158          | 0.876393              | 0.0339674   |"
      ]
     },
     "metadata": {},
     "output_type": "display_data"
    },
    {
     "data": {
      "text/html": [
       "<pre>| 12      | 33m 10s      | DIVERGED          | DIVERGED              | 0.0339674   |</pre>"
      ],
      "text/plain": [
       "| 12      | 33m 10s      | DIVERGED          | DIVERGED              | 0.0339674   |"
      ]
     },
     "metadata": {},
     "output_type": "display_data"
    },
    {
     "data": {
      "text/html": [
       "<pre>| RESET   | 33m 19s      | 1.10684           | 1.05207               |             |</pre>"
      ],
      "text/plain": [
       "| RESET   | 33m 19s      | 1.10684           | 1.05207               |             |"
      ]
     },
     "metadata": {},
     "output_type": "display_data"
    },
    {
     "data": {
      "text/html": [
       "<pre>| 1       | 34m 16s      | DIVERGED          | DIVERGED              | 0.0169837   |</pre>"
      ],
      "text/plain": [
       "| 1       | 34m 16s      | DIVERGED          | DIVERGED              | 0.0169837   |"
      ]
     },
     "metadata": {},
     "output_type": "display_data"
    },
    {
     "data": {
      "text/html": [
       "<pre>| RESET   | 34m 24s      | 1.10674           | 1.05201               |             |</pre>"
      ],
      "text/plain": [
       "| RESET   | 34m 24s      | 1.10674           | 1.05201               |             |"
      ]
     },
     "metadata": {},
     "output_type": "display_data"
    },
    {
     "data": {
      "text/html": [
       "<pre>| 1       | 34m 59s      | 0.872536          | 0.934083              | 0.00849185  |</pre>"
      ],
      "text/plain": [
       "| 1       | 34m 59s      | 0.872536          | 0.934083              | 0.00849185  |"
      ]
     },
     "metadata": {},
     "output_type": "display_data"
    },
    {
     "data": {
      "text/html": [
       "<pre>| 2       | 35m 32s      | 0.816284          | 0.90347               | 0.00849185  |</pre>"
      ],
      "text/plain": [
       "| 2       | 35m 32s      | 0.816284          | 0.90347               | 0.00849185  |"
      ]
     },
     "metadata": {},
     "output_type": "display_data"
    },
    {
     "data": {
      "text/html": [
       "<pre>| 3       | 36m 9s       | 0.798282          | 0.893451              | 0.00849185  |</pre>"
      ],
      "text/plain": [
       "| 3       | 36m 9s       | 0.798282          | 0.893451              | 0.00849185  |"
      ]
     },
     "metadata": {},
     "output_type": "display_data"
    },
    {
     "data": {
      "text/html": [
       "<pre>| 4       | 36m 44s      | 0.787113          | 0.887177              | 0.00849185  |</pre>"
      ],
      "text/plain": [
       "| 4       | 36m 44s      | 0.787113          | 0.887177              | 0.00849185  |"
      ]
     },
     "metadata": {},
     "output_type": "display_data"
    },
    {
     "data": {
      "text/html": [
       "<pre>| 5       | 37m 17s      | 0.779201          | 0.882706              | 0.00849185  |</pre>"
      ],
      "text/plain": [
       "| 5       | 37m 17s      | 0.779201          | 0.882706              | 0.00849185  |"
      ]
     },
     "metadata": {},
     "output_type": "display_data"
    },
    {
     "data": {
      "text/html": [
       "<pre>| 6       | 37m 51s      | 0.773246          | 0.879326              | 0.00849185  |</pre>"
      ],
      "text/plain": [
       "| 6       | 37m 51s      | 0.773246          | 0.879326              | 0.00849185  |"
      ]
     },
     "metadata": {},
     "output_type": "display_data"
    },
    {
     "data": {
      "text/html": [
       "<pre>| 7       | 38m 25s      | 0.768402          | 0.876566              | 0.00849185  |</pre>"
      ],
      "text/plain": [
       "| 7       | 38m 25s      | 0.768402          | 0.876566              | 0.00849185  |"
      ]
     },
     "metadata": {},
     "output_type": "display_data"
    },
    {
     "data": {
      "text/html": [
       "<pre>| 8       | 38m 58s      | 0.765072          | 0.874664              | 0.00849185  |</pre>"
      ],
      "text/plain": [
       "| 8       | 38m 58s      | 0.765072          | 0.874664              | 0.00849185  |"
      ]
     },
     "metadata": {},
     "output_type": "display_data"
    },
    {
     "data": {
      "text/html": [
       "<pre>| 9       | 39m 31s      | 0.76222           | 0.873031              | 0.00849185  |</pre>"
      ],
      "text/plain": [
       "| 9       | 39m 31s      | 0.76222           | 0.873031              | 0.00849185  |"
      ]
     },
     "metadata": {},
     "output_type": "display_data"
    },
    {
     "data": {
      "text/html": [
       "<pre>+---------+--------------+-------------------+-----------------------+-------------+</pre>"
      ],
      "text/plain": [
       "+---------+--------------+-------------------+-----------------------+-------------+"
      ]
     },
     "metadata": {},
     "output_type": "display_data"
    },
    {
     "data": {
      "text/html": [
       "<pre>Optimization Complete: Maximum number of passes through the data reached (hard limit).</pre>"
      ],
      "text/plain": [
       "Optimization Complete: Maximum number of passes through the data reached (hard limit)."
      ]
     },
     "metadata": {},
     "output_type": "display_data"
    },
    {
     "data": {
      "text/html": [
       "<pre>Computing final objective value and training RMSE.</pre>"
      ],
      "text/plain": [
       "Computing final objective value and training RMSE."
      ]
     },
     "metadata": {},
     "output_type": "display_data"
    },
    {
     "data": {
      "text/html": [
       "<pre>       Final objective value: 0.760198</pre>"
      ],
      "text/plain": [
       "       Final objective value: 0.760198"
      ]
     },
     "metadata": {},
     "output_type": "display_data"
    },
    {
     "data": {
      "text/html": [
       "<pre>       Final training RMSE: 0.871872</pre>"
      ],
      "text/plain": [
       "       Final training RMSE: 0.871872"
      ]
     },
     "metadata": {},
     "output_type": "display_data"
    }
   ],
   "source": [
    "model = tc.factorization_recommender.create(train, target='rating', user_id=\"userId\", item_id=\"movieId\")"
   ]
  },
  {
   "cell_type": "code",
   "execution_count": 10,
   "metadata": {},
   "outputs": [
    {
     "data": {
      "text/plain": [
       "Class                            : FactorizationRecommender\n",
       "\n",
       "Schema\n",
       "------\n",
       "User ID                          : userId\n",
       "Item ID                          : movieId\n",
       "Target                           : rating\n",
       "Additional observation features  : 21\n",
       "User side features               : []\n",
       "Item side features               : []\n",
       "\n",
       "Statistics\n",
       "----------\n",
       "Number of observations           : 19970119\n",
       "Number of users                  : 138493\n",
       "Number of items                  : 26658\n",
       "\n",
       "Training summary\n",
       "----------------\n",
       "Training time                    : 2510.2767\n",
       "\n",
       "Model Parameters\n",
       "----------------\n",
       "Model class                      : FactorizationRecommender\n",
       "num_factors                      : 8\n",
       "binary_target                    : 0\n",
       "side_data_factorization          : 1\n",
       "solver                           : auto\n",
       "nmf                              : 0\n",
       "max_iterations                   : 50\n",
       "\n",
       "Regularization Settings\n",
       "-----------------------\n",
       "regularization                   : 0.0\n",
       "regularization_type              : normal\n",
       "linear_regularization            : 0.0\n",
       "\n",
       "Optimization Settings\n",
       "---------------------\n",
       "init_random_sigma                : 0.01\n",
       "sgd_convergence_interval         : 4\n",
       "sgd_convergence_threshold        : 0.0\n",
       "sgd_max_trial_iterations         : 5\n",
       "sgd_sampling_block_size          : 131072\n",
       "sgd_step_adjustment_interval     : 4\n",
       "sgd_step_size                    : 0.0\n",
       "sgd_trial_sample_minimum_size    : 10000\n",
       "sgd_trial_sample_proportion      : 0.125\n",
       "step_size_decrease_rate          : 0.75\n",
       "additional_iterations_if_unhealthy : 5\n",
       "adagrad_momentum_weighting       : 0.9\n",
       "num_tempering_iterations         : 4\n",
       "tempering_regularization_start_value : 0.0\n",
       "track_exact_loss                 : 0"
      ]
     },
     "execution_count": 10,
     "metadata": {},
     "output_type": "execute_result"
    }
   ],
   "source": [
    "model"
   ]
  },
  {
   "cell_type": "code",
   "execution_count": 11,
   "metadata": {},
   "outputs": [],
   "source": [
    "predictions = model.predict(test)"
   ]
  },
  {
   "cell_type": "code",
   "execution_count": 12,
   "metadata": {},
   "outputs": [
    {
     "data": {
      "text/plain": [
       "dtype: float\n",
       "Rows: 30144\n",
       "[3.318519878574042, 3.209583291130711, 3.1601918464683383, 2.981694984288926, 3.2934654467428093, 3.4692817144011254, 3.2916682248923195, 3.2472751272390266, 2.9034413014670584, 3.386175124690981, 3.7157346744883606, 2.94987161160165, 3.1183207142219143, 2.9452280415209087, 3.2450676821424853, 3.3214641987005944, 2.6624905235381426, 3.282455839498409, 3.3499415981252323, 2.8744996024352316, 3.58783666360912, 3.308528754864212, 3.1652742366083304, 3.077339290751296, 3.368351252680233, 3.1891842666254746, 3.1035111902602965, 3.359029440662362, 3.2090728638718966, 3.1514053106889692, 2.8824808539228615, 3.4668222642179973, 3.6518579224252097, 3.432585956118002, 3.739961685013383, 3.7928909490804177, 3.9458965724907697, 3.576127868144571, 3.89424388056002, 3.6786612883734735, 3.92555346492487, 3.678973647657669, 3.8450860472323383, 3.704179906934815, 3.935683919340417, 3.8454472003858022, 3.5623456598554446, 3.626286871517868, 3.70757021155205, 3.919321481977785, 4.187418978374632, 4.161727551695475, 4.0156036328840985, 3.886938446921346, 3.8090669995885733, 4.015408455025397, 4.004013445247688, 4.008143347842066, 3.3622091590920835, 3.882224059176722, 3.895175946793837, 4.2065907541069185, 4.372546719443445, 3.6610423611412006, 3.987369395877103, 3.9837383724109765, 3.973999560973752, 3.938188758857218, 4.013516642043431, 4.151181817002908, 3.9229111393519878, 4.0705062901975895, 3.9024208210796845, 3.844274594281827, 4.051243280918131, 3.7520051540832426, 3.9137782762383475, 3.988498552066714, 4.052838382971599, 4.115646705572281, 3.9258250537133783, 4.113038069466132, 4.052075714324703, 3.887704344601416, 3.679144121156538, 4.008028721532151, 4.075243388084049, 4.137132906016264, 4.323959170600585, 4.120378847792947, 3.9215978627027326, 3.7504998223705766, 4.052805009907883, 3.893510960895913, 3.9178205013052354, 3.970923694957465, 3.500061599054124, 3.874517588593868, 3.9649664643895575, 4.0202831909678025, ... ]"
      ]
     },
     "execution_count": 12,
     "metadata": {},
     "output_type": "execute_result"
    }
   ],
   "source": [
    "predictions"
   ]
  },
  {
   "cell_type": "code",
   "execution_count": 14,
   "metadata": {},
   "outputs": [],
   "source": [
    "summary = test.add_column(predictions, \"predictions\")\n",
    "summary = summary.select_columns(['userId', 'movieId', 'rating', 'predictions'])"
   ]
  },
  {
   "cell_type": "code",
   "execution_count": 15,
   "metadata": {},
   "outputs": [
    {
     "data": {
      "text/html": [
       "<div style=\"max-height:1000px;max-width:1500px;overflow:auto;\"><table frame=\"box\" rules=\"cols\">\n",
       "    <tr>\n",
       "        <th style=\"padding-left: 1em; padding-right: 1em; text-align: center\">userId</th>\n",
       "        <th style=\"padding-left: 1em; padding-right: 1em; text-align: center\">movieId</th>\n",
       "        <th style=\"padding-left: 1em; padding-right: 1em; text-align: center\">rating</th>\n",
       "        <th style=\"padding-left: 1em; padding-right: 1em; text-align: center\">predictions</th>\n",
       "    </tr>\n",
       "    <tr>\n",
       "        <td style=\"padding-left: 1em; padding-right: 1em; text-align: center; vertical-align: top\">2992</td>\n",
       "        <td style=\"padding-left: 1em; padding-right: 1em; text-align: center; vertical-align: top\">2</td>\n",
       "        <td style=\"padding-left: 1em; padding-right: 1em; text-align: center; vertical-align: top\">2.0</td>\n",
       "        <td style=\"padding-left: 1em; padding-right: 1em; text-align: center; vertical-align: top\">3.31851987857</td>\n",
       "    </tr>\n",
       "    <tr>\n",
       "        <td style=\"padding-left: 1em; padding-right: 1em; text-align: center; vertical-align: top\">7146</td>\n",
       "        <td style=\"padding-left: 1em; padding-right: 1em; text-align: center; vertical-align: top\">2</td>\n",
       "        <td style=\"padding-left: 1em; padding-right: 1em; text-align: center; vertical-align: top\">3.0</td>\n",
       "        <td style=\"padding-left: 1em; padding-right: 1em; text-align: center; vertical-align: top\">3.20958329113</td>\n",
       "    </tr>\n",
       "    <tr>\n",
       "        <td style=\"padding-left: 1em; padding-right: 1em; text-align: center; vertical-align: top\">14441</td>\n",
       "        <td style=\"padding-left: 1em; padding-right: 1em; text-align: center; vertical-align: top\">2</td>\n",
       "        <td style=\"padding-left: 1em; padding-right: 1em; text-align: center; vertical-align: top\">3.0</td>\n",
       "        <td style=\"padding-left: 1em; padding-right: 1em; text-align: center; vertical-align: top\">3.16019184647</td>\n",
       "    </tr>\n",
       "    <tr>\n",
       "        <td style=\"padding-left: 1em; padding-right: 1em; text-align: center; vertical-align: top\">22277</td>\n",
       "        <td style=\"padding-left: 1em; padding-right: 1em; text-align: center; vertical-align: top\">2</td>\n",
       "        <td style=\"padding-left: 1em; padding-right: 1em; text-align: center; vertical-align: top\">4.0</td>\n",
       "        <td style=\"padding-left: 1em; padding-right: 1em; text-align: center; vertical-align: top\">2.98169498429</td>\n",
       "    </tr>\n",
       "    <tr>\n",
       "        <td style=\"padding-left: 1em; padding-right: 1em; text-align: center; vertical-align: top\">22407</td>\n",
       "        <td style=\"padding-left: 1em; padding-right: 1em; text-align: center; vertical-align: top\">2</td>\n",
       "        <td style=\"padding-left: 1em; padding-right: 1em; text-align: center; vertical-align: top\">3.5</td>\n",
       "        <td style=\"padding-left: 1em; padding-right: 1em; text-align: center; vertical-align: top\">3.29346544674</td>\n",
       "    </tr>\n",
       "    <tr>\n",
       "        <td style=\"padding-left: 1em; padding-right: 1em; text-align: center; vertical-align: top\">22760</td>\n",
       "        <td style=\"padding-left: 1em; padding-right: 1em; text-align: center; vertical-align: top\">2</td>\n",
       "        <td style=\"padding-left: 1em; padding-right: 1em; text-align: center; vertical-align: top\">5.0</td>\n",
       "        <td style=\"padding-left: 1em; padding-right: 1em; text-align: center; vertical-align: top\">3.4692817144</td>\n",
       "    </tr>\n",
       "    <tr>\n",
       "        <td style=\"padding-left: 1em; padding-right: 1em; text-align: center; vertical-align: top\">25244</td>\n",
       "        <td style=\"padding-left: 1em; padding-right: 1em; text-align: center; vertical-align: top\">2</td>\n",
       "        <td style=\"padding-left: 1em; padding-right: 1em; text-align: center; vertical-align: top\">4.0</td>\n",
       "        <td style=\"padding-left: 1em; padding-right: 1em; text-align: center; vertical-align: top\">3.29166822489</td>\n",
       "    </tr>\n",
       "    <tr>\n",
       "        <td style=\"padding-left: 1em; padding-right: 1em; text-align: center; vertical-align: top\">27084</td>\n",
       "        <td style=\"padding-left: 1em; padding-right: 1em; text-align: center; vertical-align: top\">2</td>\n",
       "        <td style=\"padding-left: 1em; padding-right: 1em; text-align: center; vertical-align: top\">4.0</td>\n",
       "        <td style=\"padding-left: 1em; padding-right: 1em; text-align: center; vertical-align: top\">3.24727512724</td>\n",
       "    </tr>\n",
       "    <tr>\n",
       "        <td style=\"padding-left: 1em; padding-right: 1em; text-align: center; vertical-align: top\">36305</td>\n",
       "        <td style=\"padding-left: 1em; padding-right: 1em; text-align: center; vertical-align: top\">2</td>\n",
       "        <td style=\"padding-left: 1em; padding-right: 1em; text-align: center; vertical-align: top\">2.0</td>\n",
       "        <td style=\"padding-left: 1em; padding-right: 1em; text-align: center; vertical-align: top\">2.90344130147</td>\n",
       "    </tr>\n",
       "    <tr>\n",
       "        <td style=\"padding-left: 1em; padding-right: 1em; text-align: center; vertical-align: top\">38523</td>\n",
       "        <td style=\"padding-left: 1em; padding-right: 1em; text-align: center; vertical-align: top\">2</td>\n",
       "        <td style=\"padding-left: 1em; padding-right: 1em; text-align: center; vertical-align: top\">3.0</td>\n",
       "        <td style=\"padding-left: 1em; padding-right: 1em; text-align: center; vertical-align: top\">3.38617512469</td>\n",
       "    </tr>\n",
       "</table>\n",
       "[30144 rows x 4 columns]<br/>Note: Only the head of the SFrame is printed.<br/>You can use print_rows(num_rows=m, num_columns=n) to print more rows and columns.\n",
       "</div>"
      ],
      "text/plain": [
       "Columns:\n",
       "\tuserId\tint\n",
       "\tmovieId\tint\n",
       "\trating\tfloat\n",
       "\tpredictions\tfloat\n",
       "\n",
       "Rows: 30144\n",
       "\n",
       "Data:\n",
       "+--------+---------+--------+---------------+\n",
       "| userId | movieId | rating |  predictions  |\n",
       "+--------+---------+--------+---------------+\n",
       "|  2992  |    2    |  2.0   | 3.31851987857 |\n",
       "|  7146  |    2    |  3.0   | 3.20958329113 |\n",
       "| 14441  |    2    |  3.0   | 3.16019184647 |\n",
       "| 22277  |    2    |  4.0   | 2.98169498429 |\n",
       "| 22407  |    2    |  3.5   | 3.29346544674 |\n",
       "| 22760  |    2    |  5.0   |  3.4692817144 |\n",
       "| 25244  |    2    |  4.0   | 3.29166822489 |\n",
       "| 27084  |    2    |  4.0   | 3.24727512724 |\n",
       "| 36305  |    2    |  2.0   | 2.90344130147 |\n",
       "| 38523  |    2    |  3.0   | 3.38617512469 |\n",
       "+--------+---------+--------+---------------+\n",
       "[30144 rows x 4 columns]\n",
       "Note: Only the head of the SFrame is printed.\n",
       "You can use print_rows(num_rows=m, num_columns=n) to print more rows and columns."
      ]
     },
     "execution_count": 15,
     "metadata": {},
     "output_type": "execute_result"
    }
   ],
   "source": [
    "summary"
   ]
  },
  {
   "cell_type": "code",
   "execution_count": 16,
   "metadata": {},
   "outputs": [
    {
     "data": {
      "text/html": [
       "<div style=\"max-height:1000px;max-width:1500px;overflow:auto;\"><table frame=\"box\" rules=\"cols\">\n",
       "    <tr>\n",
       "        <th style=\"padding-left: 1em; padding-right: 1em; text-align: center\">userId</th>\n",
       "        <th style=\"padding-left: 1em; padding-right: 1em; text-align: center\">movieId</th>\n",
       "        <th style=\"padding-left: 1em; padding-right: 1em; text-align: center\">rating</th>\n",
       "        <th style=\"padding-left: 1em; padding-right: 1em; text-align: center\">predictions</th>\n",
       "    </tr>\n",
       "    <tr>\n",
       "        <td style=\"padding-left: 1em; padding-right: 1em; text-align: center; vertical-align: top\">44174</td>\n",
       "        <td style=\"padding-left: 1em; padding-right: 1em; text-align: center; vertical-align: top\">1288</td>\n",
       "        <td style=\"padding-left: 1em; padding-right: 1em; text-align: center; vertical-align: top\">0.5</td>\n",
       "        <td style=\"padding-left: 1em; padding-right: 1em; text-align: center; vertical-align: top\">3.75637472612</td>\n",
       "    </tr>\n",
       "    <tr>\n",
       "        <td style=\"padding-left: 1em; padding-right: 1em; text-align: center; vertical-align: top\">1680</td>\n",
       "        <td style=\"padding-left: 1em; padding-right: 1em; text-align: center; vertical-align: top\">1373</td>\n",
       "        <td style=\"padding-left: 1em; padding-right: 1em; text-align: center; vertical-align: top\">0.5</td>\n",
       "        <td style=\"padding-left: 1em; padding-right: 1em; text-align: center; vertical-align: top\">2.72373370222</td>\n",
       "    </tr>\n",
       "    <tr>\n",
       "        <td style=\"padding-left: 1em; padding-right: 1em; text-align: center; vertical-align: top\">8336</td>\n",
       "        <td style=\"padding-left: 1em; padding-right: 1em; text-align: center; vertical-align: top\">1373</td>\n",
       "        <td style=\"padding-left: 1em; padding-right: 1em; text-align: center; vertical-align: top\">0.5</td>\n",
       "        <td style=\"padding-left: 1em; padding-right: 1em; text-align: center; vertical-align: top\">2.7801850045</td>\n",
       "    </tr>\n",
       "    <tr>\n",
       "        <td style=\"padding-left: 1em; padding-right: 1em; text-align: center; vertical-align: top\">97212</td>\n",
       "        <td style=\"padding-left: 1em; padding-right: 1em; text-align: center; vertical-align: top\">1375</td>\n",
       "        <td style=\"padding-left: 1em; padding-right: 1em; text-align: center; vertical-align: top\">0.5</td>\n",
       "        <td style=\"padding-left: 1em; padding-right: 1em; text-align: center; vertical-align: top\">3.089207504</td>\n",
       "    </tr>\n",
       "    <tr>\n",
       "        <td style=\"padding-left: 1em; padding-right: 1em; text-align: center; vertical-align: top\">136819</td>\n",
       "        <td style=\"padding-left: 1em; padding-right: 1em; text-align: center; vertical-align: top\">1831</td>\n",
       "        <td style=\"padding-left: 1em; padding-right: 1em; text-align: center; vertical-align: top\">0.5</td>\n",
       "        <td style=\"padding-left: 1em; padding-right: 1em; text-align: center; vertical-align: top\">2.11579612368</td>\n",
       "    </tr>\n",
       "    <tr>\n",
       "        <td style=\"padding-left: 1em; padding-right: 1em; text-align: center; vertical-align: top\">111063</td>\n",
       "        <td style=\"padding-left: 1em; padding-right: 1em; text-align: center; vertical-align: top\">2046</td>\n",
       "        <td style=\"padding-left: 1em; padding-right: 1em; text-align: center; vertical-align: top\">0.5</td>\n",
       "        <td style=\"padding-left: 1em; padding-right: 1em; text-align: center; vertical-align: top\">3.08927753677</td>\n",
       "    </tr>\n",
       "    <tr>\n",
       "        <td style=\"padding-left: 1em; padding-right: 1em; text-align: center; vertical-align: top\">131651</td>\n",
       "        <td style=\"padding-left: 1em; padding-right: 1em; text-align: center; vertical-align: top\">118292</td>\n",
       "        <td style=\"padding-left: 1em; padding-right: 1em; text-align: center; vertical-align: top\">0.5</td>\n",
       "        <td style=\"padding-left: 1em; padding-right: 1em; text-align: center; vertical-align: top\">3.29017167514</td>\n",
       "    </tr>\n",
       "    <tr>\n",
       "        <td style=\"padding-left: 1em; padding-right: 1em; text-align: center; vertical-align: top\">135935</td>\n",
       "        <td style=\"padding-left: 1em; padding-right: 1em; text-align: center; vertical-align: top\">2428</td>\n",
       "        <td style=\"padding-left: 1em; padding-right: 1em; text-align: center; vertical-align: top\">0.5</td>\n",
       "        <td style=\"padding-left: 1em; padding-right: 1em; text-align: center; vertical-align: top\">2.61228357461</td>\n",
       "    </tr>\n",
       "    <tr>\n",
       "        <td style=\"padding-left: 1em; padding-right: 1em; text-align: center; vertical-align: top\">1680</td>\n",
       "        <td style=\"padding-left: 1em; padding-right: 1em; text-align: center; vertical-align: top\">2541</td>\n",
       "        <td style=\"padding-left: 1em; padding-right: 1em; text-align: center; vertical-align: top\">0.5</td>\n",
       "        <td style=\"padding-left: 1em; padding-right: 1em; text-align: center; vertical-align: top\">3.22441642313</td>\n",
       "    </tr>\n",
       "    <tr>\n",
       "        <td style=\"padding-left: 1em; padding-right: 1em; text-align: center; vertical-align: top\">8336</td>\n",
       "        <td style=\"padding-left: 1em; padding-right: 1em; text-align: center; vertical-align: top\">2571</td>\n",
       "        <td style=\"padding-left: 1em; padding-right: 1em; text-align: center; vertical-align: top\">0.5</td>\n",
       "        <td style=\"padding-left: 1em; padding-right: 1em; text-align: center; vertical-align: top\">4.06416465806</td>\n",
       "    </tr>\n",
       "</table>\n",
       "[30144 rows x 4 columns]<br/>Note: Only the head of the SFrame is printed.<br/>You can use print_rows(num_rows=m, num_columns=n) to print more rows and columns.\n",
       "</div>"
      ],
      "text/plain": [
       "Columns:\n",
       "\tuserId\tint\n",
       "\tmovieId\tint\n",
       "\trating\tfloat\n",
       "\tpredictions\tfloat\n",
       "\n",
       "Rows: 30144\n",
       "\n",
       "Data:\n",
       "+--------+---------+--------+---------------+\n",
       "| userId | movieId | rating |  predictions  |\n",
       "+--------+---------+--------+---------------+\n",
       "| 44174  |   1288  |  0.5   | 3.75637472612 |\n",
       "|  1680  |   1373  |  0.5   | 2.72373370222 |\n",
       "|  8336  |   1373  |  0.5   |  2.7801850045 |\n",
       "| 97212  |   1375  |  0.5   |  3.089207504  |\n",
       "| 136819 |   1831  |  0.5   | 2.11579612368 |\n",
       "| 111063 |   2046  |  0.5   | 3.08927753677 |\n",
       "| 131651 |  118292 |  0.5   | 3.29017167514 |\n",
       "| 135935 |   2428  |  0.5   | 2.61228357461 |\n",
       "|  1680  |   2541  |  0.5   | 3.22441642313 |\n",
       "|  8336  |   2571  |  0.5   | 4.06416465806 |\n",
       "+--------+---------+--------+---------------+\n",
       "[30144 rows x 4 columns]\n",
       "Note: Only the head of the SFrame is printed.\n",
       "You can use print_rows(num_rows=m, num_columns=n) to print more rows and columns."
      ]
     },
     "execution_count": 16,
     "metadata": {},
     "output_type": "execute_result"
    }
   ],
   "source": [
    "summary.sort('rating')"
   ]
  },
  {
   "cell_type": "code",
   "execution_count": 17,
   "metadata": {},
   "outputs": [],
   "source": [
    "predictions = predictions.astype(int)"
   ]
  },
  {
   "cell_type": "code",
   "execution_count": 18,
   "metadata": {},
   "outputs": [],
   "source": [
    "targets = test['rating']\n"
   ]
  },
  {
   "cell_type": "code",
   "execution_count": 19,
   "metadata": {},
   "outputs": [],
   "source": [
    "targets = targets.astype(int)"
   ]
  },
  {
   "cell_type": "code",
   "execution_count": 20,
   "metadata": {},
   "outputs": [
    {
     "data": {
      "text/plain": [
       "0.3687964437367304"
      ]
     },
     "execution_count": 20,
     "metadata": {},
     "output_type": "execute_result"
    }
   ],
   "source": [
    "eval = tc.evaluation.accuracy(targets, predictions, average = \"micro\")\n",
    "eval"
   ]
  },
  {
   "cell_type": "code",
   "execution_count": 21,
   "metadata": {},
   "outputs": [
    {
     "data": {
      "text/plain": [
       "{0: 0.0,\n",
       " 1: 0.32167832167832167,\n",
       " 2: 0.3217233742701832,\n",
       " 3: 0.35634502016754577,\n",
       " 4: 0.45693693693693693,\n",
       " 5: 0.0}"
      ]
     },
     "execution_count": 21,
     "metadata": {},
     "output_type": "execute_result"
    }
   ],
   "source": [
    "eval1 = tc.evaluation.accuracy(targets, predictions, average = None)\n",
    "eval1"
   ]
  },
  {
   "cell_type": "code",
   "execution_count": 22,
   "metadata": {},
   "outputs": [
    {
     "name": "stdout",
     "output_type": "stream",
     "text": [
      "\n",
      "Precision and recall summary statistics by cutoff\n",
      "+--------+-----------------+-------------------+\n",
      "| cutoff |  mean_precision |    mean_recall    |\n",
      "+--------+-----------------+-------------------+\n",
      "|   1    |  0.029029029029 | 0.000531985161351 |\n",
      "|   2    | 0.0315315315315 |  0.00140784117201 |\n",
      "|   3    | 0.0503837170504 |  0.00434162925249 |\n",
      "|   4    | 0.0578078078078 |  0.00756300233299 |\n",
      "|   5    | 0.0624624624625 |  0.0116312121757  |\n",
      "|   6    | 0.0628962295629 |  0.0153052340633  |\n",
      "|   7    | 0.0624910624911 |  0.0178448428296  |\n",
      "|   8    | 0.0633133133133 |  0.0208530185765  |\n",
      "|   9    | 0.0633967300634 |  0.0256184850646  |\n",
      "|   10   | 0.0627627627628 |  0.0290092777108  |\n",
      "+--------+-----------------+-------------------+\n",
      "[10 rows x 3 columns]\n",
      "\n",
      "\n",
      "Overall RMSE: 0.887830761945\n",
      "\n",
      "Per User RMSE (best)\n",
      "+--------+-------+-----------------+\n",
      "| userId | count |       rmse      |\n",
      "+--------+-------+-----------------+\n",
      "| 45504  |   1   | 0.0135166420434 |\n",
      "+--------+-------+-----------------+\n",
      "[1 rows x 3 columns]\n",
      "\n",
      "\n",
      "Per User RMSE (worst)\n",
      "+--------+-------+---------------+\n",
      "| userId | count |      rmse     |\n",
      "+--------+-------+---------------+\n",
      "| 44174  |   4   | 2.90511560388 |\n",
      "+--------+-------+---------------+\n",
      "[1 rows x 3 columns]\n",
      "\n",
      "\n",
      "Per Item RMSE (best)\n",
      "+---------+-------+-------------------+\n",
      "| movieId | count |        rmse       |\n",
      "+---------+-------+-------------------+\n",
      "|   463   |   1   | 0.000484362179705 |\n",
      "+---------+-------+-------------------+\n",
      "[1 rows x 3 columns]\n",
      "\n",
      "\n",
      "Per Item RMSE (worst)\n",
      "+---------+-------+---------------+\n",
      "| movieId | count |      rmse     |\n",
      "+---------+-------+---------------+\n",
      "|  130508 |   1   | 4.25174684236 |\n",
      "+---------+-------+---------------+\n",
      "[1 rows x 3 columns]\n",
      "\n"
     ]
    },
    {
     "data": {
      "text/plain": [
       "{'precision_recall_by_user': Columns:\n",
       " \tuserId\tint\n",
       " \tcutoff\tint\n",
       " \tprecision\tfloat\n",
       " \trecall\tfloat\n",
       " \tcount\tint\n",
       " \n",
       " Rows: 17982\n",
       " \n",
       " Data:\n",
       " +--------+--------+----------------+-----------------+-------+\n",
       " | userId | cutoff |   precision    |      recall     | count |\n",
       " +--------+--------+----------------+-----------------+-------+\n",
       " |  239   |   1    |      0.0       |       0.0       |   49  |\n",
       " |  239   |   2    |      0.0       |       0.0       |   49  |\n",
       " |  239   |   3    | 0.333333333333 | 0.0204081632653 |   49  |\n",
       " |  239   |   4    |      0.25      | 0.0204081632653 |   49  |\n",
       " |  239   |   5    |      0.4       | 0.0408163265306 |   49  |\n",
       " |  239   |   6    | 0.333333333333 | 0.0408163265306 |   49  |\n",
       " |  239   |   7    | 0.285714285714 | 0.0408163265306 |   49  |\n",
       " |  239   |   8    |      0.25      | 0.0408163265306 |   49  |\n",
       " |  239   |   9    | 0.222222222222 | 0.0408163265306 |   49  |\n",
       " |  239   |   10   |      0.2       | 0.0408163265306 |   49  |\n",
       " +--------+--------+----------------+-----------------+-------+\n",
       " [17982 rows x 5 columns]\n",
       " Note: Only the head of the SFrame is printed.\n",
       " You can use print_rows(num_rows=m, num_columns=n) to print more rows and columns.,\n",
       " 'precision_recall_overall': Columns:\n",
       " \tcutoff\tint\n",
       " \tprecision\tfloat\n",
       " \trecall\tfloat\n",
       " \n",
       " Rows: 18\n",
       " \n",
       " Data:\n",
       " +--------+-----------------+-------------------+\n",
       " | cutoff |    precision    |       recall      |\n",
       " +--------+-----------------+-------------------+\n",
       " |   1    |  0.029029029029 | 0.000531985161351 |\n",
       " |   2    | 0.0315315315315 |  0.00140784117201 |\n",
       " |   3    | 0.0503837170504 |  0.00434162925249 |\n",
       " |   4    | 0.0578078078078 |  0.00756300233299 |\n",
       " |   5    | 0.0624624624625 |  0.0116312121757  |\n",
       " |   6    | 0.0628962295629 |  0.0153052340633  |\n",
       " |   7    | 0.0624910624911 |  0.0178448428296  |\n",
       " |   8    | 0.0633133133133 |  0.0208530185765  |\n",
       " |   9    | 0.0633967300634 |  0.0256184850646  |\n",
       " |   10   | 0.0627627627628 |  0.0290092777108  |\n",
       " +--------+-----------------+-------------------+\n",
       " [18 rows x 3 columns]\n",
       " Note: Only the head of the SFrame is printed.\n",
       " You can use print_rows(num_rows=m, num_columns=n) to print more rows and columns.,\n",
       " 'rmse_by_item': Columns:\n",
       " \tmovieId\tint\n",
       " \tcount\tint\n",
       " \trmse\tfloat\n",
       " \n",
       " Rows: 5989\n",
       " \n",
       " Data:\n",
       " +---------+-------+----------------+\n",
       " | movieId | count |      rmse      |\n",
       " +---------+-------+----------------+\n",
       " |  103306 |   1   | 0.173749633415 |\n",
       " |   2779  |   4   | 0.394288674191 |\n",
       " |   118   |   1   | 1.06038404823  |\n",
       " |   3988  |   7   | 0.965958707575 |\n",
       " |   2847  |   1   | 1.19580621786  |\n",
       " |  64614  |   11  | 0.767066828273 |\n",
       " |   2925  |   3   | 1.31116464518  |\n",
       " |  102753 |   1   | 0.26387907617  |\n",
       " |   2871  |   15  | 0.805460877469 |\n",
       " |   2043  |   4   |  1.0016124171  |\n",
       " +---------+-------+----------------+\n",
       " [5989 rows x 3 columns]\n",
       " Note: Only the head of the SFrame is printed.\n",
       " You can use print_rows(num_rows=m, num_columns=n) to print more rows and columns.,\n",
       " 'rmse_by_user': Columns:\n",
       " \tuserId\tint\n",
       " \tcount\tint\n",
       " \trmse\tfloat\n",
       " \n",
       " Rows: 999\n",
       " \n",
       " Data:\n",
       " +--------+-------+----------------+\n",
       " | userId | count |      rmse      |\n",
       " +--------+-------+----------------+\n",
       " | 133556 |   5   | 1.14739776534  |\n",
       " | 57659  |   7   | 0.93293613158  |\n",
       " | 105560 |   55  | 1.16603636896  |\n",
       " | 27447  |   5   | 1.20984400145  |\n",
       " | 73813  |   18  | 2.30141254713  |\n",
       " | 125612 |   11  | 1.06544864405  |\n",
       " | 102083 |   20  | 0.648477803534 |\n",
       " | 101719 |   14  | 0.66169275885  |\n",
       " | 36377  |   47  | 0.763234354609 |\n",
       " | 16149  |   5   | 0.396861405311 |\n",
       " +--------+-------+----------------+\n",
       " [999 rows x 3 columns]\n",
       " Note: Only the head of the SFrame is printed.\n",
       " You can use print_rows(num_rows=m, num_columns=n) to print more rows and columns.,\n",
       " 'rmse_overall': 0.8878307619453323}"
      ]
     },
     "execution_count": 22,
     "metadata": {},
     "output_type": "execute_result"
    }
   ],
   "source": [
    "model.evaluate(test)"
   ]
  },
  {
   "cell_type": "code",
   "execution_count": 24,
   "metadata": {},
   "outputs": [
    {
     "data": {
      "text/html": [
       "<pre>Warning: Ignoring columns X1, (no genres listed), Action, Adventure, Animation, Children, Comedy, Crime, Documentary, Drama, Fantasy, Film-Noir, Horror, IMAX, Musical, Mystery, Romance, Sci-Fi, Thriller, War, Western;</pre>"
      ],
      "text/plain": [
       "Warning: Ignoring columns X1, (no genres listed), Action, Adventure, Animation, Children, Comedy, Crime, Documentary, Drama, Fantasy, Film-Noir, Horror, IMAX, Musical, Mystery, Romance, Sci-Fi, Thriller, War, Western;"
      ]
     },
     "metadata": {},
     "output_type": "display_data"
    },
    {
     "data": {
      "text/html": [
       "<pre>    To use these columns in scoring predictions, use a model that allows the use of additional features.</pre>"
      ],
      "text/plain": [
       "    To use these columns in scoring predictions, use a model that allows the use of additional features."
      ]
     },
     "metadata": {},
     "output_type": "display_data"
    },
    {
     "data": {
      "text/html": [
       "<pre>Preparing data set.</pre>"
      ],
      "text/plain": [
       "Preparing data set."
      ]
     },
     "metadata": {},
     "output_type": "display_data"
    },
    {
     "data": {
      "text/html": [
       "<pre>    Data has 19970119 observations with 138493 users and 26658 items.</pre>"
      ],
      "text/plain": [
       "    Data has 19970119 observations with 138493 users and 26658 items."
      ]
     },
     "metadata": {},
     "output_type": "display_data"
    },
    {
     "data": {
      "text/html": [
       "<pre>    Data prepared in: 23.1023s</pre>"
      ],
      "text/plain": [
       "    Data prepared in: 23.1023s"
      ]
     },
     "metadata": {},
     "output_type": "display_data"
    },
    {
     "data": {
      "text/html": [
       "<pre>19970119 observations to process; with 26658 unique items.</pre>"
      ],
      "text/plain": [
       "19970119 observations to process; with 26658 unique items."
      ]
     },
     "metadata": {},
     "output_type": "display_data"
    }
   ],
   "source": [
    "model2 = tc.recommender.popularity_recommender.create(train, target=\"rating\", user_id=\"userId\", item_id=\"movieId\")"
   ]
  },
  {
   "cell_type": "code",
   "execution_count": 25,
   "metadata": {},
   "outputs": [],
   "source": [
    "predictions2 = model2.predict(test)"
   ]
  },
  {
   "cell_type": "code",
   "execution_count": 26,
   "metadata": {},
   "outputs": [
    {
     "name": "stdout",
     "output_type": "stream",
     "text": [
      "\n",
      "Precision and recall summary statistics by cutoff\n",
      "+--------+----------------+-------------+\n",
      "| cutoff | mean_precision | mean_recall |\n",
      "+--------+----------------+-------------+\n",
      "|   1    |      0.0       |     0.0     |\n",
      "|   2    |      0.0       |     0.0     |\n",
      "|   3    |      0.0       |     0.0     |\n",
      "|   4    |      0.0       |     0.0     |\n",
      "|   5    |      0.0       |     0.0     |\n",
      "|   6    |      0.0       |     0.0     |\n",
      "|   7    |      0.0       |     0.0     |\n",
      "|   8    |      0.0       |     0.0     |\n",
      "|   9    |      0.0       |     0.0     |\n",
      "|   10   |      0.0       |     0.0     |\n",
      "+--------+----------------+-------------+\n",
      "[10 rows x 3 columns]\n",
      "\n",
      "\n",
      "Overall RMSE: 0.957389572009\n",
      "\n",
      "Per User RMSE (best)\n",
      "+--------+-------+-----------------+\n",
      "| userId | count |       rmse      |\n",
      "+--------+-------+-----------------+\n",
      "| 56803  |   1   | 0.0881826936305 |\n",
      "+--------+-------+-----------------+\n",
      "[1 rows x 3 columns]\n",
      "\n",
      "\n",
      "Per User RMSE (worst)\n",
      "+--------+-------+---------------+\n",
      "| userId | count |      rmse     |\n",
      "+--------+-------+---------------+\n",
      "| 44174  |   4   | 3.14037131587 |\n",
      "+--------+-------+---------------+\n",
      "[1 rows x 3 columns]\n",
      "\n",
      "\n",
      "Per Item RMSE (best)\n",
      "+---------+-------+------+\n",
      "| movieId | count | rmse |\n",
      "+---------+-------+------+\n",
      "|  65562  |   1   | 0.0  |\n",
      "+---------+-------+------+\n",
      "[1 rows x 3 columns]\n",
      "\n",
      "\n",
      "Per Item RMSE (worst)\n",
      "+---------+-------+------+\n",
      "| movieId | count | rmse |\n",
      "+---------+-------+------+\n",
      "|  106676 |   1   | 3.5  |\n",
      "+---------+-------+------+\n",
      "[1 rows x 3 columns]\n",
      "\n"
     ]
    },
    {
     "data": {
      "text/plain": [
       "{'precision_recall_by_user': Columns:\n",
       " \tuserId\tint\n",
       " \tcutoff\tint\n",
       " \tprecision\tfloat\n",
       " \trecall\tfloat\n",
       " \tcount\tint\n",
       " \n",
       " Rows: 17982\n",
       " \n",
       " Data:\n",
       " +--------+--------+-----------+--------+-------+\n",
       " | userId | cutoff | precision | recall | count |\n",
       " +--------+--------+-----------+--------+-------+\n",
       " |  239   |   1    |    0.0    |  0.0   |   49  |\n",
       " |  239   |   2    |    0.0    |  0.0   |   49  |\n",
       " |  239   |   3    |    0.0    |  0.0   |   49  |\n",
       " |  239   |   4    |    0.0    |  0.0   |   49  |\n",
       " |  239   |   5    |    0.0    |  0.0   |   49  |\n",
       " |  239   |   6    |    0.0    |  0.0   |   49  |\n",
       " |  239   |   7    |    0.0    |  0.0   |   49  |\n",
       " |  239   |   8    |    0.0    |  0.0   |   49  |\n",
       " |  239   |   9    |    0.0    |  0.0   |   49  |\n",
       " |  239   |   10   |    0.0    |  0.0   |   49  |\n",
       " +--------+--------+-----------+--------+-------+\n",
       " [17982 rows x 5 columns]\n",
       " Note: Only the head of the SFrame is printed.\n",
       " You can use print_rows(num_rows=m, num_columns=n) to print more rows and columns.,\n",
       " 'precision_recall_overall': Columns:\n",
       " \tcutoff\tint\n",
       " \tprecision\tfloat\n",
       " \trecall\tfloat\n",
       " \n",
       " Rows: 18\n",
       " \n",
       " Data:\n",
       " +--------+-----------+--------+\n",
       " | cutoff | precision | recall |\n",
       " +--------+-----------+--------+\n",
       " |   1    |    0.0    |  0.0   |\n",
       " |   2    |    0.0    |  0.0   |\n",
       " |   3    |    0.0    |  0.0   |\n",
       " |   4    |    0.0    |  0.0   |\n",
       " |   5    |    0.0    |  0.0   |\n",
       " |   6    |    0.0    |  0.0   |\n",
       " |   7    |    0.0    |  0.0   |\n",
       " |   8    |    0.0    |  0.0   |\n",
       " |   9    |    0.0    |  0.0   |\n",
       " |   10   |    0.0    |  0.0   |\n",
       " +--------+-----------+--------+\n",
       " [18 rows x 3 columns]\n",
       " Note: Only the head of the SFrame is printed.\n",
       " You can use print_rows(num_rows=m, num_columns=n) to print more rows and columns.,\n",
       " 'rmse_by_item': Columns:\n",
       " \tmovieId\tint\n",
       " \tcount\tint\n",
       " \trmse\tfloat\n",
       " \n",
       " Rows: 5989\n",
       " \n",
       " Data:\n",
       " +---------+-------+----------------+\n",
       " | movieId | count |      rmse      |\n",
       " +---------+-------+----------------+\n",
       " |  103306 |   1   | 0.324120603015 |\n",
       " |   2779  |   4   | 0.502775625769 |\n",
       " |   118   |   1   | 0.98986784141  |\n",
       " |   3988  |   7   | 1.09986932147  |\n",
       " |   2847  |   1   | 1.16066481994  |\n",
       " |  64614  |   11  | 0.760413364035 |\n",
       " |   2925  |   3   | 1.21487641086  |\n",
       " |  102753 |   1   | 0.226086956522 |\n",
       " |   2871  |   15  | 0.892963681441 |\n",
       " |   2043  |   4   | 1.20410945206  |\n",
       " +---------+-------+----------------+\n",
       " [5989 rows x 3 columns]\n",
       " Note: Only the head of the SFrame is printed.\n",
       " You can use print_rows(num_rows=m, num_columns=n) to print more rows and columns.,\n",
       " 'rmse_by_user': Columns:\n",
       " \tuserId\tint\n",
       " \tcount\tint\n",
       " \trmse\tfloat\n",
       " \n",
       " Rows: 999\n",
       " \n",
       " Data:\n",
       " +--------+-------+----------------+\n",
       " | userId | count |      rmse      |\n",
       " +--------+-------+----------------+\n",
       " | 133556 |   5   | 1.13220266066  |\n",
       " | 57659  |   7   | 0.897675530432 |\n",
       " | 105560 |   55  |  1.1972135906  |\n",
       " | 27447  |   5   | 1.23830687464  |\n",
       " | 73813  |   18  | 2.41137759037  |\n",
       " | 125612 |   11  | 1.18206423578  |\n",
       " | 102083 |   20  | 0.650945404096 |\n",
       " | 101719 |   14  | 0.643948388057 |\n",
       " | 36377  |   47  | 1.00049352353  |\n",
       " | 16149  |   5   | 0.422211514706 |\n",
       " +--------+-------+----------------+\n",
       " [999 rows x 3 columns]\n",
       " Note: Only the head of the SFrame is printed.\n",
       " You can use print_rows(num_rows=m, num_columns=n) to print more rows and columns.,\n",
       " 'rmse_overall': 0.9573895720089262}"
      ]
     },
     "execution_count": 26,
     "metadata": {},
     "output_type": "execute_result"
    }
   ],
   "source": [
    "model2.evaluate(test)"
   ]
  },
  {
   "cell_type": "code",
   "execution_count": 27,
   "metadata": {},
   "outputs": [],
   "source": [
    "predictions2 = predictions2.astype(int)\n",
    "targets2 = test['rating']\n",
    "targets2 = targets2.astype(int)"
   ]
  },
  {
   "cell_type": "code",
   "execution_count": 28,
   "metadata": {},
   "outputs": [
    {
     "data": {
      "text/plain": [
       "0.34029989384288745"
      ]
     },
     "execution_count": 28,
     "metadata": {},
     "output_type": "execute_result"
    }
   ],
   "source": [
    "eval3 = tc.evaluation.accuracy(targets2, predictions2, average = \"micro\")\n",
    "eval3"
   ]
  },
  {
   "cell_type": "code",
   "execution_count": 29,
   "metadata": {},
   "outputs": [
    {
     "data": {
      "text/plain": [
       "{0: 0.0,\n",
       " 1: 0.27380952380952384,\n",
       " 2: 0.2589711417816813,\n",
       " 3: 0.3369066566800861,\n",
       " 4: 0.4286640726329442,\n",
       " 5: 0.0}"
      ]
     },
     "execution_count": 29,
     "metadata": {},
     "output_type": "execute_result"
    }
   ],
   "source": [
    "eval4 = tc.evaluation.accuracy(targets2, predictions2, average = None)\n",
    "eval4"
   ]
  },
  {
   "attachments": {},
   "cell_type": "markdown",
   "metadata": {
    "collapsed": true
   },
   "source": [
    "### Model Summaries (RSME):\n",
    "\n",
    "#### 2018 20M\n",
    "* factorization 0.8878\n",
    "* popularity 0.9573\n",
    "\n",
    "#### 1998 100k\n",
    "* factorization 0.9693\n",
    "* popularity 1.0278\n"
   ]
  },
  {
   "cell_type": "code",
   "execution_count": null,
   "metadata": {},
   "outputs": [],
   "source": []
  },
  {
   "cell_type": "code",
   "execution_count": null,
   "metadata": {},
   "outputs": [],
   "source": []
  }
 ],
 "metadata": {
  "kernelspec": {
   "display_name": "venv",
   "language": "python",
   "name": "venv"
  },
  "language_info": {
   "codemirror_mode": {
    "name": "ipython",
    "version": 2
   },
   "file_extension": ".py",
   "mimetype": "text/x-python",
   "name": "python",
   "nbconvert_exporter": "python",
   "pygments_lexer": "ipython2",
   "version": "2.7.16"
  }
 },
 "nbformat": 4,
 "nbformat_minor": 2
}
