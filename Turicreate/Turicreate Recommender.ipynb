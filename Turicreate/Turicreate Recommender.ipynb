{
 "cells": [
  {
   "cell_type": "markdown",
   "metadata": {},
   "source": [
    "Explored using Turicreate\n",
    "https://apple.github.io/turicreate/docs/api/"
   ]
  },
  {
   "cell_type": "code",
   "execution_count": 1,
   "metadata": {},
   "outputs": [],
   "source": [
    "import turicreate as tc\n",
    "import warnings\n",
    "warnings.simplefilter('ignore')\n"
   ]
  },
  {
   "cell_type": "code",
   "execution_count": 2,
   "metadata": {},
   "outputs": [
    {
     "data": {
      "text/html": [
       "<pre>Finished parsing file /Users/kerrykovacik/Desktop/Career/Data Boot Camp/HW/Project 3/movie_app/data/ml-100k/2018100k.csv</pre>"
      ],
      "text/plain": [
       "Finished parsing file /Users/kerrykovacik/Desktop/Career/Data Boot Camp/HW/Project 3/movie_app/data/ml-100k/2018100k.csv"
      ]
     },
     "metadata": {},
     "output_type": "display_data"
    },
    {
     "data": {
      "text/html": [
       "<pre>Parsing completed. Parsed 100 lines in 0.219827 secs.</pre>"
      ],
      "text/plain": [
       "Parsing completed. Parsed 100 lines in 0.219827 secs."
      ]
     },
     "metadata": {},
     "output_type": "display_data"
    },
    {
     "name": "stdout",
     "output_type": "stream",
     "text": [
      "------------------------------------------------------\n",
      "Inferred types from first 100 line(s) of file as \n",
      "column_type_hints=[int,int,int,float,int,int,int,int,int,int,int,int,int,int,int,int,int,int,int,int,int,int,int,int]\n",
      "If parsing fails due to incorrect types, you can correct\n",
      "the inferred type list above and pass it to read_csv in\n",
      "the column_type_hints argument\n",
      "------------------------------------------------------\n"
     ]
    },
    {
     "data": {
      "text/html": [
       "<pre>Finished parsing file /Users/kerrykovacik/Desktop/Career/Data Boot Camp/HW/Project 3/movie_app/data/ml-100k/2018100k.csv</pre>"
      ],
      "text/plain": [
       "Finished parsing file /Users/kerrykovacik/Desktop/Career/Data Boot Camp/HW/Project 3/movie_app/data/ml-100k/2018100k.csv"
      ]
     },
     "metadata": {},
     "output_type": "display_data"
    },
    {
     "data": {
      "text/html": [
       "<pre>Parsing completed. Parsed 100836 lines in 0.395901 secs.</pre>"
      ],
      "text/plain": [
       "Parsing completed. Parsed 100836 lines in 0.395901 secs."
      ]
     },
     "metadata": {},
     "output_type": "display_data"
    }
   ],
   "source": [
    "data = tc.SFrame.read_csv('../data/ml-100k/2018100k.csv')"
   ]
  },
  {
   "cell_type": "code",
   "execution_count": 3,
   "metadata": {},
   "outputs": [
    {
     "data": {
      "text/html": [
       "<pre>Materializing SFrame</pre>"
      ],
      "text/plain": [
       "Materializing SFrame"
      ]
     },
     "metadata": {},
     "output_type": "display_data"
    },
    {
     "data": {
      "text/html": [
       "<html>                 <body>                     <iframe style=\"border:0;margin:0\" width=\"1000\" height=\"7500\" srcdoc='<html lang=\"en\">                         <head>                             <script src=\"https://cdnjs.cloudflare.com/ajax/libs/vega/3.0.8/vega.js\"></script>                             <script src=\"https://cdnjs.cloudflare.com/ajax/libs/vega-embed/3.0.0-rc7/vega-embed.js\"></script>                             <script src=\"https://cdnjs.cloudflare.com/ajax/libs/vega-tooltip/0.5.1/vega-tooltip.min.js\"></script>                             <link rel=\"stylesheet\" type=\"text/css\" href=\"https://cdnjs.cloudflare.com/ajax/libs/vega-tooltip/0.5.1/vega-tooltip.min.css\">                             <style>                             .vega-actions > a{                                 color:white;                                 text-decoration: none;                                 font-family: \"Arial\";                                 cursor:pointer;                                 padding:5px;                                 background:#AAAAAA;                                 border-radius:4px;                                 padding-left:10px;                                 padding-right:10px;                                 margin-right:5px;                             }                             .vega-actions{                                 margin-top:20px;                                 text-align:center                             }                            .vega-actions > a{                                 background:#999999;                            }                             </style>                         </head>                         <body>                             <div id=\"vis\">                             </div>                             <script>                                 var vega_json = \"{\\\"config\\\": {\\\"style\\\": {\\\"rect\\\": {\\\"stroke\\\": \\\"rgba(200, 200, 200, 0.5)\\\"}, \\\"group-title\\\": {\\\"fontWeight\\\": \\\"normal\\\", \\\"font\\\": \\\"HelveticaNeue-Light, Arial\\\", \\\"fontSize\\\": 20, \\\"fill\\\": \\\"#595959\\\"}}, \\\"axisY\\\": {\\\"minExtent\\\": 30}, \\\"axis\\\": {\\\"titlePadding\\\": 9, \\\"labelPadding\\\": 10, \\\"labelFont\\\": \\\"HelveticaNeue-Light, Arial\\\", \\\"labelFontSize\\\": 7, \\\"labelColor\\\": \\\"#595959\\\", \\\"titleFont\\\": \\\"HelveticaNeue-Light, Arial\\\", \\\"titleFontSize\\\": 12, \\\"titleColor\\\": \\\"#595959\\\", \\\"titleFontWeight\\\": \\\"normal\\\"}}, \\\"height\\\": 7280, \\\"padding\\\": 8, \\\"width\\\": 800, \\\"marks\\\": [{\\\"encode\\\": {\\\"enter\\\": {\\\"strokeWidth\\\": {\\\"value\\\": 0}, \\\"clip\\\": {\\\"value\\\": 0}, \\\"height\\\": {\\\"value\\\": 366}, \\\"width\\\": {\\\"value\\\": 734}, \\\"stroke\\\": {\\\"value\\\": \\\"#000000\\\"}, \\\"fillOpacity\\\": {\\\"value\\\": 0}, \\\"y\\\": {\\\"value\\\": 0}, \\\"x\\\": {\\\"value\\\": 0}, \\\"fill\\\": {\\\"value\\\": \\\"#ffffff\\\"}}}, \\\"type\\\": \\\"group\\\", \\\"marks\\\": [{\\\"encode\\\": {\\\"enter\\\": {\\\"strokeWidth\\\": {\\\"value\\\": 0}, \\\"clip\\\": {\\\"value\\\": 0}, \\\"height\\\": {\\\"value\\\": 366}, \\\"width\\\": {\\\"value\\\": 734}, \\\"stroke\\\": {\\\"value\\\": \\\"#000000\\\"}, \\\"fillOpacity\\\": {\\\"value\\\": 0}, \\\"y\\\": {\\\"value\\\": 0}, \\\"x\\\": {\\\"value\\\": 0}, \\\"fill\\\": {\\\"value\\\": \\\"#ffffff\\\"}}}, \\\"marks\\\": [{\\\"encode\\\": {\\\"update\\\": {\\\"y\\\": {\\\"field\\\": \\\"c_main_background\\\"}, \\\"x\\\": {\\\"signal\\\": \\\"datum[\\\\\\\"c_x_axis_back\\\\\\\"]\\\"}}, \\\"enter\\\": {\\\"strokeWidth\\\": {\\\"value\\\": 0.5}, \\\"height\\\": {\\\"value\\\": 250}, \\\"width\\\": {\\\"value\\\": 700}, \\\"stroke\\\": {\\\"value\\\": \\\"#DEDEDE\\\"}, \\\"fillOpacity\\\": {\\\"value\\\": 1}, \\\"y\\\": {\\\"value\\\": 66}, \\\"x\\\": {\\\"value\\\": 33}, \\\"fill\\\": {\\\"value\\\": \\\"#FEFEFE\\\"}}}, \\\"type\\\": \\\"rect\\\", \\\"from\\\": {\\\"data\\\": \\\"data_2\\\"}}, {\\\"encode\\\": {\\\"update\\\": {\\\"y\\\": {\\\"field\\\": \\\"c_top_bar\\\"}, \\\"x\\\": {\\\"signal\\\": \\\"datum[\\\\\\\"c_x_axis_back\\\\\\\"]\\\"}}, \\\"enter\\\": {\\\"strokeWidth\\\": {\\\"value\\\": 0.5}, \\\"height\\\": {\\\"value\\\": 30}, \\\"width\\\": {\\\"value\\\": 700}, \\\"stroke\\\": {\\\"value\\\": \\\"#DEDEDE\\\"}, \\\"fillOpacity\\\": {\\\"value\\\": 1}, \\\"y\\\": {\\\"value\\\": 43}, \\\"x\\\": {\\\"value\\\": 33}, \\\"fill\\\": {\\\"value\\\": \\\"#F5F5F5\\\"}}}, \\\"type\\\": \\\"rect\\\", \\\"from\\\": {\\\"data\\\": \\\"data_2\\\"}}, {\\\"encode\\\": {\\\"update\\\": {\\\"y\\\": {\\\"field\\\": \\\"c_top_type\\\"}, \\\"x\\\": {\\\"signal\\\": \\\"datum[\\\\\\\"c_x_axis_back\\\\\\\"]+687\\\"}}, \\\"enter\\\": {\\\"fontStyle\\\": {\\\"value\\\": \\\"normal\\\"}, \\\"angle\\\": {\\\"value\\\": 0}, \\\"baseline\\\": {\\\"value\\\": \\\"middle\\\"}, \\\"text\\\": {\\\"signal\\\": \\\"&apos;&apos;+datum[\\\\\\\"type\\\\\\\"]\\\"}, \\\"align\\\": {\\\"value\\\": \\\"right\\\"}, \\\"fontWeight\\\": {\\\"value\\\": \\\"normal\\\"}, \\\"fontSize\\\": {\\\"value\\\": 12}, \\\"dx\\\": {\\\"value\\\": 0, \\\"offset\\\": 0}, \\\"dy\\\": {\\\"value\\\": 0, \\\"offset\\\": 0}, \\\"y\\\": {\\\"value\\\": 58}, \\\"x\\\": {\\\"value\\\": 720}, \\\"font\\\": {\\\"value\\\": \\\"AvenirNext-Medium\\\"}, \\\"fill\\\": {\\\"value\\\": \\\"#595859\\\"}}}, \\\"type\\\": \\\"text\\\", \\\"from\\\": {\\\"data\\\": \\\"data_2\\\"}}, {\\\"encode\\\": {\\\"update\\\": {\\\"y\\\": {\\\"field\\\": \\\"c_top_title\\\"}, \\\"x\\\": {\\\"signal\\\": \\\"datum[\\\\\\\"c_x_axis_back\\\\\\\"]+11\\\"}}, \\\"enter\\\": {\\\"fontStyle\\\": {\\\"value\\\": \\\"normal\\\"}, \\\"angle\\\": {\\\"value\\\": 0}, \\\"baseline\\\": {\\\"value\\\": \\\"middle\\\"}, \\\"text\\\": {\\\"signal\\\": \\\"&apos;&apos;+datum[\\\\\\\"title\\\\\\\"]\\\"}, \\\"align\\\": {\\\"value\\\": \\\"left\\\"}, \\\"fontWeight\\\": {\\\"value\\\": \\\"normal\\\"}, \\\"fontSize\\\": {\\\"value\\\": 15}, \\\"dx\\\": {\\\"value\\\": 0, \\\"offset\\\": 0}, \\\"dy\\\": {\\\"value\\\": 0, \\\"offset\\\": 0}, \\\"y\\\": {\\\"value\\\": 59}, \\\"x\\\": {\\\"value\\\": 44}, \\\"font\\\": {\\\"value\\\": \\\"AvenirNext-Medium\\\"}, \\\"fill\\\": {\\\"value\\\": \\\"#9B9B9B\\\"}}}, \\\"type\\\": \\\"text\\\", \\\"from\\\": {\\\"data\\\": \\\"data_2\\\"}}, {\\\"encode\\\": {\\\"update\\\": {\\\"x2\\\": {\\\"signal\\\": \\\"datum[\\\\\\\"c_x_axis_back\\\\\\\"]+687\\\"}, \\\"x\\\": {\\\"signal\\\": \\\"datum[\\\\\\\"c_x_axis_back\\\\\\\"]+467\\\"}, \\\"y2\\\": {\\\"field\\\": \\\"c_rule\\\"}, \\\"y\\\": {\\\"field\\\": \\\"c_rule\\\"}}, \\\"enter\\\": {\\\"strokeWidth\\\": {\\\"value\\\": 1}, \\\"strokeCap\\\": {\\\"value\\\": \\\"butt\\\"}, \\\"x2\\\": {\\\"value\\\": 720}, \\\"stroke\\\": {\\\"value\\\": \\\"#EDEDEB\\\"}, \\\"y\\\": {\\\"value\\\": 178}, \\\"x\\\": {\\\"value\\\": 500}, \\\"y2\\\": {\\\"value\\\": 178}}}, \\\"type\\\": \\\"rule\\\", \\\"from\\\": {\\\"data\\\": \\\"data_2\\\"}}, {\\\"encode\\\": {\\\"update\\\": {\\\"y\\\": {\\\"field\\\": \\\"c_num_rows\\\"}, \\\"x\\\": {\\\"signal\\\": \\\"datum[\\\\\\\"c_x_axis_back\\\\\\\"]+467\\\"}}, \\\"enter\\\": {\\\"fontStyle\\\": {\\\"value\\\": \\\"normal\\\"}, \\\"angle\\\": {\\\"value\\\": 0}, \\\"baseline\\\": {\\\"value\\\": \\\"middle\\\"}, \\\"text\\\": {\\\"value\\\": \\\"Num. Rows:\\\"}, \\\"align\\\": {\\\"value\\\": \\\"left\\\"}, \\\"fontWeight\\\": {\\\"value\\\": \\\"normal\\\"}, \\\"fontSize\\\": {\\\"value\\\": 12}, \\\"dx\\\": {\\\"value\\\": 0, \\\"offset\\\": 0}, \\\"dy\\\": {\\\"value\\\": 0, \\\"offset\\\": 0}, \\\"y\\\": {\\\"value\\\": 106}, \\\"x\\\": {\\\"value\\\": 500}, \\\"font\\\": {\\\"value\\\": \\\"AvenirNext-Medium\\\"}, \\\"fill\\\": {\\\"value\\\": \\\"#4A4A4A\\\"}}}, \\\"type\\\": \\\"text\\\", \\\"from\\\": {\\\"data\\\": \\\"data_2\\\"}}, {\\\"encode\\\": {\\\"update\\\": {\\\"y\\\": {\\\"field\\\": \\\"c_num_unique\\\"}, \\\"x\\\": {\\\"signal\\\": \\\"datum[\\\\\\\"c_x_axis_back\\\\\\\"]+467\\\"}}, \\\"enter\\\": {\\\"fontStyle\\\": {\\\"value\\\": \\\"normal\\\"}, \\\"angle\\\": {\\\"value\\\": 0}, \\\"baseline\\\": {\\\"value\\\": \\\"middle\\\"}, \\\"text\\\": {\\\"value\\\": \\\"Num. Unique:\\\"}, \\\"align\\\": {\\\"value\\\": \\\"left\\\"}, \\\"fontWeight\\\": {\\\"value\\\": \\\"normal\\\"}, \\\"fontSize\\\": {\\\"value\\\": 12}, \\\"dx\\\": {\\\"value\\\": 0, \\\"offset\\\": 0}, \\\"dy\\\": {\\\"value\\\": 0, \\\"offset\\\": 0}, \\\"y\\\": {\\\"value\\\": 130}, \\\"x\\\": {\\\"value\\\": 500}, \\\"font\\\": {\\\"value\\\": \\\"AvenirNext-Medium\\\"}, \\\"fill\\\": {\\\"value\\\": \\\"#4A4A4A\\\"}}}, \\\"type\\\": \\\"text\\\", \\\"from\\\": {\\\"data\\\": \\\"data_2\\\"}}, {\\\"encode\\\": {\\\"update\\\": {\\\"y\\\": {\\\"field\\\": \\\"c_missing\\\"}, \\\"x\\\": {\\\"signal\\\": \\\"datum[\\\\\\\"c_x_axis_back\\\\\\\"]+467\\\"}}, \\\"enter\\\": {\\\"fontStyle\\\": {\\\"value\\\": \\\"normal\\\"}, \\\"angle\\\": {\\\"value\\\": 0}, \\\"baseline\\\": {\\\"value\\\": \\\"middle\\\"}, \\\"text\\\": {\\\"value\\\": \\\"Missing:\\\"}, \\\"align\\\": {\\\"value\\\": \\\"left\\\"}, \\\"fontWeight\\\": {\\\"value\\\": \\\"normal\\\"}, \\\"fontSize\\\": {\\\"value\\\": 12}, \\\"dx\\\": {\\\"value\\\": 0, \\\"offset\\\": 0}, \\\"dy\\\": {\\\"value\\\": 0, \\\"offset\\\": 0}, \\\"y\\\": {\\\"value\\\": 154}, \\\"x\\\": {\\\"value\\\": 500}, \\\"font\\\": {\\\"value\\\": \\\"AvenirNext-Medium\\\"}, \\\"fill\\\": {\\\"value\\\": \\\"#4A4A4A\\\"}}}, \\\"type\\\": \\\"text\\\", \\\"from\\\": {\\\"data\\\": \\\"data_2\\\"}}, {\\\"encode\\\": {\\\"update\\\": {\\\"y\\\": {\\\"field\\\": \\\"c_num_rows_val\\\"}, \\\"x\\\": {\\\"signal\\\": \\\"datum[\\\\\\\"c_x_axis_back\\\\\\\"]+667\\\"}}, \\\"enter\\\": {\\\"fontStyle\\\": {\\\"value\\\": \\\"normal\\\"}, \\\"angle\\\": {\\\"value\\\": 0}, \\\"baseline\\\": {\\\"value\\\": \\\"middle\\\"}, \\\"text\\\": {\\\"signal\\\": \\\"toString(format(datum[\\\\\\\"num_row\\\\\\\"], \\\\\\\",\\\\\\\"))\\\"}, \\\"align\\\": {\\\"value\\\": \\\"right\\\"}, \\\"fontWeight\\\": {\\\"value\\\": \\\"normal\\\"}, \\\"fontSize\\\": {\\\"value\\\": 12}, \\\"dx\\\": {\\\"value\\\": 0, \\\"offset\\\": 0}, \\\"dy\\\": {\\\"value\\\": 0, \\\"offset\\\": 0}, \\\"y\\\": {\\\"value\\\": 105}, \\\"x\\\": {\\\"value\\\": 700}, \\\"font\\\": {\\\"value\\\": \\\"AvenirNext-Medium\\\"}, \\\"fill\\\": {\\\"value\\\": \\\"#5A5A5A\\\"}}}, \\\"type\\\": \\\"text\\\", \\\"from\\\": {\\\"data\\\": \\\"data_2\\\"}}, {\\\"encode\\\": {\\\"update\\\": {\\\"y\\\": {\\\"field\\\": \\\"c_num_unique_val\\\"}, \\\"x\\\": {\\\"signal\\\": \\\"datum[\\\\\\\"c_x_axis_back\\\\\\\"]+667\\\"}}, \\\"enter\\\": {\\\"fontStyle\\\": {\\\"value\\\": \\\"normal\\\"}, \\\"angle\\\": {\\\"value\\\": 0}, \\\"baseline\\\": {\\\"value\\\": \\\"middle\\\"}, \\\"text\\\": {\\\"signal\\\": \\\"toString(format(datum[\\\\\\\"num_unique\\\\\\\"], \\\\\\\",\\\\\\\"))\\\"}, \\\"align\\\": {\\\"value\\\": \\\"right\\\"}, \\\"fontWeight\\\": {\\\"value\\\": \\\"normal\\\"}, \\\"fontSize\\\": {\\\"value\\\": 12}, \\\"dx\\\": {\\\"value\\\": 0, \\\"offset\\\": 0}, \\\"dy\\\": {\\\"value\\\": 0, \\\"offset\\\": 0}, \\\"y\\\": {\\\"value\\\": 130}, \\\"x\\\": {\\\"value\\\": 700}, \\\"font\\\": {\\\"value\\\": \\\"AvenirNext-Medium\\\"}, \\\"fill\\\": {\\\"value\\\": \\\"#5A5A5A\\\"}}}, \\\"type\\\": \\\"text\\\", \\\"from\\\": {\\\"data\\\": \\\"data_2\\\"}}, {\\\"encode\\\": {\\\"update\\\": {\\\"y\\\": {\\\"field\\\": \\\"c_missing_val\\\"}, \\\"x\\\": {\\\"signal\\\": \\\"datum[\\\\\\\"c_x_axis_back\\\\\\\"]+667\\\"}}, \\\"enter\\\": {\\\"fontStyle\\\": {\\\"value\\\": \\\"normal\\\"}, \\\"angle\\\": {\\\"value\\\": 0}, \\\"baseline\\\": {\\\"value\\\": \\\"middle\\\"}, \\\"text\\\": {\\\"signal\\\": \\\"toString(format(datum[\\\\\\\"num_missing\\\\\\\"], \\\\\\\",\\\\\\\"))\\\"}, \\\"align\\\": {\\\"value\\\": \\\"right\\\"}, \\\"fontWeight\\\": {\\\"value\\\": \\\"normal\\\"}, \\\"fontSize\\\": {\\\"value\\\": 12}, \\\"dx\\\": {\\\"value\\\": 0, \\\"offset\\\": 0}, \\\"dy\\\": {\\\"value\\\": 0, \\\"offset\\\": 0}, \\\"y\\\": {\\\"value\\\": 154}, \\\"x\\\": {\\\"value\\\": 700}, \\\"font\\\": {\\\"value\\\": \\\"AvenirNext-Medium\\\"}, \\\"fill\\\": {\\\"value\\\": \\\"#5A5A5A\\\"}}}, \\\"type\\\": \\\"text\\\", \\\"from\\\": {\\\"data\\\": \\\"data_2\\\"}}, {\\\"encode\\\": {\\\"update\\\": {\\\"y\\\": {\\\"field\\\": \\\"c_frequent_items\\\"}, \\\"x\\\": {\\\"signal\\\": \\\"datum[\\\\\\\"c_x_axis_back\\\\\\\"]+467\\\"}}, \\\"enter\\\": {\\\"fontStyle\\\": {\\\"value\\\": \\\"normal\\\"}, \\\"angle\\\": {\\\"value\\\": 0}, \\\"baseline\\\": {\\\"value\\\": \\\"middle\\\"}, \\\"clip\\\": {\\\"value\\\": true}, \\\"text\\\": {\\\"signal\\\": \\\"(toString(datum[\\\\\\\"type\\\\\\\"]) == \\\\\\\"str\\\\\\\")? \\\\\\\"Frequent Items\\\\\\\":\\\\\\\"\\\\\\\"\\\"}, \\\"align\\\": {\\\"value\\\": \\\"left\\\"}, \\\"fontWeight\\\": {\\\"value\\\": \\\"bold\\\"}, \\\"fontSize\\\": {\\\"value\\\": 11}, \\\"dx\\\": {\\\"value\\\": 0, \\\"offset\\\": 0}, \\\"dy\\\": {\\\"value\\\": 0, \\\"offset\\\": 0}, \\\"y\\\": {\\\"value\\\": 200}, \\\"x\\\": {\\\"value\\\": 500}, \\\"font\\\": {\\\"value\\\": \\\"AvenirNext-Medium\\\"}, \\\"fill\\\": {\\\"value\\\": \\\"#4A4A4A\\\"}}}, \\\"type\\\": \\\"text\\\", \\\"from\\\": {\\\"data\\\": \\\"data_2\\\"}}, {\\\"encode\\\": {\\\"update\\\": {\\\"y\\\": {\\\"field\\\": \\\"c_first_item\\\"}, \\\"x\\\": {\\\"signal\\\": \\\"datum[\\\\\\\"c_x_axis_back\\\\\\\"]+487\\\"}}, \\\"enter\\\": {\\\"fontStyle\\\": {\\\"value\\\": \\\"normal\\\"}, \\\"angle\\\": {\\\"value\\\": 0}, \\\"baseline\\\": {\\\"value\\\": \\\"middle\\\"}, \\\"clip\\\": {\\\"value\\\": true}, \\\"text\\\": {\\\"signal\\\": \\\"((datum[\\\\\\\"categorical\\\\\\\"].length >= 1) &amp;&amp; (toString(datum[\\\\\\\"type\\\\\\\"]) == \\\\\\\"str\\\\\\\"))? toString(datum[\\\\\\\"categorical\\\\\\\"][0][\\\\\\\"label\\\\\\\"]):\\\\\\\"\\\\\\\"\\\"}, \\\"align\\\": {\\\"value\\\": \\\"left\\\"}, \\\"fontWeight\\\": {\\\"value\\\": \\\"normal\\\"}, \\\"fontSize\\\": {\\\"value\\\": 11}, \\\"dx\\\": {\\\"value\\\": 0, \\\"offset\\\": 0}, \\\"dy\\\": {\\\"value\\\": 0, \\\"offset\\\": 0}, \\\"y\\\": {\\\"value\\\": 200}, \\\"x\\\": {\\\"value\\\": 520}, \\\"font\\\": {\\\"value\\\": \\\"AvenirNext-Medium\\\"}, \\\"fill\\\": {\\\"value\\\": \\\"#4A4A4A\\\"}}}, \\\"type\\\": \\\"text\\\", \\\"from\\\": {\\\"data\\\": \\\"data_2\\\"}}, {\\\"encode\\\": {\\\"update\\\": {\\\"y\\\": {\\\"field\\\": \\\"c_second_item\\\"}, \\\"x\\\": {\\\"signal\\\": \\\"datum[\\\\\\\"c_x_axis_back\\\\\\\"]+487\\\"}}, \\\"enter\\\": {\\\"fontStyle\\\": {\\\"value\\\": \\\"normal\\\"}, \\\"angle\\\": {\\\"value\\\": 0}, \\\"baseline\\\": {\\\"value\\\": \\\"middle\\\"}, \\\"clip\\\": {\\\"value\\\": true}, \\\"text\\\": {\\\"signal\\\": \\\"((datum[\\\\\\\"categorical\\\\\\\"].length >= 2) &amp;&amp; (toString(datum[\\\\\\\"type\\\\\\\"]) == \\\\\\\"str\\\\\\\"))? toString(datum[\\\\\\\"categorical\\\\\\\"][1][\\\\\\\"label\\\\\\\"]):\\\\\\\"\\\\\\\"\\\"}, \\\"align\\\": {\\\"value\\\": \\\"left\\\"}, \\\"fontWeight\\\": {\\\"value\\\": \\\"normal\\\"}, \\\"fontSize\\\": {\\\"value\\\": 11}, \\\"dx\\\": {\\\"value\\\": 0, \\\"offset\\\": 0}, \\\"dy\\\": {\\\"value\\\": 0, \\\"offset\\\": 0}, \\\"y\\\": {\\\"value\\\": 200}, \\\"x\\\": {\\\"value\\\": 520}, \\\"font\\\": {\\\"value\\\": \\\"AvenirNext-Medium\\\"}, \\\"fill\\\": {\\\"value\\\": \\\"#4A4A4A\\\"}}}, \\\"type\\\": \\\"text\\\", \\\"from\\\": {\\\"data\\\": \\\"data_2\\\"}}, {\\\"encode\\\": {\\\"update\\\": {\\\"y\\\": {\\\"field\\\": \\\"c_third_item\\\"}, \\\"x\\\": {\\\"signal\\\": \\\"datum[\\\\\\\"c_x_axis_back\\\\\\\"]+487\\\"}}, \\\"enter\\\": {\\\"fontStyle\\\": {\\\"value\\\": \\\"normal\\\"}, \\\"angle\\\": {\\\"value\\\": 0}, \\\"baseline\\\": {\\\"value\\\": \\\"middle\\\"}, \\\"clip\\\": {\\\"value\\\": true}, \\\"text\\\": {\\\"signal\\\": \\\"((datum[\\\\\\\"categorical\\\\\\\"].length >= 3) &amp;&amp; (toString(datum[\\\\\\\"type\\\\\\\"]) == \\\\\\\"str\\\\\\\"))? toString(datum[\\\\\\\"categorical\\\\\\\"][2][\\\\\\\"label\\\\\\\"]):\\\\\\\"\\\\\\\"\\\"}, \\\"align\\\": {\\\"value\\\": \\\"left\\\"}, \\\"fontWeight\\\": {\\\"value\\\": \\\"normal\\\"}, \\\"fontSize\\\": {\\\"value\\\": 11}, \\\"dx\\\": {\\\"value\\\": 0, \\\"offset\\\": 0}, \\\"dy\\\": {\\\"value\\\": 0, \\\"offset\\\": 0}, \\\"y\\\": {\\\"value\\\": 200}, \\\"x\\\": {\\\"value\\\": 520}, \\\"font\\\": {\\\"value\\\": \\\"AvenirNext-Medium\\\"}, \\\"fill\\\": {\\\"value\\\": \\\"#4A4A4A\\\"}}}, \\\"type\\\": \\\"text\\\", \\\"from\\\": {\\\"data\\\": \\\"data_2\\\"}}, {\\\"encode\\\": {\\\"update\\\": {\\\"y\\\": {\\\"field\\\": \\\"c_fourth_item\\\"}, \\\"x\\\": {\\\"signal\\\": \\\"datum[\\\\\\\"c_x_axis_back\\\\\\\"]+487\\\"}}, \\\"enter\\\": {\\\"fontStyle\\\": {\\\"value\\\": \\\"normal\\\"}, \\\"angle\\\": {\\\"value\\\": 0}, \\\"baseline\\\": {\\\"value\\\": \\\"middle\\\"}, \\\"clip\\\": {\\\"value\\\": true}, \\\"text\\\": {\\\"signal\\\": \\\"((datum[\\\\\\\"categorical\\\\\\\"].length >= 4) &amp;&amp; (toString(datum[\\\\\\\"type\\\\\\\"]) == \\\\\\\"str\\\\\\\"))? toString(datum[\\\\\\\"categorical\\\\\\\"][3][\\\\\\\"label\\\\\\\"]):\\\\\\\"\\\\\\\"\\\"}, \\\"align\\\": {\\\"value\\\": \\\"left\\\"}, \\\"fontWeight\\\": {\\\"value\\\": \\\"normal\\\"}, \\\"fontSize\\\": {\\\"value\\\": 11}, \\\"dx\\\": {\\\"value\\\": 0, \\\"offset\\\": 0}, \\\"dy\\\": {\\\"value\\\": 0, \\\"offset\\\": 0}, \\\"y\\\": {\\\"value\\\": 200}, \\\"x\\\": {\\\"value\\\": 520}, \\\"font\\\": {\\\"value\\\": \\\"AvenirNext-Medium\\\"}, \\\"fill\\\": {\\\"value\\\": \\\"#4A4A4A\\\"}}}, \\\"type\\\": \\\"text\\\", \\\"from\\\": {\\\"data\\\": \\\"data_2\\\"}}, {\\\"encode\\\": {\\\"update\\\": {\\\"y\\\": {\\\"field\\\": \\\"c_fifth_item\\\"}, \\\"x\\\": {\\\"signal\\\": \\\"datum[\\\\\\\"c_x_axis_back\\\\\\\"]+487\\\"}}, \\\"enter\\\": {\\\"fontStyle\\\": {\\\"value\\\": \\\"normal\\\"}, \\\"angle\\\": {\\\"value\\\": 0}, \\\"baseline\\\": {\\\"value\\\": \\\"middle\\\"}, \\\"clip\\\": {\\\"value\\\": true}, \\\"text\\\": {\\\"signal\\\": \\\"((datum[\\\\\\\"categorical\\\\\\\"].length >= 5) &amp;&amp; (toString(datum[\\\\\\\"type\\\\\\\"]) == \\\\\\\"str\\\\\\\"))? toString(datum[\\\\\\\"categorical\\\\\\\"][4][\\\\\\\"label\\\\\\\"]):\\\\\\\"\\\\\\\"\\\"}, \\\"align\\\": {\\\"value\\\": \\\"left\\\"}, \\\"fontWeight\\\": {\\\"value\\\": \\\"normal\\\"}, \\\"fontSize\\\": {\\\"value\\\": 11}, \\\"dx\\\": {\\\"value\\\": 0, \\\"offset\\\": 0}, \\\"dy\\\": {\\\"value\\\": 0, \\\"offset\\\": 0}, \\\"y\\\": {\\\"value\\\": 200}, \\\"x\\\": {\\\"value\\\": 520}, \\\"font\\\": {\\\"value\\\": \\\"AvenirNext-Medium\\\"}, \\\"fill\\\": {\\\"value\\\": \\\"#4A4A4A\\\"}}}, \\\"type\\\": \\\"text\\\", \\\"from\\\": {\\\"data\\\": \\\"data_2\\\"}}, {\\\"encode\\\": {\\\"update\\\": {\\\"y\\\": {\\\"field\\\": \\\"c_first_item\\\"}, \\\"x\\\": {\\\"signal\\\": \\\"datum[\\\\\\\"c_x_axis_back\\\\\\\"]+667\\\"}}, \\\"enter\\\": {\\\"fontStyle\\\": {\\\"value\\\": \\\"normal\\\"}, \\\"angle\\\": {\\\"value\\\": 0}, \\\"baseline\\\": {\\\"value\\\": \\\"middle\\\"}, \\\"clip\\\": {\\\"value\\\": true}, \\\"text\\\": {\\\"signal\\\": \\\"((datum[\\\\\\\"categorical\\\\\\\"].length >= 1) &amp;&amp; (toString(datum[\\\\\\\"type\\\\\\\"]) == \\\\\\\"str\\\\\\\"))? toString(datum[\\\\\\\"categorical\\\\\\\"][0][\\\\\\\"count\\\\\\\"]):\\\\\\\"\\\\\\\"\\\"}, \\\"align\\\": {\\\"value\\\": \\\"right\\\"}, \\\"fontWeight\\\": {\\\"value\\\": \\\"normal\\\"}, \\\"fontSize\\\": {\\\"value\\\": 11}, \\\"dx\\\": {\\\"value\\\": 0, \\\"offset\\\": 0}, \\\"dy\\\": {\\\"value\\\": 0, \\\"offset\\\": 0}, \\\"y\\\": {\\\"value\\\": 200}, \\\"x\\\": {\\\"value\\\": 700}, \\\"font\\\": {\\\"value\\\": \\\"AvenirNext-Medium\\\"}, \\\"fill\\\": {\\\"value\\\": \\\"#7A7A7A\\\"}}}, \\\"type\\\": \\\"text\\\", \\\"from\\\": {\\\"data\\\": \\\"data_2\\\"}}, {\\\"encode\\\": {\\\"update\\\": {\\\"y\\\": {\\\"field\\\": \\\"c_second_item\\\"}, \\\"x\\\": {\\\"signal\\\": \\\"datum[\\\\\\\"c_x_axis_back\\\\\\\"]+667\\\"}}, \\\"enter\\\": {\\\"fontStyle\\\": {\\\"value\\\": \\\"normal\\\"}, \\\"angle\\\": {\\\"value\\\": 0}, \\\"baseline\\\": {\\\"value\\\": \\\"middle\\\"}, \\\"clip\\\": {\\\"value\\\": true}, \\\"text\\\": {\\\"signal\\\": \\\"((datum[\\\\\\\"categorical\\\\\\\"].length >= 2) &amp;&amp; (toString(datum[\\\\\\\"type\\\\\\\"]) == \\\\\\\"str\\\\\\\"))? toString(datum[\\\\\\\"categorical\\\\\\\"][1][\\\\\\\"count\\\\\\\"]):\\\\\\\"\\\\\\\"\\\"}, \\\"align\\\": {\\\"value\\\": \\\"right\\\"}, \\\"fontWeight\\\": {\\\"value\\\": \\\"normal\\\"}, \\\"fontSize\\\": {\\\"value\\\": 10}, \\\"dx\\\": {\\\"value\\\": 0, \\\"offset\\\": 0}, \\\"dy\\\": {\\\"value\\\": 0, \\\"offset\\\": 0}, \\\"y\\\": {\\\"value\\\": 200}, \\\"x\\\": {\\\"value\\\": 700}, \\\"font\\\": {\\\"value\\\": \\\"AvenirNext-Medium\\\"}, \\\"fill\\\": {\\\"value\\\": \\\"#7A7A7A\\\"}}}, \\\"type\\\": \\\"text\\\", \\\"from\\\": {\\\"data\\\": \\\"data_2\\\"}}, {\\\"encode\\\": {\\\"update\\\": {\\\"y\\\": {\\\"field\\\": \\\"c_third_item\\\"}, \\\"x\\\": {\\\"signal\\\": \\\"datum[\\\\\\\"c_x_axis_back\\\\\\\"]+667\\\"}}, \\\"enter\\\": {\\\"fontStyle\\\": {\\\"value\\\": \\\"normal\\\"}, \\\"angle\\\": {\\\"value\\\": 0}, \\\"baseline\\\": {\\\"value\\\": \\\"middle\\\"}, \\\"clip\\\": {\\\"value\\\": true}, \\\"text\\\": {\\\"signal\\\": \\\"((datum[\\\\\\\"categorical\\\\\\\"].length >= 3) &amp;&amp; (toString(datum[\\\\\\\"type\\\\\\\"]) == \\\\\\\"str\\\\\\\"))? toString(datum[\\\\\\\"categorical\\\\\\\"][2][\\\\\\\"count\\\\\\\"]):\\\\\\\"\\\\\\\"\\\"}, \\\"align\\\": {\\\"value\\\": \\\"right\\\"}, \\\"fontWeight\\\": {\\\"value\\\": \\\"normal\\\"}, \\\"fontSize\\\": {\\\"value\\\": 10}, \\\"dx\\\": {\\\"value\\\": 0, \\\"offset\\\": 0}, \\\"dy\\\": {\\\"value\\\": 0, \\\"offset\\\": 0}, \\\"y\\\": {\\\"value\\\": 200}, \\\"x\\\": {\\\"value\\\": 700}, \\\"font\\\": {\\\"value\\\": \\\"AvenirNext-Medium\\\"}, \\\"fill\\\": {\\\"value\\\": \\\"#7A7A7A\\\"}}}, \\\"type\\\": \\\"text\\\", \\\"from\\\": {\\\"data\\\": \\\"data_2\\\"}}, {\\\"encode\\\": {\\\"update\\\": {\\\"y\\\": {\\\"field\\\": \\\"c_fourth_item\\\"}, \\\"x\\\": {\\\"signal\\\": \\\"datum[\\\\\\\"c_x_axis_back\\\\\\\"]+667\\\"}}, \\\"enter\\\": {\\\"fontStyle\\\": {\\\"value\\\": \\\"normal\\\"}, \\\"angle\\\": {\\\"value\\\": 0}, \\\"baseline\\\": {\\\"value\\\": \\\"middle\\\"}, \\\"clip\\\": {\\\"value\\\": true}, \\\"text\\\": {\\\"signal\\\": \\\"((datum[\\\\\\\"categorical\\\\\\\"].length >= 4) &amp;&amp; (toString(datum[\\\\\\\"type\\\\\\\"]) == \\\\\\\"str\\\\\\\"))? toString(datum[\\\\\\\"categorical\\\\\\\"][3][\\\\\\\"count\\\\\\\"]):\\\\\\\"\\\\\\\"\\\"}, \\\"align\\\": {\\\"value\\\": \\\"right\\\"}, \\\"fontWeight\\\": {\\\"value\\\": \\\"normal\\\"}, \\\"fontSize\\\": {\\\"value\\\": 10}, \\\"dx\\\": {\\\"value\\\": 0, \\\"offset\\\": 0}, \\\"dy\\\": {\\\"value\\\": 0, \\\"offset\\\": 0}, \\\"y\\\": {\\\"value\\\": 200}, \\\"x\\\": {\\\"value\\\": 700}, \\\"font\\\": {\\\"value\\\": \\\"AvenirNext-Medium\\\"}, \\\"fill\\\": {\\\"value\\\": \\\"#7A7A7A\\\"}}}, \\\"type\\\": \\\"text\\\", \\\"from\\\": {\\\"data\\\": \\\"data_2\\\"}}, {\\\"encode\\\": {\\\"update\\\": {\\\"y\\\": {\\\"field\\\": \\\"c_fifth_item\\\"}, \\\"x\\\": {\\\"signal\\\": \\\"datum[\\\\\\\"c_x_axis_back\\\\\\\"]+667\\\"}}, \\\"enter\\\": {\\\"fontStyle\\\": {\\\"value\\\": \\\"normal\\\"}, \\\"angle\\\": {\\\"value\\\": 0}, \\\"baseline\\\": {\\\"value\\\": \\\"middle\\\"}, \\\"clip\\\": {\\\"value\\\": true}, \\\"text\\\": {\\\"signal\\\": \\\"((datum[\\\\\\\"categorical\\\\\\\"].length >= 5) &amp;&amp; (toString(datum[\\\\\\\"type\\\\\\\"]) == \\\\\\\"str\\\\\\\"))? toString(datum[\\\\\\\"categorical\\\\\\\"][4][\\\\\\\"count\\\\\\\"]):\\\\\\\"\\\\\\\"\\\"}, \\\"align\\\": {\\\"value\\\": \\\"right\\\"}, \\\"fontWeight\\\": {\\\"value\\\": \\\"normal\\\"}, \\\"fontSize\\\": {\\\"value\\\": 10}, \\\"dx\\\": {\\\"value\\\": 0, \\\"offset\\\": 0}, \\\"dy\\\": {\\\"value\\\": 0, \\\"offset\\\": 0}, \\\"y\\\": {\\\"value\\\": 200}, \\\"x\\\": {\\\"value\\\": 700}, \\\"font\\\": {\\\"value\\\": \\\"AvenirNext-Medium\\\"}, \\\"fill\\\": {\\\"value\\\": \\\"#7A7A7A\\\"}}}, \\\"type\\\": \\\"text\\\", \\\"from\\\": {\\\"data\\\": \\\"data_2\\\"}}, {\\\"encode\\\": {\\\"update\\\": {\\\"y\\\": {\\\"field\\\": \\\"c_mean\\\"}, \\\"x\\\": {\\\"signal\\\": \\\"datum[\\\\\\\"c_x_axis_back\\\\\\\"]+467\\\"}}, \\\"enter\\\": {\\\"fontStyle\\\": {\\\"value\\\": \\\"normal\\\"}, \\\"angle\\\": {\\\"value\\\": 0}, \\\"baseline\\\": {\\\"value\\\": \\\"middle\\\"}, \\\"clip\\\": {\\\"value\\\": true}, \\\"text\\\": {\\\"signal\\\": \\\"(toString(datum[\\\\\\\"type\\\\\\\"]) == \\\\\\\"integer\\\\\\\" || toString(datum[\\\\\\\"type\\\\\\\"]) == \\\\\\\"float\\\\\\\")? \\\\\\\"Mean:\\\\\\\":\\\\\\\"\\\\\\\"\\\"}, \\\"align\\\": {\\\"value\\\": \\\"left\\\"}, \\\"fontWeight\\\": {\\\"value\\\": \\\"bold\\\"}, \\\"fontSize\\\": {\\\"value\\\": 11}, \\\"dx\\\": {\\\"value\\\": 0, \\\"offset\\\": 0}, \\\"dy\\\": {\\\"value\\\": 0, \\\"offset\\\": 0}, \\\"y\\\": {\\\"value\\\": 200}, \\\"x\\\": {\\\"value\\\": 500}, \\\"font\\\": {\\\"value\\\": \\\"AvenirNext-Medium\\\"}, \\\"fill\\\": {\\\"value\\\": \\\"#4A4A4A\\\"}}}, \\\"type\\\": \\\"text\\\", \\\"from\\\": {\\\"data\\\": \\\"data_2\\\"}}, {\\\"encode\\\": {\\\"update\\\": {\\\"y\\\": {\\\"field\\\": \\\"c_min\\\"}, \\\"x\\\": {\\\"signal\\\": \\\"datum[\\\\\\\"c_x_axis_back\\\\\\\"]+467\\\"}}, \\\"enter\\\": {\\\"fontStyle\\\": {\\\"value\\\": \\\"normal\\\"}, \\\"angle\\\": {\\\"value\\\": 0}, \\\"baseline\\\": {\\\"value\\\": \\\"middle\\\"}, \\\"text\\\": {\\\"signal\\\": \\\"(toString(datum[\\\\\\\"type\\\\\\\"]) == \\\\\\\"integer\\\\\\\" || toString(datum[\\\\\\\"type\\\\\\\"]) == \\\\\\\"float\\\\\\\")? \\\\\\\"Min:\\\\\\\":\\\\\\\"\\\\\\\"\\\"}, \\\"align\\\": {\\\"value\\\": \\\"left\\\"}, \\\"fontWeight\\\": {\\\"value\\\": \\\"bold\\\"}, \\\"fontSize\\\": {\\\"value\\\": 11}, \\\"dx\\\": {\\\"value\\\": 0, \\\"offset\\\": 0}, \\\"dy\\\": {\\\"value\\\": 0, \\\"offset\\\": 0}, \\\"y\\\": {\\\"value\\\": 220}, \\\"x\\\": {\\\"value\\\": 500}, \\\"font\\\": {\\\"value\\\": \\\"AvenirNext-Medium\\\"}, \\\"fill\\\": {\\\"value\\\": \\\"#4A4A4A\\\"}}}, \\\"type\\\": \\\"text\\\", \\\"from\\\": {\\\"data\\\": \\\"data_2\\\"}}, {\\\"encode\\\": {\\\"update\\\": {\\\"y\\\": {\\\"field\\\": \\\"c_max\\\"}, \\\"x\\\": {\\\"signal\\\": \\\"datum[\\\\\\\"c_x_axis_back\\\\\\\"]+467\\\"}}, \\\"enter\\\": {\\\"fontStyle\\\": {\\\"value\\\": \\\"normal\\\"}, \\\"angle\\\": {\\\"value\\\": 0}, \\\"baseline\\\": {\\\"value\\\": \\\"middle\\\"}, \\\"text\\\": {\\\"signal\\\": \\\"(toString(datum[\\\\\\\"type\\\\\\\"]) == \\\\\\\"integer\\\\\\\" || toString(datum[\\\\\\\"type\\\\\\\"]) == \\\\\\\"float\\\\\\\")? \\\\\\\"Max:\\\\\\\":\\\\\\\"\\\\\\\"\\\"}, \\\"align\\\": {\\\"value\\\": \\\"left\\\"}, \\\"fontWeight\\\": {\\\"value\\\": \\\"bold\\\"}, \\\"fontSize\\\": {\\\"value\\\": 11}, \\\"dx\\\": {\\\"value\\\": 0, \\\"offset\\\": 0}, \\\"dy\\\": {\\\"value\\\": 0, \\\"offset\\\": 0}, \\\"y\\\": {\\\"value\\\": 240}, \\\"x\\\": {\\\"value\\\": 500}, \\\"font\\\": {\\\"value\\\": \\\"AvenirNext-Medium\\\"}, \\\"fill\\\": {\\\"value\\\": \\\"#4A4A4A\\\"}}}, \\\"type\\\": \\\"text\\\", \\\"from\\\": {\\\"data\\\": \\\"data_2\\\"}}, {\\\"encode\\\": {\\\"update\\\": {\\\"y\\\": {\\\"field\\\": \\\"c_median\\\"}, \\\"x\\\": {\\\"signal\\\": \\\"datum[\\\\\\\"c_x_axis_back\\\\\\\"]+467\\\"}}, \\\"enter\\\": {\\\"fontStyle\\\": {\\\"value\\\": \\\"normal\\\"}, \\\"angle\\\": {\\\"value\\\": 0}, \\\"baseline\\\": {\\\"value\\\": \\\"middle\\\"}, \\\"text\\\": {\\\"signal\\\": \\\"(toString(datum[\\\\\\\"type\\\\\\\"]) == \\\\\\\"integer\\\\\\\" || toString(datum[\\\\\\\"type\\\\\\\"]) == \\\\\\\"float\\\\\\\")? \\\\\\\"Median:\\\\\\\":\\\\\\\"\\\\\\\"\\\"}, \\\"align\\\": {\\\"value\\\": \\\"left\\\"}, \\\"fontWeight\\\": {\\\"value\\\": \\\"bold\\\"}, \\\"fontSize\\\": {\\\"value\\\": 11}, \\\"dx\\\": {\\\"value\\\": 0, \\\"offset\\\": 0}, \\\"dy\\\": {\\\"value\\\": 0, \\\"offset\\\": 0}, \\\"y\\\": {\\\"value\\\": 260}, \\\"x\\\": {\\\"value\\\": 500}, \\\"font\\\": {\\\"value\\\": \\\"AvenirNext-Medium\\\"}, \\\"fill\\\": {\\\"value\\\": \\\"#4A4A4A\\\"}}}, \\\"type\\\": \\\"text\\\", \\\"from\\\": {\\\"data\\\": \\\"data_2\\\"}}, {\\\"encode\\\": {\\\"update\\\": {\\\"y\\\": {\\\"field\\\": \\\"c_stdev\\\"}, \\\"x\\\": {\\\"signal\\\": \\\"datum[\\\\\\\"c_x_axis_back\\\\\\\"]+467\\\"}}, \\\"enter\\\": {\\\"fontStyle\\\": {\\\"value\\\": \\\"normal\\\"}, \\\"angle\\\": {\\\"value\\\": 0}, \\\"baseline\\\": {\\\"value\\\": \\\"middle\\\"}, \\\"text\\\": {\\\"signal\\\": \\\"(toString(datum[\\\\\\\"type\\\\\\\"]) == \\\\\\\"integer\\\\\\\" || toString(datum[\\\\\\\"type\\\\\\\"]) == \\\\\\\"float\\\\\\\")? \\\\\\\"St. Dev:\\\\\\\":\\\\\\\"\\\\\\\"\\\"}, \\\"align\\\": {\\\"value\\\": \\\"left\\\"}, \\\"fontWeight\\\": {\\\"value\\\": \\\"bold\\\"}, \\\"fontSize\\\": {\\\"value\\\": 11}, \\\"dx\\\": {\\\"value\\\": 0, \\\"offset\\\": 0}, \\\"dy\\\": {\\\"value\\\": 0, \\\"offset\\\": 0}, \\\"y\\\": {\\\"value\\\": 280}, \\\"x\\\": {\\\"value\\\": 500}, \\\"font\\\": {\\\"value\\\": \\\"AvenirNext-Medium\\\"}, \\\"fill\\\": {\\\"value\\\": \\\"#4A4A4A\\\"}}}, \\\"type\\\": \\\"text\\\", \\\"from\\\": {\\\"data\\\": \\\"data_2\\\"}}, {\\\"encode\\\": {\\\"update\\\": {\\\"y\\\": {\\\"field\\\": \\\"c_mean_val\\\"}, \\\"x\\\": {\\\"signal\\\": \\\"datum[\\\\\\\"c_x_axis_back\\\\\\\"]+667\\\"}}, \\\"enter\\\": {\\\"fontStyle\\\": {\\\"value\\\": \\\"normal\\\"}, \\\"angle\\\": {\\\"value\\\": 0}, \\\"baseline\\\": {\\\"value\\\": \\\"middle\\\"}, \\\"text\\\": {\\\"signal\\\": \\\"(toString(datum[\\\\\\\"type\\\\\\\"]) == \\\\\\\"integer\\\\\\\" || toString(datum[\\\\\\\"type\\\\\\\"]) == \\\\\\\"float\\\\\\\")?toString(format(datum[\\\\\\\"mean\\\\\\\"], \\\\\\\",\\\\\\\")):\\\\\\\"\\\\\\\"\\\"}, \\\"align\\\": {\\\"value\\\": \\\"right\\\"}, \\\"fontWeight\\\": {\\\"value\\\": \\\"normal\\\"}, \\\"fontSize\\\": {\\\"value\\\": 10}, \\\"dx\\\": {\\\"value\\\": 0, \\\"offset\\\": 0}, \\\"dy\\\": {\\\"value\\\": 0, \\\"offset\\\": 0}, \\\"y\\\": {\\\"value\\\": 198}, \\\"x\\\": {\\\"value\\\": 700}, \\\"font\\\": {\\\"value\\\": \\\"AvenirNext-Medium\\\"}, \\\"fill\\\": {\\\"value\\\": \\\"#6A6A6A\\\"}}}, \\\"type\\\": \\\"text\\\", \\\"from\\\": {\\\"data\\\": \\\"data_2\\\"}}, {\\\"encode\\\": {\\\"update\\\": {\\\"y\\\": {\\\"field\\\": \\\"c_min_val\\\"}, \\\"x\\\": {\\\"signal\\\": \\\"datum[\\\\\\\"c_x_axis_back\\\\\\\"]+667\\\"}}, \\\"enter\\\": {\\\"fontStyle\\\": {\\\"value\\\": \\\"normal\\\"}, \\\"angle\\\": {\\\"value\\\": 0}, \\\"baseline\\\": {\\\"value\\\": \\\"middle\\\"}, \\\"text\\\": {\\\"signal\\\": \\\"(toString(datum[\\\\\\\"type\\\\\\\"]) == \\\\\\\"integer\\\\\\\" || toString(datum[\\\\\\\"type\\\\\\\"]) == \\\\\\\"float\\\\\\\")?toString(format(datum[\\\\\\\"min\\\\\\\"], \\\\\\\",\\\\\\\")):\\\\\\\"\\\\\\\"\\\"}, \\\"align\\\": {\\\"value\\\": \\\"right\\\"}, \\\"fontWeight\\\": {\\\"value\\\": \\\"normal\\\"}, \\\"fontSize\\\": {\\\"value\\\": 10}, \\\"dx\\\": {\\\"value\\\": 0, \\\"offset\\\": 0}, \\\"dy\\\": {\\\"value\\\": 0, \\\"offset\\\": 0}, \\\"y\\\": {\\\"value\\\": 218}, \\\"x\\\": {\\\"value\\\": 700}, \\\"font\\\": {\\\"value\\\": \\\"AvenirNext-Medium\\\"}, \\\"fill\\\": {\\\"value\\\": \\\"#6A6A6A\\\"}}}, \\\"type\\\": \\\"text\\\", \\\"from\\\": {\\\"data\\\": \\\"data_2\\\"}}, {\\\"encode\\\": {\\\"update\\\": {\\\"y\\\": {\\\"field\\\": \\\"c_max_val\\\"}, \\\"x\\\": {\\\"signal\\\": \\\"datum[\\\\\\\"c_x_axis_back\\\\\\\"]+667\\\"}}, \\\"enter\\\": {\\\"fontStyle\\\": {\\\"value\\\": \\\"normal\\\"}, \\\"angle\\\": {\\\"value\\\": 0}, \\\"baseline\\\": {\\\"value\\\": \\\"middle\\\"}, \\\"text\\\": {\\\"signal\\\": \\\"(toString(datum[\\\\\\\"type\\\\\\\"]) == \\\\\\\"integer\\\\\\\" || toString(datum[\\\\\\\"type\\\\\\\"]) == \\\\\\\"float\\\\\\\")?toString(format(datum[\\\\\\\"max\\\\\\\"], \\\\\\\",\\\\\\\")):\\\\\\\"\\\\\\\"\\\"}, \\\"align\\\": {\\\"value\\\": \\\"right\\\"}, \\\"fontWeight\\\": {\\\"value\\\": \\\"normal\\\"}, \\\"fontSize\\\": {\\\"value\\\": 10}, \\\"dx\\\": {\\\"value\\\": 0, \\\"offset\\\": 0}, \\\"dy\\\": {\\\"value\\\": 0, \\\"offset\\\": 0}, \\\"y\\\": {\\\"value\\\": 238}, \\\"x\\\": {\\\"value\\\": 700}, \\\"font\\\": {\\\"value\\\": \\\"AvenirNext-Medium\\\"}, \\\"fill\\\": {\\\"value\\\": \\\"#6A6A6A\\\"}}}, \\\"type\\\": \\\"text\\\", \\\"from\\\": {\\\"data\\\": \\\"data_2\\\"}}, {\\\"encode\\\": {\\\"update\\\": {\\\"y\\\": {\\\"field\\\": \\\"c_median_val\\\"}, \\\"x\\\": {\\\"signal\\\": \\\"datum[\\\\\\\"c_x_axis_back\\\\\\\"]+667\\\"}}, \\\"enter\\\": {\\\"fontStyle\\\": {\\\"value\\\": \\\"normal\\\"}, \\\"angle\\\": {\\\"value\\\": 0}, \\\"baseline\\\": {\\\"value\\\": \\\"middle\\\"}, \\\"text\\\": {\\\"signal\\\": \\\"(toString(datum[\\\\\\\"type\\\\\\\"]) == \\\\\\\"integer\\\\\\\" || toString(datum[\\\\\\\"type\\\\\\\"]) == \\\\\\\"float\\\\\\\")?toString(format(datum[\\\\\\\"median\\\\\\\"], \\\\\\\",\\\\\\\")):\\\\\\\"\\\\\\\"\\\"}, \\\"align\\\": {\\\"value\\\": \\\"right\\\"}, \\\"fontWeight\\\": {\\\"value\\\": \\\"normal\\\"}, \\\"fontSize\\\": {\\\"value\\\": 10}, \\\"dx\\\": {\\\"value\\\": 0, \\\"offset\\\": 0}, \\\"dy\\\": {\\\"value\\\": 0, \\\"offset\\\": 0}, \\\"y\\\": {\\\"value\\\": 258}, \\\"x\\\": {\\\"value\\\": 700}, \\\"font\\\": {\\\"value\\\": \\\"AvenirNext-Medium\\\"}, \\\"fill\\\": {\\\"value\\\": \\\"#6A6A6A\\\"}}}, \\\"type\\\": \\\"text\\\", \\\"from\\\": {\\\"data\\\": \\\"data_2\\\"}}, {\\\"encode\\\": {\\\"update\\\": {\\\"y\\\": {\\\"field\\\": \\\"c_stdev_val\\\"}, \\\"x\\\": {\\\"signal\\\": \\\"datum[\\\\\\\"c_x_axis_back\\\\\\\"]+667\\\"}}, \\\"enter\\\": {\\\"fontStyle\\\": {\\\"value\\\": \\\"normal\\\"}, \\\"angle\\\": {\\\"value\\\": 0}, \\\"baseline\\\": {\\\"value\\\": \\\"middle\\\"}, \\\"text\\\": {\\\"signal\\\": \\\"(toString(datum[\\\\\\\"type\\\\\\\"]) == \\\\\\\"integer\\\\\\\" || toString(datum[\\\\\\\"type\\\\\\\"]) == \\\\\\\"float\\\\\\\")?toString(format(datum[\\\\\\\"stdev\\\\\\\"], \\\\\\\",\\\\\\\")):\\\\\\\"\\\\\\\"\\\"}, \\\"align\\\": {\\\"value\\\": \\\"right\\\"}, \\\"fontWeight\\\": {\\\"value\\\": \\\"normal\\\"}, \\\"fontSize\\\": {\\\"value\\\": 10}, \\\"dx\\\": {\\\"value\\\": 0, \\\"offset\\\": 0}, \\\"dy\\\": {\\\"value\\\": 0, \\\"offset\\\": 0}, \\\"y\\\": {\\\"value\\\": 278}, \\\"x\\\": {\\\"value\\\": 700}, \\\"font\\\": {\\\"value\\\": \\\"AvenirNext-Medium\\\"}, \\\"fill\\\": {\\\"value\\\": \\\"#6A6A6A\\\"}}}, \\\"type\\\": \\\"text\\\", \\\"from\\\": {\\\"data\\\": \\\"data_2\\\"}}, {\\\"style\\\": \\\"cell\\\", \\\"from\\\": {\\\"facet\\\": {\\\"field\\\": \\\"numeric\\\", \\\"data\\\": \\\"data_2\\\", \\\"name\\\": \\\"new_data\\\"}}, \\\"scales\\\": [{\\\"domain\\\": {\\\"sort\\\": true, \\\"fields\\\": [\\\"left\\\", \\\"right\\\"], \\\"data\\\": \\\"new_data\\\"}, \\\"name\\\": \\\"x\\\", \\\"zero\\\": true, \\\"range\\\": [0, {\\\"signal\\\": \\\"width\\\"}], \\\"type\\\": \\\"linear\\\", \\\"nice\\\": true}, {\\\"domain\\\": {\\\"field\\\": \\\"count\\\", \\\"data\\\": \\\"new_data\\\"}, \\\"name\\\": \\\"y\\\", \\\"zero\\\": true, \\\"range\\\": [{\\\"signal\\\": \\\"height\\\"}, 0], \\\"type\\\": \\\"linear\\\", \\\"nice\\\": true}], \\\"axes\\\": [{\\\"scale\\\": \\\"x\\\", \\\"title\\\": \\\"Values\\\", \\\"tickCount\\\": {\\\"signal\\\": \\\"ceil(width/40)\\\"}, \\\"zindex\\\": 1, \\\"labelOverlap\\\": true, \\\"orient\\\": \\\"bottom\\\"}, {\\\"domain\\\": false, \\\"scale\\\": \\\"x\\\", \\\"ticks\\\": false, \\\"labels\\\": false, \\\"tickCount\\\": {\\\"signal\\\": \\\"ceil(width/40)\\\"}, \\\"zindex\\\": 0, \\\"grid\\\": true, \\\"minExtent\\\": 0, \\\"gridScale\\\": \\\"y\\\", \\\"orient\\\": \\\"bottom\\\", \\\"maxExtent\\\": 0}, {\\\"scale\\\": \\\"y\\\", \\\"title\\\": \\\"Count\\\", \\\"tickCount\\\": {\\\"signal\\\": \\\"ceil(height/40)\\\"}, \\\"zindex\\\": 1, \\\"labelOverlap\\\": true, \\\"orient\\\": \\\"left\\\"}, {\\\"domain\\\": false, \\\"scale\\\": \\\"y\\\", \\\"ticks\\\": false, \\\"labels\\\": false, \\\"tickCount\\\": {\\\"signal\\\": \\\"ceil(height/40)\\\"}, \\\"zindex\\\": 0, \\\"grid\\\": true, \\\"minExtent\\\": 0, \\\"gridScale\\\": \\\"x\\\", \\\"orient\\\": \\\"left\\\", \\\"maxExtent\\\": 0}], \\\"signals\\\": [{\\\"name\\\": \\\"width\\\", \\\"update\\\": \\\"250\\\"}, {\\\"name\\\": \\\"height\\\", \\\"update\\\": \\\"150\\\"}], \\\"marks\\\": [{\\\"encode\\\": {\\\"hover\\\": {\\\"fill\\\": {\\\"value\\\": \\\"#7EC2F3\\\"}}, \\\"update\\\": {\\\"x2\\\": {\\\"field\\\": \\\"right\\\", \\\"scale\\\": \\\"x\\\"}, \\\"x\\\": {\\\"field\\\": \\\"left\\\", \\\"scale\\\": \\\"x\\\"}, \\\"y2\\\": {\\\"scale\\\": \\\"y\\\", \\\"value\\\": 0}, \\\"y\\\": {\\\"field\\\": \\\"count\\\", \\\"scale\\\": \\\"y\\\"}, \\\"fill\\\": {\\\"value\\\": \\\"#108EE9\\\"}}}, \\\"from\\\": {\\\"data\\\": \\\"new_data\\\"}, \\\"style\\\": [\\\"rect\\\"], \\\"type\\\": \\\"rect\\\", \\\"name\\\": \\\"marks\\\"}], \\\"encode\\\": {\\\"update\\\": {\\\"x\\\": {\\\"signal\\\": \\\"datum[\\\\\\\"c_x_axis_back\\\\\\\"]+87\\\"}, \\\"clip\\\": {\\\"field\\\": \\\"c_clip_val\\\"}, \\\"width\\\": {\\\"field\\\": \\\"c_width_numeric_val\\\"}}, \\\"enter\\\": {\\\"strokeWidth\\\": {\\\"value\\\": 0}, \\\"height\\\": {\\\"value\\\": 150}, \\\"width\\\": {\\\"value\\\": 250}, \\\"stroke\\\": {\\\"value\\\": \\\"#000000\\\"}, \\\"fillOpacity\\\": {\\\"value\\\": 0}, \\\"y\\\": {\\\"field\\\": \\\"graph_offset\\\"}, \\\"x\\\": {\\\"value\\\": 120}, \\\"fill\\\": {\\\"value\\\": \\\"#ffffff\\\"}}}, \\\"type\\\": \\\"group\\\"}, {\\\"style\\\": \\\"cell\\\", \\\"from\\\": {\\\"facet\\\": {\\\"field\\\": \\\"categorical\\\", \\\"data\\\": \\\"data_2\\\", \\\"name\\\": \\\"data_5\\\"}}, \\\"scales\\\": [{\\\"domain\\\": {\\\"field\\\": \\\"count\\\", \\\"data\\\": \\\"data_5\\\"}, \\\"name\\\": \\\"x\\\", \\\"zero\\\": true, \\\"range\\\": [0, 250], \\\"type\\\": \\\"linear\\\", \\\"nice\\\": true}, {\\\"paddingInner\\\": 0.1, \\\"domain\\\": {\\\"sort\\\": {\\\"field\\\": \\\"label_idx\\\", \\\"order\\\": \\\"descending\\\", \\\"op\\\": \\\"mean\\\"}, \\\"field\\\": \\\"label\\\", \\\"data\\\": \\\"data_5\\\"}, \\\"name\\\": \\\"y\\\", \\\"paddingOuter\\\": 0.05, \\\"range\\\": [150, 0], \\\"type\\\": \\\"band\\\"}], \\\"axes\\\": [{\\\"scale\\\": \\\"x\\\", \\\"title\\\": \\\"Count\\\", \\\"tickCount\\\": {\\\"signal\\\": \\\"ceil(width/40)\\\"}, \\\"zindex\\\": 1, \\\"labelOverlap\\\": true, \\\"orient\\\": \\\"top\\\"}, {\\\"domain\\\": false, \\\"scale\\\": \\\"x\\\", \\\"ticks\\\": false, \\\"labels\\\": false, \\\"tickCount\\\": {\\\"signal\\\": \\\"ceil(width/40)\\\"}, \\\"zindex\\\": 0, \\\"grid\\\": true, \\\"minExtent\\\": 0, \\\"gridScale\\\": \\\"y\\\", \\\"orient\\\": \\\"top\\\", \\\"maxExtent\\\": 0}, {\\\"zindex\\\": 1, \\\"title\\\": \\\"Label\\\", \\\"scale\\\": \\\"y\\\", \\\"orient\\\": \\\"left\\\", \\\"labelOverlap\\\": true}], \\\"signals\\\": [{\\\"on\\\": [{\\\"events\\\": \\\"mousemove\\\", \\\"update\\\": \\\"isTuple(group()) ? group() : unit\\\"}], \\\"name\\\": \\\"unit\\\", \\\"value\\\": {}}, {\\\"name\\\": \\\"pts\\\", \\\"update\\\": \\\"data(\\\\\\\"pts_store\\\\\\\").length &amp;&amp; {count: data(\\\\\\\"pts_store\\\\\\\")[0].values[0]}\\\"}, {\\\"on\\\": [{\\\"force\\\": true, \\\"events\\\": [{\\\"source\\\": \\\"scope\\\", \\\"type\\\": \\\"click\\\"}], \\\"update\\\": \\\"datum &amp;&amp; item().mark.marktype !== &apos;group&apos; ? {unit: \\\\\\\"\\\\\\\", encodings: [\\\\\\\"x\\\\\\\"], fields: [\\\\\\\"count\\\\\\\"], values: [datum[\\\\\\\"count\\\\\\\"]]} : null\\\"}], \\\"name\\\": \\\"pts_tuple\\\", \\\"value\\\": {}}, {\\\"on\\\": [{\\\"events\\\": {\\\"signal\\\": \\\"pts_tuple\\\"}, \\\"update\\\": \\\"modify(\\\\\\\"pts_store\\\\\\\", pts_tuple, true)\\\"}], \\\"name\\\": \\\"pts_modify\\\"}], \\\"marks\\\": [{\\\"encode\\\": {\\\"hover\\\": {\\\"fill\\\": {\\\"value\\\": \\\"#7EC2F3\\\"}}, \\\"update\\\": {\\\"x2\\\": {\\\"scale\\\": \\\"x\\\", \\\"value\\\": 0}, \\\"x\\\": {\\\"field\\\": \\\"count\\\", \\\"scale\\\": \\\"x\\\"}, \\\"fill\\\": {\\\"value\\\": \\\"#108EE9\\\"}, \\\"y\\\": {\\\"field\\\": \\\"label\\\", \\\"scale\\\": \\\"y\\\"}, \\\"height\\\": {\\\"band\\\": true, \\\"scale\\\": \\\"y\\\"}}}, \\\"from\\\": {\\\"data\\\": \\\"data_5\\\"}, \\\"style\\\": [\\\"bar\\\"], \\\"type\\\": \\\"rect\\\", \\\"name\\\": \\\"marks\\\"}], \\\"encode\\\": {\\\"update\\\": {\\\"x\\\": {\\\"signal\\\": \\\"datum[\\\\\\\"c_x_axis_back\\\\\\\"]+137\\\"}, \\\"clip\\\": {\\\"field\\\": \\\"c_clip_val_cat\\\"}, \\\"width\\\": {\\\"field\\\": \\\"c_width_numeric_val_cat\\\"}}, \\\"enter\\\": {\\\"strokeWidth\\\": {\\\"value\\\": 0}, \\\"height\\\": {\\\"value\\\": 150}, \\\"width\\\": {\\\"value\\\": 250}, \\\"stroke\\\": {\\\"value\\\": \\\"#000000\\\"}, \\\"fillOpacity\\\": {\\\"value\\\": 0}, \\\"y\\\": {\\\"field\\\": \\\"graph_offset_categorical\\\"}, \\\"x\\\": {\\\"value\\\": 170}, \\\"fill\\\": {\\\"value\\\": \\\"#ffffff\\\"}}}, \\\"type\\\": \\\"group\\\"}], \\\"axes\\\": [], \\\"type\\\": \\\"group\\\", \\\"scales\\\": []}]}], \\\"$schema\\\": \\\"https://vega.github.io/schema/vega/v4.json\\\", \\\"data\\\": [{\\\"name\\\": \\\"pts_store\\\"}, {\\\"values\\\": [{\\\"a\\\": 0, \\\"num_row\\\": 100836, \\\"title\\\": \\\"X1\\\", \\\"max\\\": 100835.0, \\\"min\\\": 0.0, \\\"median\\\": 50434.0, \\\"num_missing\\\": 0, \\\"num_unique\\\": 100836, \\\"categorical\\\": [], \\\"numeric\\\": [{\\\"count\\\": 3147, \\\"right\\\": 3146.23, \\\"left\\\": -2096.65}, {\\\"count\\\": 5243, \\\"right\\\": 8389.11, \\\"left\\\": 3146.23}, {\\\"count\\\": 5242, \\\"right\\\": 13632, \\\"left\\\": 8389.11}, {\\\"count\\\": 5243, \\\"right\\\": 18874.9, \\\"left\\\": 13632}, {\\\"count\\\": 5243, \\\"right\\\": 24117.7, \\\"left\\\": 18874.9}, {\\\"count\\\": 5243, \\\"right\\\": 29360.6, \\\"left\\\": 24117.7}, {\\\"count\\\": 5243, \\\"right\\\": 34603.5, \\\"left\\\": 29360.6}, {\\\"count\\\": 5243, \\\"right\\\": 39846.4, \\\"left\\\": 34603.5}, {\\\"count\\\": 5243, \\\"right\\\": 45089.3, \\\"left\\\": 39846.4}, {\\\"count\\\": 5243, \\\"right\\\": 50332.1, \\\"left\\\": 45089.3}, {\\\"count\\\": 5243, \\\"right\\\": 55575, \\\"left\\\": 50332.1}, {\\\"count\\\": 5242, \\\"right\\\": 60817.9, \\\"left\\\": 55575}, {\\\"count\\\": 5243, \\\"right\\\": 66060.8, \\\"left\\\": 60817.9}, {\\\"count\\\": 5243, \\\"right\\\": 71303.7, \\\"left\\\": 66060.8}, {\\\"count\\\": 5243, \\\"right\\\": 76546.5, \\\"left\\\": 71303.7}, {\\\"count\\\": 5243, \\\"right\\\": 81789.4, \\\"left\\\": 76546.5}, {\\\"count\\\": 5243, \\\"right\\\": 87032.3, \\\"left\\\": 81789.4}, {\\\"count\\\": 5243, \\\"right\\\": 92275.2, \\\"left\\\": 87032.3}, {\\\"count\\\": 5243, \\\"right\\\": 97518.1, \\\"left\\\": 92275.2}, {\\\"count\\\": 3317, \\\"right\\\": 102761, \\\"left\\\": 97518.1}], \\\"stdev\\\": 29108.845871, \\\"type\\\": \\\"integer\\\", \\\"mean\\\": 50417.5}, {\\\"a\\\": 1, \\\"num_row\\\": 100836, \\\"title\\\": \\\"userId\\\", \\\"max\\\": 610.0, \\\"min\\\": 1.0, \\\"median\\\": 325.0, \\\"num_missing\\\": 0, \\\"num_unique\\\": 610, \\\"categorical\\\": [], \\\"numeric\\\": [{\\\"count\\\": 4845, \\\"right\\\": 29.624, \\\"left\\\": -1.096}, {\\\"count\\\": 3907, \\\"right\\\": 60.344, \\\"left\\\": 29.624}, {\\\"count\\\": 5944, \\\"right\\\": 91.064, \\\"left\\\": 60.344}, {\\\"count\\\": 4135, \\\"right\\\": 121.784, \\\"left\\\": 91.064}, {\\\"count\\\": 3594, \\\"right\\\": 152.504, \\\"left\\\": 121.784}, {\\\"count\\\": 4701, \\\"right\\\": 183.224, \\\"left\\\": 152.504}, {\\\"count\\\": 3475, \\\"right\\\": 213.944, \\\"left\\\": 183.224}, {\\\"count\\\": 5347, \\\"right\\\": 244.664, \\\"left\\\": 213.944}, {\\\"count\\\": 5030, \\\"right\\\": 275.384, \\\"left\\\": 244.664}, {\\\"count\\\": 5755, \\\"right\\\": 306.104, \\\"left\\\": 275.384}, {\\\"count\\\": 5160, \\\"right\\\": 336.824, \\\"left\\\": 306.104}, {\\\"count\\\": 3503, \\\"right\\\": 367.544, \\\"left\\\": 336.824}, {\\\"count\\\": 5724, \\\"right\\\": 398.264, \\\"left\\\": 367.544}, {\\\"count\\\": 5542, \\\"right\\\": 428.984, \\\"left\\\": 398.264}, {\\\"count\\\": 4773, \\\"right\\\": 459.704, \\\"left\\\": 428.984}, {\\\"count\\\": 7797, \\\"right\\\": 490.424, \\\"left\\\": 459.704}, {\\\"count\\\": 2975, \\\"right\\\": 521.144, \\\"left\\\": 490.424}, {\\\"count\\\": 2724, \\\"right\\\": 551.864, \\\"left\\\": 521.144}, {\\\"count\\\": 4917, \\\"right\\\": 582.584, \\\"left\\\": 551.864}, {\\\"count\\\": 10988, \\\"right\\\": 613.304, \\\"left\\\": 582.584}], \\\"stdev\\\": 182.617586, \\\"type\\\": \\\"integer\\\", \\\"mean\\\": 326.127564}, {\\\"a\\\": 2, \\\"num_row\\\": 100836, \\\"title\\\": \\\"movieId\\\", \\\"max\\\": 193609.0, \\\"min\\\": 1.0, \\\"median\\\": 2989.0, \\\"num_missing\\\": 0, \\\"num_unique\\\": 9724, \\\"categorical\\\": [], \\\"numeric\\\": [{\\\"count\\\": 69768, \\\"right\\\": 6040.8, \\\"left\\\": -4025.53}, {\\\"count\\\": 8171, \\\"right\\\": 16107.1, \\\"left\\\": 6040.8}, {\\\"count\\\": 110, \\\"right\\\": 26173.5, \\\"left\\\": 16107.1}, {\\\"count\\\": 2570, \\\"right\\\": 36239.8, \\\"left\\\": 26173.5}, {\\\"count\\\": 2124, \\\"right\\\": 46306.1, \\\"left\\\": 36239.8}, {\\\"count\\\": 3673, \\\"right\\\": 56372.5, \\\"left\\\": 46306.1}, {\\\"count\\\": 2438, \\\"right\\\": 66438.8, \\\"left\\\": 56372.5}, {\\\"count\\\": 2175, \\\"right\\\": 76505.1, \\\"left\\\": 66438.8}, {\\\"count\\\": 1743, \\\"right\\\": 86571.4, \\\"left\\\": 76505.1}, {\\\"count\\\": 2050, \\\"right\\\": 96637.8, \\\"left\\\": 86571.4}, {\\\"count\\\": 1540, \\\"right\\\": 106704, \\\"left\\\": 96637.8}, {\\\"count\\\": 1344, \\\"right\\\": 116770, \\\"left\\\": 106704}, {\\\"count\\\": 790, \\\"right\\\": 126837, \\\"left\\\": 116770}, {\\\"count\\\": 637, \\\"right\\\": 136903, \\\"left\\\": 126837}, {\\\"count\\\": 389, \\\"right\\\": 146969, \\\"left\\\": 136903}, {\\\"count\\\": 293, \\\"right\\\": 157036, \\\"left\\\": 146969}, {\\\"count\\\": 449, \\\"right\\\": 167102, \\\"left\\\": 157036}, {\\\"count\\\": 343, \\\"right\\\": 177168, \\\"left\\\": 167102}, {\\\"count\\\": 174, \\\"right\\\": 187235, \\\"left\\\": 177168}, {\\\"count\\\": 55, \\\"right\\\": 197301, \\\"left\\\": 187235}], \\\"stdev\\\": 35530.811016, \\\"type\\\": \\\"integer\\\", \\\"mean\\\": 19435.295718}, {\\\"a\\\": 3, \\\"num_row\\\": 100836, \\\"title\\\": \\\"rating\\\", \\\"max\\\": 5.0, \\\"min\\\": 0.5, \\\"median\\\": 3.5, \\\"num_missing\\\": 0, \\\"num_unique\\\": 10, \\\"categorical\\\": [], \\\"numeric\\\": [{\\\"count\\\": 1370, \\\"right\\\": 0.72272, \\\"left\\\": 0.49744}, {\\\"count\\\": 0, \\\"right\\\": 0.948, \\\"left\\\": 0.72272}, {\\\"count\\\": 2811, \\\"right\\\": 1.17328, \\\"left\\\": 0.948}, {\\\"count\\\": 0, \\\"right\\\": 1.39856, \\\"left\\\": 1.17328}, {\\\"count\\\": 1791, \\\"right\\\": 1.62384, \\\"left\\\": 1.39856}, {\\\"count\\\": 0, \\\"right\\\": 1.84912, \\\"left\\\": 1.62384}, {\\\"count\\\": 7551, \\\"right\\\": 2.0744, \\\"left\\\": 1.84912}, {\\\"count\\\": 0, \\\"right\\\": 2.29968, \\\"left\\\": 2.0744}, {\\\"count\\\": 5550, \\\"right\\\": 2.52496, \\\"left\\\": 2.29968}, {\\\"count\\\": 0, \\\"right\\\": 2.75024, \\\"left\\\": 2.52496}, {\\\"count\\\": 0, \\\"right\\\": 2.97552, \\\"left\\\": 2.75024}, {\\\"count\\\": 20047, \\\"right\\\": 3.2008, \\\"left\\\": 2.97552}, {\\\"count\\\": 0, \\\"right\\\": 3.42608, \\\"left\\\": 3.2008}, {\\\"count\\\": 13136, \\\"right\\\": 3.65136, \\\"left\\\": 3.42608}, {\\\"count\\\": 0, \\\"right\\\": 3.87664, \\\"left\\\": 3.65136}, {\\\"count\\\": 26818, \\\"right\\\": 4.10192, \\\"left\\\": 3.87664}, {\\\"count\\\": 0, \\\"right\\\": 4.3272, \\\"left\\\": 4.10192}, {\\\"count\\\": 8551, \\\"right\\\": 4.55248, \\\"left\\\": 4.3272}, {\\\"count\\\": 0, \\\"right\\\": 4.77776, \\\"left\\\": 4.55248}, {\\\"count\\\": 13211, \\\"right\\\": 5.00304, \\\"left\\\": 4.77776}], \\\"stdev\\\": 1.042524, \\\"type\\\": \\\"float\\\", \\\"mean\\\": 3.501557}, {\\\"a\\\": 4, \\\"num_row\\\": 100836, \\\"title\\\": \\\"(no genres listed)\\\", \\\"max\\\": 1.0, \\\"min\\\": 0.0, \\\"median\\\": 0.0, \\\"num_missing\\\": 0, \\\"num_unique\\\": 2, \\\"categorical\\\": [], \\\"numeric\\\": [{\\\"count\\\": 100789, \\\"right\\\": 0.04084, \\\"left\\\": -0.01036}, {\\\"count\\\": 0, \\\"right\\\": 0.09204, \\\"left\\\": 0.04084}, {\\\"count\\\": 0, \\\"right\\\": 0.14324, \\\"left\\\": 0.09204}, {\\\"count\\\": 0, \\\"right\\\": 0.19444, \\\"left\\\": 0.14324}, {\\\"count\\\": 0, \\\"right\\\": 0.24564, \\\"left\\\": 0.19444}, {\\\"count\\\": 0, \\\"right\\\": 0.29684, \\\"left\\\": 0.24564}, {\\\"count\\\": 0, \\\"right\\\": 0.34804, \\\"left\\\": 0.29684}, {\\\"count\\\": 0, \\\"right\\\": 0.39924, \\\"left\\\": 0.34804}, {\\\"count\\\": 0, \\\"right\\\": 0.45044, \\\"left\\\": 0.39924}, {\\\"count\\\": 0, \\\"right\\\": 0.50164, \\\"left\\\": 0.45044}, {\\\"count\\\": 0, \\\"right\\\": 0.55284, \\\"left\\\": 0.50164}, {\\\"count\\\": 0, \\\"right\\\": 0.60404, \\\"left\\\": 0.55284}, {\\\"count\\\": 0, \\\"right\\\": 0.65524, \\\"left\\\": 0.60404}, {\\\"count\\\": 0, \\\"right\\\": 0.70644, \\\"left\\\": 0.65524}, {\\\"count\\\": 0, \\\"right\\\": 0.75764, \\\"left\\\": 0.70644}, {\\\"count\\\": 0, \\\"right\\\": 0.80884, \\\"left\\\": 0.75764}, {\\\"count\\\": 0, \\\"right\\\": 0.86004, \\\"left\\\": 0.80884}, {\\\"count\\\": 0, \\\"right\\\": 0.91124, \\\"left\\\": 0.86004}, {\\\"count\\\": 0, \\\"right\\\": 0.96244, \\\"left\\\": 0.91124}, {\\\"count\\\": 47, \\\"right\\\": 1.01364, \\\"left\\\": 0.96244}], \\\"stdev\\\": 0.021584, \\\"type\\\": \\\"integer\\\", \\\"mean\\\": 0.000466}, {\\\"a\\\": 5, \\\"num_row\\\": 100836, \\\"title\\\": \\\"Action\\\", \\\"max\\\": 1.0, \\\"min\\\": 0.0, \\\"median\\\": 0.0, \\\"num_missing\\\": 0, \\\"num_unique\\\": 2, \\\"categorical\\\": [], \\\"numeric\\\": [{\\\"count\\\": 70201, \\\"right\\\": 0.04084, \\\"left\\\": -0.01036}, {\\\"count\\\": 0, \\\"right\\\": 0.09204, \\\"left\\\": 0.04084}, {\\\"count\\\": 0, \\\"right\\\": 0.14324, \\\"left\\\": 0.09204}, {\\\"count\\\": 0, \\\"right\\\": 0.19444, \\\"left\\\": 0.14324}, {\\\"count\\\": 0, \\\"right\\\": 0.24564, \\\"left\\\": 0.19444}, {\\\"count\\\": 0, \\\"right\\\": 0.29684, \\\"left\\\": 0.24564}, {\\\"count\\\": 0, \\\"right\\\": 0.34804, \\\"left\\\": 0.29684}, {\\\"count\\\": 0, \\\"right\\\": 0.39924, \\\"left\\\": 0.34804}, {\\\"count\\\": 0, \\\"right\\\": 0.45044, \\\"left\\\": 0.39924}, {\\\"count\\\": 0, \\\"right\\\": 0.50164, \\\"left\\\": 0.45044}, {\\\"count\\\": 0, \\\"right\\\": 0.55284, \\\"left\\\": 0.50164}, {\\\"count\\\": 0, \\\"right\\\": 0.60404, \\\"left\\\": 0.55284}, {\\\"count\\\": 0, \\\"right\\\": 0.65524, \\\"left\\\": 0.60404}, {\\\"count\\\": 0, \\\"right\\\": 0.70644, \\\"left\\\": 0.65524}, {\\\"count\\\": 0, \\\"right\\\": 0.75764, \\\"left\\\": 0.70644}, {\\\"count\\\": 0, \\\"right\\\": 0.80884, \\\"left\\\": 0.75764}, {\\\"count\\\": 0, \\\"right\\\": 0.86004, \\\"left\\\": 0.80884}, {\\\"count\\\": 0, \\\"right\\\": 0.91124, \\\"left\\\": 0.86004}, {\\\"count\\\": 0, \\\"right\\\": 0.96244, \\\"left\\\": 0.91124}, {\\\"count\\\": 30635, \\\"right\\\": 1.01364, \\\"left\\\": 0.96244}], \\\"stdev\\\": 0.459902, \\\"type\\\": \\\"integer\\\", \\\"mean\\\": 0.30381}, {\\\"a\\\": 6, \\\"num_row\\\": 100836, \\\"title\\\": \\\"Adventure\\\", \\\"max\\\": 1.0, \\\"min\\\": 0.0, \\\"median\\\": 0.0, \\\"num_missing\\\": 0, \\\"num_unique\\\": 2, \\\"categorical\\\": [], \\\"numeric\\\": [{\\\"count\\\": 76675, \\\"right\\\": 0.03988, \\\"left\\\": -0.01132}, {\\\"count\\\": 0, \\\"right\\\": 0.09108, \\\"left\\\": 0.03988}, {\\\"count\\\": 0, \\\"right\\\": 0.14228, \\\"left\\\": 0.09108}, {\\\"count\\\": 0, \\\"right\\\": 0.19348, \\\"left\\\": 0.14228}, {\\\"count\\\": 0, \\\"right\\\": 0.24468, \\\"left\\\": 0.19348}, {\\\"count\\\": 0, \\\"right\\\": 0.29588, \\\"left\\\": 0.24468}, {\\\"count\\\": 0, \\\"right\\\": 0.34708, \\\"left\\\": 0.29588}, {\\\"count\\\": 0, \\\"right\\\": 0.39828, \\\"left\\\": 0.34708}, {\\\"count\\\": 0, \\\"right\\\": 0.44948, \\\"left\\\": 0.39828}, {\\\"count\\\": 0, \\\"right\\\": 0.50068, \\\"left\\\": 0.44948}, {\\\"count\\\": 0, \\\"right\\\": 0.55188, \\\"left\\\": 0.50068}, {\\\"count\\\": 0, \\\"right\\\": 0.60308, \\\"left\\\": 0.55188}, {\\\"count\\\": 0, \\\"right\\\": 0.65428, \\\"left\\\": 0.60308}, {\\\"count\\\": 0, \\\"right\\\": 0.70548, \\\"left\\\": 0.65428}, {\\\"count\\\": 0, \\\"right\\\": 0.75668, \\\"left\\\": 0.70548}, {\\\"count\\\": 0, \\\"right\\\": 0.80788, \\\"left\\\": 0.75668}, {\\\"count\\\": 0, \\\"right\\\": 0.85908, \\\"left\\\": 0.80788}, {\\\"count\\\": 0, \\\"right\\\": 0.91028, \\\"left\\\": 0.85908}, {\\\"count\\\": 0, \\\"right\\\": 0.96148, \\\"left\\\": 0.91028}, {\\\"count\\\": 24161, \\\"right\\\": 1.01268, \\\"left\\\": 0.96148}], \\\"stdev\\\": 0.426844, \\\"type\\\": \\\"integer\\\", \\\"mean\\\": 0.239607}, {\\\"a\\\": 7, \\\"num_row\\\": 100836, \\\"title\\\": \\\"Animation\\\", \\\"max\\\": 1.0, \\\"min\\\": 0.0, \\\"median\\\": 0.0, \\\"num_missing\\\": 0, \\\"num_unique\\\": 2, \\\"categorical\\\": [], \\\"numeric\\\": [{\\\"count\\\": 93848, \\\"right\\\": 0.03988, \\\"left\\\": -0.01132}, {\\\"count\\\": 0, \\\"right\\\": 0.09108, \\\"left\\\": 0.03988}, {\\\"count\\\": 0, \\\"right\\\": 0.14228, \\\"left\\\": 0.09108}, {\\\"count\\\": 0, \\\"right\\\": 0.19348, \\\"left\\\": 0.14228}, {\\\"count\\\": 0, \\\"right\\\": 0.24468, \\\"left\\\": 0.19348}, {\\\"count\\\": 0, \\\"right\\\": 0.29588, \\\"left\\\": 0.24468}, {\\\"count\\\": 0, \\\"right\\\": 0.34708, \\\"left\\\": 0.29588}, {\\\"count\\\": 0, \\\"right\\\": 0.39828, \\\"left\\\": 0.34708}, {\\\"count\\\": 0, \\\"right\\\": 0.44948, \\\"left\\\": 0.39828}, {\\\"count\\\": 0, \\\"right\\\": 0.50068, \\\"left\\\": 0.44948}, {\\\"count\\\": 0, \\\"right\\\": 0.55188, \\\"left\\\": 0.50068}, {\\\"count\\\": 0, \\\"right\\\": 0.60308, \\\"left\\\": 0.55188}, {\\\"count\\\": 0, \\\"right\\\": 0.65428, \\\"left\\\": 0.60308}, {\\\"count\\\": 0, \\\"right\\\": 0.70548, \\\"left\\\": 0.65428}, {\\\"count\\\": 0, \\\"right\\\": 0.75668, \\\"left\\\": 0.70548}, {\\\"count\\\": 0, \\\"right\\\": 0.80788, \\\"left\\\": 0.75668}, {\\\"count\\\": 0, \\\"right\\\": 0.85908, \\\"left\\\": 0.80788}, {\\\"count\\\": 0, \\\"right\\\": 0.91028, \\\"left\\\": 0.85908}, {\\\"count\\\": 0, \\\"right\\\": 0.96148, \\\"left\\\": 0.91028}, {\\\"count\\\": 6988, \\\"right\\\": 1.01268, \\\"left\\\": 0.96148}], \\\"stdev\\\": 0.253965, \\\"type\\\": \\\"integer\\\", \\\"mean\\\": 0.069301}, {\\\"a\\\": 8, \\\"num_row\\\": 100836, \\\"title\\\": \\\"Children\\\", \\\"max\\\": 1.0, \\\"min\\\": 0.0, \\\"median\\\": 0.0, \\\"num_missing\\\": 0, \\\"num_unique\\\": 2, \\\"categorical\\\": [], \\\"numeric\\\": [{\\\"count\\\": 91628, \\\"right\\\": 0.03988, \\\"left\\\": -0.01132}, {\\\"count\\\": 0, \\\"right\\\": 0.09108, \\\"left\\\": 0.03988}, {\\\"count\\\": 0, \\\"right\\\": 0.14228, \\\"left\\\": 0.09108}, {\\\"count\\\": 0, \\\"right\\\": 0.19348, \\\"left\\\": 0.14228}, {\\\"count\\\": 0, \\\"right\\\": 0.24468, \\\"left\\\": 0.19348}, {\\\"count\\\": 0, \\\"right\\\": 0.29588, \\\"left\\\": 0.24468}, {\\\"count\\\": 0, \\\"right\\\": 0.34708, \\\"left\\\": 0.29588}, {\\\"count\\\": 0, \\\"right\\\": 0.39828, \\\"left\\\": 0.34708}, {\\\"count\\\": 0, \\\"right\\\": 0.44948, \\\"left\\\": 0.39828}, {\\\"count\\\": 0, \\\"right\\\": 0.50068, \\\"left\\\": 0.44948}, {\\\"count\\\": 0, \\\"right\\\": 0.55188, \\\"left\\\": 0.50068}, {\\\"count\\\": 0, \\\"right\\\": 0.60308, \\\"left\\\": 0.55188}, {\\\"count\\\": 0, \\\"right\\\": 0.65428, \\\"left\\\": 0.60308}, {\\\"count\\\": 0, \\\"right\\\": 0.70548, \\\"left\\\": 0.65428}, {\\\"count\\\": 0, \\\"right\\\": 0.75668, \\\"left\\\": 0.70548}, {\\\"count\\\": 0, \\\"right\\\": 0.80788, \\\"left\\\": 0.75668}, {\\\"count\\\": 0, \\\"right\\\": 0.85908, \\\"left\\\": 0.80788}, {\\\"count\\\": 0, \\\"right\\\": 0.91028, \\\"left\\\": 0.85908}, {\\\"count\\\": 0, \\\"right\\\": 0.96148, \\\"left\\\": 0.91028}, {\\\"count\\\": 9208, \\\"right\\\": 1.01268, \\\"left\\\": 0.96148}], \\\"stdev\\\": 0.288059, \\\"type\\\": \\\"integer\\\", \\\"mean\\\": 0.091317}, {\\\"a\\\": 9, \\\"num_row\\\": 100836, \\\"title\\\": \\\"Comedy\\\", \\\"max\\\": 1.0, \\\"min\\\": 0.0, \\\"median\\\": 0.0, \\\"num_missing\\\": 0, \\\"num_unique\\\": 2, \\\"categorical\\\": [], \\\"numeric\\\": [{\\\"count\\\": 61783, \\\"right\\\": 0.03988, \\\"left\\\": -0.01132}, {\\\"count\\\": 0, \\\"right\\\": 0.09108, \\\"left\\\": 0.03988}, {\\\"count\\\": 0, \\\"right\\\": 0.14228, \\\"left\\\": 0.09108}, {\\\"count\\\": 0, \\\"right\\\": 0.19348, \\\"left\\\": 0.14228}, {\\\"count\\\": 0, \\\"right\\\": 0.24468, \\\"left\\\": 0.19348}, {\\\"count\\\": 0, \\\"right\\\": 0.29588, \\\"left\\\": 0.24468}, {\\\"count\\\": 0, \\\"right\\\": 0.34708, \\\"left\\\": 0.29588}, {\\\"count\\\": 0, \\\"right\\\": 0.39828, \\\"left\\\": 0.34708}, {\\\"count\\\": 0, \\\"right\\\": 0.44948, \\\"left\\\": 0.39828}, {\\\"count\\\": 0, \\\"right\\\": 0.50068, \\\"left\\\": 0.44948}, {\\\"count\\\": 0, \\\"right\\\": 0.55188, \\\"left\\\": 0.50068}, {\\\"count\\\": 0, \\\"right\\\": 0.60308, \\\"left\\\": 0.55188}, {\\\"count\\\": 0, \\\"right\\\": 0.65428, \\\"left\\\": 0.60308}, {\\\"count\\\": 0, \\\"right\\\": 0.70548, \\\"left\\\": 0.65428}, {\\\"count\\\": 0, \\\"right\\\": 0.75668, \\\"left\\\": 0.70548}, {\\\"count\\\": 0, \\\"right\\\": 0.80788, \\\"left\\\": 0.75668}, {\\\"count\\\": 0, \\\"right\\\": 0.85908, \\\"left\\\": 0.80788}, {\\\"count\\\": 0, \\\"right\\\": 0.91028, \\\"left\\\": 0.85908}, {\\\"count\\\": 0, \\\"right\\\": 0.96148, \\\"left\\\": 0.91028}, {\\\"count\\\": 39053, \\\"right\\\": 1.01268, \\\"left\\\": 0.96148}], \\\"stdev\\\": 0.487131, \\\"type\\\": \\\"integer\\\", \\\"mean\\\": 0.387292}, {\\\"a\\\": 10, \\\"num_row\\\": 100836, \\\"title\\\": \\\"Crime\\\", \\\"max\\\": 1.0, \\\"min\\\": 0.0, \\\"median\\\": 0.0, \\\"num_missing\\\": 0, \\\"num_unique\\\": 2, \\\"categorical\\\": [], \\\"numeric\\\": [{\\\"count\\\": 84155, \\\"right\\\": 0.04084, \\\"left\\\": -0.01036}, {\\\"count\\\": 0, \\\"right\\\": 0.09204, \\\"left\\\": 0.04084}, {\\\"count\\\": 0, \\\"right\\\": 0.14324, \\\"left\\\": 0.09204}, {\\\"count\\\": 0, \\\"right\\\": 0.19444, \\\"left\\\": 0.14324}, {\\\"count\\\": 0, \\\"right\\\": 0.24564, \\\"left\\\": 0.19444}, {\\\"count\\\": 0, \\\"right\\\": 0.29684, \\\"left\\\": 0.24564}, {\\\"count\\\": 0, \\\"right\\\": 0.34804, \\\"left\\\": 0.29684}, {\\\"count\\\": 0, \\\"right\\\": 0.39924, \\\"left\\\": 0.34804}, {\\\"count\\\": 0, \\\"right\\\": 0.45044, \\\"left\\\": 0.39924}, {\\\"count\\\": 0, \\\"right\\\": 0.50164, \\\"left\\\": 0.45044}, {\\\"count\\\": 0, \\\"right\\\": 0.55284, \\\"left\\\": 0.50164}, {\\\"count\\\": 0, \\\"right\\\": 0.60404, \\\"left\\\": 0.55284}, {\\\"count\\\": 0, \\\"right\\\": 0.65524, \\\"left\\\": 0.60404}, {\\\"count\\\": 0, \\\"right\\\": 0.70644, \\\"left\\\": 0.65524}, {\\\"count\\\": 0, \\\"right\\\": 0.75764, \\\"left\\\": 0.70644}, {\\\"count\\\": 0, \\\"right\\\": 0.80884, \\\"left\\\": 0.75764}, {\\\"count\\\": 0, \\\"right\\\": 0.86004, \\\"left\\\": 0.80884}, {\\\"count\\\": 0, \\\"right\\\": 0.91124, \\\"left\\\": 0.86004}, {\\\"count\\\": 0, \\\"right\\\": 0.96244, \\\"left\\\": 0.91124}, {\\\"count\\\": 16681, \\\"right\\\": 1.01364, \\\"left\\\": 0.96244}], \\\"stdev\\\": 0.371566, \\\"type\\\": \\\"integer\\\", \\\"mean\\\": 0.165427}, {\\\"a\\\": 11, \\\"num_row\\\": 100836, \\\"title\\\": \\\"Documentary\\\", \\\"max\\\": 1.0, \\\"min\\\": 0.0, \\\"median\\\": 0.0, \\\"num_missing\\\": 0, \\\"num_unique\\\": 2, \\\"categorical\\\": [], \\\"numeric\\\": [{\\\"count\\\": 99617, \\\"right\\\": 0.04084, \\\"left\\\": -0.01036}, {\\\"count\\\": 0, \\\"right\\\": 0.09204, \\\"left\\\": 0.04084}, {\\\"count\\\": 0, \\\"right\\\": 0.14324, \\\"left\\\": 0.09204}, {\\\"count\\\": 0, \\\"right\\\": 0.19444, \\\"left\\\": 0.14324}, {\\\"count\\\": 0, \\\"right\\\": 0.24564, \\\"left\\\": 0.19444}, {\\\"count\\\": 0, \\\"right\\\": 0.29684, \\\"left\\\": 0.24564}, {\\\"count\\\": 0, \\\"right\\\": 0.34804, \\\"left\\\": 0.29684}, {\\\"count\\\": 0, \\\"right\\\": 0.39924, \\\"left\\\": 0.34804}, {\\\"count\\\": 0, \\\"right\\\": 0.45044, \\\"left\\\": 0.39924}, {\\\"count\\\": 0, \\\"right\\\": 0.50164, \\\"left\\\": 0.45044}, {\\\"count\\\": 0, \\\"right\\\": 0.55284, \\\"left\\\": 0.50164}, {\\\"count\\\": 0, \\\"right\\\": 0.60404, \\\"left\\\": 0.55284}, {\\\"count\\\": 0, \\\"right\\\": 0.65524, \\\"left\\\": 0.60404}, {\\\"count\\\": 0, \\\"right\\\": 0.70644, \\\"left\\\": 0.65524}, {\\\"count\\\": 0, \\\"right\\\": 0.75764, \\\"left\\\": 0.70644}, {\\\"count\\\": 0, \\\"right\\\": 0.80884, \\\"left\\\": 0.75764}, {\\\"count\\\": 0, \\\"right\\\": 0.86004, \\\"left\\\": 0.80884}, {\\\"count\\\": 0, \\\"right\\\": 0.91124, \\\"left\\\": 0.86004}, {\\\"count\\\": 0, \\\"right\\\": 0.96244, \\\"left\\\": 0.91124}, {\\\"count\\\": 1219, \\\"right\\\": 1.01364, \\\"left\\\": 0.96244}], \\\"stdev\\\": 0.109283, \\\"type\\\": \\\"integer\\\", \\\"mean\\\": 0.012089}, {\\\"a\\\": 12, \\\"num_row\\\": 100836, \\\"title\\\": \\\"Drama\\\", \\\"max\\\": 1.0, \\\"min\\\": 0.0, \\\"median\\\": 0.0, \\\"num_missing\\\": 0, \\\"num_unique\\\": 2, \\\"categorical\\\": [], \\\"numeric\\\": [{\\\"count\\\": 58908, \\\"right\\\": 0.04084, \\\"left\\\": -0.01036}, {\\\"count\\\": 0, \\\"right\\\": 0.09204, \\\"left\\\": 0.04084}, {\\\"count\\\": 0, \\\"right\\\": 0.14324, \\\"left\\\": 0.09204}, {\\\"count\\\": 0, \\\"right\\\": 0.19444, \\\"left\\\": 0.14324}, {\\\"count\\\": 0, \\\"right\\\": 0.24564, \\\"left\\\": 0.19444}, {\\\"count\\\": 0, \\\"right\\\": 0.29684, \\\"left\\\": 0.24564}, {\\\"count\\\": 0, \\\"right\\\": 0.34804, \\\"left\\\": 0.29684}, {\\\"count\\\": 0, \\\"right\\\": 0.39924, \\\"left\\\": 0.34804}, {\\\"count\\\": 0, \\\"right\\\": 0.45044, \\\"left\\\": 0.39924}, {\\\"count\\\": 0, \\\"right\\\": 0.50164, \\\"left\\\": 0.45044}, {\\\"count\\\": 0, \\\"right\\\": 0.55284, \\\"left\\\": 0.50164}, {\\\"count\\\": 0, \\\"right\\\": 0.60404, \\\"left\\\": 0.55284}, {\\\"count\\\": 0, \\\"right\\\": 0.65524, \\\"left\\\": 0.60404}, {\\\"count\\\": 0, \\\"right\\\": 0.70644, \\\"left\\\": 0.65524}, {\\\"count\\\": 0, \\\"right\\\": 0.75764, \\\"left\\\": 0.70644}, {\\\"count\\\": 0, \\\"right\\\": 0.80884, \\\"left\\\": 0.75764}, {\\\"count\\\": 0, \\\"right\\\": 0.86004, \\\"left\\\": 0.80884}, {\\\"count\\\": 0, \\\"right\\\": 0.91124, \\\"left\\\": 0.86004}, {\\\"count\\\": 0, \\\"right\\\": 0.96244, \\\"left\\\": 0.91124}, {\\\"count\\\": 41928, \\\"right\\\": 1.01364, \\\"left\\\": 0.96244}], \\\"stdev\\\": 0.49286, \\\"type\\\": \\\"integer\\\", \\\"mean\\\": 0.415804}, {\\\"a\\\": 13, \\\"num_row\\\": 100836, \\\"title\\\": \\\"Fantasy\\\", \\\"max\\\": 1.0, \\\"min\\\": 0.0, \\\"median\\\": 0.0, \\\"num_missing\\\": 0, \\\"num_unique\\\": 2, \\\"categorical\\\": [], \\\"numeric\\\": [{\\\"count\\\": 89002, \\\"right\\\": 0.03988, \\\"left\\\": -0.01132}, {\\\"count\\\": 0, \\\"right\\\": 0.09108, \\\"left\\\": 0.03988}, {\\\"count\\\": 0, \\\"right\\\": 0.14228, \\\"left\\\": 0.09108}, {\\\"count\\\": 0, \\\"right\\\": 0.19348, \\\"left\\\": 0.14228}, {\\\"count\\\": 0, \\\"right\\\": 0.24468, \\\"left\\\": 0.19348}, {\\\"count\\\": 0, \\\"right\\\": 0.29588, \\\"left\\\": 0.24468}, {\\\"count\\\": 0, \\\"right\\\": 0.34708, \\\"left\\\": 0.29588}, {\\\"count\\\": 0, \\\"right\\\": 0.39828, \\\"left\\\": 0.34708}, {\\\"count\\\": 0, \\\"right\\\": 0.44948, \\\"left\\\": 0.39828}, {\\\"count\\\": 0, \\\"right\\\": 0.50068, \\\"left\\\": 0.44948}, {\\\"count\\\": 0, \\\"right\\\": 0.55188, \\\"left\\\": 0.50068}, {\\\"count\\\": 0, \\\"right\\\": 0.60308, \\\"left\\\": 0.55188}, {\\\"count\\\": 0, \\\"right\\\": 0.65428, \\\"left\\\": 0.60308}, {\\\"count\\\": 0, \\\"right\\\": 0.70548, \\\"left\\\": 0.65428}, {\\\"count\\\": 0, \\\"right\\\": 0.75668, \\\"left\\\": 0.70548}, {\\\"count\\\": 0, \\\"right\\\": 0.80788, \\\"left\\\": 0.75668}, {\\\"count\\\": 0, \\\"right\\\": 0.85908, \\\"left\\\": 0.80788}, {\\\"count\\\": 0, \\\"right\\\": 0.91028, \\\"left\\\": 0.85908}, {\\\"count\\\": 0, \\\"right\\\": 0.96148, \\\"left\\\": 0.91028}, {\\\"count\\\": 11834, \\\"right\\\": 1.01268, \\\"left\\\": 0.96148}], \\\"stdev\\\": 0.321847, \\\"type\\\": \\\"integer\\\", \\\"mean\\\": 0.117359}, {\\\"a\\\": 14, \\\"num_row\\\": 100836, \\\"title\\\": \\\"Film-Noir\\\", \\\"max\\\": 1.0, \\\"min\\\": 0.0, \\\"median\\\": 0.0, \\\"num_missing\\\": 0, \\\"num_unique\\\": 2, \\\"categorical\\\": [], \\\"numeric\\\": [{\\\"count\\\": 99966, \\\"right\\\": 0.04084, \\\"left\\\": -0.01036}, {\\\"count\\\": 0, \\\"right\\\": 0.09204, \\\"left\\\": 0.04084}, {\\\"count\\\": 0, \\\"right\\\": 0.14324, \\\"left\\\": 0.09204}, {\\\"count\\\": 0, \\\"right\\\": 0.19444, \\\"left\\\": 0.14324}, {\\\"count\\\": 0, \\\"right\\\": 0.24564, \\\"left\\\": 0.19444}, {\\\"count\\\": 0, \\\"right\\\": 0.29684, \\\"left\\\": 0.24564}, {\\\"count\\\": 0, \\\"right\\\": 0.34804, \\\"left\\\": 0.29684}, {\\\"count\\\": 0, \\\"right\\\": 0.39924, \\\"left\\\": 0.34804}, {\\\"count\\\": 0, \\\"right\\\": 0.45044, \\\"left\\\": 0.39924}, {\\\"count\\\": 0, \\\"right\\\": 0.50164, \\\"left\\\": 0.45044}, {\\\"count\\\": 0, \\\"right\\\": 0.55284, \\\"left\\\": 0.50164}, {\\\"count\\\": 0, \\\"right\\\": 0.60404, \\\"left\\\": 0.55284}, {\\\"count\\\": 0, \\\"right\\\": 0.65524, \\\"left\\\": 0.60404}, {\\\"count\\\": 0, \\\"right\\\": 0.70644, \\\"left\\\": 0.65524}, {\\\"count\\\": 0, \\\"right\\\": 0.75764, \\\"left\\\": 0.70644}, {\\\"count\\\": 0, \\\"right\\\": 0.80884, \\\"left\\\": 0.75764}, {\\\"count\\\": 0, \\\"right\\\": 0.86004, \\\"left\\\": 0.80884}, {\\\"count\\\": 0, \\\"right\\\": 0.91124, \\\"left\\\": 0.86004}, {\\\"count\\\": 0, \\\"right\\\": 0.96244, \\\"left\\\": 0.91124}, {\\\"count\\\": 870, \\\"right\\\": 1.01364, \\\"left\\\": 0.96244}], \\\"stdev\\\": 0.092485, \\\"type\\\": \\\"integer\\\", \\\"mean\\\": 0.008628}, {\\\"a\\\": 15, \\\"num_row\\\": 100836, \\\"title\\\": \\\"Horror\\\", \\\"max\\\": 1.0, \\\"min\\\": 0.0, \\\"median\\\": 0.0, \\\"num_missing\\\": 0, \\\"num_unique\\\": 2, \\\"categorical\\\": [], \\\"numeric\\\": [{\\\"count\\\": 93545, \\\"right\\\": 0.04084, \\\"left\\\": -0.01036}, {\\\"count\\\": 0, \\\"right\\\": 0.09204, \\\"left\\\": 0.04084}, {\\\"count\\\": 0, \\\"right\\\": 0.14324, \\\"left\\\": 0.09204}, {\\\"count\\\": 0, \\\"right\\\": 0.19444, \\\"left\\\": 0.14324}, {\\\"count\\\": 0, \\\"right\\\": 0.24564, \\\"left\\\": 0.19444}, {\\\"count\\\": 0, \\\"right\\\": 0.29684, \\\"left\\\": 0.24564}, {\\\"count\\\": 0, \\\"right\\\": 0.34804, \\\"left\\\": 0.29684}, {\\\"count\\\": 0, \\\"right\\\": 0.39924, \\\"left\\\": 0.34804}, {\\\"count\\\": 0, \\\"right\\\": 0.45044, \\\"left\\\": 0.39924}, {\\\"count\\\": 0, \\\"right\\\": 0.50164, \\\"left\\\": 0.45044}, {\\\"count\\\": 0, \\\"right\\\": 0.55284, \\\"left\\\": 0.50164}, {\\\"count\\\": 0, \\\"right\\\": 0.60404, \\\"left\\\": 0.55284}, {\\\"count\\\": 0, \\\"right\\\": 0.65524, \\\"left\\\": 0.60404}, {\\\"count\\\": 0, \\\"right\\\": 0.70644, \\\"left\\\": 0.65524}, {\\\"count\\\": 0, \\\"right\\\": 0.75764, \\\"left\\\": 0.70644}, {\\\"count\\\": 0, \\\"right\\\": 0.80884, \\\"left\\\": 0.75764}, {\\\"count\\\": 0, \\\"right\\\": 0.86004, \\\"left\\\": 0.80884}, {\\\"count\\\": 0, \\\"right\\\": 0.91124, \\\"left\\\": 0.86004}, {\\\"count\\\": 0, \\\"right\\\": 0.96244, \\\"left\\\": 0.91124}, {\\\"count\\\": 7291, \\\"right\\\": 1.01364, \\\"left\\\": 0.96244}], \\\"stdev\\\": 0.258993, \\\"type\\\": \\\"integer\\\", \\\"mean\\\": 0.072306}, {\\\"a\\\": 16, \\\"num_row\\\": 100836, \\\"title\\\": \\\"IMAX\\\", \\\"max\\\": 1.0, \\\"min\\\": 0.0, \\\"median\\\": 0.0, \\\"num_missing\\\": 0, \\\"num_unique\\\": 2, \\\"categorical\\\": [], \\\"numeric\\\": [{\\\"count\\\": 96691, \\\"right\\\": 0.04084, \\\"left\\\": -0.01036}, {\\\"count\\\": 0, \\\"right\\\": 0.09204, \\\"left\\\": 0.04084}, {\\\"count\\\": 0, \\\"right\\\": 0.14324, \\\"left\\\": 0.09204}, {\\\"count\\\": 0, \\\"right\\\": 0.19444, \\\"left\\\": 0.14324}, {\\\"count\\\": 0, \\\"right\\\": 0.24564, \\\"left\\\": 0.19444}, {\\\"count\\\": 0, \\\"right\\\": 0.29684, \\\"left\\\": 0.24564}, {\\\"count\\\": 0, \\\"right\\\": 0.34804, \\\"left\\\": 0.29684}, {\\\"count\\\": 0, \\\"right\\\": 0.39924, \\\"left\\\": 0.34804}, {\\\"count\\\": 0, \\\"right\\\": 0.45044, \\\"left\\\": 0.39924}, {\\\"count\\\": 0, \\\"right\\\": 0.50164, \\\"left\\\": 0.45044}, {\\\"count\\\": 0, \\\"right\\\": 0.55284, \\\"left\\\": 0.50164}, {\\\"count\\\": 0, \\\"right\\\": 0.60404, \\\"left\\\": 0.55284}, {\\\"count\\\": 0, \\\"right\\\": 0.65524, \\\"left\\\": 0.60404}, {\\\"count\\\": 0, \\\"right\\\": 0.70644, \\\"left\\\": 0.65524}, {\\\"count\\\": 0, \\\"right\\\": 0.75764, \\\"left\\\": 0.70644}, {\\\"count\\\": 0, \\\"right\\\": 0.80884, \\\"left\\\": 0.75764}, {\\\"count\\\": 0, \\\"right\\\": 0.86004, \\\"left\\\": 0.80884}, {\\\"count\\\": 0, \\\"right\\\": 0.91124, \\\"left\\\": 0.86004}, {\\\"count\\\": 0, \\\"right\\\": 0.96244, \\\"left\\\": 0.91124}, {\\\"count\\\": 4145, \\\"right\\\": 1.01364, \\\"left\\\": 0.96244}], \\\"stdev\\\": 0.198536, \\\"type\\\": \\\"integer\\\", \\\"mean\\\": 0.041106}, {\\\"a\\\": 17, \\\"num_row\\\": 100836, \\\"title\\\": \\\"Musical\\\", \\\"max\\\": 1.0, \\\"min\\\": 0.0, \\\"median\\\": 0.0, \\\"num_missing\\\": 0, \\\"num_unique\\\": 2, \\\"categorical\\\": [], \\\"numeric\\\": [{\\\"count\\\": 96698, \\\"right\\\": 0.04084, \\\"left\\\": -0.01036}, {\\\"count\\\": 0, \\\"right\\\": 0.09204, \\\"left\\\": 0.04084}, {\\\"count\\\": 0, \\\"right\\\": 0.14324, \\\"left\\\": 0.09204}, {\\\"count\\\": 0, \\\"right\\\": 0.19444, \\\"left\\\": 0.14324}, {\\\"count\\\": 0, \\\"right\\\": 0.24564, \\\"left\\\": 0.19444}, {\\\"count\\\": 0, \\\"right\\\": 0.29684, \\\"left\\\": 0.24564}, {\\\"count\\\": 0, \\\"right\\\": 0.34804, \\\"left\\\": 0.29684}, {\\\"count\\\": 0, \\\"right\\\": 0.39924, \\\"left\\\": 0.34804}, {\\\"count\\\": 0, \\\"right\\\": 0.45044, \\\"left\\\": 0.39924}, {\\\"count\\\": 0, \\\"right\\\": 0.50164, \\\"left\\\": 0.45044}, {\\\"count\\\": 0, \\\"right\\\": 0.55284, \\\"left\\\": 0.50164}, {\\\"count\\\": 0, \\\"right\\\": 0.60404, \\\"left\\\": 0.55284}, {\\\"count\\\": 0, \\\"right\\\": 0.65524, \\\"left\\\": 0.60404}, {\\\"count\\\": 0, \\\"right\\\": 0.70644, \\\"left\\\": 0.65524}, {\\\"count\\\": 0, \\\"right\\\": 0.75764, \\\"left\\\": 0.70644}, {\\\"count\\\": 0, \\\"right\\\": 0.80884, \\\"left\\\": 0.75764}, {\\\"count\\\": 0, \\\"right\\\": 0.86004, \\\"left\\\": 0.80884}, {\\\"count\\\": 0, \\\"right\\\": 0.91124, \\\"left\\\": 0.86004}, {\\\"count\\\": 0, \\\"right\\\": 0.96244, \\\"left\\\": 0.91124}, {\\\"count\\\": 4138, \\\"right\\\": 1.01364, \\\"left\\\": 0.96244}], \\\"stdev\\\": 0.198376, \\\"type\\\": \\\"integer\\\", \\\"mean\\\": 0.041037}, {\\\"a\\\": 18, \\\"num_row\\\": 100836, \\\"title\\\": \\\"Mystery\\\", \\\"max\\\": 1.0, \\\"min\\\": 0.0, \\\"median\\\": 0.0, \\\"num_missing\\\": 0, \\\"num_unique\\\": 2, \\\"categorical\\\": [], \\\"numeric\\\": [{\\\"count\\\": 93162, \\\"right\\\": 0.04084, \\\"left\\\": -0.01036}, {\\\"count\\\": 0, \\\"right\\\": 0.09204, \\\"left\\\": 0.04084}, {\\\"count\\\": 0, \\\"right\\\": 0.14324, \\\"left\\\": 0.09204}, {\\\"count\\\": 0, \\\"right\\\": 0.19444, \\\"left\\\": 0.14324}, {\\\"count\\\": 0, \\\"right\\\": 0.24564, \\\"left\\\": 0.19444}, {\\\"count\\\": 0, \\\"right\\\": 0.29684, \\\"left\\\": 0.24564}, {\\\"count\\\": 0, \\\"right\\\": 0.34804, \\\"left\\\": 0.29684}, {\\\"count\\\": 0, \\\"right\\\": 0.39924, \\\"left\\\": 0.34804}, {\\\"count\\\": 0, \\\"right\\\": 0.45044, \\\"left\\\": 0.39924}, {\\\"count\\\": 0, \\\"right\\\": 0.50164, \\\"left\\\": 0.45044}, {\\\"count\\\": 0, \\\"right\\\": 0.55284, \\\"left\\\": 0.50164}, {\\\"count\\\": 0, \\\"right\\\": 0.60404, \\\"left\\\": 0.55284}, {\\\"count\\\": 0, \\\"right\\\": 0.65524, \\\"left\\\": 0.60404}, {\\\"count\\\": 0, \\\"right\\\": 0.70644, \\\"left\\\": 0.65524}, {\\\"count\\\": 0, \\\"right\\\": 0.75764, \\\"left\\\": 0.70644}, {\\\"count\\\": 0, \\\"right\\\": 0.80884, \\\"left\\\": 0.75764}, {\\\"count\\\": 0, \\\"right\\\": 0.86004, \\\"left\\\": 0.80884}, {\\\"count\\\": 0, \\\"right\\\": 0.91124, \\\"left\\\": 0.86004}, {\\\"count\\\": 0, \\\"right\\\": 0.96244, \\\"left\\\": 0.91124}, {\\\"count\\\": 7674, \\\"right\\\": 1.01364, \\\"left\\\": 0.96244}], \\\"stdev\\\": 0.265164, \\\"type\\\": \\\"integer\\\", \\\"mean\\\": 0.076104}, {\\\"a\\\": 19, \\\"num_row\\\": 100836, \\\"title\\\": \\\"Romance\\\", \\\"max\\\": 1.0, \\\"min\\\": 0.0, \\\"median\\\": 0.0, \\\"num_missing\\\": 0, \\\"num_unique\\\": 2, \\\"categorical\\\": [], \\\"numeric\\\": [{\\\"count\\\": 82712, \\\"right\\\": 0.04084, \\\"left\\\": -0.01036}, {\\\"count\\\": 0, \\\"right\\\": 0.09204, \\\"left\\\": 0.04084}, {\\\"count\\\": 0, \\\"right\\\": 0.14324, \\\"left\\\": 0.09204}, {\\\"count\\\": 0, \\\"right\\\": 0.19444, \\\"left\\\": 0.14324}, {\\\"count\\\": 0, \\\"right\\\": 0.24564, \\\"left\\\": 0.19444}, {\\\"count\\\": 0, \\\"right\\\": 0.29684, \\\"left\\\": 0.24564}, {\\\"count\\\": 0, \\\"right\\\": 0.34804, \\\"left\\\": 0.29684}, {\\\"count\\\": 0, \\\"right\\\": 0.39924, \\\"left\\\": 0.34804}, {\\\"count\\\": 0, \\\"right\\\": 0.45044, \\\"left\\\": 0.39924}, {\\\"count\\\": 0, \\\"right\\\": 0.50164, \\\"left\\\": 0.45044}, {\\\"count\\\": 0, \\\"right\\\": 0.55284, \\\"left\\\": 0.50164}, {\\\"count\\\": 0, \\\"right\\\": 0.60404, \\\"left\\\": 0.55284}, {\\\"count\\\": 0, \\\"right\\\": 0.65524, \\\"left\\\": 0.60404}, {\\\"count\\\": 0, \\\"right\\\": 0.70644, \\\"left\\\": 0.65524}, {\\\"count\\\": 0, \\\"right\\\": 0.75764, \\\"left\\\": 0.70644}, {\\\"count\\\": 0, \\\"right\\\": 0.80884, \\\"left\\\": 0.75764}, {\\\"count\\\": 0, \\\"right\\\": 0.86004, \\\"left\\\": 0.80884}, {\\\"count\\\": 0, \\\"right\\\": 0.91124, \\\"left\\\": 0.86004}, {\\\"count\\\": 0, \\\"right\\\": 0.96244, \\\"left\\\": 0.91124}, {\\\"count\\\": 18124, \\\"right\\\": 1.01364, \\\"left\\\": 0.96244}], \\\"stdev\\\": 0.383969, \\\"type\\\": \\\"integer\\\", \\\"mean\\\": 0.179737}, {\\\"a\\\": 20, \\\"num_row\\\": 100836, \\\"title\\\": \\\"Sci-Fi\\\", \\\"max\\\": 1.0, \\\"min\\\": 0.0, \\\"median\\\": 0.0, \\\"num_missing\\\": 0, \\\"num_unique\\\": 2, \\\"categorical\\\": [], \\\"numeric\\\": [{\\\"count\\\": 83593, \\\"right\\\": 0.04084, \\\"left\\\": -0.01036}, {\\\"count\\\": 0, \\\"right\\\": 0.09204, \\\"left\\\": 0.04084}, {\\\"count\\\": 0, \\\"right\\\": 0.14324, \\\"left\\\": 0.09204}, {\\\"count\\\": 0, \\\"right\\\": 0.19444, \\\"left\\\": 0.14324}, {\\\"count\\\": 0, \\\"right\\\": 0.24564, \\\"left\\\": 0.19444}, {\\\"count\\\": 0, \\\"right\\\": 0.29684, \\\"left\\\": 0.24564}, {\\\"count\\\": 0, \\\"right\\\": 0.34804, \\\"left\\\": 0.29684}, {\\\"count\\\": 0, \\\"right\\\": 0.39924, \\\"left\\\": 0.34804}, {\\\"count\\\": 0, \\\"right\\\": 0.45044, \\\"left\\\": 0.39924}, {\\\"count\\\": 0, \\\"right\\\": 0.50164, \\\"left\\\": 0.45044}, {\\\"count\\\": 0, \\\"right\\\": 0.55284, \\\"left\\\": 0.50164}, {\\\"count\\\": 0, \\\"right\\\": 0.60404, \\\"left\\\": 0.55284}, {\\\"count\\\": 0, \\\"right\\\": 0.65524, \\\"left\\\": 0.60404}, {\\\"count\\\": 0, \\\"right\\\": 0.70644, \\\"left\\\": 0.65524}, {\\\"count\\\": 0, \\\"right\\\": 0.75764, \\\"left\\\": 0.70644}, {\\\"count\\\": 0, \\\"right\\\": 0.80884, \\\"left\\\": 0.75764}, {\\\"count\\\": 0, \\\"right\\\": 0.86004, \\\"left\\\": 0.80884}, {\\\"count\\\": 0, \\\"right\\\": 0.91124, \\\"left\\\": 0.86004}, {\\\"count\\\": 0, \\\"right\\\": 0.96244, \\\"left\\\": 0.91124}, {\\\"count\\\": 17243, \\\"right\\\": 1.01364, \\\"left\\\": 0.96244}], \\\"stdev\\\": 0.376509, \\\"type\\\": \\\"integer\\\", \\\"mean\\\": 0.171}, {\\\"a\\\": 21, \\\"num_row\\\": 100836, \\\"title\\\": \\\"Thriller\\\", \\\"max\\\": 1.0, \\\"min\\\": 0.0, \\\"median\\\": 0.0, \\\"num_missing\\\": 0, \\\"num_unique\\\": 2, \\\"categorical\\\": [], \\\"numeric\\\": [{\\\"count\\\": 74384, \\\"right\\\": 0.04084, \\\"left\\\": -0.01036}, {\\\"count\\\": 0, \\\"right\\\": 0.09204, \\\"left\\\": 0.04084}, {\\\"count\\\": 0, \\\"right\\\": 0.14324, \\\"left\\\": 0.09204}, {\\\"count\\\": 0, \\\"right\\\": 0.19444, \\\"left\\\": 0.14324}, {\\\"count\\\": 0, \\\"right\\\": 0.24564, \\\"left\\\": 0.19444}, {\\\"count\\\": 0, \\\"right\\\": 0.29684, \\\"left\\\": 0.24564}, {\\\"count\\\": 0, \\\"right\\\": 0.34804, \\\"left\\\": 0.29684}, {\\\"count\\\": 0, \\\"right\\\": 0.39924, \\\"left\\\": 0.34804}, {\\\"count\\\": 0, \\\"right\\\": 0.45044, \\\"left\\\": 0.39924}, {\\\"count\\\": 0, \\\"right\\\": 0.50164, \\\"left\\\": 0.45044}, {\\\"count\\\": 0, \\\"right\\\": 0.55284, \\\"left\\\": 0.50164}, {\\\"count\\\": 0, \\\"right\\\": 0.60404, \\\"left\\\": 0.55284}, {\\\"count\\\": 0, \\\"right\\\": 0.65524, \\\"left\\\": 0.60404}, {\\\"count\\\": 0, \\\"right\\\": 0.70644, \\\"left\\\": 0.65524}, {\\\"count\\\": 0, \\\"right\\\": 0.75764, \\\"left\\\": 0.70644}, {\\\"count\\\": 0, \\\"right\\\": 0.80884, \\\"left\\\": 0.75764}, {\\\"count\\\": 0, \\\"right\\\": 0.86004, \\\"left\\\": 0.80884}, {\\\"count\\\": 0, \\\"right\\\": 0.91124, \\\"left\\\": 0.86004}, {\\\"count\\\": 0, \\\"right\\\": 0.96244, \\\"left\\\": 0.91124}, {\\\"count\\\": 26452, \\\"right\\\": 1.01364, \\\"left\\\": 0.96244}], \\\"stdev\\\": 0.439899, \\\"type\\\": \\\"integer\\\", \\\"mean\\\": 0.262327}, {\\\"a\\\": 22, \\\"num_row\\\": 100836, \\\"title\\\": \\\"War\\\", \\\"max\\\": 1.0, \\\"min\\\": 0.0, \\\"median\\\": 0.0, \\\"num_missing\\\": 0, \\\"num_unique\\\": 2, \\\"categorical\\\": [], \\\"numeric\\\": [{\\\"count\\\": 95977, \\\"right\\\": 0.04084, \\\"left\\\": -0.01036}, {\\\"count\\\": 0, \\\"right\\\": 0.09204, \\\"left\\\": 0.04084}, {\\\"count\\\": 0, \\\"right\\\": 0.14324, \\\"left\\\": 0.09204}, {\\\"count\\\": 0, \\\"right\\\": 0.19444, \\\"left\\\": 0.14324}, {\\\"count\\\": 0, \\\"right\\\": 0.24564, \\\"left\\\": 0.19444}, {\\\"count\\\": 0, \\\"right\\\": 0.29684, \\\"left\\\": 0.24564}, {\\\"count\\\": 0, \\\"right\\\": 0.34804, \\\"left\\\": 0.29684}, {\\\"count\\\": 0, \\\"right\\\": 0.39924, \\\"left\\\": 0.34804}, {\\\"count\\\": 0, \\\"right\\\": 0.45044, \\\"left\\\": 0.39924}, {\\\"count\\\": 0, \\\"right\\\": 0.50164, \\\"left\\\": 0.45044}, {\\\"count\\\": 0, \\\"right\\\": 0.55284, \\\"left\\\": 0.50164}, {\\\"count\\\": 0, \\\"right\\\": 0.60404, \\\"left\\\": 0.55284}, {\\\"count\\\": 0, \\\"right\\\": 0.65524, \\\"left\\\": 0.60404}, {\\\"count\\\": 0, \\\"right\\\": 0.70644, \\\"left\\\": 0.65524}, {\\\"count\\\": 0, \\\"right\\\": 0.75764, \\\"left\\\": 0.70644}, {\\\"count\\\": 0, \\\"right\\\": 0.80884, \\\"left\\\": 0.75764}, {\\\"count\\\": 0, \\\"right\\\": 0.86004, \\\"left\\\": 0.80884}, {\\\"count\\\": 0, \\\"right\\\": 0.91124, \\\"left\\\": 0.86004}, {\\\"count\\\": 0, \\\"right\\\": 0.96244, \\\"left\\\": 0.91124}, {\\\"count\\\": 4859, \\\"right\\\": 1.01364, \\\"left\\\": 0.96244}], \\\"stdev\\\": 0.214162, \\\"type\\\": \\\"integer\\\", \\\"mean\\\": 0.048187}, {\\\"a\\\": 23, \\\"num_row\\\": 100836, \\\"title\\\": \\\"Western\\\", \\\"max\\\": 1.0, \\\"min\\\": 0.0, \\\"median\\\": 0.0, \\\"num_missing\\\": 0, \\\"num_unique\\\": 2, \\\"categorical\\\": [], \\\"numeric\\\": [{\\\"count\\\": 98906, \\\"right\\\": 0.04084, \\\"left\\\": -0.01036}, {\\\"count\\\": 0, \\\"right\\\": 0.09204, \\\"left\\\": 0.04084}, {\\\"count\\\": 0, \\\"right\\\": 0.14324, \\\"left\\\": 0.09204}, {\\\"count\\\": 0, \\\"right\\\": 0.19444, \\\"left\\\": 0.14324}, {\\\"count\\\": 0, \\\"right\\\": 0.24564, \\\"left\\\": 0.19444}, {\\\"count\\\": 0, \\\"right\\\": 0.29684, \\\"left\\\": 0.24564}, {\\\"count\\\": 0, \\\"right\\\": 0.34804, \\\"left\\\": 0.29684}, {\\\"count\\\": 0, \\\"right\\\": 0.39924, \\\"left\\\": 0.34804}, {\\\"count\\\": 0, \\\"right\\\": 0.45044, \\\"left\\\": 0.39924}, {\\\"count\\\": 0, \\\"right\\\": 0.50164, \\\"left\\\": 0.45044}, {\\\"count\\\": 0, \\\"right\\\": 0.55284, \\\"left\\\": 0.50164}, {\\\"count\\\": 0, \\\"right\\\": 0.60404, \\\"left\\\": 0.55284}, {\\\"count\\\": 0, \\\"right\\\": 0.65524, \\\"left\\\": 0.60404}, {\\\"count\\\": 0, \\\"right\\\": 0.70644, \\\"left\\\": 0.65524}, {\\\"count\\\": 0, \\\"right\\\": 0.75764, \\\"left\\\": 0.70644}, {\\\"count\\\": 0, \\\"right\\\": 0.80884, \\\"left\\\": 0.75764}, {\\\"count\\\": 0, \\\"right\\\": 0.86004, \\\"left\\\": 0.80884}, {\\\"count\\\": 0, \\\"right\\\": 0.91124, \\\"left\\\": 0.86004}, {\\\"count\\\": 0, \\\"right\\\": 0.96244, \\\"left\\\": 0.91124}, {\\\"count\\\": 1930, \\\"right\\\": 1.01364, \\\"left\\\": 0.96244}], \\\"stdev\\\": 0.137017, \\\"type\\\": \\\"integer\\\", \\\"mean\\\": 0.01914}], \\\"name\\\": \\\"source_2\\\"}, {\\\"source\\\": \\\"source_2\\\", \\\"name\\\": \\\"data_2\\\", \\\"transform\\\": [{\\\"expr\\\": \\\"20\\\", \\\"as\\\": \\\"c_x_axis_back\\\", \\\"type\\\": \\\"formula\\\"}, {\\\"expr\\\": \\\"toNumber(datum[\\\\\\\"a\\\\\\\"])*300+66\\\", \\\"as\\\": \\\"c_main_background\\\", \\\"type\\\": \\\"formula\\\"}, {\\\"expr\\\": \\\"toNumber(datum[\\\\\\\"a\\\\\\\"])*300+43\\\", \\\"as\\\": \\\"c_top_bar\\\", \\\"type\\\": \\\"formula\\\"}, {\\\"expr\\\": \\\"toNumber(datum[\\\\\\\"a\\\\\\\"])*300+59\\\", \\\"as\\\": \\\"c_top_title\\\", \\\"type\\\": \\\"formula\\\"}, {\\\"expr\\\": \\\"toNumber(datum[\\\\\\\"a\\\\\\\"])*300+58\\\", \\\"as\\\": \\\"c_top_type\\\", \\\"type\\\": \\\"formula\\\"}, {\\\"expr\\\": \\\"toNumber(datum[\\\\\\\"a\\\\\\\"])*300+178\\\", \\\"as\\\": \\\"c_rule\\\", \\\"type\\\": \\\"formula\\\"}, {\\\"expr\\\": \\\"toNumber(datum[\\\\\\\"a\\\\\\\"])*300+106\\\", \\\"as\\\": \\\"c_num_rows\\\", \\\"type\\\": \\\"formula\\\"}, {\\\"expr\\\": \\\"toNumber(datum[\\\\\\\"a\\\\\\\"])*300+130\\\", \\\"as\\\": \\\"c_num_unique\\\", \\\"type\\\": \\\"formula\\\"}, {\\\"expr\\\": \\\"toNumber(datum[\\\\\\\"a\\\\\\\"])*300+154\\\", \\\"as\\\": \\\"c_missing\\\", \\\"type\\\": \\\"formula\\\"}, {\\\"expr\\\": \\\"toNumber(datum[\\\\\\\"a\\\\\\\"])*300+105\\\", \\\"as\\\": \\\"c_num_rows_val\\\", \\\"type\\\": \\\"formula\\\"}, {\\\"expr\\\": \\\"toNumber(datum[\\\\\\\"a\\\\\\\"])*300+130\\\", \\\"as\\\": \\\"c_num_unique_val\\\", \\\"type\\\": \\\"formula\\\"}, {\\\"expr\\\": \\\"toNumber(datum[\\\\\\\"a\\\\\\\"])*300+154\\\", \\\"as\\\": \\\"c_missing_val\\\", \\\"type\\\": \\\"formula\\\"}, {\\\"expr\\\": \\\"toNumber(datum[\\\\\\\"a\\\\\\\"])*300+195\\\", \\\"as\\\": \\\"c_frequent_items\\\", \\\"type\\\": \\\"formula\\\"}, {\\\"expr\\\": \\\"toNumber(datum[\\\\\\\"a\\\\\\\"])*300+218\\\", \\\"as\\\": \\\"c_first_item\\\", \\\"type\\\": \\\"formula\\\"}, {\\\"expr\\\": \\\"toNumber(datum[\\\\\\\"a\\\\\\\"])*300+235\\\", \\\"as\\\": \\\"c_second_item\\\", \\\"type\\\": \\\"formula\\\"}, {\\\"expr\\\": \\\"toNumber(datum[\\\\\\\"a\\\\\\\"])*300+252\\\", \\\"as\\\": \\\"c_third_item\\\", \\\"type\\\": \\\"formula\\\"}, {\\\"expr\\\": \\\"toNumber(datum[\\\\\\\"a\\\\\\\"])*300+269\\\", \\\"as\\\": \\\"c_fourth_item\\\", \\\"type\\\": \\\"formula\\\"}, {\\\"expr\\\": \\\"toNumber(datum[\\\\\\\"a\\\\\\\"])*300+286\\\", \\\"as\\\": \\\"c_fifth_item\\\", \\\"type\\\": \\\"formula\\\"}, {\\\"expr\\\": \\\"toNumber(datum[\\\\\\\"a\\\\\\\"])*300+200\\\", \\\"as\\\": \\\"c_mean\\\", \\\"type\\\": \\\"formula\\\"}, {\\\"expr\\\": \\\"toNumber(datum[\\\\\\\"a\\\\\\\"])*300+220\\\", \\\"as\\\": \\\"c_min\\\", \\\"type\\\": \\\"formula\\\"}, {\\\"expr\\\": \\\"toNumber(datum[\\\\\\\"a\\\\\\\"])*300+240\\\", \\\"as\\\": \\\"c_max\\\", \\\"type\\\": \\\"formula\\\"}, {\\\"expr\\\": \\\"toNumber(datum[\\\\\\\"a\\\\\\\"])*300+260\\\", \\\"as\\\": \\\"c_median\\\", \\\"type\\\": \\\"formula\\\"}, {\\\"expr\\\": \\\"toNumber(datum[\\\\\\\"a\\\\\\\"])*300+280\\\", \\\"as\\\": \\\"c_stdev\\\", \\\"type\\\": \\\"formula\\\"}, {\\\"expr\\\": \\\"toNumber(datum[\\\\\\\"a\\\\\\\"])*300+198\\\", \\\"as\\\": \\\"c_mean_val\\\", \\\"type\\\": \\\"formula\\\"}, {\\\"expr\\\": \\\"toNumber(datum[\\\\\\\"a\\\\\\\"])*300+218\\\", \\\"as\\\": \\\"c_min_val\\\", \\\"type\\\": \\\"formula\\\"}, {\\\"expr\\\": \\\"toNumber(datum[\\\\\\\"a\\\\\\\"])*300+238\\\", \\\"as\\\": \\\"c_max_val\\\", \\\"type\\\": \\\"formula\\\"}, {\\\"expr\\\": \\\"toNumber(datum[\\\\\\\"a\\\\\\\"])*300+258\\\", \\\"as\\\": \\\"c_median_val\\\", \\\"type\\\": \\\"formula\\\"}, {\\\"expr\\\": \\\"toNumber(datum[\\\\\\\"a\\\\\\\"])*300+278\\\", \\\"as\\\": \\\"c_stdev_val\\\", \\\"type\\\": \\\"formula\\\"}, {\\\"expr\\\": \\\"toNumber(datum[\\\\\\\"a\\\\\\\"])*300+106\\\", \\\"as\\\": \\\"graph_offset\\\", \\\"type\\\": \\\"formula\\\"}, {\\\"expr\\\": \\\"toNumber(datum[\\\\\\\"a\\\\\\\"])*300+132\\\", \\\"as\\\": \\\"graph_offset_categorical\\\", \\\"type\\\": \\\"formula\\\"}, {\\\"expr\\\": \\\"(toString(datum[\\\\\\\"type\\\\\\\"]) == \\\\\\\"integer\\\\\\\" || toString(datum[\\\\\\\"type\\\\\\\"]) == \\\\\\\"float\\\\\\\")?false:true\\\", \\\"as\\\": \\\"c_clip_val\\\", \\\"type\\\": \\\"formula\\\"}, {\\\"expr\\\": \\\"(toString(datum[\\\\\\\"type\\\\\\\"]) == \\\\\\\"integer\\\\\\\" || toString(datum[\\\\\\\"type\\\\\\\"]) == \\\\\\\"float\\\\\\\")?250:0\\\", \\\"as\\\": \\\"c_width_numeric_val\\\", \\\"type\\\": \\\"formula\\\"}, {\\\"expr\\\": \\\"(toString(datum[\\\\\\\"type\\\\\\\"]) == \\\\\\\"str\\\\\\\")?false:true\\\", \\\"as\\\": \\\"c_clip_val_cat\\\", \\\"type\\\": \\\"formula\\\"}, {\\\"expr\\\": \\\"(toString(datum[\\\\\\\"type\\\\\\\"]) == \\\\\\\"str\\\\\\\")?250:0\\\", \\\"as\\\": \\\"c_width_numeric_val_cat\\\", \\\"type\\\": \\\"formula\\\"}]}], \\\"metadata\\\": {\\\"bubbleOpts\\\": {\\\"fields\\\": [{\\\"field\\\": \\\"left\\\"}, {\\\"field\\\": \\\"right\\\"}, {\\\"field\\\": \\\"count\\\"}, {\\\"field\\\": \\\"label\\\"}], \\\"showAllFields\\\": false}}}\";                                 var vega_json_parsed = JSON.parse(vega_json);                                 var toolTipOpts = {                                     showAllFields: true                                 };                                 if(vega_json_parsed[\"metadata\"] != null){                                     if(vega_json_parsed[\"metadata\"][\"bubbleOpts\"] != null){                                         toolTipOpts = vega_json_parsed[\"metadata\"][\"bubbleOpts\"];                                     };                                 };                                 vegaEmbed(\"#vis\", vega_json_parsed).then(function (result) {                                     vegaTooltip.vega(result.view, toolTipOpts);                                  });                             </script>                         </body>                     </html>' src=\"demo_iframe_srcdoc.htm\">                         <p>Your browser does not support iframes.</p>                     </iframe>                 </body>             </html>"
      ],
      "text/plain": [
       "<IPython.core.display.HTML object>"
      ]
     },
     "metadata": {},
     "output_type": "display_data"
    }
   ],
   "source": [
    "data.show()"
   ]
  },
  {
   "cell_type": "code",
   "execution_count": 4,
   "metadata": {},
   "outputs": [],
   "source": [
    "train, test = tc.recommender.util.random_split_by_user(data, user_id=\"userId\", item_id=\"movieId\")\n"
   ]
  },
  {
   "cell_type": "code",
   "execution_count": 5,
   "metadata": {},
   "outputs": [
    {
     "data": {
      "text/html": [
       "<pre>Preparing data set.</pre>"
      ],
      "text/plain": [
       "Preparing data set."
      ]
     },
     "metadata": {},
     "output_type": "display_data"
    },
    {
     "data": {
      "text/html": [
       "<pre>    Data has 80673 observations with 610 users and 9019 items.</pre>"
      ],
      "text/plain": [
       "    Data has 80673 observations with 610 users and 9019 items."
      ]
     },
     "metadata": {},
     "output_type": "display_data"
    },
    {
     "data": {
      "text/html": [
       "<pre>    Data prepared in: 0.425003s</pre>"
      ],
      "text/plain": [
       "    Data prepared in: 0.425003s"
      ]
     },
     "metadata": {},
     "output_type": "display_data"
    },
    {
     "data": {
      "text/html": [
       "<pre>Training factorization_recommender for recommendations.</pre>"
      ],
      "text/plain": [
       "Training factorization_recommender for recommendations."
      ]
     },
     "metadata": {},
     "output_type": "display_data"
    },
    {
     "data": {
      "text/html": [
       "<pre>+--------------------------------+--------------------------------------------------+----------+</pre>"
      ],
      "text/plain": [
       "+--------------------------------+--------------------------------------------------+----------+"
      ]
     },
     "metadata": {},
     "output_type": "display_data"
    },
    {
     "data": {
      "text/html": [
       "<pre>| Parameter                      | Description                                      | Value    |</pre>"
      ],
      "text/plain": [
       "| Parameter                      | Description                                      | Value    |"
      ]
     },
     "metadata": {},
     "output_type": "display_data"
    },
    {
     "data": {
      "text/html": [
       "<pre>+--------------------------------+--------------------------------------------------+----------+</pre>"
      ],
      "text/plain": [
       "+--------------------------------+--------------------------------------------------+----------+"
      ]
     },
     "metadata": {},
     "output_type": "display_data"
    },
    {
     "data": {
      "text/html": [
       "<pre>| num_factors                    | Factor Dimension                                 | 8        |</pre>"
      ],
      "text/plain": [
       "| num_factors                    | Factor Dimension                                 | 8        |"
      ]
     },
     "metadata": {},
     "output_type": "display_data"
    },
    {
     "data": {
      "text/html": [
       "<pre>| regularization                 | L2 Regularization on Factors                     | 1e-08    |</pre>"
      ],
      "text/plain": [
       "| regularization                 | L2 Regularization on Factors                     | 1e-08    |"
      ]
     },
     "metadata": {},
     "output_type": "display_data"
    },
    {
     "data": {
      "text/html": [
       "<pre>| solver                         | Solver used for training                         | adagrad  |</pre>"
      ],
      "text/plain": [
       "| solver                         | Solver used for training                         | adagrad  |"
      ]
     },
     "metadata": {},
     "output_type": "display_data"
    },
    {
     "data": {
      "text/html": [
       "<pre>| linear_regularization          | L2 Regularization on Linear Coefficients         | 1e-10    |</pre>"
      ],
      "text/plain": [
       "| linear_regularization          | L2 Regularization on Linear Coefficients         | 1e-10    |"
      ]
     },
     "metadata": {},
     "output_type": "display_data"
    },
    {
     "data": {
      "text/html": [
       "<pre>| max_iterations                 | Maximum Number of Iterations                     | 50       |</pre>"
      ],
      "text/plain": [
       "| max_iterations                 | Maximum Number of Iterations                     | 50       |"
      ]
     },
     "metadata": {},
     "output_type": "display_data"
    },
    {
     "data": {
      "text/html": [
       "<pre>+--------------------------------+--------------------------------------------------+----------+</pre>"
      ],
      "text/plain": [
       "+--------------------------------+--------------------------------------------------+----------+"
      ]
     },
     "metadata": {},
     "output_type": "display_data"
    },
    {
     "data": {
      "text/html": [
       "<pre>  Optimizing model using SGD; tuning step size.</pre>"
      ],
      "text/plain": [
       "  Optimizing model using SGD; tuning step size."
      ]
     },
     "metadata": {},
     "output_type": "display_data"
    },
    {
     "data": {
      "text/html": [
       "<pre>  Using 10084 / 80673 points for tuning the step size.</pre>"
      ],
      "text/plain": [
       "  Using 10084 / 80673 points for tuning the step size."
      ]
     },
     "metadata": {},
     "output_type": "display_data"
    },
    {
     "data": {
      "text/html": [
       "<pre>+---------+-------------------+------------------------------------------+</pre>"
      ],
      "text/plain": [
       "+---------+-------------------+------------------------------------------+"
      ]
     },
     "metadata": {},
     "output_type": "display_data"
    },
    {
     "data": {
      "text/html": [
       "<pre>| Attempt | Initial Step Size | Estimated Objective Value                |</pre>"
      ],
      "text/plain": [
       "| Attempt | Initial Step Size | Estimated Objective Value                |"
      ]
     },
     "metadata": {},
     "output_type": "display_data"
    },
    {
     "data": {
      "text/html": [
       "<pre>+---------+-------------------+------------------------------------------+</pre>"
      ],
      "text/plain": [
       "+---------+-------------------+------------------------------------------+"
      ]
     },
     "metadata": {},
     "output_type": "display_data"
    },
    {
     "data": {
      "text/html": [
       "<pre>| 0       | 2.17391           | Not Viable                               |</pre>"
      ],
      "text/plain": [
       "| 0       | 2.17391           | Not Viable                               |"
      ]
     },
     "metadata": {},
     "output_type": "display_data"
    },
    {
     "data": {
      "text/html": [
       "<pre>| 1       | 0.543478          | Not Viable                               |</pre>"
      ],
      "text/plain": [
       "| 1       | 0.543478          | Not Viable                               |"
      ]
     },
     "metadata": {},
     "output_type": "display_data"
    },
    {
     "data": {
      "text/html": [
       "<pre>| 2       | 0.13587           | No Decrease (4.28727 >= 1.09202)         |</pre>"
      ],
      "text/plain": [
       "| 2       | 0.13587           | No Decrease (4.28727 >= 1.09202)         |"
      ]
     },
     "metadata": {},
     "output_type": "display_data"
    },
    {
     "data": {
      "text/html": [
       "<pre>| 3       | 0.0339674         | 0.724001                                 |</pre>"
      ],
      "text/plain": [
       "| 3       | 0.0339674         | 0.724001                                 |"
      ]
     },
     "metadata": {},
     "output_type": "display_data"
    },
    {
     "data": {
      "text/html": [
       "<pre>| 4       | 0.0169837         | 0.758881                                 |</pre>"
      ],
      "text/plain": [
       "| 4       | 0.0169837         | 0.758881                                 |"
      ]
     },
     "metadata": {},
     "output_type": "display_data"
    },
    {
     "data": {
      "text/html": [
       "<pre>| 5       | 0.00849185        | 0.854914                                 |</pre>"
      ],
      "text/plain": [
       "| 5       | 0.00849185        | 0.854914                                 |"
      ]
     },
     "metadata": {},
     "output_type": "display_data"
    },
    {
     "data": {
      "text/html": [
       "<pre>| 6       | 0.00424592        | 0.940797                                 |</pre>"
      ],
      "text/plain": [
       "| 6       | 0.00424592        | 0.940797                                 |"
      ]
     },
     "metadata": {},
     "output_type": "display_data"
    },
    {
     "data": {
      "text/html": [
       "<pre>+---------+-------------------+------------------------------------------+</pre>"
      ],
      "text/plain": [
       "+---------+-------------------+------------------------------------------+"
      ]
     },
     "metadata": {},
     "output_type": "display_data"
    },
    {
     "data": {
      "text/html": [
       "<pre>| Final   | 0.0339674         | 0.724001                                 |</pre>"
      ],
      "text/plain": [
       "| Final   | 0.0339674         | 0.724001                                 |"
      ]
     },
     "metadata": {},
     "output_type": "display_data"
    },
    {
     "data": {
      "text/html": [
       "<pre>+---------+-------------------+------------------------------------------+</pre>"
      ],
      "text/plain": [
       "+---------+-------------------+------------------------------------------+"
      ]
     },
     "metadata": {},
     "output_type": "display_data"
    },
    {
     "data": {
      "text/html": [
       "<pre>Starting Optimization.</pre>"
      ],
      "text/plain": [
       "Starting Optimization."
      ]
     },
     "metadata": {},
     "output_type": "display_data"
    },
    {
     "data": {
      "text/html": [
       "<pre>+---------+--------------+-------------------+-----------------------+-------------+</pre>"
      ],
      "text/plain": [
       "+---------+--------------+-------------------+-----------------------+-------------+"
      ]
     },
     "metadata": {},
     "output_type": "display_data"
    },
    {
     "data": {
      "text/html": [
       "<pre>| Iter.   | Elapsed Time | Approx. Objective | Approx. Training RMSE | Step Size   |</pre>"
      ],
      "text/plain": [
       "| Iter.   | Elapsed Time | Approx. Objective | Approx. Training RMSE | Step Size   |"
      ]
     },
     "metadata": {},
     "output_type": "display_data"
    },
    {
     "data": {
      "text/html": [
       "<pre>+---------+--------------+-------------------+-----------------------+-------------+</pre>"
      ],
      "text/plain": [
       "+---------+--------------+-------------------+-----------------------+-------------+"
      ]
     },
     "metadata": {},
     "output_type": "display_data"
    },
    {
     "data": {
      "text/html": [
       "<pre>| Initial | 201us        | 1.08773           | 1.04294               |             |</pre>"
      ],
      "text/plain": [
       "| Initial | 201us        | 1.08773           | 1.04294               |             |"
      ]
     },
     "metadata": {},
     "output_type": "display_data"
    },
    {
     "data": {
      "text/html": [
       "<pre>+---------+--------------+-------------------+-----------------------+-------------+</pre>"
      ],
      "text/plain": [
       "+---------+--------------+-------------------+-----------------------+-------------+"
      ]
     },
     "metadata": {},
     "output_type": "display_data"
    },
    {
     "data": {
      "text/html": [
       "<pre>| 1       | 119.538ms    | 0.864019          | 0.929525              | 0.0339674   |</pre>"
      ],
      "text/plain": [
       "| 1       | 119.538ms    | 0.864019          | 0.929525              | 0.0339674   |"
      ]
     },
     "metadata": {},
     "output_type": "display_data"
    },
    {
     "data": {
      "text/html": [
       "<pre>| 2       | 352.217ms    | 1.19573           | 1.09349               | 0.0339674   |</pre>"
      ],
      "text/plain": [
       "| 2       | 352.217ms    | 1.19573           | 1.09349               | 0.0339674   |"
      ]
     },
     "metadata": {},
     "output_type": "display_data"
    },
    {
     "data": {
      "text/html": [
       "<pre>| 3       | 568.278ms    | 1.37317           | 1.17182               | 0.0339674   |</pre>"
      ],
      "text/plain": [
       "| 3       | 568.278ms    | 1.37317           | 1.17182               | 0.0339674   |"
      ]
     },
     "metadata": {},
     "output_type": "display_data"
    },
    {
     "data": {
      "text/html": [
       "<pre>| 4       | 771.874ms    | 1.37173           | 1.17121               | 0.0339674   |</pre>"
      ],
      "text/plain": [
       "| 4       | 771.874ms    | 1.37173           | 1.17121               | 0.0339674   |"
      ]
     },
     "metadata": {},
     "output_type": "display_data"
    },
    {
     "data": {
      "text/html": [
       "<pre>| 5       | 954.171ms    | 1.60822           | 1.26815               | 0.0339674   |</pre>"
      ],
      "text/plain": [
       "| 5       | 954.171ms    | 1.60822           | 1.26815               | 0.0339674   |"
      ]
     },
     "metadata": {},
     "output_type": "display_data"
    },
    {
     "data": {
      "text/html": [
       "<pre>| 6       | 1.27s        | DIVERGED          | DIVERGED              | 0.0339674   |</pre>"
      ],
      "text/plain": [
       "| 6       | 1.27s        | DIVERGED          | DIVERGED              | 0.0339674   |"
      ]
     },
     "metadata": {},
     "output_type": "display_data"
    },
    {
     "data": {
      "text/html": [
       "<pre>| RESET   | 1.30s        | 1.0877            | 1.04293               |             |</pre>"
      ],
      "text/plain": [
       "| RESET   | 1.30s        | 1.0877            | 1.04293               |             |"
      ]
     },
     "metadata": {},
     "output_type": "display_data"
    },
    {
     "data": {
      "text/html": [
       "<pre>| 4       | 1.72s        | 0.795747          | 0.892045              | 0.0169837   |</pre>"
      ],
      "text/plain": [
       "| 4       | 1.72s        | 0.795747          | 0.892045              | 0.0169837   |"
      ]
     },
     "metadata": {},
     "output_type": "display_data"
    },
    {
     "data": {
      "text/html": [
       "<pre>| 19      | 3.25s        | 1.18021           | 1.08637               | 0.0169837   |</pre>"
      ],
      "text/plain": [
       "| 19      | 3.25s        | 1.18021           | 1.08637               | 0.0169837   |"
      ]
     },
     "metadata": {},
     "output_type": "display_data"
    },
    {
     "data": {
      "text/html": [
       "<pre>| 31      | 4.93s        | DIVERGED          | DIVERGED              | 0.0169837   |</pre>"
      ],
      "text/plain": [
       "| 31      | 4.93s        | DIVERGED          | DIVERGED              | 0.0169837   |"
      ]
     },
     "metadata": {},
     "output_type": "display_data"
    },
    {
     "data": {
      "text/html": [
       "<pre>| RESET   | 4.96s        | 1.08779           | 1.04297               |             |</pre>"
      ],
      "text/plain": [
       "| RESET   | 4.96s        | 1.08779           | 1.04297               |             |"
      ]
     },
     "metadata": {},
     "output_type": "display_data"
    },
    {
     "data": {
      "text/html": [
       "<pre>| 13      | 6.97s        | 1.27446           | 1.12892               | 0.00849185  |</pre>"
      ],
      "text/plain": [
       "| 13      | 6.97s        | 1.27446           | 1.12892               | 0.00849185  |"
      ]
     },
     "metadata": {},
     "output_type": "display_data"
    },
    {
     "data": {
      "text/html": [
       "<pre>| 14      | 7.13s        | DIVERGED          | DIVERGED              | 0.00849185  |</pre>"
      ],
      "text/plain": [
       "| 14      | 7.13s        | DIVERGED          | DIVERGED              | 0.00849185  |"
      ]
     },
     "metadata": {},
     "output_type": "display_data"
    },
    {
     "data": {
      "text/html": [
       "<pre>| RESET   | 7.18s        | 1.0878            | 1.04298               |             |</pre>"
      ],
      "text/plain": [
       "| RESET   | 7.18s        | 1.0878            | 1.04298               |             |"
      ]
     },
     "metadata": {},
     "output_type": "display_data"
    },
    {
     "data": {
      "text/html": [
       "<pre>| 4       | 8.00s        | 0.868335          | 0.931845              | 0.00424592  |</pre>"
      ],
      "text/plain": [
       "| 4       | 8.00s        | 0.868335          | 0.931845              | 0.00424592  |"
      ]
     },
     "metadata": {},
     "output_type": "display_data"
    },
    {
     "data": {
      "text/html": [
       "<pre>+---------+--------------+-------------------+-----------------------+-------------+</pre>"
      ],
      "text/plain": [
       "+---------+--------------+-------------------+-----------------------+-------------+"
      ]
     },
     "metadata": {},
     "output_type": "display_data"
    },
    {
     "data": {
      "text/html": [
       "<pre>Optimization Complete: Maximum number of passes through the data reached (hard limit).</pre>"
      ],
      "text/plain": [
       "Optimization Complete: Maximum number of passes through the data reached (hard limit)."
      ]
     },
     "metadata": {},
     "output_type": "display_data"
    },
    {
     "data": {
      "text/html": [
       "<pre>Computing final objective value and training RMSE.</pre>"
      ],
      "text/plain": [
       "Computing final objective value and training RMSE."
      ]
     },
     "metadata": {},
     "output_type": "display_data"
    },
    {
     "data": {
      "text/html": [
       "<pre>       Final objective value: 0.859386</pre>"
      ],
      "text/plain": [
       "       Final objective value: 0.859386"
      ]
     },
     "metadata": {},
     "output_type": "display_data"
    },
    {
     "data": {
      "text/html": [
       "<pre>       Final training RMSE: 0.927031</pre>"
      ],
      "text/plain": [
       "       Final training RMSE: 0.927031"
      ]
     },
     "metadata": {},
     "output_type": "display_data"
    }
   ],
   "source": [
    "model = tc.factorization_recommender.create(train, target='rating', user_id=\"userId\", item_id=\"movieId\")"
   ]
  },
  {
   "cell_type": "code",
   "execution_count": 6,
   "metadata": {},
   "outputs": [
    {
     "data": {
      "text/plain": [
       "Class                            : FactorizationRecommender\n",
       "\n",
       "Schema\n",
       "------\n",
       "User ID                          : userId\n",
       "Item ID                          : movieId\n",
       "Target                           : rating\n",
       "Additional observation features  : 21\n",
       "User side features               : []\n",
       "Item side features               : []\n",
       "\n",
       "Statistics\n",
       "----------\n",
       "Number of observations           : 80673\n",
       "Number of users                  : 610\n",
       "Number of items                  : 9019\n",
       "\n",
       "Training summary\n",
       "----------------\n",
       "Training time                    : 10.1106\n",
       "\n",
       "Model Parameters\n",
       "----------------\n",
       "Model class                      : FactorizationRecommender\n",
       "num_factors                      : 8\n",
       "binary_target                    : 0\n",
       "side_data_factorization          : 1\n",
       "solver                           : auto\n",
       "nmf                              : 0\n",
       "max_iterations                   : 50\n",
       "\n",
       "Regularization Settings\n",
       "-----------------------\n",
       "regularization                   : 0.0\n",
       "regularization_type              : normal\n",
       "linear_regularization            : 0.0\n",
       "\n",
       "Optimization Settings\n",
       "---------------------\n",
       "init_random_sigma                : 0.01\n",
       "sgd_convergence_interval         : 4\n",
       "sgd_convergence_threshold        : 0.0\n",
       "sgd_max_trial_iterations         : 5\n",
       "sgd_sampling_block_size          : 131072\n",
       "sgd_step_adjustment_interval     : 4\n",
       "sgd_step_size                    : 0.0\n",
       "sgd_trial_sample_minimum_size    : 10000\n",
       "sgd_trial_sample_proportion      : 0.125\n",
       "step_size_decrease_rate          : 0.75\n",
       "additional_iterations_if_unhealthy : 5\n",
       "adagrad_momentum_weighting       : 0.9\n",
       "num_tempering_iterations         : 4\n",
       "tempering_regularization_start_value : 0.0\n",
       "track_exact_loss                 : 0"
      ]
     },
     "execution_count": 6,
     "metadata": {},
     "output_type": "execute_result"
    }
   ],
   "source": [
    "model"
   ]
  },
  {
   "cell_type": "code",
   "execution_count": 7,
   "metadata": {},
   "outputs": [],
   "source": [
    "predictions = model.predict(test)"
   ]
  },
  {
   "cell_type": "code",
   "execution_count": 8,
   "metadata": {},
   "outputs": [
    {
     "data": {
      "text/plain": [
       "dtype: float\n",
       "Rows: 20163\n",
       "[4.43046456003554, 3.7043367016437374, 3.896964389234596, 3.8299519096595436, 3.7239621521719712, 3.975696979861434, 3.799527759931105, 3.8209902695004536, 3.831573787504644, 3.36608880763, 3.856734056873484, 3.8051499610372526, 3.951094100778497, 3.8873282849248176, 3.685040673990556, 3.8090228550473806, 3.8914670925313515, 3.9334545348223293, 3.8110505717123853, 3.8804170645084053, 4.136969578964596, 3.898731488502028, 4.261162727663116, 4.217168498400538, 3.7012856358443718, 4.117859769719351, 3.834837984082751, 3.8036725003925715, 3.748761748736408, 3.8729113100817596, 4.035167272853603, 4.335525313419986, 3.771303134128259, 3.6682629013464285, 3.755045312591941, 3.5761256865486177, 3.7351239687427698, 3.061200911093827, 3.3225704499024253, 3.4591724602487632, 3.4688474575603143, 3.3451828321344985, 3.338062075350794, 3.4132186523696983, 3.602702928576644, 3.456383886845102, 3.4035684260957604, 3.721984050515221, 3.3356012709695535, 3.2688367088805355, 3.4244914041489065, 3.4977661293985984, 3.3422256881581816, 3.3382356517353804, 4.425037112126982, 3.921946716634764, 3.8831999820435703, 3.9874844506242475, 3.891870826848488, 4.064267741489963, 3.9159315220846294, 3.8613747108560093, 3.6134020803884814, 3.7550190456042873, 4.029359166615573, 3.50873510948203, 3.772060668275244, 3.663390902205054, 3.9015761551485446, 3.7549971653944847, 4.027617411156173, 4.040104972850295, 3.756497613349249, 3.954420194319635, 3.998818765233791, 3.9900519480386754, 3.783694631600661, 3.9755448046759594, 4.174691218164135, 3.834695588428596, 3.6493867236329933, 4.125032602047297, 3.827525582363563, 3.940170863456707, 4.0546090825924725, 3.7264567936218627, 4.196852835941954, 3.7732537301536686, 4.224386991106145, 4.146030051512873, 4.149131715869556, 4.162744286198078, 3.919721978757614, 3.7506645277660753, 3.817447729048046, 3.8287088878579776, 3.891103755084525, 4.0619649937714675, 3.9105119539239492, 3.8080735476252627, ... ]"
      ]
     },
     "execution_count": 8,
     "metadata": {},
     "output_type": "execute_result"
    }
   ],
   "source": [
    "predictions"
   ]
  },
  {
   "cell_type": "code",
   "execution_count": 9,
   "metadata": {},
   "outputs": [],
   "source": [
    "summary = test.add_column(predictions, \"predictions\")\n",
    "summary = summary.select_columns(['userId', 'movieId', 'rating', 'predictions'])"
   ]
  },
  {
   "cell_type": "code",
   "execution_count": 10,
   "metadata": {},
   "outputs": [
    {
     "data": {
      "text/html": [
       "<div style=\"max-height:1000px;max-width:1500px;overflow:auto;\"><table frame=\"box\" rules=\"cols\">\n",
       "    <tr>\n",
       "        <th style=\"padding-left: 1em; padding-right: 1em; text-align: center\">userId</th>\n",
       "        <th style=\"padding-left: 1em; padding-right: 1em; text-align: center\">movieId</th>\n",
       "        <th style=\"padding-left: 1em; padding-right: 1em; text-align: center\">rating</th>\n",
       "        <th style=\"padding-left: 1em; padding-right: 1em; text-align: center\">predictions</th>\n",
       "    </tr>\n",
       "    <tr>\n",
       "        <td style=\"padding-left: 1em; padding-right: 1em; text-align: center; vertical-align: top\">1</td>\n",
       "        <td style=\"padding-left: 1em; padding-right: 1em; text-align: center; vertical-align: top\">1</td>\n",
       "        <td style=\"padding-left: 1em; padding-right: 1em; text-align: center; vertical-align: top\">4.0</td>\n",
       "        <td style=\"padding-left: 1em; padding-right: 1em; text-align: center; vertical-align: top\">4.43046456004</td>\n",
       "    </tr>\n",
       "    <tr>\n",
       "        <td style=\"padding-left: 1em; padding-right: 1em; text-align: center; vertical-align: top\">15</td>\n",
       "        <td style=\"padding-left: 1em; padding-right: 1em; text-align: center; vertical-align: top\">1</td>\n",
       "        <td style=\"padding-left: 1em; padding-right: 1em; text-align: center; vertical-align: top\">2.5</td>\n",
       "        <td style=\"padding-left: 1em; padding-right: 1em; text-align: center; vertical-align: top\">3.70433670164</td>\n",
       "    </tr>\n",
       "    <tr>\n",
       "        <td style=\"padding-left: 1em; padding-right: 1em; text-align: center; vertical-align: top\">18</td>\n",
       "        <td style=\"padding-left: 1em; padding-right: 1em; text-align: center; vertical-align: top\">1</td>\n",
       "        <td style=\"padding-left: 1em; padding-right: 1em; text-align: center; vertical-align: top\">3.5</td>\n",
       "        <td style=\"padding-left: 1em; padding-right: 1em; text-align: center; vertical-align: top\">3.89696438923</td>\n",
       "    </tr>\n",
       "    <tr>\n",
       "        <td style=\"padding-left: 1em; padding-right: 1em; text-align: center; vertical-align: top\">27</td>\n",
       "        <td style=\"padding-left: 1em; padding-right: 1em; text-align: center; vertical-align: top\">1</td>\n",
       "        <td style=\"padding-left: 1em; padding-right: 1em; text-align: center; vertical-align: top\">3.0</td>\n",
       "        <td style=\"padding-left: 1em; padding-right: 1em; text-align: center; vertical-align: top\">3.82995190966</td>\n",
       "    </tr>\n",
       "    <tr>\n",
       "        <td style=\"padding-left: 1em; padding-right: 1em; text-align: center; vertical-align: top\">44</td>\n",
       "        <td style=\"padding-left: 1em; padding-right: 1em; text-align: center; vertical-align: top\">1</td>\n",
       "        <td style=\"padding-left: 1em; padding-right: 1em; text-align: center; vertical-align: top\">3.0</td>\n",
       "        <td style=\"padding-left: 1em; padding-right: 1em; text-align: center; vertical-align: top\">3.72396215217</td>\n",
       "    </tr>\n",
       "    <tr>\n",
       "        <td style=\"padding-left: 1em; padding-right: 1em; text-align: center; vertical-align: top\">46</td>\n",
       "        <td style=\"padding-left: 1em; padding-right: 1em; text-align: center; vertical-align: top\">1</td>\n",
       "        <td style=\"padding-left: 1em; padding-right: 1em; text-align: center; vertical-align: top\">5.0</td>\n",
       "        <td style=\"padding-left: 1em; padding-right: 1em; text-align: center; vertical-align: top\">3.97569697986</td>\n",
       "    </tr>\n",
       "    <tr>\n",
       "        <td style=\"padding-left: 1em; padding-right: 1em; text-align: center; vertical-align: top\">50</td>\n",
       "        <td style=\"padding-left: 1em; padding-right: 1em; text-align: center; vertical-align: top\">1</td>\n",
       "        <td style=\"padding-left: 1em; padding-right: 1em; text-align: center; vertical-align: top\">3.0</td>\n",
       "        <td style=\"padding-left: 1em; padding-right: 1em; text-align: center; vertical-align: top\">3.79952775993</td>\n",
       "    </tr>\n",
       "    <tr>\n",
       "        <td style=\"padding-left: 1em; padding-right: 1em; text-align: center; vertical-align: top\">57</td>\n",
       "        <td style=\"padding-left: 1em; padding-right: 1em; text-align: center; vertical-align: top\">1</td>\n",
       "        <td style=\"padding-left: 1em; padding-right: 1em; text-align: center; vertical-align: top\">5.0</td>\n",
       "        <td style=\"padding-left: 1em; padding-right: 1em; text-align: center; vertical-align: top\">3.8209902695</td>\n",
       "    </tr>\n",
       "    <tr>\n",
       "        <td style=\"padding-left: 1em; padding-right: 1em; text-align: center; vertical-align: top\">82</td>\n",
       "        <td style=\"padding-left: 1em; padding-right: 1em; text-align: center; vertical-align: top\">1</td>\n",
       "        <td style=\"padding-left: 1em; padding-right: 1em; text-align: center; vertical-align: top\">2.5</td>\n",
       "        <td style=\"padding-left: 1em; padding-right: 1em; text-align: center; vertical-align: top\">3.8315737875</td>\n",
       "    </tr>\n",
       "    <tr>\n",
       "        <td style=\"padding-left: 1em; padding-right: 1em; text-align: center; vertical-align: top\">89</td>\n",
       "        <td style=\"padding-left: 1em; padding-right: 1em; text-align: center; vertical-align: top\">1</td>\n",
       "        <td style=\"padding-left: 1em; padding-right: 1em; text-align: center; vertical-align: top\">3.0</td>\n",
       "        <td style=\"padding-left: 1em; padding-right: 1em; text-align: center; vertical-align: top\">3.36608880763</td>\n",
       "    </tr>\n",
       "</table>\n",
       "[20163 rows x 4 columns]<br/>Note: Only the head of the SFrame is printed.<br/>You can use print_rows(num_rows=m, num_columns=n) to print more rows and columns.\n",
       "</div>"
      ],
      "text/plain": [
       "Columns:\n",
       "\tuserId\tint\n",
       "\tmovieId\tint\n",
       "\trating\tfloat\n",
       "\tpredictions\tfloat\n",
       "\n",
       "Rows: 20163\n",
       "\n",
       "Data:\n",
       "+--------+---------+--------+---------------+\n",
       "| userId | movieId | rating |  predictions  |\n",
       "+--------+---------+--------+---------------+\n",
       "|   1    |    1    |  4.0   | 4.43046456004 |\n",
       "|   15   |    1    |  2.5   | 3.70433670164 |\n",
       "|   18   |    1    |  3.5   | 3.89696438923 |\n",
       "|   27   |    1    |  3.0   | 3.82995190966 |\n",
       "|   44   |    1    |  3.0   | 3.72396215217 |\n",
       "|   46   |    1    |  5.0   | 3.97569697986 |\n",
       "|   50   |    1    |  3.0   | 3.79952775993 |\n",
       "|   57   |    1    |  5.0   |  3.8209902695 |\n",
       "|   82   |    1    |  2.5   |  3.8315737875 |\n",
       "|   89   |    1    |  3.0   | 3.36608880763 |\n",
       "+--------+---------+--------+---------------+\n",
       "[20163 rows x 4 columns]\n",
       "Note: Only the head of the SFrame is printed.\n",
       "You can use print_rows(num_rows=m, num_columns=n) to print more rows and columns."
      ]
     },
     "execution_count": 10,
     "metadata": {},
     "output_type": "execute_result"
    }
   ],
   "source": [
    "summary"
   ]
  },
  {
   "cell_type": "code",
   "execution_count": 11,
   "metadata": {},
   "outputs": [
    {
     "data": {
      "text/html": [
       "<div style=\"max-height:1000px;max-width:1500px;overflow:auto;\"><table frame=\"box\" rules=\"cols\">\n",
       "    <tr>\n",
       "        <th style=\"padding-left: 1em; padding-right: 1em; text-align: center\">userId</th>\n",
       "        <th style=\"padding-left: 1em; padding-right: 1em; text-align: center\">movieId</th>\n",
       "        <th style=\"padding-left: 1em; padding-right: 1em; text-align: center\">rating</th>\n",
       "        <th style=\"padding-left: 1em; padding-right: 1em; text-align: center\">predictions</th>\n",
       "    </tr>\n",
       "    <tr>\n",
       "        <td style=\"padding-left: 1em; padding-right: 1em; text-align: center; vertical-align: top\">517</td>\n",
       "        <td style=\"padding-left: 1em; padding-right: 1em; text-align: center; vertical-align: top\">63113</td>\n",
       "        <td style=\"padding-left: 1em; padding-right: 1em; text-align: center; vertical-align: top\">0.5</td>\n",
       "        <td style=\"padding-left: 1em; padding-right: 1em; text-align: center; vertical-align: top\">3.23922554386</td>\n",
       "    </tr>\n",
       "    <tr>\n",
       "        <td style=\"padding-left: 1em; padding-right: 1em; text-align: center; vertical-align: top\">22</td>\n",
       "        <td style=\"padding-left: 1em; padding-right: 1em; text-align: center; vertical-align: top\">56367</td>\n",
       "        <td style=\"padding-left: 1em; padding-right: 1em; text-align: center; vertical-align: top\">0.5</td>\n",
       "        <td style=\"padding-left: 1em; padding-right: 1em; text-align: center; vertical-align: top\">3.53024771447</td>\n",
       "    </tr>\n",
       "    <tr>\n",
       "        <td style=\"padding-left: 1em; padding-right: 1em; text-align: center; vertical-align: top\">477</td>\n",
       "        <td style=\"padding-left: 1em; padding-right: 1em; text-align: center; vertical-align: top\">6794</td>\n",
       "        <td style=\"padding-left: 1em; padding-right: 1em; text-align: center; vertical-align: top\">0.5</td>\n",
       "        <td style=\"padding-left: 1em; padding-right: 1em; text-align: center; vertical-align: top\">3.16382384154</td>\n",
       "    </tr>\n",
       "    <tr>\n",
       "        <td style=\"padding-left: 1em; padding-right: 1em; text-align: center; vertical-align: top\">483</td>\n",
       "        <td style=\"padding-left: 1em; padding-right: 1em; text-align: center; vertical-align: top\">2328</td>\n",
       "        <td style=\"padding-left: 1em; padding-right: 1em; text-align: center; vertical-align: top\">0.5</td>\n",
       "        <td style=\"padding-left: 1em; padding-right: 1em; text-align: center; vertical-align: top\">3.42706296408</td>\n",
       "    </tr>\n",
       "    <tr>\n",
       "        <td style=\"padding-left: 1em; padding-right: 1em; text-align: center; vertical-align: top\">307</td>\n",
       "        <td style=\"padding-left: 1em; padding-right: 1em; text-align: center; vertical-align: top\">2315</td>\n",
       "        <td style=\"padding-left: 1em; padding-right: 1em; text-align: center; vertical-align: top\">0.5</td>\n",
       "        <td style=\"padding-left: 1em; padding-right: 1em; text-align: center; vertical-align: top\">2.79334588288</td>\n",
       "    </tr>\n",
       "    <tr>\n",
       "        <td style=\"padding-left: 1em; padding-right: 1em; text-align: center; vertical-align: top\">298</td>\n",
       "        <td style=\"padding-left: 1em; padding-right: 1em; text-align: center; vertical-align: top\">4248</td>\n",
       "        <td style=\"padding-left: 1em; padding-right: 1em; text-align: center; vertical-align: top\">0.5</td>\n",
       "        <td style=\"padding-left: 1em; padding-right: 1em; text-align: center; vertical-align: top\">2.22058067383</td>\n",
       "    </tr>\n",
       "    <tr>\n",
       "        <td style=\"padding-left: 1em; padding-right: 1em; text-align: center; vertical-align: top\">599</td>\n",
       "        <td style=\"padding-left: 1em; padding-right: 1em; text-align: center; vertical-align: top\">3511</td>\n",
       "        <td style=\"padding-left: 1em; padding-right: 1em; text-align: center; vertical-align: top\">0.5</td>\n",
       "        <td style=\"padding-left: 1em; padding-right: 1em; text-align: center; vertical-align: top\">2.32011999129</td>\n",
       "    </tr>\n",
       "    <tr>\n",
       "        <td style=\"padding-left: 1em; padding-right: 1em; text-align: center; vertical-align: top\">298</td>\n",
       "        <td style=\"padding-left: 1em; padding-right: 1em; text-align: center; vertical-align: top\">886</td>\n",
       "        <td style=\"padding-left: 1em; padding-right: 1em; text-align: center; vertical-align: top\">0.5</td>\n",
       "        <td style=\"padding-left: 1em; padding-right: 1em; text-align: center; vertical-align: top\">2.28948346208</td>\n",
       "    </tr>\n",
       "    <tr>\n",
       "        <td style=\"padding-left: 1em; padding-right: 1em; text-align: center; vertical-align: top\">599</td>\n",
       "        <td style=\"padding-left: 1em; padding-right: 1em; text-align: center; vertical-align: top\">619</td>\n",
       "        <td style=\"padding-left: 1em; padding-right: 1em; text-align: center; vertical-align: top\">0.5</td>\n",
       "        <td style=\"padding-left: 1em; padding-right: 1em; text-align: center; vertical-align: top\">2.38832195769</td>\n",
       "    </tr>\n",
       "    <tr>\n",
       "        <td style=\"padding-left: 1em; padding-right: 1em; text-align: center; vertical-align: top\">153</td>\n",
       "        <td style=\"padding-left: 1em; padding-right: 1em; text-align: center; vertical-align: top\">7293</td>\n",
       "        <td style=\"padding-left: 1em; padding-right: 1em; text-align: center; vertical-align: top\">0.5</td>\n",
       "        <td style=\"padding-left: 1em; padding-right: 1em; text-align: center; vertical-align: top\">3.24836786725</td>\n",
       "    </tr>\n",
       "</table>\n",
       "[20163 rows x 4 columns]<br/>Note: Only the head of the SFrame is printed.<br/>You can use print_rows(num_rows=m, num_columns=n) to print more rows and columns.\n",
       "</div>"
      ],
      "text/plain": [
       "Columns:\n",
       "\tuserId\tint\n",
       "\tmovieId\tint\n",
       "\trating\tfloat\n",
       "\tpredictions\tfloat\n",
       "\n",
       "Rows: 20163\n",
       "\n",
       "Data:\n",
       "+--------+---------+--------+---------------+\n",
       "| userId | movieId | rating |  predictions  |\n",
       "+--------+---------+--------+---------------+\n",
       "|  517   |  63113  |  0.5   | 3.23922554386 |\n",
       "|   22   |  56367  |  0.5   | 3.53024771447 |\n",
       "|  477   |   6794  |  0.5   | 3.16382384154 |\n",
       "|  483   |   2328  |  0.5   | 3.42706296408 |\n",
       "|  307   |   2315  |  0.5   | 2.79334588288 |\n",
       "|  298   |   4248  |  0.5   | 2.22058067383 |\n",
       "|  599   |   3511  |  0.5   | 2.32011999129 |\n",
       "|  298   |   886   |  0.5   | 2.28948346208 |\n",
       "|  599   |   619   |  0.5   | 2.38832195769 |\n",
       "|  153   |   7293  |  0.5   | 3.24836786725 |\n",
       "+--------+---------+--------+---------------+\n",
       "[20163 rows x 4 columns]\n",
       "Note: Only the head of the SFrame is printed.\n",
       "You can use print_rows(num_rows=m, num_columns=n) to print more rows and columns."
      ]
     },
     "execution_count": 11,
     "metadata": {},
     "output_type": "execute_result"
    }
   ],
   "source": [
    "summary.sort('rating')"
   ]
  },
  {
   "cell_type": "code",
   "execution_count": 12,
   "metadata": {},
   "outputs": [],
   "source": [
    "predictions = predictions.astype(int)"
   ]
  },
  {
   "cell_type": "code",
   "execution_count": 13,
   "metadata": {},
   "outputs": [],
   "source": [
    "targets = test['rating']\n"
   ]
  },
  {
   "cell_type": "code",
   "execution_count": 14,
   "metadata": {},
   "outputs": [],
   "source": [
    "targets = targets.astype(int)"
   ]
  },
  {
   "cell_type": "code",
   "execution_count": 15,
   "metadata": {},
   "outputs": [
    {
     "data": {
      "text/plain": [
       "0.3450875365768983"
      ]
     },
     "execution_count": 15,
     "metadata": {},
     "output_type": "execute_result"
    }
   ],
   "source": [
    "eval = tc.evaluation.accuracy(targets, predictions, average = \"micro\")\n",
    "eval"
   ]
  },
  {
   "cell_type": "code",
   "execution_count": 16,
   "metadata": {},
   "outputs": [
    {
     "data": {
      "text/plain": [
       "{0: None,\n",
       " 1: None,\n",
       " 2: 0.3865276663993585,\n",
       " 3: 0.3366419919246299,\n",
       " 4: 0.43634686346863466,\n",
       " 5: None}"
      ]
     },
     "execution_count": 16,
     "metadata": {},
     "output_type": "execute_result"
    }
   ],
   "source": [
    "eval1 = tc.evaluation.accuracy(targets, predictions, average = None)\n",
    "eval1"
   ]
  },
  {
   "cell_type": "code",
   "execution_count": 17,
   "metadata": {},
   "outputs": [
    {
     "name": "stdout",
     "output_type": "stream",
     "text": [
      "\n",
      "Precision and recall summary statistics by cutoff\n",
      "+--------+-----------------+------------------+\n",
      "| cutoff |  mean_precision |   mean_recall    |\n",
      "+--------+-----------------+------------------+\n",
      "|   1    |  0.106557377049 | 0.00481059140611 |\n",
      "|   2    |  0.109016393443 | 0.00871669094998 |\n",
      "|   3    |  0.108196721311 | 0.0136842171221  |\n",
      "|   4    |  0.104508196721 | 0.0175071551564  |\n",
      "|   5    |       0.1       | 0.0213027678377  |\n",
      "|   6    | 0.0991803278689 | 0.0249946348469  |\n",
      "|   7    | 0.0971896955504 | 0.0290088473171  |\n",
      "|   8    | 0.0920081967213 | 0.0308303897468  |\n",
      "|   9    | 0.0905282331512 |  0.034413763692  |\n",
      "|   10   | 0.0883606557377 | 0.0365776806246  |\n",
      "+--------+-----------------+------------------+\n",
      "[10 rows x 3 columns]\n",
      "\n",
      "\n",
      "Overall RMSE: 0.939562245141\n",
      "\n",
      "Per User RMSE (best)\n",
      "+--------+-------+----------------+\n",
      "| userId | count |      rmse      |\n",
      "+--------+-------+----------------+\n",
      "|  189   |   6   | 0.195444440817 |\n",
      "+--------+-------+----------------+\n",
      "[1 rows x 3 columns]\n",
      "\n",
      "\n",
      "Per User RMSE (worst)\n",
      "+--------+-------+---------------+\n",
      "| userId | count |      rmse     |\n",
      "+--------+-------+---------------+\n",
      "|  283   |   1   | 2.40786641114 |\n",
      "+--------+-------+---------------+\n",
      "[1 rows x 3 columns]\n",
      "\n",
      "\n",
      "Per Item RMSE (best)\n",
      "+---------+-------+-------------------+\n",
      "| movieId | count |        rmse       |\n",
      "+---------+-------+-------------------+\n",
      "|  160563 |   1   | 0.000575704185555 |\n",
      "+---------+-------+-------------------+\n",
      "[1 rows x 3 columns]\n",
      "\n",
      "\n",
      "Per Item RMSE (worst)\n",
      "+---------+-------+---------------+\n",
      "| movieId | count |      rmse     |\n",
      "+---------+-------+---------------+\n",
      "|   3604  |   1   | 3.23923534735 |\n",
      "+---------+-------+---------------+\n",
      "[1 rows x 3 columns]\n",
      "\n"
     ]
    },
    {
     "data": {
      "text/plain": [
       "{'precision_recall_by_user': Columns:\n",
       " \tuserId\tint\n",
       " \tcutoff\tint\n",
       " \tprecision\tfloat\n",
       " \trecall\tfloat\n",
       " \tcount\tint\n",
       " \n",
       " Rows: 10980\n",
       " \n",
       " Data:\n",
       " +--------+--------+----------------+-----------------+-------+\n",
       " | userId | cutoff |   precision    |      recall     | count |\n",
       " +--------+--------+----------------+-----------------+-------+\n",
       " |   1    |   1    |      0.0       |       0.0       |   42  |\n",
       " |   1    |   2    |      0.0       |       0.0       |   42  |\n",
       " |   1    |   3    |      0.0       |       0.0       |   42  |\n",
       " |   1    |   4    |      0.0       |       0.0       |   42  |\n",
       " |   1    |   5    |      0.2       | 0.0238095238095 |   42  |\n",
       " |   1    |   6    | 0.166666666667 | 0.0238095238095 |   42  |\n",
       " |   1    |   7    | 0.142857142857 | 0.0238095238095 |   42  |\n",
       " |   1    |   8    |     0.125      | 0.0238095238095 |   42  |\n",
       " |   1    |   9    | 0.111111111111 | 0.0238095238095 |   42  |\n",
       " |   1    |   10   |      0.1       | 0.0238095238095 |   42  |\n",
       " +--------+--------+----------------+-----------------+-------+\n",
       " [10980 rows x 5 columns]\n",
       " Note: Only the head of the SFrame is printed.\n",
       " You can use print_rows(num_rows=m, num_columns=n) to print more rows and columns.,\n",
       " 'precision_recall_overall': Columns:\n",
       " \tcutoff\tint\n",
       " \tprecision\tfloat\n",
       " \trecall\tfloat\n",
       " \n",
       " Rows: 18\n",
       " \n",
       " Data:\n",
       " +--------+-----------------+------------------+\n",
       " | cutoff |    precision    |      recall      |\n",
       " +--------+-----------------+------------------+\n",
       " |   1    |  0.106557377049 | 0.00481059140611 |\n",
       " |   2    |  0.109016393443 | 0.00871669094998 |\n",
       " |   3    |  0.108196721311 | 0.0136842171221  |\n",
       " |   4    |  0.104508196721 | 0.0175071551564  |\n",
       " |   5    |       0.1       | 0.0213027678377  |\n",
       " |   6    | 0.0991803278689 | 0.0249946348469  |\n",
       " |   7    | 0.0971896955504 | 0.0290088473171  |\n",
       " |   8    | 0.0920081967213 | 0.0308303897468  |\n",
       " |   9    | 0.0905282331512 |  0.034413763692  |\n",
       " |   10   | 0.0883606557377 | 0.0365776806246  |\n",
       " +--------+-----------------+------------------+\n",
       " [18 rows x 3 columns]\n",
       " Note: Only the head of the SFrame is printed.\n",
       " You can use print_rows(num_rows=m, num_columns=n) to print more rows and columns.,\n",
       " 'rmse_by_item': Columns:\n",
       " \tmovieId\tint\n",
       " \tcount\tint\n",
       " \trmse\tfloat\n",
       " \n",
       " Rows: 5255\n",
       " \n",
       " Data:\n",
       " +---------+-------+----------------+\n",
       " | movieId | count |      rmse      |\n",
       " +---------+-------+----------------+\n",
       " |  101076 |   1   | 0.787315449122 |\n",
       " |   5288  |   1   |  1.1096588946  |\n",
       " |   3143  |   1   | 0.693458413793 |\n",
       " |   6769  |   1   | 0.364305012343 |\n",
       " |  190207 |   1   | 1.76178869563  |\n",
       " |   2779  |   3   | 0.716903438394 |\n",
       " |   3988  |   10  | 0.616746580599 |\n",
       " |   2847  |   1   | 0.41208821078  |\n",
       " |  64614  |   11  | 0.432737420328 |\n",
       " |   5531  |   1   | 0.40809573288  |\n",
       " +---------+-------+----------------+\n",
       " [5255 rows x 3 columns]\n",
       " Note: Only the head of the SFrame is printed.\n",
       " You can use print_rows(num_rows=m, num_columns=n) to print more rows and columns.,\n",
       " 'rmse_by_user': Columns:\n",
       " \tuserId\tint\n",
       " \tcount\tint\n",
       " \trmse\tfloat\n",
       " \n",
       " Rows: 610\n",
       " \n",
       " Data:\n",
       " +--------+-------+----------------+\n",
       " | userId | count |      rmse      |\n",
       " +--------+-------+----------------+\n",
       " |  118   |   5   | 0.271482302839 |\n",
       " |  435   |   13  | 0.593110701343 |\n",
       " |  537   |   13  | 1.00557255122  |\n",
       " |  526   |   14  | 0.829390841309 |\n",
       " |  232   |  162  | 0.642240188878 |\n",
       " |  310   |   10  | 0.854985456886 |\n",
       " |   49   |   5   | 0.463181516232 |\n",
       " |   13   |   6   | 1.03456774727  |\n",
       " |  511   |   12  | 0.564719381528 |\n",
       " |  363   |   7   | 0.714714347862 |\n",
       " +--------+-------+----------------+\n",
       " [610 rows x 3 columns]\n",
       " Note: Only the head of the SFrame is printed.\n",
       " You can use print_rows(num_rows=m, num_columns=n) to print more rows and columns.,\n",
       " 'rmse_overall': 0.9395622451408878}"
      ]
     },
     "execution_count": 17,
     "metadata": {},
     "output_type": "execute_result"
    }
   ],
   "source": [
    "model.evaluate(test)"
   ]
  },
  {
   "cell_type": "code",
   "execution_count": 18,
   "metadata": {},
   "outputs": [
    {
     "data": {
      "text/html": [
       "<pre>Warning: Ignoring columns X1, (no genres listed), Action, Adventure, Animation, Children, Comedy, Crime, Documentary, Drama, Fantasy, Film-Noir, Horror, IMAX, Musical, Mystery, Romance, Sci-Fi, Thriller, War, Western;</pre>"
      ],
      "text/plain": [
       "Warning: Ignoring columns X1, (no genres listed), Action, Adventure, Animation, Children, Comedy, Crime, Documentary, Drama, Fantasy, Film-Noir, Horror, IMAX, Musical, Mystery, Romance, Sci-Fi, Thriller, War, Western;"
      ]
     },
     "metadata": {},
     "output_type": "display_data"
    },
    {
     "data": {
      "text/html": [
       "<pre>    To use these columns in scoring predictions, use a model that allows the use of additional features.</pre>"
      ],
      "text/plain": [
       "    To use these columns in scoring predictions, use a model that allows the use of additional features."
      ]
     },
     "metadata": {},
     "output_type": "display_data"
    },
    {
     "data": {
      "text/html": [
       "<pre>Preparing data set.</pre>"
      ],
      "text/plain": [
       "Preparing data set."
      ]
     },
     "metadata": {},
     "output_type": "display_data"
    },
    {
     "data": {
      "text/html": [
       "<pre>    Data has 80673 observations with 610 users and 9019 items.</pre>"
      ],
      "text/plain": [
       "    Data has 80673 observations with 610 users and 9019 items."
      ]
     },
     "metadata": {},
     "output_type": "display_data"
    },
    {
     "data": {
      "text/html": [
       "<pre>    Data prepared in: 0.173057s</pre>"
      ],
      "text/plain": [
       "    Data prepared in: 0.173057s"
      ]
     },
     "metadata": {},
     "output_type": "display_data"
    },
    {
     "data": {
      "text/html": [
       "<pre>80673 observations to process; with 9019 unique items.</pre>"
      ],
      "text/plain": [
       "80673 observations to process; with 9019 unique items."
      ]
     },
     "metadata": {},
     "output_type": "display_data"
    }
   ],
   "source": [
    "model2 = tc.recommender.popularity_recommender.create(train, target=\"rating\", user_id=\"userId\", item_id=\"movieId\")"
   ]
  },
  {
   "cell_type": "code",
   "execution_count": 19,
   "metadata": {},
   "outputs": [],
   "source": [
    "predictions2 = model2.predict(test)"
   ]
  },
  {
   "cell_type": "code",
   "execution_count": 20,
   "metadata": {},
   "outputs": [
    {
     "name": "stdout",
     "output_type": "stream",
     "text": [
      "\n",
      "Precision and recall summary statistics by cutoff\n",
      "+--------+----------------+-------------+\n",
      "| cutoff | mean_precision | mean_recall |\n",
      "+--------+----------------+-------------+\n",
      "|   1    |      0.0       |     0.0     |\n",
      "|   2    |      0.0       |     0.0     |\n",
      "|   3    |      0.0       |     0.0     |\n",
      "|   4    |      0.0       |     0.0     |\n",
      "|   5    |      0.0       |     0.0     |\n",
      "|   6    |      0.0       |     0.0     |\n",
      "|   7    |      0.0       |     0.0     |\n",
      "|   8    |      0.0       |     0.0     |\n",
      "|   9    |      0.0       |     0.0     |\n",
      "|   10   |      0.0       |     0.0     |\n",
      "+--------+----------------+-------------+\n",
      "[10 rows x 3 columns]\n",
      "\n",
      "\n",
      "Overall RMSE: 0.974028455612\n",
      "\n",
      "Per User RMSE (best)\n",
      "+--------+-------+----------------+\n",
      "| userId | count |      rmse      |\n",
      "+--------+-------+----------------+\n",
      "|  118   |   5   | 0.185093934572 |\n",
      "+--------+-------+----------------+\n",
      "[1 rows x 3 columns]\n",
      "\n",
      "\n",
      "Per User RMSE (worst)\n",
      "+--------+-------+---------------+\n",
      "| userId | count |      rmse     |\n",
      "+--------+-------+---------------+\n",
      "|  138   |   5   | 2.43467122749 |\n",
      "+--------+-------+---------------+\n",
      "[1 rows x 3 columns]\n",
      "\n",
      "\n",
      "Per Item RMSE (best)\n",
      "+---------+-------+------+\n",
      "| movieId | count | rmse |\n",
      "+---------+-------+------+\n",
      "|   1425  |   2   | 0.0  |\n",
      "+---------+-------+------+\n",
      "[1 rows x 3 columns]\n",
      "\n",
      "\n",
      "Per Item RMSE (worst)\n",
      "+---------+-------+------+\n",
      "| movieId | count | rmse |\n",
      "+---------+-------+------+\n",
      "|  32892  |   1   | 4.5  |\n",
      "+---------+-------+------+\n",
      "[1 rows x 3 columns]\n",
      "\n"
     ]
    },
    {
     "data": {
      "text/plain": [
       "{'precision_recall_by_user': Columns:\n",
       " \tuserId\tint\n",
       " \tcutoff\tint\n",
       " \tprecision\tfloat\n",
       " \trecall\tfloat\n",
       " \tcount\tint\n",
       " \n",
       " Rows: 10980\n",
       " \n",
       " Data:\n",
       " +--------+--------+-----------+--------+-------+\n",
       " | userId | cutoff | precision | recall | count |\n",
       " +--------+--------+-----------+--------+-------+\n",
       " |   1    |   1    |    0.0    |  0.0   |   42  |\n",
       " |   1    |   2    |    0.0    |  0.0   |   42  |\n",
       " |   1    |   3    |    0.0    |  0.0   |   42  |\n",
       " |   1    |   4    |    0.0    |  0.0   |   42  |\n",
       " |   1    |   5    |    0.0    |  0.0   |   42  |\n",
       " |   1    |   6    |    0.0    |  0.0   |   42  |\n",
       " |   1    |   7    |    0.0    |  0.0   |   42  |\n",
       " |   1    |   8    |    0.0    |  0.0   |   42  |\n",
       " |   1    |   9    |    0.0    |  0.0   |   42  |\n",
       " |   1    |   10   |    0.0    |  0.0   |   42  |\n",
       " +--------+--------+-----------+--------+-------+\n",
       " [10980 rows x 5 columns]\n",
       " Note: Only the head of the SFrame is printed.\n",
       " You can use print_rows(num_rows=m, num_columns=n) to print more rows and columns.,\n",
       " 'precision_recall_overall': Columns:\n",
       " \tcutoff\tint\n",
       " \tprecision\tfloat\n",
       " \trecall\tfloat\n",
       " \n",
       " Rows: 18\n",
       " \n",
       " Data:\n",
       " +--------+-----------+--------+\n",
       " | cutoff | precision | recall |\n",
       " +--------+-----------+--------+\n",
       " |   1    |    0.0    |  0.0   |\n",
       " |   2    |    0.0    |  0.0   |\n",
       " |   3    |    0.0    |  0.0   |\n",
       " |   4    |    0.0    |  0.0   |\n",
       " |   5    |    0.0    |  0.0   |\n",
       " |   6    |    0.0    |  0.0   |\n",
       " |   7    |    0.0    |  0.0   |\n",
       " |   8    |    0.0    |  0.0   |\n",
       " |   9    |    0.0    |  0.0   |\n",
       " |   10   |    0.0    |  0.0   |\n",
       " +--------+-----------+--------+\n",
       " [18 rows x 3 columns]\n",
       " Note: Only the head of the SFrame is printed.\n",
       " You can use print_rows(num_rows=m, num_columns=n) to print more rows and columns.,\n",
       " 'rmse_by_item': Columns:\n",
       " \tmovieId\tint\n",
       " \tcount\tint\n",
       " \trmse\tfloat\n",
       " \n",
       " Rows: 5255\n",
       " \n",
       " Data:\n",
       " +---------+-------+----------------+\n",
       " | movieId | count |      rmse      |\n",
       " +---------+-------+----------------+\n",
       " |  101076 |   1   |      0.75      |\n",
       " |   5288  |   1   |      1.0       |\n",
       " |   3143  |   1   | 0.49974588772  |\n",
       " |   6769  |   1   | 0.49974588772  |\n",
       " |  190207 |   1   | 1.99974588772  |\n",
       " |   2779  |   3   |      0.95      |\n",
       " |   3988  |   10  | 0.619317265411 |\n",
       " |   2847  |   1   |      0.0       |\n",
       " |  64614  |   11  | 0.543557306505 |\n",
       " |   5531  |   1   |      0.5       |\n",
       " +---------+-------+----------------+\n",
       " [5255 rows x 3 columns]\n",
       " Note: Only the head of the SFrame is printed.\n",
       " You can use print_rows(num_rows=m, num_columns=n) to print more rows and columns.,\n",
       " 'rmse_by_user': Columns:\n",
       " \tuserId\tint\n",
       " \tcount\tint\n",
       " \trmse\tfloat\n",
       " \n",
       " Rows: 610\n",
       " \n",
       " Data:\n",
       " +--------+-------+----------------+\n",
       " | userId | count |      rmse      |\n",
       " +--------+-------+----------------+\n",
       " |  118   |   5   | 0.185093934572 |\n",
       " |  435   |   13  | 0.728543038512 |\n",
       " |  537   |   13  | 1.05526068575  |\n",
       " |  526   |   14  | 0.832029668136 |\n",
       " |  232   |  162  | 0.67120374762  |\n",
       " |  310   |   10  | 0.771010288029 |\n",
       " |   49   |   5   | 0.459338555073 |\n",
       " |   13   |   6   | 0.906712885111 |\n",
       " |  511   |   12  | 0.62286004561  |\n",
       " |  363   |   7   | 0.742350679459 |\n",
       " +--------+-------+----------------+\n",
       " [610 rows x 3 columns]\n",
       " Note: Only the head of the SFrame is printed.\n",
       " You can use print_rows(num_rows=m, num_columns=n) to print more rows and columns.,\n",
       " 'rmse_overall': 0.9740284556120602}"
      ]
     },
     "execution_count": 20,
     "metadata": {},
     "output_type": "execute_result"
    }
   ],
   "source": [
    "model2.evaluate(test)"
   ]
  },
  {
   "cell_type": "code",
   "execution_count": 21,
   "metadata": {},
   "outputs": [],
   "source": [
    "predictions2 = predictions2.astype(int)\n",
    "targets2 = test['rating']\n",
    "targets2 = targets2.astype(int)"
   ]
  },
  {
   "cell_type": "code",
   "execution_count": 22,
   "metadata": {},
   "outputs": [
    {
     "data": {
      "text/plain": [
       "0.34548430293111143"
      ]
     },
     "execution_count": 22,
     "metadata": {},
     "output_type": "execute_result"
    }
   ],
   "source": [
    "eval3 = tc.evaluation.accuracy(targets2, predictions2, average = \"micro\")\n",
    "eval3"
   ]
  },
  {
   "cell_type": "code",
   "execution_count": 23,
   "metadata": {},
   "outputs": [
    {
     "data": {
      "text/plain": [
       "{0: 0.0967741935483871,\n",
       " 1: 0.20491803278688525,\n",
       " 2: 0.25487987987987987,\n",
       " 3: 0.3422089996281145,\n",
       " 4: 0.4360761190029483,\n",
       " 5: 0.125}"
      ]
     },
     "execution_count": 23,
     "metadata": {},
     "output_type": "execute_result"
    }
   ],
   "source": [
    "eval4 = tc.evaluation.accuracy(targets2, predictions2, average = None)\n",
    "eval4"
   ]
  },
  {
   "cell_type": "markdown",
   "metadata": {
    "collapsed": true
   },
   "source": [
    "### Model Summaries (RSME):\n",
    "\n",
    "#### 2018 100k\n",
    "* factorization 0.9395\n",
    "* popularity 0.9740\n",
    "\n"
   ]
  },
  {
   "cell_type": "code",
   "execution_count": null,
   "metadata": {},
   "outputs": [],
   "source": []
  },
  {
   "cell_type": "code",
   "execution_count": null,
   "metadata": {},
   "outputs": [],
   "source": []
  }
 ],
 "metadata": {
  "kernelspec": {
   "display_name": "venv",
   "language": "python",
   "name": "venv"
  },
  "language_info": {
   "codemirror_mode": {
    "name": "ipython",
    "version": 2
   },
   "file_extension": ".py",
   "mimetype": "text/x-python",
   "name": "python",
   "nbconvert_exporter": "python",
   "pygments_lexer": "ipython2",
   "version": "2.7.16"
  }
 },
 "nbformat": 4,
 "nbformat_minor": 2
}
