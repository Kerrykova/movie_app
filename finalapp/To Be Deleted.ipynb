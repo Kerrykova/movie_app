{
 "cells": [
  {
   "cell_type": "code",
   "execution_count": 1,
   "metadata": {},
   "outputs": [
    {
     "name": "stdout",
     "output_type": "stream",
     "text": [
      "   movieId                               title  \\\n",
      "0        1                    Toy Story (1995)   \n",
      "1        2                      Jumanji (1995)   \n",
      "2        3             Grumpier Old Men (1995)   \n",
      "3        4            Waiting to Exhale (1995)   \n",
      "4        5  Father of the Bride Part II (1995)   \n",
      "\n",
      "                                        genres  year  \n",
      "0  Adventure|Animation|Children|Comedy|Fantasy  1995  \n",
      "1                   Adventure|Children|Fantasy  1995  \n",
      "2                               Comedy|Romance  1995  \n",
      "3                         Comedy|Drama|Romance  1995  \n",
      "4                                       Comedy  1995  \n"
     ]
    }
   ],
   "source": [
    "from flask import (\n",
    "    Flask,\n",
    "    render_template,\n",
    "    jsonify,\n",
    "    request,\n",
    "    redirect)\n",
    "\n",
    "from flask_sqlalchemy import SQLAlchemy\n",
    "import sqlalchemy\n",
    "from sqlalchemy.ext.automap import automap_base\n",
    "from sqlalchemy.orm import Session\n",
    "from sqlalchemy import create_engine\n",
    "\n",
    "import pandas as pd\n",
    "import moviestorate as mtr\n",
    "\n",
    "\n",
    "from sqlalchemy import func\n",
    "\n"
   ]
  },
  {
   "cell_type": "code",
   "execution_count": 2,
   "metadata": {},
   "outputs": [],
   "source": [
    "app = Flask(__name__)\n"
   ]
  },
  {
   "cell_type": "code",
   "execution_count": 3,
   "metadata": {},
   "outputs": [],
   "source": [
    "app.config['SQLALCHEMY_ECHO'] = True\n"
   ]
  },
  {
   "cell_type": "code",
   "execution_count": 4,
   "metadata": {},
   "outputs": [
    {
     "name": "stderr",
     "output_type": "stream",
     "text": [
      "/Users/kerrykovacik/anaconda3/envs/PythonData3/lib/python3.6/site-packages/flask_sqlalchemy/__init__.py:794: FSADeprecationWarning: SQLALCHEMY_TRACK_MODIFICATIONS adds significant overhead and will be disabled by default in the future.  Set it to True or False to suppress this warning.\n",
      "  'SQLALCHEMY_TRACK_MODIFICATIONS adds significant overhead and '\n"
     ]
    }
   ],
   "source": [
    "\n",
    "app.config['SQLALCHEMY_DATABASE_URI'] = 'sqlite:///db/2018Movies.sqlite'\n",
    "db = SQLAlchemy(app)"
   ]
  },
  {
   "cell_type": "code",
   "execution_count": 5,
   "metadata": {},
   "outputs": [],
   "source": [
    "Base = automap_base()\n"
   ]
  },
  {
   "cell_type": "code",
   "execution_count": 6,
   "metadata": {},
   "outputs": [
    {
     "name": "stdout",
     "output_type": "stream",
     "text": [
      "2019-05-12 18:36:34,454 INFO sqlalchemy.engine.base.Engine SELECT CAST('test plain returns' AS VARCHAR(60)) AS anon_1\n",
      "2019-05-12 18:36:34,455 INFO sqlalchemy.engine.base.Engine ()\n",
      "2019-05-12 18:36:34,458 INFO sqlalchemy.engine.base.Engine SELECT CAST('test unicode returns' AS VARCHAR(60)) AS anon_1\n",
      "2019-05-12 18:36:34,459 INFO sqlalchemy.engine.base.Engine ()\n",
      "2019-05-12 18:36:34,464 INFO sqlalchemy.engine.base.Engine SELECT name FROM sqlite_master WHERE type='table' ORDER BY name\n",
      "2019-05-12 18:36:34,465 INFO sqlalchemy.engine.base.Engine ()\n",
      "2019-05-12 18:36:34,471 INFO sqlalchemy.engine.base.Engine PRAGMA table_info(\"movie_ratings\")\n",
      "2019-05-12 18:36:34,473 INFO sqlalchemy.engine.base.Engine ()\n",
      "2019-05-12 18:36:34,479 INFO sqlalchemy.engine.base.Engine SELECT sql FROM  (SELECT * FROM sqlite_master UNION ALL   SELECT * FROM sqlite_temp_master) WHERE name = 'movie_ratings' AND type = 'table'\n",
      "2019-05-12 18:36:34,481 INFO sqlalchemy.engine.base.Engine ()\n",
      "2019-05-12 18:36:34,484 INFO sqlalchemy.engine.base.Engine PRAGMA foreign_key_list(\"movie_ratings\")\n",
      "2019-05-12 18:36:34,485 INFO sqlalchemy.engine.base.Engine ()\n",
      "2019-05-12 18:36:34,487 INFO sqlalchemy.engine.base.Engine SELECT sql FROM  (SELECT * FROM sqlite_master UNION ALL   SELECT * FROM sqlite_temp_master) WHERE name = 'movie_ratings' AND type = 'table'\n",
      "2019-05-12 18:36:34,488 INFO sqlalchemy.engine.base.Engine ()\n",
      "2019-05-12 18:36:34,493 INFO sqlalchemy.engine.base.Engine PRAGMA index_list(\"movie_ratings\")\n",
      "2019-05-12 18:36:34,494 INFO sqlalchemy.engine.base.Engine ()\n",
      "2019-05-12 18:36:34,496 INFO sqlalchemy.engine.base.Engine PRAGMA index_list(\"movie_ratings\")\n",
      "2019-05-12 18:36:34,497 INFO sqlalchemy.engine.base.Engine ()\n",
      "2019-05-12 18:36:34,508 INFO sqlalchemy.engine.base.Engine PRAGMA index_info(\"sqlite_autoindex_movie_ratings_1\")\n",
      "2019-05-12 18:36:34,516 INFO sqlalchemy.engine.base.Engine ()\n",
      "2019-05-12 18:36:34,522 INFO sqlalchemy.engine.base.Engine SELECT sql FROM  (SELECT * FROM sqlite_master UNION ALL   SELECT * FROM sqlite_temp_master) WHERE name = 'movie_ratings' AND type = 'table'\n",
      "2019-05-12 18:36:34,524 INFO sqlalchemy.engine.base.Engine ()\n"
     ]
    }
   ],
   "source": [
    "Base.prepare(db.engine, reflect=True)\n"
   ]
  },
  {
   "cell_type": "code",
   "execution_count": 7,
   "metadata": {},
   "outputs": [
    {
     "data": {
      "text/plain": [
       "['movie_ratings']"
      ]
     },
     "execution_count": 7,
     "metadata": {},
     "output_type": "execute_result"
    }
   ],
   "source": [
    "Base.classes.keys()\n"
   ]
  },
  {
   "cell_type": "code",
   "execution_count": null,
   "metadata": {},
   "outputs": [],
   "source": []
  },
  {
   "cell_type": "code",
   "execution_count": 8,
   "metadata": {},
   "outputs": [],
   "source": [
    "Movies = Base.classes.movie_ratings\n"
   ]
  },
  {
   "cell_type": "code",
   "execution_count": null,
   "metadata": {},
   "outputs": [],
   "source": []
  },
  {
   "cell_type": "code",
   "execution_count": null,
   "metadata": {},
   "outputs": [],
   "source": []
  }
 ],
 "metadata": {
  "kernelspec": {
   "display_name": "pythondata3",
   "language": "python",
   "name": "pythondata3"
  },
  "language_info": {
   "codemirror_mode": {
    "name": "ipython",
    "version": 3
   },
   "file_extension": ".py",
   "mimetype": "text/x-python",
   "name": "python",
   "nbconvert_exporter": "python",
   "pygments_lexer": "ipython3",
   "version": "3.6.7"
  }
 },
 "nbformat": 4,
 "nbformat_minor": 2
}
