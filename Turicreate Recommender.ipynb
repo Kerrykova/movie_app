{
 "cells": [
  {
   "cell_type": "code",
   "execution_count": 1,
   "metadata": {
    "collapsed": false
   },
   "outputs": [],
   "source": [
    "import turicreate as tc\n",
    "import warnings\n",
    "warnings.simplefilter('ignore')\n"
   ]
  },
  {
   "cell_type": "code",
   "execution_count": 2,
   "metadata": {
    "collapsed": false
   },
   "outputs": [
    {
     "data": {
      "text/html": [
       "<pre>Finished parsing file /Users/kerrykovacik/Desktop/Career/Data Boot Camp/HW/Project 3/1998turi.csv</pre>"
      ],
      "text/plain": [
       "Finished parsing file /Users/kerrykovacik/Desktop/Career/Data Boot Camp/HW/Project 3/1998turi.csv"
      ]
     },
     "metadata": {},
     "output_type": "display_data"
    },
    {
     "data": {
      "text/html": [
       "<pre>Parsing completed. Parsed 100 lines in 0.234849 secs.</pre>"
      ],
      "text/plain": [
       "Parsing completed. Parsed 100 lines in 0.234849 secs."
      ]
     },
     "metadata": {},
     "output_type": "display_data"
    },
    {
     "name": "stdout",
     "output_type": "stream",
     "text": [
      "------------------------------------------------------\n",
      "Inferred types from first 100 line(s) of file as \n",
      "column_type_hints=[int,int,int,int,int,int,int,int,int,int,int,int,int,int,int,int,int,int,int,int,int,int,int,int,int,int]\n",
      "If parsing fails due to incorrect types, you can correct\n",
      "the inferred type list above and pass it to read_csv in\n",
      "the column_type_hints argument\n",
      "------------------------------------------------------\n"
     ]
    },
    {
     "data": {
      "text/html": [
       "<pre>Finished parsing file /Users/kerrykovacik/Desktop/Career/Data Boot Camp/HW/Project 3/1998turi.csv</pre>"
      ],
      "text/plain": [
       "Finished parsing file /Users/kerrykovacik/Desktop/Career/Data Boot Camp/HW/Project 3/1998turi.csv"
      ]
     },
     "metadata": {},
     "output_type": "display_data"
    },
    {
     "data": {
      "text/html": [
       "<pre>Parsing completed. Parsed 100000 lines in 0.282659 secs.</pre>"
      ],
      "text/plain": [
       "Parsing completed. Parsed 100000 lines in 0.282659 secs."
      ]
     },
     "metadata": {},
     "output_type": "display_data"
    }
   ],
   "source": [
    "data = tc.SFrame.read_csv('../1998turi.csv')"
   ]
  },
  {
   "cell_type": "code",
   "execution_count": 3,
   "metadata": {
    "collapsed": false
   },
   "outputs": [
    {
     "data": {
      "text/html": [
       "<pre>Materializing SFrame</pre>"
      ],
      "text/plain": [
       "Materializing SFrame"
      ]
     },
     "metadata": {},
     "output_type": "display_data"
    },
    {
     "data": {
      "text/html": [
       "<html>                 <body>                     <iframe style=\"border:0;margin:0\" width=\"1000\" height=\"8100\" srcdoc='<html lang=\"en\">                         <head>                             <script src=\"https://cdnjs.cloudflare.com/ajax/libs/vega/3.0.8/vega.js\"></script>                             <script src=\"https://cdnjs.cloudflare.com/ajax/libs/vega-embed/3.0.0-rc7/vega-embed.js\"></script>                             <script src=\"https://cdnjs.cloudflare.com/ajax/libs/vega-tooltip/0.5.1/vega-tooltip.min.js\"></script>                             <link rel=\"stylesheet\" type=\"text/css\" href=\"https://cdnjs.cloudflare.com/ajax/libs/vega-tooltip/0.5.1/vega-tooltip.min.css\">                             <style>                             .vega-actions > a{                                 color:white;                                 text-decoration: none;                                 font-family: \"Arial\";                                 cursor:pointer;                                 padding:5px;                                 background:#AAAAAA;                                 border-radius:4px;                                 padding-left:10px;                                 padding-right:10px;                                 margin-right:5px;                             }                             .vega-actions{                                 margin-top:20px;                                 text-align:center                             }                            .vega-actions > a{                                 background:#999999;                            }                             </style>                         </head>                         <body>                             <div id=\"vis\">                             </div>                             <script>                                 var vega_json = \"{\\\"config\\\": {\\\"style\\\": {\\\"rect\\\": {\\\"stroke\\\": \\\"rgba(200, 200, 200, 0.5)\\\"}, \\\"group-title\\\": {\\\"fontWeight\\\": \\\"normal\\\", \\\"font\\\": \\\"HelveticaNeue-Light, Arial\\\", \\\"fontSize\\\": 20, \\\"fill\\\": \\\"#595959\\\"}}, \\\"axisY\\\": {\\\"minExtent\\\": 30}, \\\"axis\\\": {\\\"titlePadding\\\": 9, \\\"labelPadding\\\": 10, \\\"labelFont\\\": \\\"HelveticaNeue-Light, Arial\\\", \\\"labelFontSize\\\": 7, \\\"labelColor\\\": \\\"#595959\\\", \\\"titleFont\\\": \\\"HelveticaNeue-Light, Arial\\\", \\\"titleFontSize\\\": 12, \\\"titleColor\\\": \\\"#595959\\\", \\\"titleFontWeight\\\": \\\"normal\\\"}}, \\\"height\\\": 7880, \\\"padding\\\": 8, \\\"width\\\": 800, \\\"marks\\\": [{\\\"encode\\\": {\\\"enter\\\": {\\\"strokeWidth\\\": {\\\"value\\\": 0}, \\\"clip\\\": {\\\"value\\\": 0}, \\\"height\\\": {\\\"value\\\": 366}, \\\"width\\\": {\\\"value\\\": 734}, \\\"stroke\\\": {\\\"value\\\": \\\"#000000\\\"}, \\\"fillOpacity\\\": {\\\"value\\\": 0}, \\\"y\\\": {\\\"value\\\": 0}, \\\"x\\\": {\\\"value\\\": 0}, \\\"fill\\\": {\\\"value\\\": \\\"#ffffff\\\"}}}, \\\"type\\\": \\\"group\\\", \\\"marks\\\": [{\\\"encode\\\": {\\\"enter\\\": {\\\"strokeWidth\\\": {\\\"value\\\": 0}, \\\"clip\\\": {\\\"value\\\": 0}, \\\"height\\\": {\\\"value\\\": 366}, \\\"width\\\": {\\\"value\\\": 734}, \\\"stroke\\\": {\\\"value\\\": \\\"#000000\\\"}, \\\"fillOpacity\\\": {\\\"value\\\": 0}, \\\"y\\\": {\\\"value\\\": 0}, \\\"x\\\": {\\\"value\\\": 0}, \\\"fill\\\": {\\\"value\\\": \\\"#ffffff\\\"}}}, \\\"marks\\\": [{\\\"encode\\\": {\\\"update\\\": {\\\"y\\\": {\\\"field\\\": \\\"c_main_background\\\"}, \\\"x\\\": {\\\"signal\\\": \\\"datum[\\\\\\\"c_x_axis_back\\\\\\\"]\\\"}}, \\\"enter\\\": {\\\"strokeWidth\\\": {\\\"value\\\": 0.5}, \\\"height\\\": {\\\"value\\\": 250}, \\\"width\\\": {\\\"value\\\": 700}, \\\"stroke\\\": {\\\"value\\\": \\\"#DEDEDE\\\"}, \\\"fillOpacity\\\": {\\\"value\\\": 1}, \\\"y\\\": {\\\"value\\\": 66}, \\\"x\\\": {\\\"value\\\": 33}, \\\"fill\\\": {\\\"value\\\": \\\"#FEFEFE\\\"}}}, \\\"type\\\": \\\"rect\\\", \\\"from\\\": {\\\"data\\\": \\\"data_2\\\"}}, {\\\"encode\\\": {\\\"update\\\": {\\\"y\\\": {\\\"field\\\": \\\"c_top_bar\\\"}, \\\"x\\\": {\\\"signal\\\": \\\"datum[\\\\\\\"c_x_axis_back\\\\\\\"]\\\"}}, \\\"enter\\\": {\\\"strokeWidth\\\": {\\\"value\\\": 0.5}, \\\"height\\\": {\\\"value\\\": 30}, \\\"width\\\": {\\\"value\\\": 700}, \\\"stroke\\\": {\\\"value\\\": \\\"#DEDEDE\\\"}, \\\"fillOpacity\\\": {\\\"value\\\": 1}, \\\"y\\\": {\\\"value\\\": 43}, \\\"x\\\": {\\\"value\\\": 33}, \\\"fill\\\": {\\\"value\\\": \\\"#F5F5F5\\\"}}}, \\\"type\\\": \\\"rect\\\", \\\"from\\\": {\\\"data\\\": \\\"data_2\\\"}}, {\\\"encode\\\": {\\\"update\\\": {\\\"y\\\": {\\\"field\\\": \\\"c_top_type\\\"}, \\\"x\\\": {\\\"signal\\\": \\\"datum[\\\\\\\"c_x_axis_back\\\\\\\"]+687\\\"}}, \\\"enter\\\": {\\\"fontStyle\\\": {\\\"value\\\": \\\"normal\\\"}, \\\"angle\\\": {\\\"value\\\": 0}, \\\"baseline\\\": {\\\"value\\\": \\\"middle\\\"}, \\\"text\\\": {\\\"signal\\\": \\\"&apos;&apos;+datum[\\\\\\\"type\\\\\\\"]\\\"}, \\\"align\\\": {\\\"value\\\": \\\"right\\\"}, \\\"fontWeight\\\": {\\\"value\\\": \\\"normal\\\"}, \\\"fontSize\\\": {\\\"value\\\": 12}, \\\"dx\\\": {\\\"value\\\": 0, \\\"offset\\\": 0}, \\\"dy\\\": {\\\"value\\\": 0, \\\"offset\\\": 0}, \\\"y\\\": {\\\"value\\\": 58}, \\\"x\\\": {\\\"value\\\": 720}, \\\"font\\\": {\\\"value\\\": \\\"AvenirNext-Medium\\\"}, \\\"fill\\\": {\\\"value\\\": \\\"#595859\\\"}}}, \\\"type\\\": \\\"text\\\", \\\"from\\\": {\\\"data\\\": \\\"data_2\\\"}}, {\\\"encode\\\": {\\\"update\\\": {\\\"y\\\": {\\\"field\\\": \\\"c_top_title\\\"}, \\\"x\\\": {\\\"signal\\\": \\\"datum[\\\\\\\"c_x_axis_back\\\\\\\"]+11\\\"}}, \\\"enter\\\": {\\\"fontStyle\\\": {\\\"value\\\": \\\"normal\\\"}, \\\"angle\\\": {\\\"value\\\": 0}, \\\"baseline\\\": {\\\"value\\\": \\\"middle\\\"}, \\\"text\\\": {\\\"signal\\\": \\\"&apos;&apos;+datum[\\\\\\\"title\\\\\\\"]\\\"}, \\\"align\\\": {\\\"value\\\": \\\"left\\\"}, \\\"fontWeight\\\": {\\\"value\\\": \\\"normal\\\"}, \\\"fontSize\\\": {\\\"value\\\": 15}, \\\"dx\\\": {\\\"value\\\": 0, \\\"offset\\\": 0}, \\\"dy\\\": {\\\"value\\\": 0, \\\"offset\\\": 0}, \\\"y\\\": {\\\"value\\\": 59}, \\\"x\\\": {\\\"value\\\": 44}, \\\"font\\\": {\\\"value\\\": \\\"AvenirNext-Medium\\\"}, \\\"fill\\\": {\\\"value\\\": \\\"#9B9B9B\\\"}}}, \\\"type\\\": \\\"text\\\", \\\"from\\\": {\\\"data\\\": \\\"data_2\\\"}}, {\\\"encode\\\": {\\\"update\\\": {\\\"x2\\\": {\\\"signal\\\": \\\"datum[\\\\\\\"c_x_axis_back\\\\\\\"]+687\\\"}, \\\"x\\\": {\\\"signal\\\": \\\"datum[\\\\\\\"c_x_axis_back\\\\\\\"]+467\\\"}, \\\"y2\\\": {\\\"field\\\": \\\"c_rule\\\"}, \\\"y\\\": {\\\"field\\\": \\\"c_rule\\\"}}, \\\"enter\\\": {\\\"strokeWidth\\\": {\\\"value\\\": 1}, \\\"strokeCap\\\": {\\\"value\\\": \\\"butt\\\"}, \\\"x2\\\": {\\\"value\\\": 720}, \\\"stroke\\\": {\\\"value\\\": \\\"#EDEDEB\\\"}, \\\"y\\\": {\\\"value\\\": 178}, \\\"x\\\": {\\\"value\\\": 500}, \\\"y2\\\": {\\\"value\\\": 178}}}, \\\"type\\\": \\\"rule\\\", \\\"from\\\": {\\\"data\\\": \\\"data_2\\\"}}, {\\\"encode\\\": {\\\"update\\\": {\\\"y\\\": {\\\"field\\\": \\\"c_num_rows\\\"}, \\\"x\\\": {\\\"signal\\\": \\\"datum[\\\\\\\"c_x_axis_back\\\\\\\"]+467\\\"}}, \\\"enter\\\": {\\\"fontStyle\\\": {\\\"value\\\": \\\"normal\\\"}, \\\"angle\\\": {\\\"value\\\": 0}, \\\"baseline\\\": {\\\"value\\\": \\\"middle\\\"}, \\\"text\\\": {\\\"value\\\": \\\"Num. Rows:\\\"}, \\\"align\\\": {\\\"value\\\": \\\"left\\\"}, \\\"fontWeight\\\": {\\\"value\\\": \\\"normal\\\"}, \\\"fontSize\\\": {\\\"value\\\": 12}, \\\"dx\\\": {\\\"value\\\": 0, \\\"offset\\\": 0}, \\\"dy\\\": {\\\"value\\\": 0, \\\"offset\\\": 0}, \\\"y\\\": {\\\"value\\\": 106}, \\\"x\\\": {\\\"value\\\": 500}, \\\"font\\\": {\\\"value\\\": \\\"AvenirNext-Medium\\\"}, \\\"fill\\\": {\\\"value\\\": \\\"#4A4A4A\\\"}}}, \\\"type\\\": \\\"text\\\", \\\"from\\\": {\\\"data\\\": \\\"data_2\\\"}}, {\\\"encode\\\": {\\\"update\\\": {\\\"y\\\": {\\\"field\\\": \\\"c_num_unique\\\"}, \\\"x\\\": {\\\"signal\\\": \\\"datum[\\\\\\\"c_x_axis_back\\\\\\\"]+467\\\"}}, \\\"enter\\\": {\\\"fontStyle\\\": {\\\"value\\\": \\\"normal\\\"}, \\\"angle\\\": {\\\"value\\\": 0}, \\\"baseline\\\": {\\\"value\\\": \\\"middle\\\"}, \\\"text\\\": {\\\"value\\\": \\\"Num. Unique:\\\"}, \\\"align\\\": {\\\"value\\\": \\\"left\\\"}, \\\"fontWeight\\\": {\\\"value\\\": \\\"normal\\\"}, \\\"fontSize\\\": {\\\"value\\\": 12}, \\\"dx\\\": {\\\"value\\\": 0, \\\"offset\\\": 0}, \\\"dy\\\": {\\\"value\\\": 0, \\\"offset\\\": 0}, \\\"y\\\": {\\\"value\\\": 130}, \\\"x\\\": {\\\"value\\\": 500}, \\\"font\\\": {\\\"value\\\": \\\"AvenirNext-Medium\\\"}, \\\"fill\\\": {\\\"value\\\": \\\"#4A4A4A\\\"}}}, \\\"type\\\": \\\"text\\\", \\\"from\\\": {\\\"data\\\": \\\"data_2\\\"}}, {\\\"encode\\\": {\\\"update\\\": {\\\"y\\\": {\\\"field\\\": \\\"c_missing\\\"}, \\\"x\\\": {\\\"signal\\\": \\\"datum[\\\\\\\"c_x_axis_back\\\\\\\"]+467\\\"}}, \\\"enter\\\": {\\\"fontStyle\\\": {\\\"value\\\": \\\"normal\\\"}, \\\"angle\\\": {\\\"value\\\": 0}, \\\"baseline\\\": {\\\"value\\\": \\\"middle\\\"}, \\\"text\\\": {\\\"value\\\": \\\"Missing:\\\"}, \\\"align\\\": {\\\"value\\\": \\\"left\\\"}, \\\"fontWeight\\\": {\\\"value\\\": \\\"normal\\\"}, \\\"fontSize\\\": {\\\"value\\\": 12}, \\\"dx\\\": {\\\"value\\\": 0, \\\"offset\\\": 0}, \\\"dy\\\": {\\\"value\\\": 0, \\\"offset\\\": 0}, \\\"y\\\": {\\\"value\\\": 154}, \\\"x\\\": {\\\"value\\\": 500}, \\\"font\\\": {\\\"value\\\": \\\"AvenirNext-Medium\\\"}, \\\"fill\\\": {\\\"value\\\": \\\"#4A4A4A\\\"}}}, \\\"type\\\": \\\"text\\\", \\\"from\\\": {\\\"data\\\": \\\"data_2\\\"}}, {\\\"encode\\\": {\\\"update\\\": {\\\"y\\\": {\\\"field\\\": \\\"c_num_rows_val\\\"}, \\\"x\\\": {\\\"signal\\\": \\\"datum[\\\\\\\"c_x_axis_back\\\\\\\"]+667\\\"}}, \\\"enter\\\": {\\\"fontStyle\\\": {\\\"value\\\": \\\"normal\\\"}, \\\"angle\\\": {\\\"value\\\": 0}, \\\"baseline\\\": {\\\"value\\\": \\\"middle\\\"}, \\\"text\\\": {\\\"signal\\\": \\\"toString(format(datum[\\\\\\\"num_row\\\\\\\"], \\\\\\\",\\\\\\\"))\\\"}, \\\"align\\\": {\\\"value\\\": \\\"right\\\"}, \\\"fontWeight\\\": {\\\"value\\\": \\\"normal\\\"}, \\\"fontSize\\\": {\\\"value\\\": 12}, \\\"dx\\\": {\\\"value\\\": 0, \\\"offset\\\": 0}, \\\"dy\\\": {\\\"value\\\": 0, \\\"offset\\\": 0}, \\\"y\\\": {\\\"value\\\": 105}, \\\"x\\\": {\\\"value\\\": 700}, \\\"font\\\": {\\\"value\\\": \\\"AvenirNext-Medium\\\"}, \\\"fill\\\": {\\\"value\\\": \\\"#5A5A5A\\\"}}}, \\\"type\\\": \\\"text\\\", \\\"from\\\": {\\\"data\\\": \\\"data_2\\\"}}, {\\\"encode\\\": {\\\"update\\\": {\\\"y\\\": {\\\"field\\\": \\\"c_num_unique_val\\\"}, \\\"x\\\": {\\\"signal\\\": \\\"datum[\\\\\\\"c_x_axis_back\\\\\\\"]+667\\\"}}, \\\"enter\\\": {\\\"fontStyle\\\": {\\\"value\\\": \\\"normal\\\"}, \\\"angle\\\": {\\\"value\\\": 0}, \\\"baseline\\\": {\\\"value\\\": \\\"middle\\\"}, \\\"text\\\": {\\\"signal\\\": \\\"toString(format(datum[\\\\\\\"num_unique\\\\\\\"], \\\\\\\",\\\\\\\"))\\\"}, \\\"align\\\": {\\\"value\\\": \\\"right\\\"}, \\\"fontWeight\\\": {\\\"value\\\": \\\"normal\\\"}, \\\"fontSize\\\": {\\\"value\\\": 12}, \\\"dx\\\": {\\\"value\\\": 0, \\\"offset\\\": 0}, \\\"dy\\\": {\\\"value\\\": 0, \\\"offset\\\": 0}, \\\"y\\\": {\\\"value\\\": 130}, \\\"x\\\": {\\\"value\\\": 700}, \\\"font\\\": {\\\"value\\\": \\\"AvenirNext-Medium\\\"}, \\\"fill\\\": {\\\"value\\\": \\\"#5A5A5A\\\"}}}, \\\"type\\\": \\\"text\\\", \\\"from\\\": {\\\"data\\\": \\\"data_2\\\"}}, {\\\"encode\\\": {\\\"update\\\": {\\\"y\\\": {\\\"field\\\": \\\"c_missing_val\\\"}, \\\"x\\\": {\\\"signal\\\": \\\"datum[\\\\\\\"c_x_axis_back\\\\\\\"]+667\\\"}}, \\\"enter\\\": {\\\"fontStyle\\\": {\\\"value\\\": \\\"normal\\\"}, \\\"angle\\\": {\\\"value\\\": 0}, \\\"baseline\\\": {\\\"value\\\": \\\"middle\\\"}, \\\"text\\\": {\\\"signal\\\": \\\"toString(format(datum[\\\\\\\"num_missing\\\\\\\"], \\\\\\\",\\\\\\\"))\\\"}, \\\"align\\\": {\\\"value\\\": \\\"right\\\"}, \\\"fontWeight\\\": {\\\"value\\\": \\\"normal\\\"}, \\\"fontSize\\\": {\\\"value\\\": 12}, \\\"dx\\\": {\\\"value\\\": 0, \\\"offset\\\": 0}, \\\"dy\\\": {\\\"value\\\": 0, \\\"offset\\\": 0}, \\\"y\\\": {\\\"value\\\": 154}, \\\"x\\\": {\\\"value\\\": 700}, \\\"font\\\": {\\\"value\\\": \\\"AvenirNext-Medium\\\"}, \\\"fill\\\": {\\\"value\\\": \\\"#5A5A5A\\\"}}}, \\\"type\\\": \\\"text\\\", \\\"from\\\": {\\\"data\\\": \\\"data_2\\\"}}, {\\\"encode\\\": {\\\"update\\\": {\\\"y\\\": {\\\"field\\\": \\\"c_frequent_items\\\"}, \\\"x\\\": {\\\"signal\\\": \\\"datum[\\\\\\\"c_x_axis_back\\\\\\\"]+467\\\"}}, \\\"enter\\\": {\\\"fontStyle\\\": {\\\"value\\\": \\\"normal\\\"}, \\\"angle\\\": {\\\"value\\\": 0}, \\\"baseline\\\": {\\\"value\\\": \\\"middle\\\"}, \\\"clip\\\": {\\\"value\\\": true}, \\\"text\\\": {\\\"signal\\\": \\\"(toString(datum[\\\\\\\"type\\\\\\\"]) == \\\\\\\"str\\\\\\\")? \\\\\\\"Frequent Items\\\\\\\":\\\\\\\"\\\\\\\"\\\"}, \\\"align\\\": {\\\"value\\\": \\\"left\\\"}, \\\"fontWeight\\\": {\\\"value\\\": \\\"bold\\\"}, \\\"fontSize\\\": {\\\"value\\\": 11}, \\\"dx\\\": {\\\"value\\\": 0, \\\"offset\\\": 0}, \\\"dy\\\": {\\\"value\\\": 0, \\\"offset\\\": 0}, \\\"y\\\": {\\\"value\\\": 200}, \\\"x\\\": {\\\"value\\\": 500}, \\\"font\\\": {\\\"value\\\": \\\"AvenirNext-Medium\\\"}, \\\"fill\\\": {\\\"value\\\": \\\"#4A4A4A\\\"}}}, \\\"type\\\": \\\"text\\\", \\\"from\\\": {\\\"data\\\": \\\"data_2\\\"}}, {\\\"encode\\\": {\\\"update\\\": {\\\"y\\\": {\\\"field\\\": \\\"c_first_item\\\"}, \\\"x\\\": {\\\"signal\\\": \\\"datum[\\\\\\\"c_x_axis_back\\\\\\\"]+487\\\"}}, \\\"enter\\\": {\\\"fontStyle\\\": {\\\"value\\\": \\\"normal\\\"}, \\\"angle\\\": {\\\"value\\\": 0}, \\\"baseline\\\": {\\\"value\\\": \\\"middle\\\"}, \\\"clip\\\": {\\\"value\\\": true}, \\\"text\\\": {\\\"signal\\\": \\\"((datum[\\\\\\\"categorical\\\\\\\"].length >= 1) &amp;&amp; (toString(datum[\\\\\\\"type\\\\\\\"]) == \\\\\\\"str\\\\\\\"))? toString(datum[\\\\\\\"categorical\\\\\\\"][0][\\\\\\\"label\\\\\\\"]):\\\\\\\"\\\\\\\"\\\"}, \\\"align\\\": {\\\"value\\\": \\\"left\\\"}, \\\"fontWeight\\\": {\\\"value\\\": \\\"normal\\\"}, \\\"fontSize\\\": {\\\"value\\\": 11}, \\\"dx\\\": {\\\"value\\\": 0, \\\"offset\\\": 0}, \\\"dy\\\": {\\\"value\\\": 0, \\\"offset\\\": 0}, \\\"y\\\": {\\\"value\\\": 200}, \\\"x\\\": {\\\"value\\\": 520}, \\\"font\\\": {\\\"value\\\": \\\"AvenirNext-Medium\\\"}, \\\"fill\\\": {\\\"value\\\": \\\"#4A4A4A\\\"}}}, \\\"type\\\": \\\"text\\\", \\\"from\\\": {\\\"data\\\": \\\"data_2\\\"}}, {\\\"encode\\\": {\\\"update\\\": {\\\"y\\\": {\\\"field\\\": \\\"c_second_item\\\"}, \\\"x\\\": {\\\"signal\\\": \\\"datum[\\\\\\\"c_x_axis_back\\\\\\\"]+487\\\"}}, \\\"enter\\\": {\\\"fontStyle\\\": {\\\"value\\\": \\\"normal\\\"}, \\\"angle\\\": {\\\"value\\\": 0}, \\\"baseline\\\": {\\\"value\\\": \\\"middle\\\"}, \\\"clip\\\": {\\\"value\\\": true}, \\\"text\\\": {\\\"signal\\\": \\\"((datum[\\\\\\\"categorical\\\\\\\"].length >= 2) &amp;&amp; (toString(datum[\\\\\\\"type\\\\\\\"]) == \\\\\\\"str\\\\\\\"))? toString(datum[\\\\\\\"categorical\\\\\\\"][1][\\\\\\\"label\\\\\\\"]):\\\\\\\"\\\\\\\"\\\"}, \\\"align\\\": {\\\"value\\\": \\\"left\\\"}, \\\"fontWeight\\\": {\\\"value\\\": \\\"normal\\\"}, \\\"fontSize\\\": {\\\"value\\\": 11}, \\\"dx\\\": {\\\"value\\\": 0, \\\"offset\\\": 0}, \\\"dy\\\": {\\\"value\\\": 0, \\\"offset\\\": 0}, \\\"y\\\": {\\\"value\\\": 200}, \\\"x\\\": {\\\"value\\\": 520}, \\\"font\\\": {\\\"value\\\": \\\"AvenirNext-Medium\\\"}, \\\"fill\\\": {\\\"value\\\": \\\"#4A4A4A\\\"}}}, \\\"type\\\": \\\"text\\\", \\\"from\\\": {\\\"data\\\": \\\"data_2\\\"}}, {\\\"encode\\\": {\\\"update\\\": {\\\"y\\\": {\\\"field\\\": \\\"c_third_item\\\"}, \\\"x\\\": {\\\"signal\\\": \\\"datum[\\\\\\\"c_x_axis_back\\\\\\\"]+487\\\"}}, \\\"enter\\\": {\\\"fontStyle\\\": {\\\"value\\\": \\\"normal\\\"}, \\\"angle\\\": {\\\"value\\\": 0}, \\\"baseline\\\": {\\\"value\\\": \\\"middle\\\"}, \\\"clip\\\": {\\\"value\\\": true}, \\\"text\\\": {\\\"signal\\\": \\\"((datum[\\\\\\\"categorical\\\\\\\"].length >= 3) &amp;&amp; (toString(datum[\\\\\\\"type\\\\\\\"]) == \\\\\\\"str\\\\\\\"))? toString(datum[\\\\\\\"categorical\\\\\\\"][2][\\\\\\\"label\\\\\\\"]):\\\\\\\"\\\\\\\"\\\"}, \\\"align\\\": {\\\"value\\\": \\\"left\\\"}, \\\"fontWeight\\\": {\\\"value\\\": \\\"normal\\\"}, \\\"fontSize\\\": {\\\"value\\\": 11}, \\\"dx\\\": {\\\"value\\\": 0, \\\"offset\\\": 0}, \\\"dy\\\": {\\\"value\\\": 0, \\\"offset\\\": 0}, \\\"y\\\": {\\\"value\\\": 200}, \\\"x\\\": {\\\"value\\\": 520}, \\\"font\\\": {\\\"value\\\": \\\"AvenirNext-Medium\\\"}, \\\"fill\\\": {\\\"value\\\": \\\"#4A4A4A\\\"}}}, \\\"type\\\": \\\"text\\\", \\\"from\\\": {\\\"data\\\": \\\"data_2\\\"}}, {\\\"encode\\\": {\\\"update\\\": {\\\"y\\\": {\\\"field\\\": \\\"c_fourth_item\\\"}, \\\"x\\\": {\\\"signal\\\": \\\"datum[\\\\\\\"c_x_axis_back\\\\\\\"]+487\\\"}}, \\\"enter\\\": {\\\"fontStyle\\\": {\\\"value\\\": \\\"normal\\\"}, \\\"angle\\\": {\\\"value\\\": 0}, \\\"baseline\\\": {\\\"value\\\": \\\"middle\\\"}, \\\"clip\\\": {\\\"value\\\": true}, \\\"text\\\": {\\\"signal\\\": \\\"((datum[\\\\\\\"categorical\\\\\\\"].length >= 4) &amp;&amp; (toString(datum[\\\\\\\"type\\\\\\\"]) == \\\\\\\"str\\\\\\\"))? toString(datum[\\\\\\\"categorical\\\\\\\"][3][\\\\\\\"label\\\\\\\"]):\\\\\\\"\\\\\\\"\\\"}, \\\"align\\\": {\\\"value\\\": \\\"left\\\"}, \\\"fontWeight\\\": {\\\"value\\\": \\\"normal\\\"}, \\\"fontSize\\\": {\\\"value\\\": 11}, \\\"dx\\\": {\\\"value\\\": 0, \\\"offset\\\": 0}, \\\"dy\\\": {\\\"value\\\": 0, \\\"offset\\\": 0}, \\\"y\\\": {\\\"value\\\": 200}, \\\"x\\\": {\\\"value\\\": 520}, \\\"font\\\": {\\\"value\\\": \\\"AvenirNext-Medium\\\"}, \\\"fill\\\": {\\\"value\\\": \\\"#4A4A4A\\\"}}}, \\\"type\\\": \\\"text\\\", \\\"from\\\": {\\\"data\\\": \\\"data_2\\\"}}, {\\\"encode\\\": {\\\"update\\\": {\\\"y\\\": {\\\"field\\\": \\\"c_fifth_item\\\"}, \\\"x\\\": {\\\"signal\\\": \\\"datum[\\\\\\\"c_x_axis_back\\\\\\\"]+487\\\"}}, \\\"enter\\\": {\\\"fontStyle\\\": {\\\"value\\\": \\\"normal\\\"}, \\\"angle\\\": {\\\"value\\\": 0}, \\\"baseline\\\": {\\\"value\\\": \\\"middle\\\"}, \\\"clip\\\": {\\\"value\\\": true}, \\\"text\\\": {\\\"signal\\\": \\\"((datum[\\\\\\\"categorical\\\\\\\"].length >= 5) &amp;&amp; (toString(datum[\\\\\\\"type\\\\\\\"]) == \\\\\\\"str\\\\\\\"))? toString(datum[\\\\\\\"categorical\\\\\\\"][4][\\\\\\\"label\\\\\\\"]):\\\\\\\"\\\\\\\"\\\"}, \\\"align\\\": {\\\"value\\\": \\\"left\\\"}, \\\"fontWeight\\\": {\\\"value\\\": \\\"normal\\\"}, \\\"fontSize\\\": {\\\"value\\\": 11}, \\\"dx\\\": {\\\"value\\\": 0, \\\"offset\\\": 0}, \\\"dy\\\": {\\\"value\\\": 0, \\\"offset\\\": 0}, \\\"y\\\": {\\\"value\\\": 200}, \\\"x\\\": {\\\"value\\\": 520}, \\\"font\\\": {\\\"value\\\": \\\"AvenirNext-Medium\\\"}, \\\"fill\\\": {\\\"value\\\": \\\"#4A4A4A\\\"}}}, \\\"type\\\": \\\"text\\\", \\\"from\\\": {\\\"data\\\": \\\"data_2\\\"}}, {\\\"encode\\\": {\\\"update\\\": {\\\"y\\\": {\\\"field\\\": \\\"c_first_item\\\"}, \\\"x\\\": {\\\"signal\\\": \\\"datum[\\\\\\\"c_x_axis_back\\\\\\\"]+667\\\"}}, \\\"enter\\\": {\\\"fontStyle\\\": {\\\"value\\\": \\\"normal\\\"}, \\\"angle\\\": {\\\"value\\\": 0}, \\\"baseline\\\": {\\\"value\\\": \\\"middle\\\"}, \\\"clip\\\": {\\\"value\\\": true}, \\\"text\\\": {\\\"signal\\\": \\\"((datum[\\\\\\\"categorical\\\\\\\"].length >= 1) &amp;&amp; (toString(datum[\\\\\\\"type\\\\\\\"]) == \\\\\\\"str\\\\\\\"))? toString(datum[\\\\\\\"categorical\\\\\\\"][0][\\\\\\\"count\\\\\\\"]):\\\\\\\"\\\\\\\"\\\"}, \\\"align\\\": {\\\"value\\\": \\\"right\\\"}, \\\"fontWeight\\\": {\\\"value\\\": \\\"normal\\\"}, \\\"fontSize\\\": {\\\"value\\\": 11}, \\\"dx\\\": {\\\"value\\\": 0, \\\"offset\\\": 0}, \\\"dy\\\": {\\\"value\\\": 0, \\\"offset\\\": 0}, \\\"y\\\": {\\\"value\\\": 200}, \\\"x\\\": {\\\"value\\\": 700}, \\\"font\\\": {\\\"value\\\": \\\"AvenirNext-Medium\\\"}, \\\"fill\\\": {\\\"value\\\": \\\"#7A7A7A\\\"}}}, \\\"type\\\": \\\"text\\\", \\\"from\\\": {\\\"data\\\": \\\"data_2\\\"}}, {\\\"encode\\\": {\\\"update\\\": {\\\"y\\\": {\\\"field\\\": \\\"c_second_item\\\"}, \\\"x\\\": {\\\"signal\\\": \\\"datum[\\\\\\\"c_x_axis_back\\\\\\\"]+667\\\"}}, \\\"enter\\\": {\\\"fontStyle\\\": {\\\"value\\\": \\\"normal\\\"}, \\\"angle\\\": {\\\"value\\\": 0}, \\\"baseline\\\": {\\\"value\\\": \\\"middle\\\"}, \\\"clip\\\": {\\\"value\\\": true}, \\\"text\\\": {\\\"signal\\\": \\\"((datum[\\\\\\\"categorical\\\\\\\"].length >= 2) &amp;&amp; (toString(datum[\\\\\\\"type\\\\\\\"]) == \\\\\\\"str\\\\\\\"))? toString(datum[\\\\\\\"categorical\\\\\\\"][1][\\\\\\\"count\\\\\\\"]):\\\\\\\"\\\\\\\"\\\"}, \\\"align\\\": {\\\"value\\\": \\\"right\\\"}, \\\"fontWeight\\\": {\\\"value\\\": \\\"normal\\\"}, \\\"fontSize\\\": {\\\"value\\\": 10}, \\\"dx\\\": {\\\"value\\\": 0, \\\"offset\\\": 0}, \\\"dy\\\": {\\\"value\\\": 0, \\\"offset\\\": 0}, \\\"y\\\": {\\\"value\\\": 200}, \\\"x\\\": {\\\"value\\\": 700}, \\\"font\\\": {\\\"value\\\": \\\"AvenirNext-Medium\\\"}, \\\"fill\\\": {\\\"value\\\": \\\"#7A7A7A\\\"}}}, \\\"type\\\": \\\"text\\\", \\\"from\\\": {\\\"data\\\": \\\"data_2\\\"}}, {\\\"encode\\\": {\\\"update\\\": {\\\"y\\\": {\\\"field\\\": \\\"c_third_item\\\"}, \\\"x\\\": {\\\"signal\\\": \\\"datum[\\\\\\\"c_x_axis_back\\\\\\\"]+667\\\"}}, \\\"enter\\\": {\\\"fontStyle\\\": {\\\"value\\\": \\\"normal\\\"}, \\\"angle\\\": {\\\"value\\\": 0}, \\\"baseline\\\": {\\\"value\\\": \\\"middle\\\"}, \\\"clip\\\": {\\\"value\\\": true}, \\\"text\\\": {\\\"signal\\\": \\\"((datum[\\\\\\\"categorical\\\\\\\"].length >= 3) &amp;&amp; (toString(datum[\\\\\\\"type\\\\\\\"]) == \\\\\\\"str\\\\\\\"))? toString(datum[\\\\\\\"categorical\\\\\\\"][2][\\\\\\\"count\\\\\\\"]):\\\\\\\"\\\\\\\"\\\"}, \\\"align\\\": {\\\"value\\\": \\\"right\\\"}, \\\"fontWeight\\\": {\\\"value\\\": \\\"normal\\\"}, \\\"fontSize\\\": {\\\"value\\\": 10}, \\\"dx\\\": {\\\"value\\\": 0, \\\"offset\\\": 0}, \\\"dy\\\": {\\\"value\\\": 0, \\\"offset\\\": 0}, \\\"y\\\": {\\\"value\\\": 200}, \\\"x\\\": {\\\"value\\\": 700}, \\\"font\\\": {\\\"value\\\": \\\"AvenirNext-Medium\\\"}, \\\"fill\\\": {\\\"value\\\": \\\"#7A7A7A\\\"}}}, \\\"type\\\": \\\"text\\\", \\\"from\\\": {\\\"data\\\": \\\"data_2\\\"}}, {\\\"encode\\\": {\\\"update\\\": {\\\"y\\\": {\\\"field\\\": \\\"c_fourth_item\\\"}, \\\"x\\\": {\\\"signal\\\": \\\"datum[\\\\\\\"c_x_axis_back\\\\\\\"]+667\\\"}}, \\\"enter\\\": {\\\"fontStyle\\\": {\\\"value\\\": \\\"normal\\\"}, \\\"angle\\\": {\\\"value\\\": 0}, \\\"baseline\\\": {\\\"value\\\": \\\"middle\\\"}, \\\"clip\\\": {\\\"value\\\": true}, \\\"text\\\": {\\\"signal\\\": \\\"((datum[\\\\\\\"categorical\\\\\\\"].length >= 4) &amp;&amp; (toString(datum[\\\\\\\"type\\\\\\\"]) == \\\\\\\"str\\\\\\\"))? toString(datum[\\\\\\\"categorical\\\\\\\"][3][\\\\\\\"count\\\\\\\"]):\\\\\\\"\\\\\\\"\\\"}, \\\"align\\\": {\\\"value\\\": \\\"right\\\"}, \\\"fontWeight\\\": {\\\"value\\\": \\\"normal\\\"}, \\\"fontSize\\\": {\\\"value\\\": 10}, \\\"dx\\\": {\\\"value\\\": 0, \\\"offset\\\": 0}, \\\"dy\\\": {\\\"value\\\": 0, \\\"offset\\\": 0}, \\\"y\\\": {\\\"value\\\": 200}, \\\"x\\\": {\\\"value\\\": 700}, \\\"font\\\": {\\\"value\\\": \\\"AvenirNext-Medium\\\"}, \\\"fill\\\": {\\\"value\\\": \\\"#7A7A7A\\\"}}}, \\\"type\\\": \\\"text\\\", \\\"from\\\": {\\\"data\\\": \\\"data_2\\\"}}, {\\\"encode\\\": {\\\"update\\\": {\\\"y\\\": {\\\"field\\\": \\\"c_fifth_item\\\"}, \\\"x\\\": {\\\"signal\\\": \\\"datum[\\\\\\\"c_x_axis_back\\\\\\\"]+667\\\"}}, \\\"enter\\\": {\\\"fontStyle\\\": {\\\"value\\\": \\\"normal\\\"}, \\\"angle\\\": {\\\"value\\\": 0}, \\\"baseline\\\": {\\\"value\\\": \\\"middle\\\"}, \\\"clip\\\": {\\\"value\\\": true}, \\\"text\\\": {\\\"signal\\\": \\\"((datum[\\\\\\\"categorical\\\\\\\"].length >= 5) &amp;&amp; (toString(datum[\\\\\\\"type\\\\\\\"]) == \\\\\\\"str\\\\\\\"))? toString(datum[\\\\\\\"categorical\\\\\\\"][4][\\\\\\\"count\\\\\\\"]):\\\\\\\"\\\\\\\"\\\"}, \\\"align\\\": {\\\"value\\\": \\\"right\\\"}, \\\"fontWeight\\\": {\\\"value\\\": \\\"normal\\\"}, \\\"fontSize\\\": {\\\"value\\\": 10}, \\\"dx\\\": {\\\"value\\\": 0, \\\"offset\\\": 0}, \\\"dy\\\": {\\\"value\\\": 0, \\\"offset\\\": 0}, \\\"y\\\": {\\\"value\\\": 200}, \\\"x\\\": {\\\"value\\\": 700}, \\\"font\\\": {\\\"value\\\": \\\"AvenirNext-Medium\\\"}, \\\"fill\\\": {\\\"value\\\": \\\"#7A7A7A\\\"}}}, \\\"type\\\": \\\"text\\\", \\\"from\\\": {\\\"data\\\": \\\"data_2\\\"}}, {\\\"encode\\\": {\\\"update\\\": {\\\"y\\\": {\\\"field\\\": \\\"c_mean\\\"}, \\\"x\\\": {\\\"signal\\\": \\\"datum[\\\\\\\"c_x_axis_back\\\\\\\"]+467\\\"}}, \\\"enter\\\": {\\\"fontStyle\\\": {\\\"value\\\": \\\"normal\\\"}, \\\"angle\\\": {\\\"value\\\": 0}, \\\"baseline\\\": {\\\"value\\\": \\\"middle\\\"}, \\\"clip\\\": {\\\"value\\\": true}, \\\"text\\\": {\\\"signal\\\": \\\"(toString(datum[\\\\\\\"type\\\\\\\"]) == \\\\\\\"integer\\\\\\\" || toString(datum[\\\\\\\"type\\\\\\\"]) == \\\\\\\"float\\\\\\\")? \\\\\\\"Mean:\\\\\\\":\\\\\\\"\\\\\\\"\\\"}, \\\"align\\\": {\\\"value\\\": \\\"left\\\"}, \\\"fontWeight\\\": {\\\"value\\\": \\\"bold\\\"}, \\\"fontSize\\\": {\\\"value\\\": 11}, \\\"dx\\\": {\\\"value\\\": 0, \\\"offset\\\": 0}, \\\"dy\\\": {\\\"value\\\": 0, \\\"offset\\\": 0}, \\\"y\\\": {\\\"value\\\": 200}, \\\"x\\\": {\\\"value\\\": 500}, \\\"font\\\": {\\\"value\\\": \\\"AvenirNext-Medium\\\"}, \\\"fill\\\": {\\\"value\\\": \\\"#4A4A4A\\\"}}}, \\\"type\\\": \\\"text\\\", \\\"from\\\": {\\\"data\\\": \\\"data_2\\\"}}, {\\\"encode\\\": {\\\"update\\\": {\\\"y\\\": {\\\"field\\\": \\\"c_min\\\"}, \\\"x\\\": {\\\"signal\\\": \\\"datum[\\\\\\\"c_x_axis_back\\\\\\\"]+467\\\"}}, \\\"enter\\\": {\\\"fontStyle\\\": {\\\"value\\\": \\\"normal\\\"}, \\\"angle\\\": {\\\"value\\\": 0}, \\\"baseline\\\": {\\\"value\\\": \\\"middle\\\"}, \\\"text\\\": {\\\"signal\\\": \\\"(toString(datum[\\\\\\\"type\\\\\\\"]) == \\\\\\\"integer\\\\\\\" || toString(datum[\\\\\\\"type\\\\\\\"]) == \\\\\\\"float\\\\\\\")? \\\\\\\"Min:\\\\\\\":\\\\\\\"\\\\\\\"\\\"}, \\\"align\\\": {\\\"value\\\": \\\"left\\\"}, \\\"fontWeight\\\": {\\\"value\\\": \\\"bold\\\"}, \\\"fontSize\\\": {\\\"value\\\": 11}, \\\"dx\\\": {\\\"value\\\": 0, \\\"offset\\\": 0}, \\\"dy\\\": {\\\"value\\\": 0, \\\"offset\\\": 0}, \\\"y\\\": {\\\"value\\\": 220}, \\\"x\\\": {\\\"value\\\": 500}, \\\"font\\\": {\\\"value\\\": \\\"AvenirNext-Medium\\\"}, \\\"fill\\\": {\\\"value\\\": \\\"#4A4A4A\\\"}}}, \\\"type\\\": \\\"text\\\", \\\"from\\\": {\\\"data\\\": \\\"data_2\\\"}}, {\\\"encode\\\": {\\\"update\\\": {\\\"y\\\": {\\\"field\\\": \\\"c_max\\\"}, \\\"x\\\": {\\\"signal\\\": \\\"datum[\\\\\\\"c_x_axis_back\\\\\\\"]+467\\\"}}, \\\"enter\\\": {\\\"fontStyle\\\": {\\\"value\\\": \\\"normal\\\"}, \\\"angle\\\": {\\\"value\\\": 0}, \\\"baseline\\\": {\\\"value\\\": \\\"middle\\\"}, \\\"text\\\": {\\\"signal\\\": \\\"(toString(datum[\\\\\\\"type\\\\\\\"]) == \\\\\\\"integer\\\\\\\" || toString(datum[\\\\\\\"type\\\\\\\"]) == \\\\\\\"float\\\\\\\")? \\\\\\\"Max:\\\\\\\":\\\\\\\"\\\\\\\"\\\"}, \\\"align\\\": {\\\"value\\\": \\\"left\\\"}, \\\"fontWeight\\\": {\\\"value\\\": \\\"bold\\\"}, \\\"fontSize\\\": {\\\"value\\\": 11}, \\\"dx\\\": {\\\"value\\\": 0, \\\"offset\\\": 0}, \\\"dy\\\": {\\\"value\\\": 0, \\\"offset\\\": 0}, \\\"y\\\": {\\\"value\\\": 240}, \\\"x\\\": {\\\"value\\\": 500}, \\\"font\\\": {\\\"value\\\": \\\"AvenirNext-Medium\\\"}, \\\"fill\\\": {\\\"value\\\": \\\"#4A4A4A\\\"}}}, \\\"type\\\": \\\"text\\\", \\\"from\\\": {\\\"data\\\": \\\"data_2\\\"}}, {\\\"encode\\\": {\\\"update\\\": {\\\"y\\\": {\\\"field\\\": \\\"c_median\\\"}, \\\"x\\\": {\\\"signal\\\": \\\"datum[\\\\\\\"c_x_axis_back\\\\\\\"]+467\\\"}}, \\\"enter\\\": {\\\"fontStyle\\\": {\\\"value\\\": \\\"normal\\\"}, \\\"angle\\\": {\\\"value\\\": 0}, \\\"baseline\\\": {\\\"value\\\": \\\"middle\\\"}, \\\"text\\\": {\\\"signal\\\": \\\"(toString(datum[\\\\\\\"type\\\\\\\"]) == \\\\\\\"integer\\\\\\\" || toString(datum[\\\\\\\"type\\\\\\\"]) == \\\\\\\"float\\\\\\\")? \\\\\\\"Median:\\\\\\\":\\\\\\\"\\\\\\\"\\\"}, \\\"align\\\": {\\\"value\\\": \\\"left\\\"}, \\\"fontWeight\\\": {\\\"value\\\": \\\"bold\\\"}, \\\"fontSize\\\": {\\\"value\\\": 11}, \\\"dx\\\": {\\\"value\\\": 0, \\\"offset\\\": 0}, \\\"dy\\\": {\\\"value\\\": 0, \\\"offset\\\": 0}, \\\"y\\\": {\\\"value\\\": 260}, \\\"x\\\": {\\\"value\\\": 500}, \\\"font\\\": {\\\"value\\\": \\\"AvenirNext-Medium\\\"}, \\\"fill\\\": {\\\"value\\\": \\\"#4A4A4A\\\"}}}, \\\"type\\\": \\\"text\\\", \\\"from\\\": {\\\"data\\\": \\\"data_2\\\"}}, {\\\"encode\\\": {\\\"update\\\": {\\\"y\\\": {\\\"field\\\": \\\"c_stdev\\\"}, \\\"x\\\": {\\\"signal\\\": \\\"datum[\\\\\\\"c_x_axis_back\\\\\\\"]+467\\\"}}, \\\"enter\\\": {\\\"fontStyle\\\": {\\\"value\\\": \\\"normal\\\"}, \\\"angle\\\": {\\\"value\\\": 0}, \\\"baseline\\\": {\\\"value\\\": \\\"middle\\\"}, \\\"text\\\": {\\\"signal\\\": \\\"(toString(datum[\\\\\\\"type\\\\\\\"]) == \\\\\\\"integer\\\\\\\" || toString(datum[\\\\\\\"type\\\\\\\"]) == \\\\\\\"float\\\\\\\")? \\\\\\\"St. Dev:\\\\\\\":\\\\\\\"\\\\\\\"\\\"}, \\\"align\\\": {\\\"value\\\": \\\"left\\\"}, \\\"fontWeight\\\": {\\\"value\\\": \\\"bold\\\"}, \\\"fontSize\\\": {\\\"value\\\": 11}, \\\"dx\\\": {\\\"value\\\": 0, \\\"offset\\\": 0}, \\\"dy\\\": {\\\"value\\\": 0, \\\"offset\\\": 0}, \\\"y\\\": {\\\"value\\\": 280}, \\\"x\\\": {\\\"value\\\": 500}, \\\"font\\\": {\\\"value\\\": \\\"AvenirNext-Medium\\\"}, \\\"fill\\\": {\\\"value\\\": \\\"#4A4A4A\\\"}}}, \\\"type\\\": \\\"text\\\", \\\"from\\\": {\\\"data\\\": \\\"data_2\\\"}}, {\\\"encode\\\": {\\\"update\\\": {\\\"y\\\": {\\\"field\\\": \\\"c_mean_val\\\"}, \\\"x\\\": {\\\"signal\\\": \\\"datum[\\\\\\\"c_x_axis_back\\\\\\\"]+667\\\"}}, \\\"enter\\\": {\\\"fontStyle\\\": {\\\"value\\\": \\\"normal\\\"}, \\\"angle\\\": {\\\"value\\\": 0}, \\\"baseline\\\": {\\\"value\\\": \\\"middle\\\"}, \\\"text\\\": {\\\"signal\\\": \\\"(toString(datum[\\\\\\\"type\\\\\\\"]) == \\\\\\\"integer\\\\\\\" || toString(datum[\\\\\\\"type\\\\\\\"]) == \\\\\\\"float\\\\\\\")?toString(format(datum[\\\\\\\"mean\\\\\\\"], \\\\\\\",\\\\\\\")):\\\\\\\"\\\\\\\"\\\"}, \\\"align\\\": {\\\"value\\\": \\\"right\\\"}, \\\"fontWeight\\\": {\\\"value\\\": \\\"normal\\\"}, \\\"fontSize\\\": {\\\"value\\\": 10}, \\\"dx\\\": {\\\"value\\\": 0, \\\"offset\\\": 0}, \\\"dy\\\": {\\\"value\\\": 0, \\\"offset\\\": 0}, \\\"y\\\": {\\\"value\\\": 198}, \\\"x\\\": {\\\"value\\\": 700}, \\\"font\\\": {\\\"value\\\": \\\"AvenirNext-Medium\\\"}, \\\"fill\\\": {\\\"value\\\": \\\"#6A6A6A\\\"}}}, \\\"type\\\": \\\"text\\\", \\\"from\\\": {\\\"data\\\": \\\"data_2\\\"}}, {\\\"encode\\\": {\\\"update\\\": {\\\"y\\\": {\\\"field\\\": \\\"c_min_val\\\"}, \\\"x\\\": {\\\"signal\\\": \\\"datum[\\\\\\\"c_x_axis_back\\\\\\\"]+667\\\"}}, \\\"enter\\\": {\\\"fontStyle\\\": {\\\"value\\\": \\\"normal\\\"}, \\\"angle\\\": {\\\"value\\\": 0}, \\\"baseline\\\": {\\\"value\\\": \\\"middle\\\"}, \\\"text\\\": {\\\"signal\\\": \\\"(toString(datum[\\\\\\\"type\\\\\\\"]) == \\\\\\\"integer\\\\\\\" || toString(datum[\\\\\\\"type\\\\\\\"]) == \\\\\\\"float\\\\\\\")?toString(format(datum[\\\\\\\"min\\\\\\\"], \\\\\\\",\\\\\\\")):\\\\\\\"\\\\\\\"\\\"}, \\\"align\\\": {\\\"value\\\": \\\"right\\\"}, \\\"fontWeight\\\": {\\\"value\\\": \\\"normal\\\"}, \\\"fontSize\\\": {\\\"value\\\": 10}, \\\"dx\\\": {\\\"value\\\": 0, \\\"offset\\\": 0}, \\\"dy\\\": {\\\"value\\\": 0, \\\"offset\\\": 0}, \\\"y\\\": {\\\"value\\\": 218}, \\\"x\\\": {\\\"value\\\": 700}, \\\"font\\\": {\\\"value\\\": \\\"AvenirNext-Medium\\\"}, \\\"fill\\\": {\\\"value\\\": \\\"#6A6A6A\\\"}}}, \\\"type\\\": \\\"text\\\", \\\"from\\\": {\\\"data\\\": \\\"data_2\\\"}}, {\\\"encode\\\": {\\\"update\\\": {\\\"y\\\": {\\\"field\\\": \\\"c_max_val\\\"}, \\\"x\\\": {\\\"signal\\\": \\\"datum[\\\\\\\"c_x_axis_back\\\\\\\"]+667\\\"}}, \\\"enter\\\": {\\\"fontStyle\\\": {\\\"value\\\": \\\"normal\\\"}, \\\"angle\\\": {\\\"value\\\": 0}, \\\"baseline\\\": {\\\"value\\\": \\\"middle\\\"}, \\\"text\\\": {\\\"signal\\\": \\\"(toString(datum[\\\\\\\"type\\\\\\\"]) == \\\\\\\"integer\\\\\\\" || toString(datum[\\\\\\\"type\\\\\\\"]) == \\\\\\\"float\\\\\\\")?toString(format(datum[\\\\\\\"max\\\\\\\"], \\\\\\\",\\\\\\\")):\\\\\\\"\\\\\\\"\\\"}, \\\"align\\\": {\\\"value\\\": \\\"right\\\"}, \\\"fontWeight\\\": {\\\"value\\\": \\\"normal\\\"}, \\\"fontSize\\\": {\\\"value\\\": 10}, \\\"dx\\\": {\\\"value\\\": 0, \\\"offset\\\": 0}, \\\"dy\\\": {\\\"value\\\": 0, \\\"offset\\\": 0}, \\\"y\\\": {\\\"value\\\": 238}, \\\"x\\\": {\\\"value\\\": 700}, \\\"font\\\": {\\\"value\\\": \\\"AvenirNext-Medium\\\"}, \\\"fill\\\": {\\\"value\\\": \\\"#6A6A6A\\\"}}}, \\\"type\\\": \\\"text\\\", \\\"from\\\": {\\\"data\\\": \\\"data_2\\\"}}, {\\\"encode\\\": {\\\"update\\\": {\\\"y\\\": {\\\"field\\\": \\\"c_median_val\\\"}, \\\"x\\\": {\\\"signal\\\": \\\"datum[\\\\\\\"c_x_axis_back\\\\\\\"]+667\\\"}}, \\\"enter\\\": {\\\"fontStyle\\\": {\\\"value\\\": \\\"normal\\\"}, \\\"angle\\\": {\\\"value\\\": 0}, \\\"baseline\\\": {\\\"value\\\": \\\"middle\\\"}, \\\"text\\\": {\\\"signal\\\": \\\"(toString(datum[\\\\\\\"type\\\\\\\"]) == \\\\\\\"integer\\\\\\\" || toString(datum[\\\\\\\"type\\\\\\\"]) == \\\\\\\"float\\\\\\\")?toString(format(datum[\\\\\\\"median\\\\\\\"], \\\\\\\",\\\\\\\")):\\\\\\\"\\\\\\\"\\\"}, \\\"align\\\": {\\\"value\\\": \\\"right\\\"}, \\\"fontWeight\\\": {\\\"value\\\": \\\"normal\\\"}, \\\"fontSize\\\": {\\\"value\\\": 10}, \\\"dx\\\": {\\\"value\\\": 0, \\\"offset\\\": 0}, \\\"dy\\\": {\\\"value\\\": 0, \\\"offset\\\": 0}, \\\"y\\\": {\\\"value\\\": 258}, \\\"x\\\": {\\\"value\\\": 700}, \\\"font\\\": {\\\"value\\\": \\\"AvenirNext-Medium\\\"}, \\\"fill\\\": {\\\"value\\\": \\\"#6A6A6A\\\"}}}, \\\"type\\\": \\\"text\\\", \\\"from\\\": {\\\"data\\\": \\\"data_2\\\"}}, {\\\"encode\\\": {\\\"update\\\": {\\\"y\\\": {\\\"field\\\": \\\"c_stdev_val\\\"}, \\\"x\\\": {\\\"signal\\\": \\\"datum[\\\\\\\"c_x_axis_back\\\\\\\"]+667\\\"}}, \\\"enter\\\": {\\\"fontStyle\\\": {\\\"value\\\": \\\"normal\\\"}, \\\"angle\\\": {\\\"value\\\": 0}, \\\"baseline\\\": {\\\"value\\\": \\\"middle\\\"}, \\\"text\\\": {\\\"signal\\\": \\\"(toString(datum[\\\\\\\"type\\\\\\\"]) == \\\\\\\"integer\\\\\\\" || toString(datum[\\\\\\\"type\\\\\\\"]) == \\\\\\\"float\\\\\\\")?toString(format(datum[\\\\\\\"stdev\\\\\\\"], \\\\\\\",\\\\\\\")):\\\\\\\"\\\\\\\"\\\"}, \\\"align\\\": {\\\"value\\\": \\\"right\\\"}, \\\"fontWeight\\\": {\\\"value\\\": \\\"normal\\\"}, \\\"fontSize\\\": {\\\"value\\\": 10}, \\\"dx\\\": {\\\"value\\\": 0, \\\"offset\\\": 0}, \\\"dy\\\": {\\\"value\\\": 0, \\\"offset\\\": 0}, \\\"y\\\": {\\\"value\\\": 278}, \\\"x\\\": {\\\"value\\\": 700}, \\\"font\\\": {\\\"value\\\": \\\"AvenirNext-Medium\\\"}, \\\"fill\\\": {\\\"value\\\": \\\"#6A6A6A\\\"}}}, \\\"type\\\": \\\"text\\\", \\\"from\\\": {\\\"data\\\": \\\"data_2\\\"}}, {\\\"style\\\": \\\"cell\\\", \\\"from\\\": {\\\"facet\\\": {\\\"field\\\": \\\"numeric\\\", \\\"data\\\": \\\"data_2\\\", \\\"name\\\": \\\"new_data\\\"}}, \\\"scales\\\": [{\\\"domain\\\": {\\\"sort\\\": true, \\\"fields\\\": [\\\"left\\\", \\\"right\\\"], \\\"data\\\": \\\"new_data\\\"}, \\\"name\\\": \\\"x\\\", \\\"zero\\\": true, \\\"range\\\": [0, {\\\"signal\\\": \\\"width\\\"}], \\\"type\\\": \\\"linear\\\", \\\"nice\\\": true}, {\\\"domain\\\": {\\\"field\\\": \\\"count\\\", \\\"data\\\": \\\"new_data\\\"}, \\\"name\\\": \\\"y\\\", \\\"zero\\\": true, \\\"range\\\": [{\\\"signal\\\": \\\"height\\\"}, 0], \\\"type\\\": \\\"linear\\\", \\\"nice\\\": true}], \\\"axes\\\": [{\\\"scale\\\": \\\"x\\\", \\\"title\\\": \\\"Values\\\", \\\"tickCount\\\": {\\\"signal\\\": \\\"ceil(width/40)\\\"}, \\\"zindex\\\": 1, \\\"labelOverlap\\\": true, \\\"orient\\\": \\\"bottom\\\"}, {\\\"domain\\\": false, \\\"scale\\\": \\\"x\\\", \\\"ticks\\\": false, \\\"labels\\\": false, \\\"tickCount\\\": {\\\"signal\\\": \\\"ceil(width/40)\\\"}, \\\"zindex\\\": 0, \\\"grid\\\": true, \\\"minExtent\\\": 0, \\\"gridScale\\\": \\\"y\\\", \\\"orient\\\": \\\"bottom\\\", \\\"maxExtent\\\": 0}, {\\\"scale\\\": \\\"y\\\", \\\"title\\\": \\\"Count\\\", \\\"tickCount\\\": {\\\"signal\\\": \\\"ceil(height/40)\\\"}, \\\"zindex\\\": 1, \\\"labelOverlap\\\": true, \\\"orient\\\": \\\"left\\\"}, {\\\"domain\\\": false, \\\"scale\\\": \\\"y\\\", \\\"ticks\\\": false, \\\"labels\\\": false, \\\"tickCount\\\": {\\\"signal\\\": \\\"ceil(height/40)\\\"}, \\\"zindex\\\": 0, \\\"grid\\\": true, \\\"minExtent\\\": 0, \\\"gridScale\\\": \\\"x\\\", \\\"orient\\\": \\\"left\\\", \\\"maxExtent\\\": 0}], \\\"signals\\\": [{\\\"name\\\": \\\"width\\\", \\\"update\\\": \\\"250\\\"}, {\\\"name\\\": \\\"height\\\", \\\"update\\\": \\\"150\\\"}], \\\"marks\\\": [{\\\"encode\\\": {\\\"hover\\\": {\\\"fill\\\": {\\\"value\\\": \\\"#7EC2F3\\\"}}, \\\"update\\\": {\\\"x2\\\": {\\\"field\\\": \\\"right\\\", \\\"scale\\\": \\\"x\\\"}, \\\"x\\\": {\\\"field\\\": \\\"left\\\", \\\"scale\\\": \\\"x\\\"}, \\\"y2\\\": {\\\"scale\\\": \\\"y\\\", \\\"value\\\": 0}, \\\"y\\\": {\\\"field\\\": \\\"count\\\", \\\"scale\\\": \\\"y\\\"}, \\\"fill\\\": {\\\"value\\\": \\\"#108EE9\\\"}}}, \\\"from\\\": {\\\"data\\\": \\\"new_data\\\"}, \\\"style\\\": [\\\"rect\\\"], \\\"type\\\": \\\"rect\\\", \\\"name\\\": \\\"marks\\\"}], \\\"encode\\\": {\\\"update\\\": {\\\"x\\\": {\\\"signal\\\": \\\"datum[\\\\\\\"c_x_axis_back\\\\\\\"]+87\\\"}, \\\"clip\\\": {\\\"field\\\": \\\"c_clip_val\\\"}, \\\"width\\\": {\\\"field\\\": \\\"c_width_numeric_val\\\"}}, \\\"enter\\\": {\\\"strokeWidth\\\": {\\\"value\\\": 0}, \\\"height\\\": {\\\"value\\\": 150}, \\\"width\\\": {\\\"value\\\": 250}, \\\"stroke\\\": {\\\"value\\\": \\\"#000000\\\"}, \\\"fillOpacity\\\": {\\\"value\\\": 0}, \\\"y\\\": {\\\"field\\\": \\\"graph_offset\\\"}, \\\"x\\\": {\\\"value\\\": 120}, \\\"fill\\\": {\\\"value\\\": \\\"#ffffff\\\"}}}, \\\"type\\\": \\\"group\\\"}, {\\\"style\\\": \\\"cell\\\", \\\"from\\\": {\\\"facet\\\": {\\\"field\\\": \\\"categorical\\\", \\\"data\\\": \\\"data_2\\\", \\\"name\\\": \\\"data_5\\\"}}, \\\"scales\\\": [{\\\"domain\\\": {\\\"field\\\": \\\"count\\\", \\\"data\\\": \\\"data_5\\\"}, \\\"name\\\": \\\"x\\\", \\\"zero\\\": true, \\\"range\\\": [0, 250], \\\"type\\\": \\\"linear\\\", \\\"nice\\\": true}, {\\\"paddingInner\\\": 0.1, \\\"domain\\\": {\\\"sort\\\": {\\\"field\\\": \\\"label_idx\\\", \\\"order\\\": \\\"descending\\\", \\\"op\\\": \\\"mean\\\"}, \\\"field\\\": \\\"label\\\", \\\"data\\\": \\\"data_5\\\"}, \\\"name\\\": \\\"y\\\", \\\"paddingOuter\\\": 0.05, \\\"range\\\": [150, 0], \\\"type\\\": \\\"band\\\"}], \\\"axes\\\": [{\\\"scale\\\": \\\"x\\\", \\\"title\\\": \\\"Count\\\", \\\"tickCount\\\": {\\\"signal\\\": \\\"ceil(width/40)\\\"}, \\\"zindex\\\": 1, \\\"labelOverlap\\\": true, \\\"orient\\\": \\\"top\\\"}, {\\\"domain\\\": false, \\\"scale\\\": \\\"x\\\", \\\"ticks\\\": false, \\\"labels\\\": false, \\\"tickCount\\\": {\\\"signal\\\": \\\"ceil(width/40)\\\"}, \\\"zindex\\\": 0, \\\"grid\\\": true, \\\"minExtent\\\": 0, \\\"gridScale\\\": \\\"y\\\", \\\"orient\\\": \\\"top\\\", \\\"maxExtent\\\": 0}, {\\\"zindex\\\": 1, \\\"title\\\": \\\"Label\\\", \\\"scale\\\": \\\"y\\\", \\\"orient\\\": \\\"left\\\", \\\"labelOverlap\\\": true}], \\\"signals\\\": [{\\\"on\\\": [{\\\"events\\\": \\\"mousemove\\\", \\\"update\\\": \\\"isTuple(group()) ? group() : unit\\\"}], \\\"name\\\": \\\"unit\\\", \\\"value\\\": {}}, {\\\"name\\\": \\\"pts\\\", \\\"update\\\": \\\"data(\\\\\\\"pts_store\\\\\\\").length &amp;&amp; {count: data(\\\\\\\"pts_store\\\\\\\")[0].values[0]}\\\"}, {\\\"on\\\": [{\\\"force\\\": true, \\\"events\\\": [{\\\"source\\\": \\\"scope\\\", \\\"type\\\": \\\"click\\\"}], \\\"update\\\": \\\"datum &amp;&amp; item().mark.marktype !== &apos;group&apos; ? {unit: \\\\\\\"\\\\\\\", encodings: [\\\\\\\"x\\\\\\\"], fields: [\\\\\\\"count\\\\\\\"], values: [datum[\\\\\\\"count\\\\\\\"]]} : null\\\"}], \\\"name\\\": \\\"pts_tuple\\\", \\\"value\\\": {}}, {\\\"on\\\": [{\\\"events\\\": {\\\"signal\\\": \\\"pts_tuple\\\"}, \\\"update\\\": \\\"modify(\\\\\\\"pts_store\\\\\\\", pts_tuple, true)\\\"}], \\\"name\\\": \\\"pts_modify\\\"}], \\\"marks\\\": [{\\\"encode\\\": {\\\"hover\\\": {\\\"fill\\\": {\\\"value\\\": \\\"#7EC2F3\\\"}}, \\\"update\\\": {\\\"x2\\\": {\\\"scale\\\": \\\"x\\\", \\\"value\\\": 0}, \\\"x\\\": {\\\"field\\\": \\\"count\\\", \\\"scale\\\": \\\"x\\\"}, \\\"fill\\\": {\\\"value\\\": \\\"#108EE9\\\"}, \\\"y\\\": {\\\"field\\\": \\\"label\\\", \\\"scale\\\": \\\"y\\\"}, \\\"height\\\": {\\\"band\\\": true, \\\"scale\\\": \\\"y\\\"}}}, \\\"from\\\": {\\\"data\\\": \\\"data_5\\\"}, \\\"style\\\": [\\\"bar\\\"], \\\"type\\\": \\\"rect\\\", \\\"name\\\": \\\"marks\\\"}], \\\"encode\\\": {\\\"update\\\": {\\\"x\\\": {\\\"signal\\\": \\\"datum[\\\\\\\"c_x_axis_back\\\\\\\"]+137\\\"}, \\\"clip\\\": {\\\"field\\\": \\\"c_clip_val_cat\\\"}, \\\"width\\\": {\\\"field\\\": \\\"c_width_numeric_val_cat\\\"}}, \\\"enter\\\": {\\\"strokeWidth\\\": {\\\"value\\\": 0}, \\\"height\\\": {\\\"value\\\": 150}, \\\"width\\\": {\\\"value\\\": 250}, \\\"stroke\\\": {\\\"value\\\": \\\"#000000\\\"}, \\\"fillOpacity\\\": {\\\"value\\\": 0}, \\\"y\\\": {\\\"field\\\": \\\"graph_offset_categorical\\\"}, \\\"x\\\": {\\\"value\\\": 170}, \\\"fill\\\": {\\\"value\\\": \\\"#ffffff\\\"}}}, \\\"type\\\": \\\"group\\\"}], \\\"axes\\\": [], \\\"type\\\": \\\"group\\\", \\\"scales\\\": []}]}], \\\"$schema\\\": \\\"https://vega.github.io/schema/vega/v4.json\\\", \\\"data\\\": [{\\\"name\\\": \\\"pts_store\\\"}, {\\\"values\\\": [{\\\"a\\\": 0, \\\"num_row\\\": 100000, \\\"title\\\": \\\"X1\\\", \\\"max\\\": 99999.0, \\\"min\\\": 0.0, \\\"median\\\": 50016.0, \\\"num_missing\\\": 0, \\\"num_unique\\\": 100000, \\\"categorical\\\": [], \\\"numeric\\\": [{\\\"count\\\": 2885, \\\"right\\\": 2884.08, \\\"left\\\": -2358.8}, {\\\"count\\\": 5242, \\\"right\\\": 8126.96, \\\"left\\\": 2884.08}, {\\\"count\\\": 5243, \\\"right\\\": 13369.8, \\\"left\\\": 8126.96}, {\\\"count\\\": 5243, \\\"right\\\": 18612.7, \\\"left\\\": 13369.8}, {\\\"count\\\": 5243, \\\"right\\\": 23855.6, \\\"left\\\": 18612.7}, {\\\"count\\\": 5243, \\\"right\\\": 29098.5, \\\"left\\\": 23855.6}, {\\\"count\\\": 5243, \\\"right\\\": 34341.4, \\\"left\\\": 29098.5}, {\\\"count\\\": 5243, \\\"right\\\": 39584.2, \\\"left\\\": 34341.4}, {\\\"count\\\": 5243, \\\"right\\\": 44827.1, \\\"left\\\": 39584.2}, {\\\"count\\\": 5243, \\\"right\\\": 50070, \\\"left\\\": 44827.1}, {\\\"count\\\": 5242, \\\"right\\\": 55312.9, \\\"left\\\": 50070}, {\\\"count\\\": 5243, \\\"right\\\": 60555.8, \\\"left\\\": 55312.9}, {\\\"count\\\": 5243, \\\"right\\\": 65798.6, \\\"left\\\": 60555.8}, {\\\"count\\\": 5243, \\\"right\\\": 71041.5, \\\"left\\\": 65798.6}, {\\\"count\\\": 5243, \\\"right\\\": 76284.4, \\\"left\\\": 71041.5}, {\\\"count\\\": 5243, \\\"right\\\": 81527.3, \\\"left\\\": 76284.4}, {\\\"count\\\": 5243, \\\"right\\\": 86770.2, \\\"left\\\": 81527.3}, {\\\"count\\\": 5243, \\\"right\\\": 92013, \\\"left\\\": 86770.2}, {\\\"count\\\": 5242, \\\"right\\\": 97255.9, \\\"left\\\": 92013}, {\\\"count\\\": 2744, \\\"right\\\": 102499, \\\"left\\\": 97255.9}], \\\"stdev\\\": 28867.513458, \\\"type\\\": \\\"integer\\\", \\\"mean\\\": 49999.5}, {\\\"a\\\": 1, \\\"num_row\\\": 100000, \\\"title\\\": \\\"user_id\\\", \\\"max\\\": 943.0, \\\"min\\\": 1.0, \\\"median\\\": 447.0, \\\"num_missing\\\": 0, \\\"num_unique\\\": 943, \\\"categorical\\\": [], \\\"numeric\\\": [{\\\"count\\\": 4018, \\\"right\\\": 32.5, \\\"left\\\": -16.332}, {\\\"count\\\": 4166, \\\"right\\\": 81.332, \\\"left\\\": 32.5}, {\\\"count\\\": 5565, \\\"right\\\": 130.164, \\\"left\\\": 81.332}, {\\\"count\\\": 3394, \\\"right\\\": 178.996, \\\"left\\\": 130.164}, {\\\"count\\\": 5242, \\\"right\\\": 227.828, \\\"left\\\": 178.996}, {\\\"count\\\": 5612, \\\"right\\\": 276.66, \\\"left\\\": 227.828}, {\\\"count\\\": 7113, \\\"right\\\": 325.492, \\\"left\\\": 276.66}, {\\\"count\\\": 5593, \\\"right\\\": 374.324, \\\"left\\\": 325.492}, {\\\"count\\\": 6869, \\\"right\\\": 423.156, \\\"left\\\": 374.324}, {\\\"count\\\": 5647, \\\"right\\\": 471.988, \\\"left\\\": 423.156}, {\\\"count\\\": 5138, \\\"right\\\": 520.82, \\\"left\\\": 471.988}, {\\\"count\\\": 5622, \\\"right\\\": 569.652, \\\"left\\\": 520.82}, {\\\"count\\\": 3784, \\\"right\\\": 618.484, \\\"left\\\": 569.652}, {\\\"count\\\": 6227, \\\"right\\\": 667.316, \\\"left\\\": 618.484}, {\\\"count\\\": 4232, \\\"right\\\": 716.148, \\\"left\\\": 667.316}, {\\\"count\\\": 4047, \\\"right\\\": 764.98, \\\"left\\\": 716.148}, {\\\"count\\\": 4485, \\\"right\\\": 813.812, \\\"left\\\": 764.98}, {\\\"count\\\": 4242, \\\"right\\\": 862.644, \\\"left\\\": 813.812}, {\\\"count\\\": 5949, \\\"right\\\": 911.476, \\\"left\\\": 862.644}, {\\\"count\\\": 3055, \\\"right\\\": 960.308, \\\"left\\\": 911.476}], \\\"stdev\\\": 266.613087, \\\"type\\\": \\\"integer\\\", \\\"mean\\\": 462.48475}, {\\\"a\\\": 2, \\\"num_row\\\": 100000, \\\"title\\\": \\\"item_id\\\", \\\"max\\\": 1682.0, \\\"min\\\": 1.0, \\\"median\\\": 322.0, \\\"num_missing\\\": 0, \\\"num_unique\\\": 1682, \\\"categorical\\\": [], \\\"numeric\\\": [{\\\"count\\\": 11627, \\\"right\\\": 84.6129, \\\"left\\\": 0.35816}, {\\\"count\\\": 11926, \\\"right\\\": 168.868, \\\"left\\\": 84.6129}, {\\\"count\\\": 15315, \\\"right\\\": 253.122, \\\"left\\\": 168.868}, {\\\"count\\\": 13213, \\\"right\\\": 337.377, \\\"left\\\": 253.122}, {\\\"count\\\": 6363, \\\"right\\\": 421.632, \\\"left\\\": 337.377}, {\\\"count\\\": 7874, \\\"right\\\": 505.886, \\\"left\\\": 421.632}, {\\\"count\\\": 6373, \\\"right\\\": 590.141, \\\"left\\\": 505.886}, {\\\"count\\\": 5242, \\\"right\\\": 674.396, \\\"left\\\": 590.141}, {\\\"count\\\": 6062, \\\"right\\\": 758.651, \\\"left\\\": 674.396}, {\\\"count\\\": 3025, \\\"right\\\": 842.905, \\\"left\\\": 758.651}, {\\\"count\\\": 2886, \\\"right\\\": 927.16, \\\"left\\\": 842.905}, {\\\"count\\\": 2773, \\\"right\\\": 1011.41, \\\"left\\\": 927.16}, {\\\"count\\\": 2750, \\\"right\\\": 1095.67, \\\"left\\\": 1011.41}, {\\\"count\\\": 1473, \\\"right\\\": 1179.92, \\\"left\\\": 1095.67}, {\\\"count\\\": 1218, \\\"right\\\": 1264.18, \\\"left\\\": 1179.92}, {\\\"count\\\": 657, \\\"right\\\": 1348.43, \\\"left\\\": 1264.18}, {\\\"count\\\": 449, \\\"right\\\": 1432.69, \\\"left\\\": 1348.43}, {\\\"count\\\": 403, \\\"right\\\": 1516.94, \\\"left\\\": 1432.69}, {\\\"count\\\": 227, \\\"right\\\": 1601.2, \\\"left\\\": 1516.94}, {\\\"count\\\": 144, \\\"right\\\": 1685.45, \\\"left\\\": 1601.2}], \\\"stdev\\\": 330.796702, \\\"type\\\": \\\"integer\\\", \\\"mean\\\": 425.53013}, {\\\"a\\\": 3, \\\"num_row\\\": 100000, \\\"title\\\": \\\"rating\\\", \\\"max\\\": 5.0, \\\"min\\\": 1.0, \\\"median\\\": 4.0, \\\"num_missing\\\": 0, \\\"num_unique\\\": 5, \\\"categorical\\\": [], \\\"numeric\\\": [{\\\"count\\\": 6110, \\\"right\\\": 1.136, \\\"left\\\": 0.928}, {\\\"count\\\": 0, \\\"right\\\": 1.344, \\\"left\\\": 1.136}, {\\\"count\\\": 0, \\\"right\\\": 1.552, \\\"left\\\": 1.344}, {\\\"count\\\": 0, \\\"right\\\": 1.76, \\\"left\\\": 1.552}, {\\\"count\\\": 0, \\\"right\\\": 1.968, \\\"left\\\": 1.76}, {\\\"count\\\": 11370, \\\"right\\\": 2.176, \\\"left\\\": 1.968}, {\\\"count\\\": 0, \\\"right\\\": 2.384, \\\"left\\\": 2.176}, {\\\"count\\\": 0, \\\"right\\\": 2.592, \\\"left\\\": 2.384}, {\\\"count\\\": 0, \\\"right\\\": 2.8, \\\"left\\\": 2.592}, {\\\"count\\\": 27145, \\\"right\\\": 3.008, \\\"left\\\": 2.8}, {\\\"count\\\": 0, \\\"right\\\": 3.216, \\\"left\\\": 3.008}, {\\\"count\\\": 0, \\\"right\\\": 3.424, \\\"left\\\": 3.216}, {\\\"count\\\": 0, \\\"right\\\": 3.632, \\\"left\\\": 3.424}, {\\\"count\\\": 0, \\\"right\\\": 3.84, \\\"left\\\": 3.632}, {\\\"count\\\": 34174, \\\"right\\\": 4.048, \\\"left\\\": 3.84}, {\\\"count\\\": 0, \\\"right\\\": 4.256, \\\"left\\\": 4.048}, {\\\"count\\\": 0, \\\"right\\\": 4.464, \\\"left\\\": 4.256}, {\\\"count\\\": 0, \\\"right\\\": 4.672, \\\"left\\\": 4.464}, {\\\"count\\\": 0, \\\"right\\\": 4.88, \\\"left\\\": 4.672}, {\\\"count\\\": 21201, \\\"right\\\": 5.088, \\\"left\\\": 4.88}], \\\"stdev\\\": 1.125668, \\\"type\\\": \\\"integer\\\", \\\"mean\\\": 3.52986}, {\\\"a\\\": 4, \\\"num_row\\\": 100000, \\\"title\\\": \\\"age\\\", \\\"max\\\": 73.0, \\\"min\\\": 7.0, \\\"median\\\": 30.0, \\\"num_missing\\\": 0, \\\"num_unique\\\": 61, \\\"categorical\\\": [], \\\"numeric\\\": [{\\\"count\\\": 74, \\\"right\\\": 10.104, \\\"left\\\": 6.776}, {\\\"count\\\": 524, \\\"right\\\": 13.432, \\\"left\\\": 10.104}, {\\\"count\\\": 996, \\\"right\\\": 16.76, \\\"left\\\": 13.432}, {\\\"count\\\": 10719, \\\"right\\\": 20.088, \\\"left\\\": 16.76}, {\\\"count\\\": 9682, \\\"right\\\": 23.416, \\\"left\\\": 20.088}, {\\\"count\\\": 12072, \\\"right\\\": 26.744, \\\"left\\\": 23.416}, {\\\"count\\\": 17454, \\\"right\\\": 30.072, \\\"left\\\": 26.744}, {\\\"count\\\": 9222, \\\"right\\\": 33.4, \\\"left\\\": 30.072}, {\\\"count\\\": 7091, \\\"right\\\": 36.728, \\\"left\\\": 33.4}, {\\\"count\\\": 7462, \\\"right\\\": 40.056, \\\"left\\\": 36.728}, {\\\"count\\\": 4155, \\\"right\\\": 43.384, \\\"left\\\": 40.056}, {\\\"count\\\": 4130, \\\"right\\\": 46.712, \\\"left\\\": 43.384}, {\\\"count\\\": 6961, \\\"right\\\": 50.04, \\\"left\\\": 46.712}, {\\\"count\\\": 3610, \\\"right\\\": 53.368, \\\"left\\\": 50.04}, {\\\"count\\\": 1566, \\\"right\\\": 56.696, \\\"left\\\": 53.368}, {\\\"count\\\": 3071, \\\"right\\\": 60.024, \\\"left\\\": 56.696}, {\\\"count\\\": 405, \\\"right\\\": 63.352, \\\"left\\\": 60.024}, {\\\"count\\\": 361, \\\"right\\\": 66.68, \\\"left\\\": 63.352}, {\\\"count\\\": 389, \\\"right\\\": 70.008, \\\"left\\\": 66.68}, {\\\"count\\\": 56, \\\"right\\\": 73.336, \\\"left\\\": 70.008}], \\\"stdev\\\": 11.562566, \\\"type\\\": \\\"integer\\\", \\\"mean\\\": 32.96985}, {\\\"a\\\": 5, \\\"num_row\\\": 100000, \\\"title\\\": \\\"gender\\\", \\\"max\\\": 1.0, \\\"min\\\": 0.0, \\\"median\\\": 1.0, \\\"num_missing\\\": 0, \\\"num_unique\\\": 2, \\\"categorical\\\": [], \\\"numeric\\\": [{\\\"count\\\": 25740, \\\"right\\\": 0.03988, \\\"left\\\": -0.01132}, {\\\"count\\\": 0, \\\"right\\\": 0.09108, \\\"left\\\": 0.03988}, {\\\"count\\\": 0, \\\"right\\\": 0.14228, \\\"left\\\": 0.09108}, {\\\"count\\\": 0, \\\"right\\\": 0.19348, \\\"left\\\": 0.14228}, {\\\"count\\\": 0, \\\"right\\\": 0.24468, \\\"left\\\": 0.19348}, {\\\"count\\\": 0, \\\"right\\\": 0.29588, \\\"left\\\": 0.24468}, {\\\"count\\\": 0, \\\"right\\\": 0.34708, \\\"left\\\": 0.29588}, {\\\"count\\\": 0, \\\"right\\\": 0.39828, \\\"left\\\": 0.34708}, {\\\"count\\\": 0, \\\"right\\\": 0.44948, \\\"left\\\": 0.39828}, {\\\"count\\\": 0, \\\"right\\\": 0.50068, \\\"left\\\": 0.44948}, {\\\"count\\\": 0, \\\"right\\\": 0.55188, \\\"left\\\": 0.50068}, {\\\"count\\\": 0, \\\"right\\\": 0.60308, \\\"left\\\": 0.55188}, {\\\"count\\\": 0, \\\"right\\\": 0.65428, \\\"left\\\": 0.60308}, {\\\"count\\\": 0, \\\"right\\\": 0.70548, \\\"left\\\": 0.65428}, {\\\"count\\\": 0, \\\"right\\\": 0.75668, \\\"left\\\": 0.70548}, {\\\"count\\\": 0, \\\"right\\\": 0.80788, \\\"left\\\": 0.75668}, {\\\"count\\\": 0, \\\"right\\\": 0.85908, \\\"left\\\": 0.80788}, {\\\"count\\\": 0, \\\"right\\\": 0.91028, \\\"left\\\": 0.85908}, {\\\"count\\\": 0, \\\"right\\\": 0.96148, \\\"left\\\": 0.91028}, {\\\"count\\\": 74260, \\\"right\\\": 1.01268, \\\"left\\\": 0.96148}], \\\"stdev\\\": 0.437202, \\\"type\\\": \\\"integer\\\", \\\"mean\\\": 0.7426}, {\\\"a\\\": 6, \\\"num_row\\\": 100000, \\\"title\\\": \\\"occupation\\\", \\\"max\\\": 20.0, \\\"min\\\": 0.0, \\\"median\\\": 13.0, \\\"num_missing\\\": 0, \\\"num_unique\\\": 21, \\\"categorical\\\": [], \\\"numeric\\\": [{\\\"count\\\": 7479, \\\"right\\\": 0.92, \\\"left\\\": -0.088}, {\\\"count\\\": 2308, \\\"right\\\": 1.928, \\\"left\\\": 0.92}, {\\\"count\\\": 540, \\\"right\\\": 2.936, \\\"left\\\": 1.928}, {\\\"count\\\": 9442, \\\"right\\\": 3.944, \\\"left\\\": 2.936}, {\\\"count\\\": 8175, \\\"right\\\": 4.952, \\\"left\\\": 3.944}, {\\\"count\\\": 2095, \\\"right\\\": 5.96, \\\"left\\\": 4.952}, {\\\"count\\\": 3403, \\\"right\\\": 6.968, \\\"left\\\": 5.96}, {\\\"count\\\": 2804, \\\"right\\\": 7.976, \\\"left\\\": 6.968}, {\\\"count\\\": 299, \\\"right\\\": 8.984, \\\"left\\\": 7.976}, {\\\"count\\\": 1345, \\\"right\\\": 9.992, \\\"left\\\": 8.984}, {\\\"count\\\": 5273, \\\"right\\\": 11, \\\"left\\\": 9.992}, {\\\"count\\\": 2851, \\\"right\\\": 12.008, \\\"left\\\": 11}, {\\\"count\\\": 10663, \\\"right\\\": 13.016, \\\"left\\\": 12.008}, {\\\"count\\\": 7801, \\\"right\\\": 14.024, \\\"left\\\": 13.016}, {\\\"count\\\": 1609, \\\"right\\\": 15.032, \\\"left\\\": 14.024}, {\\\"count\\\": 856, \\\"right\\\": 16.04, \\\"left\\\": 15.032}, {\\\"count\\\": 2058, \\\"right\\\": 17.048, \\\"left\\\": 16.04}, {\\\"count\\\": 21957, \\\"right\\\": 18.056, \\\"left\\\": 17.048}, {\\\"count\\\": 3506, \\\"right\\\": 19.064, \\\"left\\\": 18.056}, {\\\"count\\\": 5536, \\\"right\\\": 20.072, \\\"left\\\": 19.064}], \\\"stdev\\\": 6.622816, \\\"type\\\": \\\"integer\\\", \\\"mean\\\": 11.07634}, {\\\"a\\\": 7, \\\"num_row\\\": 100000, \\\"title\\\": \\\"unknown\\\", \\\"max\\\": 1.0, \\\"min\\\": 0.0, \\\"median\\\": 0.0, \\\"num_missing\\\": 0, \\\"num_unique\\\": 2, \\\"categorical\\\": [], \\\"numeric\\\": [{\\\"count\\\": 99990, \\\"right\\\": 0.04084, \\\"left\\\": -0.01036}, {\\\"count\\\": 0, \\\"right\\\": 0.09204, \\\"left\\\": 0.04084}, {\\\"count\\\": 0, \\\"right\\\": 0.14324, \\\"left\\\": 0.09204}, {\\\"count\\\": 0, \\\"right\\\": 0.19444, \\\"left\\\": 0.14324}, {\\\"count\\\": 0, \\\"right\\\": 0.24564, \\\"left\\\": 0.19444}, {\\\"count\\\": 0, \\\"right\\\": 0.29684, \\\"left\\\": 0.24564}, {\\\"count\\\": 0, \\\"right\\\": 0.34804, \\\"left\\\": 0.29684}, {\\\"count\\\": 0, \\\"right\\\": 0.39924, \\\"left\\\": 0.34804}, {\\\"count\\\": 0, \\\"right\\\": 0.45044, \\\"left\\\": 0.39924}, {\\\"count\\\": 0, \\\"right\\\": 0.50164, \\\"left\\\": 0.45044}, {\\\"count\\\": 0, \\\"right\\\": 0.55284, \\\"left\\\": 0.50164}, {\\\"count\\\": 0, \\\"right\\\": 0.60404, \\\"left\\\": 0.55284}, {\\\"count\\\": 0, \\\"right\\\": 0.65524, \\\"left\\\": 0.60404}, {\\\"count\\\": 0, \\\"right\\\": 0.70644, \\\"left\\\": 0.65524}, {\\\"count\\\": 0, \\\"right\\\": 0.75764, \\\"left\\\": 0.70644}, {\\\"count\\\": 0, \\\"right\\\": 0.80884, \\\"left\\\": 0.75764}, {\\\"count\\\": 0, \\\"right\\\": 0.86004, \\\"left\\\": 0.80884}, {\\\"count\\\": 0, \\\"right\\\": 0.91124, \\\"left\\\": 0.86004}, {\\\"count\\\": 0, \\\"right\\\": 0.96244, \\\"left\\\": 0.91124}, {\\\"count\\\": 10, \\\"right\\\": 1.01364, \\\"left\\\": 0.96244}], \\\"stdev\\\": 0.009999, \\\"type\\\": \\\"integer\\\", \\\"mean\\\": 0.0001}, {\\\"a\\\": 8, \\\"num_row\\\": 100000, \\\"title\\\": \\\"action\\\", \\\"max\\\": 1.0, \\\"min\\\": 0.0, \\\"median\\\": 0.0, \\\"num_missing\\\": 0, \\\"num_unique\\\": 2, \\\"categorical\\\": [], \\\"numeric\\\": [{\\\"count\\\": 74411, \\\"right\\\": 0.04084, \\\"left\\\": -0.01036}, {\\\"count\\\": 0, \\\"right\\\": 0.09204, \\\"left\\\": 0.04084}, {\\\"count\\\": 0, \\\"right\\\": 0.14324, \\\"left\\\": 0.09204}, {\\\"count\\\": 0, \\\"right\\\": 0.19444, \\\"left\\\": 0.14324}, {\\\"count\\\": 0, \\\"right\\\": 0.24564, \\\"left\\\": 0.19444}, {\\\"count\\\": 0, \\\"right\\\": 0.29684, \\\"left\\\": 0.24564}, {\\\"count\\\": 0, \\\"right\\\": 0.34804, \\\"left\\\": 0.29684}, {\\\"count\\\": 0, \\\"right\\\": 0.39924, \\\"left\\\": 0.34804}, {\\\"count\\\": 0, \\\"right\\\": 0.45044, \\\"left\\\": 0.39924}, {\\\"count\\\": 0, \\\"right\\\": 0.50164, \\\"left\\\": 0.45044}, {\\\"count\\\": 0, \\\"right\\\": 0.55284, \\\"left\\\": 0.50164}, {\\\"count\\\": 0, \\\"right\\\": 0.60404, \\\"left\\\": 0.55284}, {\\\"count\\\": 0, \\\"right\\\": 0.65524, \\\"left\\\": 0.60404}, {\\\"count\\\": 0, \\\"right\\\": 0.70644, \\\"left\\\": 0.65524}, {\\\"count\\\": 0, \\\"right\\\": 0.75764, \\\"left\\\": 0.70644}, {\\\"count\\\": 0, \\\"right\\\": 0.80884, \\\"left\\\": 0.75764}, {\\\"count\\\": 0, \\\"right\\\": 0.86004, \\\"left\\\": 0.80884}, {\\\"count\\\": 0, \\\"right\\\": 0.91124, \\\"left\\\": 0.86004}, {\\\"count\\\": 0, \\\"right\\\": 0.96244, \\\"left\\\": 0.91124}, {\\\"count\\\": 25589, \\\"right\\\": 1.01364, \\\"left\\\": 0.96244}], \\\"stdev\\\": 0.43636, \\\"type\\\": \\\"integer\\\", \\\"mean\\\": 0.25589}, {\\\"a\\\": 9, \\\"num_row\\\": 100000, \\\"title\\\": \\\"adventure\\\", \\\"max\\\": 1.0, \\\"min\\\": 0.0, \\\"median\\\": 0.0, \\\"num_missing\\\": 0, \\\"num_unique\\\": 2, \\\"categorical\\\": [], \\\"numeric\\\": [{\\\"count\\\": 86247, \\\"right\\\": 0.04084, \\\"left\\\": -0.01036}, {\\\"count\\\": 0, \\\"right\\\": 0.09204, \\\"left\\\": 0.04084}, {\\\"count\\\": 0, \\\"right\\\": 0.14324, \\\"left\\\": 0.09204}, {\\\"count\\\": 0, \\\"right\\\": 0.19444, \\\"left\\\": 0.14324}, {\\\"count\\\": 0, \\\"right\\\": 0.24564, \\\"left\\\": 0.19444}, {\\\"count\\\": 0, \\\"right\\\": 0.29684, \\\"left\\\": 0.24564}, {\\\"count\\\": 0, \\\"right\\\": 0.34804, \\\"left\\\": 0.29684}, {\\\"count\\\": 0, \\\"right\\\": 0.39924, \\\"left\\\": 0.34804}, {\\\"count\\\": 0, \\\"right\\\": 0.45044, \\\"left\\\": 0.39924}, {\\\"count\\\": 0, \\\"right\\\": 0.50164, \\\"left\\\": 0.45044}, {\\\"count\\\": 0, \\\"right\\\": 0.55284, \\\"left\\\": 0.50164}, {\\\"count\\\": 0, \\\"right\\\": 0.60404, \\\"left\\\": 0.55284}, {\\\"count\\\": 0, \\\"right\\\": 0.65524, \\\"left\\\": 0.60404}, {\\\"count\\\": 0, \\\"right\\\": 0.70644, \\\"left\\\": 0.65524}, {\\\"count\\\": 0, \\\"right\\\": 0.75764, \\\"left\\\": 0.70644}, {\\\"count\\\": 0, \\\"right\\\": 0.80884, \\\"left\\\": 0.75764}, {\\\"count\\\": 0, \\\"right\\\": 0.86004, \\\"left\\\": 0.80884}, {\\\"count\\\": 0, \\\"right\\\": 0.91124, \\\"left\\\": 0.86004}, {\\\"count\\\": 0, \\\"right\\\": 0.96244, \\\"left\\\": 0.91124}, {\\\"count\\\": 13753, \\\"right\\\": 1.01364, \\\"left\\\": 0.96244}], \\\"stdev\\\": 0.344406, \\\"type\\\": \\\"integer\\\", \\\"mean\\\": 0.13753}, {\\\"a\\\": 10, \\\"num_row\\\": 100000, \\\"title\\\": \\\"animation\\\", \\\"max\\\": 1.0, \\\"min\\\": 0.0, \\\"median\\\": 0.0, \\\"num_missing\\\": 0, \\\"num_unique\\\": 2, \\\"categorical\\\": [], \\\"numeric\\\": [{\\\"count\\\": 96395, \\\"right\\\": 0.04084, \\\"left\\\": -0.01036}, {\\\"count\\\": 0, \\\"right\\\": 0.09204, \\\"left\\\": 0.04084}, {\\\"count\\\": 0, \\\"right\\\": 0.14324, \\\"left\\\": 0.09204}, {\\\"count\\\": 0, \\\"right\\\": 0.19444, \\\"left\\\": 0.14324}, {\\\"count\\\": 0, \\\"right\\\": 0.24564, \\\"left\\\": 0.19444}, {\\\"count\\\": 0, \\\"right\\\": 0.29684, \\\"left\\\": 0.24564}, {\\\"count\\\": 0, \\\"right\\\": 0.34804, \\\"left\\\": 0.29684}, {\\\"count\\\": 0, \\\"right\\\": 0.39924, \\\"left\\\": 0.34804}, {\\\"count\\\": 0, \\\"right\\\": 0.45044, \\\"left\\\": 0.39924}, {\\\"count\\\": 0, \\\"right\\\": 0.50164, \\\"left\\\": 0.45044}, {\\\"count\\\": 0, \\\"right\\\": 0.55284, \\\"left\\\": 0.50164}, {\\\"count\\\": 0, \\\"right\\\": 0.60404, \\\"left\\\": 0.55284}, {\\\"count\\\": 0, \\\"right\\\": 0.65524, \\\"left\\\": 0.60404}, {\\\"count\\\": 0, \\\"right\\\": 0.70644, \\\"left\\\": 0.65524}, {\\\"count\\\": 0, \\\"right\\\": 0.75764, \\\"left\\\": 0.70644}, {\\\"count\\\": 0, \\\"right\\\": 0.80884, \\\"left\\\": 0.75764}, {\\\"count\\\": 0, \\\"right\\\": 0.86004, \\\"left\\\": 0.80884}, {\\\"count\\\": 0, \\\"right\\\": 0.91124, \\\"left\\\": 0.86004}, {\\\"count\\\": 0, \\\"right\\\": 0.96244, \\\"left\\\": 0.91124}, {\\\"count\\\": 3605, \\\"right\\\": 1.01364, \\\"left\\\": 0.96244}], \\\"stdev\\\": 0.186415, \\\"type\\\": \\\"integer\\\", \\\"mean\\\": 0.03605}, {\\\"a\\\": 11, \\\"num_row\\\": 100000, \\\"title\\\": \\\"children&apos;s\\\", \\\"max\\\": 1.0, \\\"min\\\": 0.0, \\\"median\\\": 0.0, \\\"num_missing\\\": 0, \\\"num_unique\\\": 2, \\\"categorical\\\": [], \\\"numeric\\\": [{\\\"count\\\": 92818, \\\"right\\\": 0.04084, \\\"left\\\": -0.01036}, {\\\"count\\\": 0, \\\"right\\\": 0.09204, \\\"left\\\": 0.04084}, {\\\"count\\\": 0, \\\"right\\\": 0.14324, \\\"left\\\": 0.09204}, {\\\"count\\\": 0, \\\"right\\\": 0.19444, \\\"left\\\": 0.14324}, {\\\"count\\\": 0, \\\"right\\\": 0.24564, \\\"left\\\": 0.19444}, {\\\"count\\\": 0, \\\"right\\\": 0.29684, \\\"left\\\": 0.24564}, {\\\"count\\\": 0, \\\"right\\\": 0.34804, \\\"left\\\": 0.29684}, {\\\"count\\\": 0, \\\"right\\\": 0.39924, \\\"left\\\": 0.34804}, {\\\"count\\\": 0, \\\"right\\\": 0.45044, \\\"left\\\": 0.39924}, {\\\"count\\\": 0, \\\"right\\\": 0.50164, \\\"left\\\": 0.45044}, {\\\"count\\\": 0, \\\"right\\\": 0.55284, \\\"left\\\": 0.50164}, {\\\"count\\\": 0, \\\"right\\\": 0.60404, \\\"left\\\": 0.55284}, {\\\"count\\\": 0, \\\"right\\\": 0.65524, \\\"left\\\": 0.60404}, {\\\"count\\\": 0, \\\"right\\\": 0.70644, \\\"left\\\": 0.65524}, {\\\"count\\\": 0, \\\"right\\\": 0.75764, \\\"left\\\": 0.70644}, {\\\"count\\\": 0, \\\"right\\\": 0.80884, \\\"left\\\": 0.75764}, {\\\"count\\\": 0, \\\"right\\\": 0.86004, \\\"left\\\": 0.80884}, {\\\"count\\\": 0, \\\"right\\\": 0.91124, \\\"left\\\": 0.86004}, {\\\"count\\\": 0, \\\"right\\\": 0.96244, \\\"left\\\": 0.91124}, {\\\"count\\\": 7182, \\\"right\\\": 1.01364, \\\"left\\\": 0.96244}], \\\"stdev\\\": 0.25819, \\\"type\\\": \\\"integer\\\", \\\"mean\\\": 0.07182}, {\\\"a\\\": 12, \\\"num_row\\\": 100000, \\\"title\\\": \\\"comedy\\\", \\\"max\\\": 1.0, \\\"min\\\": 0.0, \\\"median\\\": 0.0, \\\"num_missing\\\": 0, \\\"num_unique\\\": 2, \\\"categorical\\\": [], \\\"numeric\\\": [{\\\"count\\\": 70168, \\\"right\\\": 0.03988, \\\"left\\\": -0.01132}, {\\\"count\\\": 0, \\\"right\\\": 0.09108, \\\"left\\\": 0.03988}, {\\\"count\\\": 0, \\\"right\\\": 0.14228, \\\"left\\\": 0.09108}, {\\\"count\\\": 0, \\\"right\\\": 0.19348, \\\"left\\\": 0.14228}, {\\\"count\\\": 0, \\\"right\\\": 0.24468, \\\"left\\\": 0.19348}, {\\\"count\\\": 0, \\\"right\\\": 0.29588, \\\"left\\\": 0.24468}, {\\\"count\\\": 0, \\\"right\\\": 0.34708, \\\"left\\\": 0.29588}, {\\\"count\\\": 0, \\\"right\\\": 0.39828, \\\"left\\\": 0.34708}, {\\\"count\\\": 0, \\\"right\\\": 0.44948, \\\"left\\\": 0.39828}, {\\\"count\\\": 0, \\\"right\\\": 0.50068, \\\"left\\\": 0.44948}, {\\\"count\\\": 0, \\\"right\\\": 0.55188, \\\"left\\\": 0.50068}, {\\\"count\\\": 0, \\\"right\\\": 0.60308, \\\"left\\\": 0.55188}, {\\\"count\\\": 0, \\\"right\\\": 0.65428, \\\"left\\\": 0.60308}, {\\\"count\\\": 0, \\\"right\\\": 0.70548, \\\"left\\\": 0.65428}, {\\\"count\\\": 0, \\\"right\\\": 0.75668, \\\"left\\\": 0.70548}, {\\\"count\\\": 0, \\\"right\\\": 0.80788, \\\"left\\\": 0.75668}, {\\\"count\\\": 0, \\\"right\\\": 0.85908, \\\"left\\\": 0.80788}, {\\\"count\\\": 0, \\\"right\\\": 0.91028, \\\"left\\\": 0.85908}, {\\\"count\\\": 0, \\\"right\\\": 0.96148, \\\"left\\\": 0.91028}, {\\\"count\\\": 29832, \\\"right\\\": 1.01268, \\\"left\\\": 0.96148}], \\\"stdev\\\": 0.457521, \\\"type\\\": \\\"integer\\\", \\\"mean\\\": 0.29832}, {\\\"a\\\": 13, \\\"num_row\\\": 100000, \\\"title\\\": \\\"crime\\\", \\\"max\\\": 1.0, \\\"min\\\": 0.0, \\\"median\\\": 0.0, \\\"num_missing\\\": 0, \\\"num_unique\\\": 2, \\\"categorical\\\": [], \\\"numeric\\\": [{\\\"count\\\": 91945, \\\"right\\\": 0.04084, \\\"left\\\": -0.01036}, {\\\"count\\\": 0, \\\"right\\\": 0.09204, \\\"left\\\": 0.04084}, {\\\"count\\\": 0, \\\"right\\\": 0.14324, \\\"left\\\": 0.09204}, {\\\"count\\\": 0, \\\"right\\\": 0.19444, \\\"left\\\": 0.14324}, {\\\"count\\\": 0, \\\"right\\\": 0.24564, \\\"left\\\": 0.19444}, {\\\"count\\\": 0, \\\"right\\\": 0.29684, \\\"left\\\": 0.24564}, {\\\"count\\\": 0, \\\"right\\\": 0.34804, \\\"left\\\": 0.29684}, {\\\"count\\\": 0, \\\"right\\\": 0.39924, \\\"left\\\": 0.34804}, {\\\"count\\\": 0, \\\"right\\\": 0.45044, \\\"left\\\": 0.39924}, {\\\"count\\\": 0, \\\"right\\\": 0.50164, \\\"left\\\": 0.45044}, {\\\"count\\\": 0, \\\"right\\\": 0.55284, \\\"left\\\": 0.50164}, {\\\"count\\\": 0, \\\"right\\\": 0.60404, \\\"left\\\": 0.55284}, {\\\"count\\\": 0, \\\"right\\\": 0.65524, \\\"left\\\": 0.60404}, {\\\"count\\\": 0, \\\"right\\\": 0.70644, \\\"left\\\": 0.65524}, {\\\"count\\\": 0, \\\"right\\\": 0.75764, \\\"left\\\": 0.70644}, {\\\"count\\\": 0, \\\"right\\\": 0.80884, \\\"left\\\": 0.75764}, {\\\"count\\\": 0, \\\"right\\\": 0.86004, \\\"left\\\": 0.80884}, {\\\"count\\\": 0, \\\"right\\\": 0.91124, \\\"left\\\": 0.86004}, {\\\"count\\\": 0, \\\"right\\\": 0.96244, \\\"left\\\": 0.91124}, {\\\"count\\\": 8055, \\\"right\\\": 1.01364, \\\"left\\\": 0.96244}], \\\"stdev\\\": 0.272143, \\\"type\\\": \\\"integer\\\", \\\"mean\\\": 0.08055}, {\\\"a\\\": 14, \\\"num_row\\\": 100000, \\\"title\\\": \\\"documentary\\\", \\\"max\\\": 1.0, \\\"min\\\": 0.0, \\\"median\\\": 0.0, \\\"num_missing\\\": 0, \\\"num_unique\\\": 2, \\\"categorical\\\": [], \\\"numeric\\\": [{\\\"count\\\": 99242, \\\"right\\\": 0.04084, \\\"left\\\": -0.01036}, {\\\"count\\\": 0, \\\"right\\\": 0.09204, \\\"left\\\": 0.04084}, {\\\"count\\\": 0, \\\"right\\\": 0.14324, \\\"left\\\": 0.09204}, {\\\"count\\\": 0, \\\"right\\\": 0.19444, \\\"left\\\": 0.14324}, {\\\"count\\\": 0, \\\"right\\\": 0.24564, \\\"left\\\": 0.19444}, {\\\"count\\\": 0, \\\"right\\\": 0.29684, \\\"left\\\": 0.24564}, {\\\"count\\\": 0, \\\"right\\\": 0.34804, \\\"left\\\": 0.29684}, {\\\"count\\\": 0, \\\"right\\\": 0.39924, \\\"left\\\": 0.34804}, {\\\"count\\\": 0, \\\"right\\\": 0.45044, \\\"left\\\": 0.39924}, {\\\"count\\\": 0, \\\"right\\\": 0.50164, \\\"left\\\": 0.45044}, {\\\"count\\\": 0, \\\"right\\\": 0.55284, \\\"left\\\": 0.50164}, {\\\"count\\\": 0, \\\"right\\\": 0.60404, \\\"left\\\": 0.55284}, {\\\"count\\\": 0, \\\"right\\\": 0.65524, \\\"left\\\": 0.60404}, {\\\"count\\\": 0, \\\"right\\\": 0.70644, \\\"left\\\": 0.65524}, {\\\"count\\\": 0, \\\"right\\\": 0.75764, \\\"left\\\": 0.70644}, {\\\"count\\\": 0, \\\"right\\\": 0.80884, \\\"left\\\": 0.75764}, {\\\"count\\\": 0, \\\"right\\\": 0.86004, \\\"left\\\": 0.80884}, {\\\"count\\\": 0, \\\"right\\\": 0.91124, \\\"left\\\": 0.86004}, {\\\"count\\\": 0, \\\"right\\\": 0.96244, \\\"left\\\": 0.91124}, {\\\"count\\\": 758, \\\"right\\\": 1.01364, \\\"left\\\": 0.96244}], \\\"stdev\\\": 0.086733, \\\"type\\\": \\\"integer\\\", \\\"mean\\\": 0.00758}, {\\\"a\\\": 15, \\\"num_row\\\": 100000, \\\"title\\\": \\\"drama\\\", \\\"max\\\": 1.0, \\\"min\\\": 0.0, \\\"median\\\": 0.0, \\\"num_missing\\\": 0, \\\"num_unique\\\": 2, \\\"categorical\\\": [], \\\"numeric\\\": [{\\\"count\\\": 60105, \\\"right\\\": 0.04084, \\\"left\\\": -0.01036}, {\\\"count\\\": 0, \\\"right\\\": 0.09204, \\\"left\\\": 0.04084}, {\\\"count\\\": 0, \\\"right\\\": 0.14324, \\\"left\\\": 0.09204}, {\\\"count\\\": 0, \\\"right\\\": 0.19444, \\\"left\\\": 0.14324}, {\\\"count\\\": 0, \\\"right\\\": 0.24564, \\\"left\\\": 0.19444}, {\\\"count\\\": 0, \\\"right\\\": 0.29684, \\\"left\\\": 0.24564}, {\\\"count\\\": 0, \\\"right\\\": 0.34804, \\\"left\\\": 0.29684}, {\\\"count\\\": 0, \\\"right\\\": 0.39924, \\\"left\\\": 0.34804}, {\\\"count\\\": 0, \\\"right\\\": 0.45044, \\\"left\\\": 0.39924}, {\\\"count\\\": 0, \\\"right\\\": 0.50164, \\\"left\\\": 0.45044}, {\\\"count\\\": 0, \\\"right\\\": 0.55284, \\\"left\\\": 0.50164}, {\\\"count\\\": 0, \\\"right\\\": 0.60404, \\\"left\\\": 0.55284}, {\\\"count\\\": 0, \\\"right\\\": 0.65524, \\\"left\\\": 0.60404}, {\\\"count\\\": 0, \\\"right\\\": 0.70644, \\\"left\\\": 0.65524}, {\\\"count\\\": 0, \\\"right\\\": 0.75764, \\\"left\\\": 0.70644}, {\\\"count\\\": 0, \\\"right\\\": 0.80884, \\\"left\\\": 0.75764}, {\\\"count\\\": 0, \\\"right\\\": 0.86004, \\\"left\\\": 0.80884}, {\\\"count\\\": 0, \\\"right\\\": 0.91124, \\\"left\\\": 0.86004}, {\\\"count\\\": 0, \\\"right\\\": 0.96244, \\\"left\\\": 0.91124}, {\\\"count\\\": 39895, \\\"right\\\": 1.01364, \\\"left\\\": 0.96244}], \\\"stdev\\\": 0.489682, \\\"type\\\": \\\"integer\\\", \\\"mean\\\": 0.39895}, {\\\"a\\\": 16, \\\"num_row\\\": 100000, \\\"title\\\": \\\"fantasy\\\", \\\"max\\\": 1.0, \\\"min\\\": 0.0, \\\"median\\\": 0.0, \\\"num_missing\\\": 0, \\\"num_unique\\\": 2, \\\"categorical\\\": [], \\\"numeric\\\": [{\\\"count\\\": 98648, \\\"right\\\": 0.04084, \\\"left\\\": -0.01036}, {\\\"count\\\": 0, \\\"right\\\": 0.09204, \\\"left\\\": 0.04084}, {\\\"count\\\": 0, \\\"right\\\": 0.14324, \\\"left\\\": 0.09204}, {\\\"count\\\": 0, \\\"right\\\": 0.19444, \\\"left\\\": 0.14324}, {\\\"count\\\": 0, \\\"right\\\": 0.24564, \\\"left\\\": 0.19444}, {\\\"count\\\": 0, \\\"right\\\": 0.29684, \\\"left\\\": 0.24564}, {\\\"count\\\": 0, \\\"right\\\": 0.34804, \\\"left\\\": 0.29684}, {\\\"count\\\": 0, \\\"right\\\": 0.39924, \\\"left\\\": 0.34804}, {\\\"count\\\": 0, \\\"right\\\": 0.45044, \\\"left\\\": 0.39924}, {\\\"count\\\": 0, \\\"right\\\": 0.50164, \\\"left\\\": 0.45044}, {\\\"count\\\": 0, \\\"right\\\": 0.55284, \\\"left\\\": 0.50164}, {\\\"count\\\": 0, \\\"right\\\": 0.60404, \\\"left\\\": 0.55284}, {\\\"count\\\": 0, \\\"right\\\": 0.65524, \\\"left\\\": 0.60404}, {\\\"count\\\": 0, \\\"right\\\": 0.70644, \\\"left\\\": 0.65524}, {\\\"count\\\": 0, \\\"right\\\": 0.75764, \\\"left\\\": 0.70644}, {\\\"count\\\": 0, \\\"right\\\": 0.80884, \\\"left\\\": 0.75764}, {\\\"count\\\": 0, \\\"right\\\": 0.86004, \\\"left\\\": 0.80884}, {\\\"count\\\": 0, \\\"right\\\": 0.91124, \\\"left\\\": 0.86004}, {\\\"count\\\": 0, \\\"right\\\": 0.96244, \\\"left\\\": 0.91124}, {\\\"count\\\": 1352, \\\"right\\\": 1.01364, \\\"left\\\": 0.96244}], \\\"stdev\\\": 0.115487, \\\"type\\\": \\\"integer\\\", \\\"mean\\\": 0.01352}, {\\\"a\\\": 17, \\\"num_row\\\": 100000, \\\"title\\\": \\\"film-noir\\\", \\\"max\\\": 1.0, \\\"min\\\": 0.0, \\\"median\\\": 0.0, \\\"num_missing\\\": 0, \\\"num_unique\\\": 2, \\\"categorical\\\": [], \\\"numeric\\\": [{\\\"count\\\": 98267, \\\"right\\\": 0.04084, \\\"left\\\": -0.01036}, {\\\"count\\\": 0, \\\"right\\\": 0.09204, \\\"left\\\": 0.04084}, {\\\"count\\\": 0, \\\"right\\\": 0.14324, \\\"left\\\": 0.09204}, {\\\"count\\\": 0, \\\"right\\\": 0.19444, \\\"left\\\": 0.14324}, {\\\"count\\\": 0, \\\"right\\\": 0.24564, \\\"left\\\": 0.19444}, {\\\"count\\\": 0, \\\"right\\\": 0.29684, \\\"left\\\": 0.24564}, {\\\"count\\\": 0, \\\"right\\\": 0.34804, \\\"left\\\": 0.29684}, {\\\"count\\\": 0, \\\"right\\\": 0.39924, \\\"left\\\": 0.34804}, {\\\"count\\\": 0, \\\"right\\\": 0.45044, \\\"left\\\": 0.39924}, {\\\"count\\\": 0, \\\"right\\\": 0.50164, \\\"left\\\": 0.45044}, {\\\"count\\\": 0, \\\"right\\\": 0.55284, \\\"left\\\": 0.50164}, {\\\"count\\\": 0, \\\"right\\\": 0.60404, \\\"left\\\": 0.55284}, {\\\"count\\\": 0, \\\"right\\\": 0.65524, \\\"left\\\": 0.60404}, {\\\"count\\\": 0, \\\"right\\\": 0.70644, \\\"left\\\": 0.65524}, {\\\"count\\\": 0, \\\"right\\\": 0.75764, \\\"left\\\": 0.70644}, {\\\"count\\\": 0, \\\"right\\\": 0.80884, \\\"left\\\": 0.75764}, {\\\"count\\\": 0, \\\"right\\\": 0.86004, \\\"left\\\": 0.80884}, {\\\"count\\\": 0, \\\"right\\\": 0.91124, \\\"left\\\": 0.86004}, {\\\"count\\\": 0, \\\"right\\\": 0.96244, \\\"left\\\": 0.91124}, {\\\"count\\\": 1733, \\\"right\\\": 1.01364, \\\"left\\\": 0.96244}], \\\"stdev\\\": 0.130498, \\\"type\\\": \\\"integer\\\", \\\"mean\\\": 0.01733}, {\\\"a\\\": 18, \\\"num_row\\\": 100000, \\\"title\\\": \\\"horror\\\", \\\"max\\\": 1.0, \\\"min\\\": 0.0, \\\"median\\\": 0.0, \\\"num_missing\\\": 0, \\\"num_unique\\\": 2, \\\"categorical\\\": [], \\\"numeric\\\": [{\\\"count\\\": 94683, \\\"right\\\": 0.04084, \\\"left\\\": -0.01036}, {\\\"count\\\": 0, \\\"right\\\": 0.09204, \\\"left\\\": 0.04084}, {\\\"count\\\": 0, \\\"right\\\": 0.14324, \\\"left\\\": 0.09204}, {\\\"count\\\": 0, \\\"right\\\": 0.19444, \\\"left\\\": 0.14324}, {\\\"count\\\": 0, \\\"right\\\": 0.24564, \\\"left\\\": 0.19444}, {\\\"count\\\": 0, \\\"right\\\": 0.29684, \\\"left\\\": 0.24564}, {\\\"count\\\": 0, \\\"right\\\": 0.34804, \\\"left\\\": 0.29684}, {\\\"count\\\": 0, \\\"right\\\": 0.39924, \\\"left\\\": 0.34804}, {\\\"count\\\": 0, \\\"right\\\": 0.45044, \\\"left\\\": 0.39924}, {\\\"count\\\": 0, \\\"right\\\": 0.50164, \\\"left\\\": 0.45044}, {\\\"count\\\": 0, \\\"right\\\": 0.55284, \\\"left\\\": 0.50164}, {\\\"count\\\": 0, \\\"right\\\": 0.60404, \\\"left\\\": 0.55284}, {\\\"count\\\": 0, \\\"right\\\": 0.65524, \\\"left\\\": 0.60404}, {\\\"count\\\": 0, \\\"right\\\": 0.70644, \\\"left\\\": 0.65524}, {\\\"count\\\": 0, \\\"right\\\": 0.75764, \\\"left\\\": 0.70644}, {\\\"count\\\": 0, \\\"right\\\": 0.80884, \\\"left\\\": 0.75764}, {\\\"count\\\": 0, \\\"right\\\": 0.86004, \\\"left\\\": 0.80884}, {\\\"count\\\": 0, \\\"right\\\": 0.91124, \\\"left\\\": 0.86004}, {\\\"count\\\": 0, \\\"right\\\": 0.96244, \\\"left\\\": 0.91124}, {\\\"count\\\": 5317, \\\"right\\\": 1.01364, \\\"left\\\": 0.96244}], \\\"stdev\\\": 0.224372, \\\"type\\\": \\\"integer\\\", \\\"mean\\\": 0.05317}, {\\\"a\\\": 19, \\\"num_row\\\": 100000, \\\"title\\\": \\\"musical\\\", \\\"max\\\": 1.0, \\\"min\\\": 0.0, \\\"median\\\": 0.0, \\\"num_missing\\\": 0, \\\"num_unique\\\": 2, \\\"categorical\\\": [], \\\"numeric\\\": [{\\\"count\\\": 95046, \\\"right\\\": 0.04084, \\\"left\\\": -0.01036}, {\\\"count\\\": 0, \\\"right\\\": 0.09204, \\\"left\\\": 0.04084}, {\\\"count\\\": 0, \\\"right\\\": 0.14324, \\\"left\\\": 0.09204}, {\\\"count\\\": 0, \\\"right\\\": 0.19444, \\\"left\\\": 0.14324}, {\\\"count\\\": 0, \\\"right\\\": 0.24564, \\\"left\\\": 0.19444}, {\\\"count\\\": 0, \\\"right\\\": 0.29684, \\\"left\\\": 0.24564}, {\\\"count\\\": 0, \\\"right\\\": 0.34804, \\\"left\\\": 0.29684}, {\\\"count\\\": 0, \\\"right\\\": 0.39924, \\\"left\\\": 0.34804}, {\\\"count\\\": 0, \\\"right\\\": 0.45044, \\\"left\\\": 0.39924}, {\\\"count\\\": 0, \\\"right\\\": 0.50164, \\\"left\\\": 0.45044}, {\\\"count\\\": 0, \\\"right\\\": 0.55284, \\\"left\\\": 0.50164}, {\\\"count\\\": 0, \\\"right\\\": 0.60404, \\\"left\\\": 0.55284}, {\\\"count\\\": 0, \\\"right\\\": 0.65524, \\\"left\\\": 0.60404}, {\\\"count\\\": 0, \\\"right\\\": 0.70644, \\\"left\\\": 0.65524}, {\\\"count\\\": 0, \\\"right\\\": 0.75764, \\\"left\\\": 0.70644}, {\\\"count\\\": 0, \\\"right\\\": 0.80884, \\\"left\\\": 0.75764}, {\\\"count\\\": 0, \\\"right\\\": 0.86004, \\\"left\\\": 0.80884}, {\\\"count\\\": 0, \\\"right\\\": 0.91124, \\\"left\\\": 0.86004}, {\\\"count\\\": 0, \\\"right\\\": 0.96244, \\\"left\\\": 0.91124}, {\\\"count\\\": 4954, \\\"right\\\": 1.01364, \\\"left\\\": 0.96244}], \\\"stdev\\\": 0.216993, \\\"type\\\": \\\"integer\\\", \\\"mean\\\": 0.04954}, {\\\"a\\\": 20, \\\"num_row\\\": 100000, \\\"title\\\": \\\"mystery\\\", \\\"max\\\": 1.0, \\\"min\\\": 0.0, \\\"median\\\": 0.0, \\\"num_missing\\\": 0, \\\"num_unique\\\": 2, \\\"categorical\\\": [], \\\"numeric\\\": [{\\\"count\\\": 94755, \\\"right\\\": 0.04084, \\\"left\\\": -0.01036}, {\\\"count\\\": 0, \\\"right\\\": 0.09204, \\\"left\\\": 0.04084}, {\\\"count\\\": 0, \\\"right\\\": 0.14324, \\\"left\\\": 0.09204}, {\\\"count\\\": 0, \\\"right\\\": 0.19444, \\\"left\\\": 0.14324}, {\\\"count\\\": 0, \\\"right\\\": 0.24564, \\\"left\\\": 0.19444}, {\\\"count\\\": 0, \\\"right\\\": 0.29684, \\\"left\\\": 0.24564}, {\\\"count\\\": 0, \\\"right\\\": 0.34804, \\\"left\\\": 0.29684}, {\\\"count\\\": 0, \\\"right\\\": 0.39924, \\\"left\\\": 0.34804}, {\\\"count\\\": 0, \\\"right\\\": 0.45044, \\\"left\\\": 0.39924}, {\\\"count\\\": 0, \\\"right\\\": 0.50164, \\\"left\\\": 0.45044}, {\\\"count\\\": 0, \\\"right\\\": 0.55284, \\\"left\\\": 0.50164}, {\\\"count\\\": 0, \\\"right\\\": 0.60404, \\\"left\\\": 0.55284}, {\\\"count\\\": 0, \\\"right\\\": 0.65524, \\\"left\\\": 0.60404}, {\\\"count\\\": 0, \\\"right\\\": 0.70644, \\\"left\\\": 0.65524}, {\\\"count\\\": 0, \\\"right\\\": 0.75764, \\\"left\\\": 0.70644}, {\\\"count\\\": 0, \\\"right\\\": 0.80884, \\\"left\\\": 0.75764}, {\\\"count\\\": 0, \\\"right\\\": 0.86004, \\\"left\\\": 0.80884}, {\\\"count\\\": 0, \\\"right\\\": 0.91124, \\\"left\\\": 0.86004}, {\\\"count\\\": 0, \\\"right\\\": 0.96244, \\\"left\\\": 0.91124}, {\\\"count\\\": 5245, \\\"right\\\": 1.01364, \\\"left\\\": 0.96244}], \\\"stdev\\\": 0.222933, \\\"type\\\": \\\"integer\\\", \\\"mean\\\": 0.05245}, {\\\"a\\\": 21, \\\"num_row\\\": 100000, \\\"title\\\": \\\"romance\\\", \\\"max\\\": 1.0, \\\"min\\\": 0.0, \\\"median\\\": 0.0, \\\"num_missing\\\": 0, \\\"num_unique\\\": 2, \\\"categorical\\\": [], \\\"numeric\\\": [{\\\"count\\\": 80539, \\\"right\\\": 0.04084, \\\"left\\\": -0.01036}, {\\\"count\\\": 0, \\\"right\\\": 0.09204, \\\"left\\\": 0.04084}, {\\\"count\\\": 0, \\\"right\\\": 0.14324, \\\"left\\\": 0.09204}, {\\\"count\\\": 0, \\\"right\\\": 0.19444, \\\"left\\\": 0.14324}, {\\\"count\\\": 0, \\\"right\\\": 0.24564, \\\"left\\\": 0.19444}, {\\\"count\\\": 0, \\\"right\\\": 0.29684, \\\"left\\\": 0.24564}, {\\\"count\\\": 0, \\\"right\\\": 0.34804, \\\"left\\\": 0.29684}, {\\\"count\\\": 0, \\\"right\\\": 0.39924, \\\"left\\\": 0.34804}, {\\\"count\\\": 0, \\\"right\\\": 0.45044, \\\"left\\\": 0.39924}, {\\\"count\\\": 0, \\\"right\\\": 0.50164, \\\"left\\\": 0.45044}, {\\\"count\\\": 0, \\\"right\\\": 0.55284, \\\"left\\\": 0.50164}, {\\\"count\\\": 0, \\\"right\\\": 0.60404, \\\"left\\\": 0.55284}, {\\\"count\\\": 0, \\\"right\\\": 0.65524, \\\"left\\\": 0.60404}, {\\\"count\\\": 0, \\\"right\\\": 0.70644, \\\"left\\\": 0.65524}, {\\\"count\\\": 0, \\\"right\\\": 0.75764, \\\"left\\\": 0.70644}, {\\\"count\\\": 0, \\\"right\\\": 0.80884, \\\"left\\\": 0.75764}, {\\\"count\\\": 0, \\\"right\\\": 0.86004, \\\"left\\\": 0.80884}, {\\\"count\\\": 0, \\\"right\\\": 0.91124, \\\"left\\\": 0.86004}, {\\\"count\\\": 0, \\\"right\\\": 0.96244, \\\"left\\\": 0.91124}, {\\\"count\\\": 19461, \\\"right\\\": 1.01364, \\\"left\\\": 0.96244}], \\\"stdev\\\": 0.3959, \\\"type\\\": \\\"integer\\\", \\\"mean\\\": 0.19461}, {\\\"a\\\": 22, \\\"num_row\\\": 100000, \\\"title\\\": \\\"sci-fi\\\", \\\"max\\\": 1.0, \\\"min\\\": 0.0, \\\"median\\\": 0.0, \\\"num_missing\\\": 0, \\\"num_unique\\\": 2, \\\"categorical\\\": [], \\\"numeric\\\": [{\\\"count\\\": 87270, \\\"right\\\": 0.04084, \\\"left\\\": -0.01036}, {\\\"count\\\": 0, \\\"right\\\": 0.09204, \\\"left\\\": 0.04084}, {\\\"count\\\": 0, \\\"right\\\": 0.14324, \\\"left\\\": 0.09204}, {\\\"count\\\": 0, \\\"right\\\": 0.19444, \\\"left\\\": 0.14324}, {\\\"count\\\": 0, \\\"right\\\": 0.24564, \\\"left\\\": 0.19444}, {\\\"count\\\": 0, \\\"right\\\": 0.29684, \\\"left\\\": 0.24564}, {\\\"count\\\": 0, \\\"right\\\": 0.34804, \\\"left\\\": 0.29684}, {\\\"count\\\": 0, \\\"right\\\": 0.39924, \\\"left\\\": 0.34804}, {\\\"count\\\": 0, \\\"right\\\": 0.45044, \\\"left\\\": 0.39924}, {\\\"count\\\": 0, \\\"right\\\": 0.50164, \\\"left\\\": 0.45044}, {\\\"count\\\": 0, \\\"right\\\": 0.55284, \\\"left\\\": 0.50164}, {\\\"count\\\": 0, \\\"right\\\": 0.60404, \\\"left\\\": 0.55284}, {\\\"count\\\": 0, \\\"right\\\": 0.65524, \\\"left\\\": 0.60404}, {\\\"count\\\": 0, \\\"right\\\": 0.70644, \\\"left\\\": 0.65524}, {\\\"count\\\": 0, \\\"right\\\": 0.75764, \\\"left\\\": 0.70644}, {\\\"count\\\": 0, \\\"right\\\": 0.80884, \\\"left\\\": 0.75764}, {\\\"count\\\": 0, \\\"right\\\": 0.86004, \\\"left\\\": 0.80884}, {\\\"count\\\": 0, \\\"right\\\": 0.91124, \\\"left\\\": 0.86004}, {\\\"count\\\": 0, \\\"right\\\": 0.96244, \\\"left\\\": 0.91124}, {\\\"count\\\": 12730, \\\"right\\\": 1.01364, \\\"left\\\": 0.96244}], \\\"stdev\\\": 0.333309, \\\"type\\\": \\\"integer\\\", \\\"mean\\\": 0.1273}, {\\\"a\\\": 23, \\\"num_row\\\": 100000, \\\"title\\\": \\\"thriller\\\", \\\"max\\\": 1.0, \\\"min\\\": 0.0, \\\"median\\\": 0.0, \\\"num_missing\\\": 0, \\\"num_unique\\\": 2, \\\"categorical\\\": [], \\\"numeric\\\": [{\\\"count\\\": 78128, \\\"right\\\": 0.04084, \\\"left\\\": -0.01036}, {\\\"count\\\": 0, \\\"right\\\": 0.09204, \\\"left\\\": 0.04084}, {\\\"count\\\": 0, \\\"right\\\": 0.14324, \\\"left\\\": 0.09204}, {\\\"count\\\": 0, \\\"right\\\": 0.19444, \\\"left\\\": 0.14324}, {\\\"count\\\": 0, \\\"right\\\": 0.24564, \\\"left\\\": 0.19444}, {\\\"count\\\": 0, \\\"right\\\": 0.29684, \\\"left\\\": 0.24564}, {\\\"count\\\": 0, \\\"right\\\": 0.34804, \\\"left\\\": 0.29684}, {\\\"count\\\": 0, \\\"right\\\": 0.39924, \\\"left\\\": 0.34804}, {\\\"count\\\": 0, \\\"right\\\": 0.45044, \\\"left\\\": 0.39924}, {\\\"count\\\": 0, \\\"right\\\": 0.50164, \\\"left\\\": 0.45044}, {\\\"count\\\": 0, \\\"right\\\": 0.55284, \\\"left\\\": 0.50164}, {\\\"count\\\": 0, \\\"right\\\": 0.60404, \\\"left\\\": 0.55284}, {\\\"count\\\": 0, \\\"right\\\": 0.65524, \\\"left\\\": 0.60404}, {\\\"count\\\": 0, \\\"right\\\": 0.70644, \\\"left\\\": 0.65524}, {\\\"count\\\": 0, \\\"right\\\": 0.75764, \\\"left\\\": 0.70644}, {\\\"count\\\": 0, \\\"right\\\": 0.80884, \\\"left\\\": 0.75764}, {\\\"count\\\": 0, \\\"right\\\": 0.86004, \\\"left\\\": 0.80884}, {\\\"count\\\": 0, \\\"right\\\": 0.91124, \\\"left\\\": 0.86004}, {\\\"count\\\": 0, \\\"right\\\": 0.96244, \\\"left\\\": 0.91124}, {\\\"count\\\": 21872, \\\"right\\\": 1.01364, \\\"left\\\": 0.96244}], \\\"stdev\\\": 0.413378, \\\"type\\\": \\\"integer\\\", \\\"mean\\\": 0.21872}, {\\\"a\\\": 24, \\\"num_row\\\": 100000, \\\"title\\\": \\\"war\\\", \\\"max\\\": 1.0, \\\"min\\\": 0.0, \\\"median\\\": 0.0, \\\"num_missing\\\": 0, \\\"num_unique\\\": 2, \\\"categorical\\\": [], \\\"numeric\\\": [{\\\"count\\\": 90602, \\\"right\\\": 0.04084, \\\"left\\\": -0.01036}, {\\\"count\\\": 0, \\\"right\\\": 0.09204, \\\"left\\\": 0.04084}, {\\\"count\\\": 0, \\\"right\\\": 0.14324, \\\"left\\\": 0.09204}, {\\\"count\\\": 0, \\\"right\\\": 0.19444, \\\"left\\\": 0.14324}, {\\\"count\\\": 0, \\\"right\\\": 0.24564, \\\"left\\\": 0.19444}, {\\\"count\\\": 0, \\\"right\\\": 0.29684, \\\"left\\\": 0.24564}, {\\\"count\\\": 0, \\\"right\\\": 0.34804, \\\"left\\\": 0.29684}, {\\\"count\\\": 0, \\\"right\\\": 0.39924, \\\"left\\\": 0.34804}, {\\\"count\\\": 0, \\\"right\\\": 0.45044, \\\"left\\\": 0.39924}, {\\\"count\\\": 0, \\\"right\\\": 0.50164, \\\"left\\\": 0.45044}, {\\\"count\\\": 0, \\\"right\\\": 0.55284, \\\"left\\\": 0.50164}, {\\\"count\\\": 0, \\\"right\\\": 0.60404, \\\"left\\\": 0.55284}, {\\\"count\\\": 0, \\\"right\\\": 0.65524, \\\"left\\\": 0.60404}, {\\\"count\\\": 0, \\\"right\\\": 0.70644, \\\"left\\\": 0.65524}, {\\\"count\\\": 0, \\\"right\\\": 0.75764, \\\"left\\\": 0.70644}, {\\\"count\\\": 0, \\\"right\\\": 0.80884, \\\"left\\\": 0.75764}, {\\\"count\\\": 0, \\\"right\\\": 0.86004, \\\"left\\\": 0.80884}, {\\\"count\\\": 0, \\\"right\\\": 0.91124, \\\"left\\\": 0.86004}, {\\\"count\\\": 0, \\\"right\\\": 0.96244, \\\"left\\\": 0.91124}, {\\\"count\\\": 9398, \\\"right\\\": 1.01364, \\\"left\\\": 0.96244}], \\\"stdev\\\": 0.291801, \\\"type\\\": \\\"integer\\\", \\\"mean\\\": 0.09398}, {\\\"a\\\": 25, \\\"num_row\\\": 100000, \\\"title\\\": \\\"western\\\", \\\"max\\\": 1.0, \\\"min\\\": 0.0, \\\"median\\\": 0.0, \\\"num_missing\\\": 0, \\\"num_unique\\\": 2, \\\"categorical\\\": [], \\\"numeric\\\": [{\\\"count\\\": 98146, \\\"right\\\": 0.04084, \\\"left\\\": -0.01036}, {\\\"count\\\": 0, \\\"right\\\": 0.09204, \\\"left\\\": 0.04084}, {\\\"count\\\": 0, \\\"right\\\": 0.14324, \\\"left\\\": 0.09204}, {\\\"count\\\": 0, \\\"right\\\": 0.19444, \\\"left\\\": 0.14324}, {\\\"count\\\": 0, \\\"right\\\": 0.24564, \\\"left\\\": 0.19444}, {\\\"count\\\": 0, \\\"right\\\": 0.29684, \\\"left\\\": 0.24564}, {\\\"count\\\": 0, \\\"right\\\": 0.34804, \\\"left\\\": 0.29684}, {\\\"count\\\": 0, \\\"right\\\": 0.39924, \\\"left\\\": 0.34804}, {\\\"count\\\": 0, \\\"right\\\": 0.45044, \\\"left\\\": 0.39924}, {\\\"count\\\": 0, \\\"right\\\": 0.50164, \\\"left\\\": 0.45044}, {\\\"count\\\": 0, \\\"right\\\": 0.55284, \\\"left\\\": 0.50164}, {\\\"count\\\": 0, \\\"right\\\": 0.60404, \\\"left\\\": 0.55284}, {\\\"count\\\": 0, \\\"right\\\": 0.65524, \\\"left\\\": 0.60404}, {\\\"count\\\": 0, \\\"right\\\": 0.70644, \\\"left\\\": 0.65524}, {\\\"count\\\": 0, \\\"right\\\": 0.75764, \\\"left\\\": 0.70644}, {\\\"count\\\": 0, \\\"right\\\": 0.80884, \\\"left\\\": 0.75764}, {\\\"count\\\": 0, \\\"right\\\": 0.86004, \\\"left\\\": 0.80884}, {\\\"count\\\": 0, \\\"right\\\": 0.91124, \\\"left\\\": 0.86004}, {\\\"count\\\": 0, \\\"right\\\": 0.96244, \\\"left\\\": 0.91124}, {\\\"count\\\": 1854, \\\"right\\\": 1.01364, \\\"left\\\": 0.96244}], \\\"stdev\\\": 0.134894, \\\"type\\\": \\\"integer\\\", \\\"mean\\\": 0.01854}], \\\"name\\\": \\\"source_2\\\"}, {\\\"source\\\": \\\"source_2\\\", \\\"name\\\": \\\"data_2\\\", \\\"transform\\\": [{\\\"expr\\\": \\\"20\\\", \\\"as\\\": \\\"c_x_axis_back\\\", \\\"type\\\": \\\"formula\\\"}, {\\\"expr\\\": \\\"toNumber(datum[\\\\\\\"a\\\\\\\"])*300+66\\\", \\\"as\\\": \\\"c_main_background\\\", \\\"type\\\": \\\"formula\\\"}, {\\\"expr\\\": \\\"toNumber(datum[\\\\\\\"a\\\\\\\"])*300+43\\\", \\\"as\\\": \\\"c_top_bar\\\", \\\"type\\\": \\\"formula\\\"}, {\\\"expr\\\": \\\"toNumber(datum[\\\\\\\"a\\\\\\\"])*300+59\\\", \\\"as\\\": \\\"c_top_title\\\", \\\"type\\\": \\\"formula\\\"}, {\\\"expr\\\": \\\"toNumber(datum[\\\\\\\"a\\\\\\\"])*300+58\\\", \\\"as\\\": \\\"c_top_type\\\", \\\"type\\\": \\\"formula\\\"}, {\\\"expr\\\": \\\"toNumber(datum[\\\\\\\"a\\\\\\\"])*300+178\\\", \\\"as\\\": \\\"c_rule\\\", \\\"type\\\": \\\"formula\\\"}, {\\\"expr\\\": \\\"toNumber(datum[\\\\\\\"a\\\\\\\"])*300+106\\\", \\\"as\\\": \\\"c_num_rows\\\", \\\"type\\\": \\\"formula\\\"}, {\\\"expr\\\": \\\"toNumber(datum[\\\\\\\"a\\\\\\\"])*300+130\\\", \\\"as\\\": \\\"c_num_unique\\\", \\\"type\\\": \\\"formula\\\"}, {\\\"expr\\\": \\\"toNumber(datum[\\\\\\\"a\\\\\\\"])*300+154\\\", \\\"as\\\": \\\"c_missing\\\", \\\"type\\\": \\\"formula\\\"}, {\\\"expr\\\": \\\"toNumber(datum[\\\\\\\"a\\\\\\\"])*300+105\\\", \\\"as\\\": \\\"c_num_rows_val\\\", \\\"type\\\": \\\"formula\\\"}, {\\\"expr\\\": \\\"toNumber(datum[\\\\\\\"a\\\\\\\"])*300+130\\\", \\\"as\\\": \\\"c_num_unique_val\\\", \\\"type\\\": \\\"formula\\\"}, {\\\"expr\\\": \\\"toNumber(datum[\\\\\\\"a\\\\\\\"])*300+154\\\", \\\"as\\\": \\\"c_missing_val\\\", \\\"type\\\": \\\"formula\\\"}, {\\\"expr\\\": \\\"toNumber(datum[\\\\\\\"a\\\\\\\"])*300+195\\\", \\\"as\\\": \\\"c_frequent_items\\\", \\\"type\\\": \\\"formula\\\"}, {\\\"expr\\\": \\\"toNumber(datum[\\\\\\\"a\\\\\\\"])*300+218\\\", \\\"as\\\": \\\"c_first_item\\\", \\\"type\\\": \\\"formula\\\"}, {\\\"expr\\\": \\\"toNumber(datum[\\\\\\\"a\\\\\\\"])*300+235\\\", \\\"as\\\": \\\"c_second_item\\\", \\\"type\\\": \\\"formula\\\"}, {\\\"expr\\\": \\\"toNumber(datum[\\\\\\\"a\\\\\\\"])*300+252\\\", \\\"as\\\": \\\"c_third_item\\\", \\\"type\\\": \\\"formula\\\"}, {\\\"expr\\\": \\\"toNumber(datum[\\\\\\\"a\\\\\\\"])*300+269\\\", \\\"as\\\": \\\"c_fourth_item\\\", \\\"type\\\": \\\"formula\\\"}, {\\\"expr\\\": \\\"toNumber(datum[\\\\\\\"a\\\\\\\"])*300+286\\\", \\\"as\\\": \\\"c_fifth_item\\\", \\\"type\\\": \\\"formula\\\"}, {\\\"expr\\\": \\\"toNumber(datum[\\\\\\\"a\\\\\\\"])*300+200\\\", \\\"as\\\": \\\"c_mean\\\", \\\"type\\\": \\\"formula\\\"}, {\\\"expr\\\": \\\"toNumber(datum[\\\\\\\"a\\\\\\\"])*300+220\\\", \\\"as\\\": \\\"c_min\\\", \\\"type\\\": \\\"formula\\\"}, {\\\"expr\\\": \\\"toNumber(datum[\\\\\\\"a\\\\\\\"])*300+240\\\", \\\"as\\\": \\\"c_max\\\", \\\"type\\\": \\\"formula\\\"}, {\\\"expr\\\": \\\"toNumber(datum[\\\\\\\"a\\\\\\\"])*300+260\\\", \\\"as\\\": \\\"c_median\\\", \\\"type\\\": \\\"formula\\\"}, {\\\"expr\\\": \\\"toNumber(datum[\\\\\\\"a\\\\\\\"])*300+280\\\", \\\"as\\\": \\\"c_stdev\\\", \\\"type\\\": \\\"formula\\\"}, {\\\"expr\\\": \\\"toNumber(datum[\\\\\\\"a\\\\\\\"])*300+198\\\", \\\"as\\\": \\\"c_mean_val\\\", \\\"type\\\": \\\"formula\\\"}, {\\\"expr\\\": \\\"toNumber(datum[\\\\\\\"a\\\\\\\"])*300+218\\\", \\\"as\\\": \\\"c_min_val\\\", \\\"type\\\": \\\"formula\\\"}, {\\\"expr\\\": \\\"toNumber(datum[\\\\\\\"a\\\\\\\"])*300+238\\\", \\\"as\\\": \\\"c_max_val\\\", \\\"type\\\": \\\"formula\\\"}, {\\\"expr\\\": \\\"toNumber(datum[\\\\\\\"a\\\\\\\"])*300+258\\\", \\\"as\\\": \\\"c_median_val\\\", \\\"type\\\": \\\"formula\\\"}, {\\\"expr\\\": \\\"toNumber(datum[\\\\\\\"a\\\\\\\"])*300+278\\\", \\\"as\\\": \\\"c_stdev_val\\\", \\\"type\\\": \\\"formula\\\"}, {\\\"expr\\\": \\\"toNumber(datum[\\\\\\\"a\\\\\\\"])*300+106\\\", \\\"as\\\": \\\"graph_offset\\\", \\\"type\\\": \\\"formula\\\"}, {\\\"expr\\\": \\\"toNumber(datum[\\\\\\\"a\\\\\\\"])*300+132\\\", \\\"as\\\": \\\"graph_offset_categorical\\\", \\\"type\\\": \\\"formula\\\"}, {\\\"expr\\\": \\\"(toString(datum[\\\\\\\"type\\\\\\\"]) == \\\\\\\"integer\\\\\\\" || toString(datum[\\\\\\\"type\\\\\\\"]) == \\\\\\\"float\\\\\\\")?false:true\\\", \\\"as\\\": \\\"c_clip_val\\\", \\\"type\\\": \\\"formula\\\"}, {\\\"expr\\\": \\\"(toString(datum[\\\\\\\"type\\\\\\\"]) == \\\\\\\"integer\\\\\\\" || toString(datum[\\\\\\\"type\\\\\\\"]) == \\\\\\\"float\\\\\\\")?250:0\\\", \\\"as\\\": \\\"c_width_numeric_val\\\", \\\"type\\\": \\\"formula\\\"}, {\\\"expr\\\": \\\"(toString(datum[\\\\\\\"type\\\\\\\"]) == \\\\\\\"str\\\\\\\")?false:true\\\", \\\"as\\\": \\\"c_clip_val_cat\\\", \\\"type\\\": \\\"formula\\\"}, {\\\"expr\\\": \\\"(toString(datum[\\\\\\\"type\\\\\\\"]) == \\\\\\\"str\\\\\\\")?250:0\\\", \\\"as\\\": \\\"c_width_numeric_val_cat\\\", \\\"type\\\": \\\"formula\\\"}]}], \\\"metadata\\\": {\\\"bubbleOpts\\\": {\\\"fields\\\": [{\\\"field\\\": \\\"left\\\"}, {\\\"field\\\": \\\"right\\\"}, {\\\"field\\\": \\\"count\\\"}, {\\\"field\\\": \\\"label\\\"}], \\\"showAllFields\\\": false}}}\";                                 var vega_json_parsed = JSON.parse(vega_json);                                 var toolTipOpts = {                                     showAllFields: true                                 };                                 if(vega_json_parsed[\"metadata\"] != null){                                     if(vega_json_parsed[\"metadata\"][\"bubbleOpts\"] != null){                                         toolTipOpts = vega_json_parsed[\"metadata\"][\"bubbleOpts\"];                                     };                                 };                                 vegaEmbed(\"#vis\", vega_json_parsed).then(function (result) {                                     vegaTooltip.vega(result.view, toolTipOpts);                                  });                             </script>                         </body>                     </html>' src=\"demo_iframe_srcdoc.htm\">                         <p>Your browser does not support iframes.</p>                     </iframe>                 </body>             </html>"
      ],
      "text/plain": [
       "<IPython.core.display.HTML object>"
      ]
     },
     "metadata": {},
     "output_type": "display_data"
    }
   ],
   "source": [
    "data.show()"
   ]
  },
  {
   "cell_type": "code",
   "execution_count": 4,
   "metadata": {
    "collapsed": false
   },
   "outputs": [
    {
     "data": {
      "text/html": [
       "<div style=\"max-height:1000px;max-width:1500px;overflow:auto;\"><table frame=\"box\" rules=\"cols\">\n",
       "    <tr>\n",
       "        <th style=\"padding-left: 1em; padding-right: 1em; text-align: center\">user_id</th>\n",
       "        <th style=\"padding-left: 1em; padding-right: 1em; text-align: center\">age</th>\n",
       "        <th style=\"padding-left: 1em; padding-right: 1em; text-align: center\">gender</th>\n",
       "        <th style=\"padding-left: 1em; padding-right: 1em; text-align: center\">occupation</th>\n",
       "    </tr>\n",
       "    <tr>\n",
       "        <td style=\"padding-left: 1em; padding-right: 1em; text-align: center; vertical-align: top\">196</td>\n",
       "        <td style=\"padding-left: 1em; padding-right: 1em; text-align: center; vertical-align: top\">49</td>\n",
       "        <td style=\"padding-left: 1em; padding-right: 1em; text-align: center; vertical-align: top\">1</td>\n",
       "        <td style=\"padding-left: 1em; padding-right: 1em; text-align: center; vertical-align: top\">20</td>\n",
       "    </tr>\n",
       "    <tr>\n",
       "        <td style=\"padding-left: 1em; padding-right: 1em; text-align: center; vertical-align: top\">305</td>\n",
       "        <td style=\"padding-left: 1em; padding-right: 1em; text-align: center; vertical-align: top\">23</td>\n",
       "        <td style=\"padding-left: 1em; padding-right: 1em; text-align: center; vertical-align: top\">1</td>\n",
       "        <td style=\"padding-left: 1em; padding-right: 1em; text-align: center; vertical-align: top\">14</td>\n",
       "    </tr>\n",
       "    <tr>\n",
       "        <td style=\"padding-left: 1em; padding-right: 1em; text-align: center; vertical-align: top\">6</td>\n",
       "        <td style=\"padding-left: 1em; padding-right: 1em; text-align: center; vertical-align: top\">42</td>\n",
       "        <td style=\"padding-left: 1em; padding-right: 1em; text-align: center; vertical-align: top\">1</td>\n",
       "        <td style=\"padding-left: 1em; padding-right: 1em; text-align: center; vertical-align: top\">6</td>\n",
       "    </tr>\n",
       "    <tr>\n",
       "        <td style=\"padding-left: 1em; padding-right: 1em; text-align: center; vertical-align: top\">234</td>\n",
       "        <td style=\"padding-left: 1em; padding-right: 1em; text-align: center; vertical-align: top\">60</td>\n",
       "        <td style=\"padding-left: 1em; padding-right: 1em; text-align: center; vertical-align: top\">1</td>\n",
       "        <td style=\"padding-left: 1em; padding-right: 1em; text-align: center; vertical-align: top\">15</td>\n",
       "    </tr>\n",
       "    <tr>\n",
       "        <td style=\"padding-left: 1em; padding-right: 1em; text-align: center; vertical-align: top\">63</td>\n",
       "        <td style=\"padding-left: 1em; padding-right: 1em; text-align: center; vertical-align: top\">31</td>\n",
       "        <td style=\"padding-left: 1em; padding-right: 1em; text-align: center; vertical-align: top\">1</td>\n",
       "        <td style=\"padding-left: 1em; padding-right: 1em; text-align: center; vertical-align: top\">11</td>\n",
       "    </tr>\n",
       "    <tr>\n",
       "        <td style=\"padding-left: 1em; padding-right: 1em; text-align: center; vertical-align: top\">181</td>\n",
       "        <td style=\"padding-left: 1em; padding-right: 1em; text-align: center; vertical-align: top\">26</td>\n",
       "        <td style=\"padding-left: 1em; padding-right: 1em; text-align: center; vertical-align: top\">1</td>\n",
       "        <td style=\"padding-left: 1em; padding-right: 1em; text-align: center; vertical-align: top\">6</td>\n",
       "    </tr>\n",
       "    <tr>\n",
       "        <td style=\"padding-left: 1em; padding-right: 1em; text-align: center; vertical-align: top\">201</td>\n",
       "        <td style=\"padding-left: 1em; padding-right: 1em; text-align: center; vertical-align: top\">27</td>\n",
       "        <td style=\"padding-left: 1em; padding-right: 1em; text-align: center; vertical-align: top\">1</td>\n",
       "        <td style=\"padding-left: 1em; padding-right: 1em; text-align: center; vertical-align: top\">20</td>\n",
       "    </tr>\n",
       "    <tr>\n",
       "        <td style=\"padding-left: 1em; padding-right: 1em; text-align: center; vertical-align: top\">249</td>\n",
       "        <td style=\"padding-left: 1em; padding-right: 1em; text-align: center; vertical-align: top\">25</td>\n",
       "        <td style=\"padding-left: 1em; padding-right: 1em; text-align: center; vertical-align: top\">1</td>\n",
       "        <td style=\"padding-left: 1em; padding-right: 1em; text-align: center; vertical-align: top\">18</td>\n",
       "    </tr>\n",
       "    <tr>\n",
       "        <td style=\"padding-left: 1em; padding-right: 1em; text-align: center; vertical-align: top\">13</td>\n",
       "        <td style=\"padding-left: 1em; padding-right: 1em; text-align: center; vertical-align: top\">47</td>\n",
       "        <td style=\"padding-left: 1em; padding-right: 1em; text-align: center; vertical-align: top\">1</td>\n",
       "        <td style=\"padding-left: 1em; padding-right: 1em; text-align: center; vertical-align: top\">3</td>\n",
       "    </tr>\n",
       "    <tr>\n",
       "        <td style=\"padding-left: 1em; padding-right: 1em; text-align: center; vertical-align: top\">279</td>\n",
       "        <td style=\"padding-left: 1em; padding-right: 1em; text-align: center; vertical-align: top\">33</td>\n",
       "        <td style=\"padding-left: 1em; padding-right: 1em; text-align: center; vertical-align: top\">1</td>\n",
       "        <td style=\"padding-left: 1em; padding-right: 1em; text-align: center; vertical-align: top\">14</td>\n",
       "    </tr>\n",
       "</table>\n",
       "[10 rows x 4 columns]<br/>\n",
       "</div>"
      ],
      "text/plain": [
       "Columns:\n",
       "\tuser_id\tint\n",
       "\tage\tint\n",
       "\tgender\tint\n",
       "\toccupation\tint\n",
       "\n",
       "Rows: 10\n",
       "\n",
       "Data:\n",
       "+---------+-----+--------+------------+\n",
       "| user_id | age | gender | occupation |\n",
       "+---------+-----+--------+------------+\n",
       "|   196   |  49 |   1    |     20     |\n",
       "|   305   |  23 |   1    |     14     |\n",
       "|    6    |  42 |   1    |     6      |\n",
       "|   234   |  60 |   1    |     15     |\n",
       "|    63   |  31 |   1    |     11     |\n",
       "|   181   |  26 |   1    |     6      |\n",
       "|   201   |  27 |   1    |     20     |\n",
       "|   249   |  25 |   1    |     18     |\n",
       "|    13   |  47 |   1    |     3      |\n",
       "|   279   |  33 |   1    |     14     |\n",
       "+---------+-----+--------+------------+\n",
       "[10 rows x 4 columns]"
      ]
     },
     "execution_count": 4,
     "metadata": {},
     "output_type": "execute_result"
    }
   ],
   "source": [
    "user = data.select_columns(['user_id', 'age', 'gender', 'occupation'])\n",
    "user.head()"
   ]
  },
  {
   "cell_type": "code",
   "execution_count": 5,
   "metadata": {
    "collapsed": false
   },
   "outputs": [],
   "source": [
    "item = tc.SFrame(data=data)\n",
    "item = item.remove_columns(['user_id', 'age', 'gender', 'occupation'])\n"
   ]
  },
  {
   "cell_type": "code",
   "execution_count": 6,
   "metadata": {
    "collapsed": false
   },
   "outputs": [
    {
     "data": {
      "text/html": [
       "<div style=\"max-height:1000px;max-width:1500px;overflow:auto;\"><table frame=\"box\" rules=\"cols\">\n",
       "    <tr>\n",
       "        <th style=\"padding-left: 1em; padding-right: 1em; text-align: center\">X1</th>\n",
       "        <th style=\"padding-left: 1em; padding-right: 1em; text-align: center\">item_id</th>\n",
       "        <th style=\"padding-left: 1em; padding-right: 1em; text-align: center\">rating</th>\n",
       "        <th style=\"padding-left: 1em; padding-right: 1em; text-align: center\">unknown</th>\n",
       "        <th style=\"padding-left: 1em; padding-right: 1em; text-align: center\">action</th>\n",
       "        <th style=\"padding-left: 1em; padding-right: 1em; text-align: center\">adventure</th>\n",
       "        <th style=\"padding-left: 1em; padding-right: 1em; text-align: center\">animation</th>\n",
       "        <th style=\"padding-left: 1em; padding-right: 1em; text-align: center\">children's</th>\n",
       "        <th style=\"padding-left: 1em; padding-right: 1em; text-align: center\">comedy</th>\n",
       "        <th style=\"padding-left: 1em; padding-right: 1em; text-align: center\">crime</th>\n",
       "        <th style=\"padding-left: 1em; padding-right: 1em; text-align: center\">documentary</th>\n",
       "        <th style=\"padding-left: 1em; padding-right: 1em; text-align: center\">drama</th>\n",
       "    </tr>\n",
       "    <tr>\n",
       "        <td style=\"padding-left: 1em; padding-right: 1em; text-align: center; vertical-align: top\">0</td>\n",
       "        <td style=\"padding-left: 1em; padding-right: 1em; text-align: center; vertical-align: top\">242</td>\n",
       "        <td style=\"padding-left: 1em; padding-right: 1em; text-align: center; vertical-align: top\">3</td>\n",
       "        <td style=\"padding-left: 1em; padding-right: 1em; text-align: center; vertical-align: top\">0</td>\n",
       "        <td style=\"padding-left: 1em; padding-right: 1em; text-align: center; vertical-align: top\">0</td>\n",
       "        <td style=\"padding-left: 1em; padding-right: 1em; text-align: center; vertical-align: top\">0</td>\n",
       "        <td style=\"padding-left: 1em; padding-right: 1em; text-align: center; vertical-align: top\">0</td>\n",
       "        <td style=\"padding-left: 1em; padding-right: 1em; text-align: center; vertical-align: top\">0</td>\n",
       "        <td style=\"padding-left: 1em; padding-right: 1em; text-align: center; vertical-align: top\">1</td>\n",
       "        <td style=\"padding-left: 1em; padding-right: 1em; text-align: center; vertical-align: top\">0</td>\n",
       "        <td style=\"padding-left: 1em; padding-right: 1em; text-align: center; vertical-align: top\">0</td>\n",
       "        <td style=\"padding-left: 1em; padding-right: 1em; text-align: center; vertical-align: top\">0</td>\n",
       "    </tr>\n",
       "    <tr>\n",
       "        <td style=\"padding-left: 1em; padding-right: 1em; text-align: center; vertical-align: top\">1</td>\n",
       "        <td style=\"padding-left: 1em; padding-right: 1em; text-align: center; vertical-align: top\">242</td>\n",
       "        <td style=\"padding-left: 1em; padding-right: 1em; text-align: center; vertical-align: top\">5</td>\n",
       "        <td style=\"padding-left: 1em; padding-right: 1em; text-align: center; vertical-align: top\">0</td>\n",
       "        <td style=\"padding-left: 1em; padding-right: 1em; text-align: center; vertical-align: top\">0</td>\n",
       "        <td style=\"padding-left: 1em; padding-right: 1em; text-align: center; vertical-align: top\">0</td>\n",
       "        <td style=\"padding-left: 1em; padding-right: 1em; text-align: center; vertical-align: top\">0</td>\n",
       "        <td style=\"padding-left: 1em; padding-right: 1em; text-align: center; vertical-align: top\">0</td>\n",
       "        <td style=\"padding-left: 1em; padding-right: 1em; text-align: center; vertical-align: top\">1</td>\n",
       "        <td style=\"padding-left: 1em; padding-right: 1em; text-align: center; vertical-align: top\">0</td>\n",
       "        <td style=\"padding-left: 1em; padding-right: 1em; text-align: center; vertical-align: top\">0</td>\n",
       "        <td style=\"padding-left: 1em; padding-right: 1em; text-align: center; vertical-align: top\">0</td>\n",
       "    </tr>\n",
       "    <tr>\n",
       "        <td style=\"padding-left: 1em; padding-right: 1em; text-align: center; vertical-align: top\">2</td>\n",
       "        <td style=\"padding-left: 1em; padding-right: 1em; text-align: center; vertical-align: top\">242</td>\n",
       "        <td style=\"padding-left: 1em; padding-right: 1em; text-align: center; vertical-align: top\">4</td>\n",
       "        <td style=\"padding-left: 1em; padding-right: 1em; text-align: center; vertical-align: top\">0</td>\n",
       "        <td style=\"padding-left: 1em; padding-right: 1em; text-align: center; vertical-align: top\">0</td>\n",
       "        <td style=\"padding-left: 1em; padding-right: 1em; text-align: center; vertical-align: top\">0</td>\n",
       "        <td style=\"padding-left: 1em; padding-right: 1em; text-align: center; vertical-align: top\">0</td>\n",
       "        <td style=\"padding-left: 1em; padding-right: 1em; text-align: center; vertical-align: top\">0</td>\n",
       "        <td style=\"padding-left: 1em; padding-right: 1em; text-align: center; vertical-align: top\">1</td>\n",
       "        <td style=\"padding-left: 1em; padding-right: 1em; text-align: center; vertical-align: top\">0</td>\n",
       "        <td style=\"padding-left: 1em; padding-right: 1em; text-align: center; vertical-align: top\">0</td>\n",
       "        <td style=\"padding-left: 1em; padding-right: 1em; text-align: center; vertical-align: top\">0</td>\n",
       "    </tr>\n",
       "    <tr>\n",
       "        <td style=\"padding-left: 1em; padding-right: 1em; text-align: center; vertical-align: top\">3</td>\n",
       "        <td style=\"padding-left: 1em; padding-right: 1em; text-align: center; vertical-align: top\">242</td>\n",
       "        <td style=\"padding-left: 1em; padding-right: 1em; text-align: center; vertical-align: top\">4</td>\n",
       "        <td style=\"padding-left: 1em; padding-right: 1em; text-align: center; vertical-align: top\">0</td>\n",
       "        <td style=\"padding-left: 1em; padding-right: 1em; text-align: center; vertical-align: top\">0</td>\n",
       "        <td style=\"padding-left: 1em; padding-right: 1em; text-align: center; vertical-align: top\">0</td>\n",
       "        <td style=\"padding-left: 1em; padding-right: 1em; text-align: center; vertical-align: top\">0</td>\n",
       "        <td style=\"padding-left: 1em; padding-right: 1em; text-align: center; vertical-align: top\">0</td>\n",
       "        <td style=\"padding-left: 1em; padding-right: 1em; text-align: center; vertical-align: top\">1</td>\n",
       "        <td style=\"padding-left: 1em; padding-right: 1em; text-align: center; vertical-align: top\">0</td>\n",
       "        <td style=\"padding-left: 1em; padding-right: 1em; text-align: center; vertical-align: top\">0</td>\n",
       "        <td style=\"padding-left: 1em; padding-right: 1em; text-align: center; vertical-align: top\">0</td>\n",
       "    </tr>\n",
       "    <tr>\n",
       "        <td style=\"padding-left: 1em; padding-right: 1em; text-align: center; vertical-align: top\">4</td>\n",
       "        <td style=\"padding-left: 1em; padding-right: 1em; text-align: center; vertical-align: top\">242</td>\n",
       "        <td style=\"padding-left: 1em; padding-right: 1em; text-align: center; vertical-align: top\">3</td>\n",
       "        <td style=\"padding-left: 1em; padding-right: 1em; text-align: center; vertical-align: top\">0</td>\n",
       "        <td style=\"padding-left: 1em; padding-right: 1em; text-align: center; vertical-align: top\">0</td>\n",
       "        <td style=\"padding-left: 1em; padding-right: 1em; text-align: center; vertical-align: top\">0</td>\n",
       "        <td style=\"padding-left: 1em; padding-right: 1em; text-align: center; vertical-align: top\">0</td>\n",
       "        <td style=\"padding-left: 1em; padding-right: 1em; text-align: center; vertical-align: top\">0</td>\n",
       "        <td style=\"padding-left: 1em; padding-right: 1em; text-align: center; vertical-align: top\">1</td>\n",
       "        <td style=\"padding-left: 1em; padding-right: 1em; text-align: center; vertical-align: top\">0</td>\n",
       "        <td style=\"padding-left: 1em; padding-right: 1em; text-align: center; vertical-align: top\">0</td>\n",
       "        <td style=\"padding-left: 1em; padding-right: 1em; text-align: center; vertical-align: top\">0</td>\n",
       "    </tr>\n",
       "    <tr>\n",
       "        <td style=\"padding-left: 1em; padding-right: 1em; text-align: center; vertical-align: top\">5</td>\n",
       "        <td style=\"padding-left: 1em; padding-right: 1em; text-align: center; vertical-align: top\">242</td>\n",
       "        <td style=\"padding-left: 1em; padding-right: 1em; text-align: center; vertical-align: top\">1</td>\n",
       "        <td style=\"padding-left: 1em; padding-right: 1em; text-align: center; vertical-align: top\">0</td>\n",
       "        <td style=\"padding-left: 1em; padding-right: 1em; text-align: center; vertical-align: top\">0</td>\n",
       "        <td style=\"padding-left: 1em; padding-right: 1em; text-align: center; vertical-align: top\">0</td>\n",
       "        <td style=\"padding-left: 1em; padding-right: 1em; text-align: center; vertical-align: top\">0</td>\n",
       "        <td style=\"padding-left: 1em; padding-right: 1em; text-align: center; vertical-align: top\">0</td>\n",
       "        <td style=\"padding-left: 1em; padding-right: 1em; text-align: center; vertical-align: top\">1</td>\n",
       "        <td style=\"padding-left: 1em; padding-right: 1em; text-align: center; vertical-align: top\">0</td>\n",
       "        <td style=\"padding-left: 1em; padding-right: 1em; text-align: center; vertical-align: top\">0</td>\n",
       "        <td style=\"padding-left: 1em; padding-right: 1em; text-align: center; vertical-align: top\">0</td>\n",
       "    </tr>\n",
       "    <tr>\n",
       "        <td style=\"padding-left: 1em; padding-right: 1em; text-align: center; vertical-align: top\">6</td>\n",
       "        <td style=\"padding-left: 1em; padding-right: 1em; text-align: center; vertical-align: top\">242</td>\n",
       "        <td style=\"padding-left: 1em; padding-right: 1em; text-align: center; vertical-align: top\">4</td>\n",
       "        <td style=\"padding-left: 1em; padding-right: 1em; text-align: center; vertical-align: top\">0</td>\n",
       "        <td style=\"padding-left: 1em; padding-right: 1em; text-align: center; vertical-align: top\">0</td>\n",
       "        <td style=\"padding-left: 1em; padding-right: 1em; text-align: center; vertical-align: top\">0</td>\n",
       "        <td style=\"padding-left: 1em; padding-right: 1em; text-align: center; vertical-align: top\">0</td>\n",
       "        <td style=\"padding-left: 1em; padding-right: 1em; text-align: center; vertical-align: top\">0</td>\n",
       "        <td style=\"padding-left: 1em; padding-right: 1em; text-align: center; vertical-align: top\">1</td>\n",
       "        <td style=\"padding-left: 1em; padding-right: 1em; text-align: center; vertical-align: top\">0</td>\n",
       "        <td style=\"padding-left: 1em; padding-right: 1em; text-align: center; vertical-align: top\">0</td>\n",
       "        <td style=\"padding-left: 1em; padding-right: 1em; text-align: center; vertical-align: top\">0</td>\n",
       "    </tr>\n",
       "    <tr>\n",
       "        <td style=\"padding-left: 1em; padding-right: 1em; text-align: center; vertical-align: top\">7</td>\n",
       "        <td style=\"padding-left: 1em; padding-right: 1em; text-align: center; vertical-align: top\">242</td>\n",
       "        <td style=\"padding-left: 1em; padding-right: 1em; text-align: center; vertical-align: top\">5</td>\n",
       "        <td style=\"padding-left: 1em; padding-right: 1em; text-align: center; vertical-align: top\">0</td>\n",
       "        <td style=\"padding-left: 1em; padding-right: 1em; text-align: center; vertical-align: top\">0</td>\n",
       "        <td style=\"padding-left: 1em; padding-right: 1em; text-align: center; vertical-align: top\">0</td>\n",
       "        <td style=\"padding-left: 1em; padding-right: 1em; text-align: center; vertical-align: top\">0</td>\n",
       "        <td style=\"padding-left: 1em; padding-right: 1em; text-align: center; vertical-align: top\">0</td>\n",
       "        <td style=\"padding-left: 1em; padding-right: 1em; text-align: center; vertical-align: top\">1</td>\n",
       "        <td style=\"padding-left: 1em; padding-right: 1em; text-align: center; vertical-align: top\">0</td>\n",
       "        <td style=\"padding-left: 1em; padding-right: 1em; text-align: center; vertical-align: top\">0</td>\n",
       "        <td style=\"padding-left: 1em; padding-right: 1em; text-align: center; vertical-align: top\">0</td>\n",
       "    </tr>\n",
       "    <tr>\n",
       "        <td style=\"padding-left: 1em; padding-right: 1em; text-align: center; vertical-align: top\">8</td>\n",
       "        <td style=\"padding-left: 1em; padding-right: 1em; text-align: center; vertical-align: top\">242</td>\n",
       "        <td style=\"padding-left: 1em; padding-right: 1em; text-align: center; vertical-align: top\">2</td>\n",
       "        <td style=\"padding-left: 1em; padding-right: 1em; text-align: center; vertical-align: top\">0</td>\n",
       "        <td style=\"padding-left: 1em; padding-right: 1em; text-align: center; vertical-align: top\">0</td>\n",
       "        <td style=\"padding-left: 1em; padding-right: 1em; text-align: center; vertical-align: top\">0</td>\n",
       "        <td style=\"padding-left: 1em; padding-right: 1em; text-align: center; vertical-align: top\">0</td>\n",
       "        <td style=\"padding-left: 1em; padding-right: 1em; text-align: center; vertical-align: top\">0</td>\n",
       "        <td style=\"padding-left: 1em; padding-right: 1em; text-align: center; vertical-align: top\">1</td>\n",
       "        <td style=\"padding-left: 1em; padding-right: 1em; text-align: center; vertical-align: top\">0</td>\n",
       "        <td style=\"padding-left: 1em; padding-right: 1em; text-align: center; vertical-align: top\">0</td>\n",
       "        <td style=\"padding-left: 1em; padding-right: 1em; text-align: center; vertical-align: top\">0</td>\n",
       "    </tr>\n",
       "    <tr>\n",
       "        <td style=\"padding-left: 1em; padding-right: 1em; text-align: center; vertical-align: top\">9</td>\n",
       "        <td style=\"padding-left: 1em; padding-right: 1em; text-align: center; vertical-align: top\">242</td>\n",
       "        <td style=\"padding-left: 1em; padding-right: 1em; text-align: center; vertical-align: top\">3</td>\n",
       "        <td style=\"padding-left: 1em; padding-right: 1em; text-align: center; vertical-align: top\">0</td>\n",
       "        <td style=\"padding-left: 1em; padding-right: 1em; text-align: center; vertical-align: top\">0</td>\n",
       "        <td style=\"padding-left: 1em; padding-right: 1em; text-align: center; vertical-align: top\">0</td>\n",
       "        <td style=\"padding-left: 1em; padding-right: 1em; text-align: center; vertical-align: top\">0</td>\n",
       "        <td style=\"padding-left: 1em; padding-right: 1em; text-align: center; vertical-align: top\">0</td>\n",
       "        <td style=\"padding-left: 1em; padding-right: 1em; text-align: center; vertical-align: top\">1</td>\n",
       "        <td style=\"padding-left: 1em; padding-right: 1em; text-align: center; vertical-align: top\">0</td>\n",
       "        <td style=\"padding-left: 1em; padding-right: 1em; text-align: center; vertical-align: top\">0</td>\n",
       "        <td style=\"padding-left: 1em; padding-right: 1em; text-align: center; vertical-align: top\">0</td>\n",
       "    </tr>\n",
       "</table>\n",
       "<table frame=\"box\" rules=\"cols\">\n",
       "    <tr>\n",
       "        <th style=\"padding-left: 1em; padding-right: 1em; text-align: center\">fantasy</th>\n",
       "        <th style=\"padding-left: 1em; padding-right: 1em; text-align: center\">film-noir</th>\n",
       "        <th style=\"padding-left: 1em; padding-right: 1em; text-align: center\">horror</th>\n",
       "        <th style=\"padding-left: 1em; padding-right: 1em; text-align: center\">musical</th>\n",
       "        <th style=\"padding-left: 1em; padding-right: 1em; text-align: center\">mystery</th>\n",
       "        <th style=\"padding-left: 1em; padding-right: 1em; text-align: center\">romance</th>\n",
       "        <th style=\"padding-left: 1em; padding-right: 1em; text-align: center\">sci-fi</th>\n",
       "        <th style=\"padding-left: 1em; padding-right: 1em; text-align: center\">thriller</th>\n",
       "        <th style=\"padding-left: 1em; padding-right: 1em; text-align: center\">war</th>\n",
       "        <th style=\"padding-left: 1em; padding-right: 1em; text-align: center\">western</th>\n",
       "    </tr>\n",
       "    <tr>\n",
       "        <td style=\"padding-left: 1em; padding-right: 1em; text-align: center; vertical-align: top\">0</td>\n",
       "        <td style=\"padding-left: 1em; padding-right: 1em; text-align: center; vertical-align: top\">0</td>\n",
       "        <td style=\"padding-left: 1em; padding-right: 1em; text-align: center; vertical-align: top\">0</td>\n",
       "        <td style=\"padding-left: 1em; padding-right: 1em; text-align: center; vertical-align: top\">0</td>\n",
       "        <td style=\"padding-left: 1em; padding-right: 1em; text-align: center; vertical-align: top\">0</td>\n",
       "        <td style=\"padding-left: 1em; padding-right: 1em; text-align: center; vertical-align: top\">0</td>\n",
       "        <td style=\"padding-left: 1em; padding-right: 1em; text-align: center; vertical-align: top\">0</td>\n",
       "        <td style=\"padding-left: 1em; padding-right: 1em; text-align: center; vertical-align: top\">0</td>\n",
       "        <td style=\"padding-left: 1em; padding-right: 1em; text-align: center; vertical-align: top\">0</td>\n",
       "        <td style=\"padding-left: 1em; padding-right: 1em; text-align: center; vertical-align: top\">0</td>\n",
       "    </tr>\n",
       "    <tr>\n",
       "        <td style=\"padding-left: 1em; padding-right: 1em; text-align: center; vertical-align: top\">0</td>\n",
       "        <td style=\"padding-left: 1em; padding-right: 1em; text-align: center; vertical-align: top\">0</td>\n",
       "        <td style=\"padding-left: 1em; padding-right: 1em; text-align: center; vertical-align: top\">0</td>\n",
       "        <td style=\"padding-left: 1em; padding-right: 1em; text-align: center; vertical-align: top\">0</td>\n",
       "        <td style=\"padding-left: 1em; padding-right: 1em; text-align: center; vertical-align: top\">0</td>\n",
       "        <td style=\"padding-left: 1em; padding-right: 1em; text-align: center; vertical-align: top\">0</td>\n",
       "        <td style=\"padding-left: 1em; padding-right: 1em; text-align: center; vertical-align: top\">0</td>\n",
       "        <td style=\"padding-left: 1em; padding-right: 1em; text-align: center; vertical-align: top\">0</td>\n",
       "        <td style=\"padding-left: 1em; padding-right: 1em; text-align: center; vertical-align: top\">0</td>\n",
       "        <td style=\"padding-left: 1em; padding-right: 1em; text-align: center; vertical-align: top\">0</td>\n",
       "    </tr>\n",
       "    <tr>\n",
       "        <td style=\"padding-left: 1em; padding-right: 1em; text-align: center; vertical-align: top\">0</td>\n",
       "        <td style=\"padding-left: 1em; padding-right: 1em; text-align: center; vertical-align: top\">0</td>\n",
       "        <td style=\"padding-left: 1em; padding-right: 1em; text-align: center; vertical-align: top\">0</td>\n",
       "        <td style=\"padding-left: 1em; padding-right: 1em; text-align: center; vertical-align: top\">0</td>\n",
       "        <td style=\"padding-left: 1em; padding-right: 1em; text-align: center; vertical-align: top\">0</td>\n",
       "        <td style=\"padding-left: 1em; padding-right: 1em; text-align: center; vertical-align: top\">0</td>\n",
       "        <td style=\"padding-left: 1em; padding-right: 1em; text-align: center; vertical-align: top\">0</td>\n",
       "        <td style=\"padding-left: 1em; padding-right: 1em; text-align: center; vertical-align: top\">0</td>\n",
       "        <td style=\"padding-left: 1em; padding-right: 1em; text-align: center; vertical-align: top\">0</td>\n",
       "        <td style=\"padding-left: 1em; padding-right: 1em; text-align: center; vertical-align: top\">0</td>\n",
       "    </tr>\n",
       "    <tr>\n",
       "        <td style=\"padding-left: 1em; padding-right: 1em; text-align: center; vertical-align: top\">0</td>\n",
       "        <td style=\"padding-left: 1em; padding-right: 1em; text-align: center; vertical-align: top\">0</td>\n",
       "        <td style=\"padding-left: 1em; padding-right: 1em; text-align: center; vertical-align: top\">0</td>\n",
       "        <td style=\"padding-left: 1em; padding-right: 1em; text-align: center; vertical-align: top\">0</td>\n",
       "        <td style=\"padding-left: 1em; padding-right: 1em; text-align: center; vertical-align: top\">0</td>\n",
       "        <td style=\"padding-left: 1em; padding-right: 1em; text-align: center; vertical-align: top\">0</td>\n",
       "        <td style=\"padding-left: 1em; padding-right: 1em; text-align: center; vertical-align: top\">0</td>\n",
       "        <td style=\"padding-left: 1em; padding-right: 1em; text-align: center; vertical-align: top\">0</td>\n",
       "        <td style=\"padding-left: 1em; padding-right: 1em; text-align: center; vertical-align: top\">0</td>\n",
       "        <td style=\"padding-left: 1em; padding-right: 1em; text-align: center; vertical-align: top\">0</td>\n",
       "    </tr>\n",
       "    <tr>\n",
       "        <td style=\"padding-left: 1em; padding-right: 1em; text-align: center; vertical-align: top\">0</td>\n",
       "        <td style=\"padding-left: 1em; padding-right: 1em; text-align: center; vertical-align: top\">0</td>\n",
       "        <td style=\"padding-left: 1em; padding-right: 1em; text-align: center; vertical-align: top\">0</td>\n",
       "        <td style=\"padding-left: 1em; padding-right: 1em; text-align: center; vertical-align: top\">0</td>\n",
       "        <td style=\"padding-left: 1em; padding-right: 1em; text-align: center; vertical-align: top\">0</td>\n",
       "        <td style=\"padding-left: 1em; padding-right: 1em; text-align: center; vertical-align: top\">0</td>\n",
       "        <td style=\"padding-left: 1em; padding-right: 1em; text-align: center; vertical-align: top\">0</td>\n",
       "        <td style=\"padding-left: 1em; padding-right: 1em; text-align: center; vertical-align: top\">0</td>\n",
       "        <td style=\"padding-left: 1em; padding-right: 1em; text-align: center; vertical-align: top\">0</td>\n",
       "        <td style=\"padding-left: 1em; padding-right: 1em; text-align: center; vertical-align: top\">0</td>\n",
       "    </tr>\n",
       "    <tr>\n",
       "        <td style=\"padding-left: 1em; padding-right: 1em; text-align: center; vertical-align: top\">0</td>\n",
       "        <td style=\"padding-left: 1em; padding-right: 1em; text-align: center; vertical-align: top\">0</td>\n",
       "        <td style=\"padding-left: 1em; padding-right: 1em; text-align: center; vertical-align: top\">0</td>\n",
       "        <td style=\"padding-left: 1em; padding-right: 1em; text-align: center; vertical-align: top\">0</td>\n",
       "        <td style=\"padding-left: 1em; padding-right: 1em; text-align: center; vertical-align: top\">0</td>\n",
       "        <td style=\"padding-left: 1em; padding-right: 1em; text-align: center; vertical-align: top\">0</td>\n",
       "        <td style=\"padding-left: 1em; padding-right: 1em; text-align: center; vertical-align: top\">0</td>\n",
       "        <td style=\"padding-left: 1em; padding-right: 1em; text-align: center; vertical-align: top\">0</td>\n",
       "        <td style=\"padding-left: 1em; padding-right: 1em; text-align: center; vertical-align: top\">0</td>\n",
       "        <td style=\"padding-left: 1em; padding-right: 1em; text-align: center; vertical-align: top\">0</td>\n",
       "    </tr>\n",
       "    <tr>\n",
       "        <td style=\"padding-left: 1em; padding-right: 1em; text-align: center; vertical-align: top\">0</td>\n",
       "        <td style=\"padding-left: 1em; padding-right: 1em; text-align: center; vertical-align: top\">0</td>\n",
       "        <td style=\"padding-left: 1em; padding-right: 1em; text-align: center; vertical-align: top\">0</td>\n",
       "        <td style=\"padding-left: 1em; padding-right: 1em; text-align: center; vertical-align: top\">0</td>\n",
       "        <td style=\"padding-left: 1em; padding-right: 1em; text-align: center; vertical-align: top\">0</td>\n",
       "        <td style=\"padding-left: 1em; padding-right: 1em; text-align: center; vertical-align: top\">0</td>\n",
       "        <td style=\"padding-left: 1em; padding-right: 1em; text-align: center; vertical-align: top\">0</td>\n",
       "        <td style=\"padding-left: 1em; padding-right: 1em; text-align: center; vertical-align: top\">0</td>\n",
       "        <td style=\"padding-left: 1em; padding-right: 1em; text-align: center; vertical-align: top\">0</td>\n",
       "        <td style=\"padding-left: 1em; padding-right: 1em; text-align: center; vertical-align: top\">0</td>\n",
       "    </tr>\n",
       "    <tr>\n",
       "        <td style=\"padding-left: 1em; padding-right: 1em; text-align: center; vertical-align: top\">0</td>\n",
       "        <td style=\"padding-left: 1em; padding-right: 1em; text-align: center; vertical-align: top\">0</td>\n",
       "        <td style=\"padding-left: 1em; padding-right: 1em; text-align: center; vertical-align: top\">0</td>\n",
       "        <td style=\"padding-left: 1em; padding-right: 1em; text-align: center; vertical-align: top\">0</td>\n",
       "        <td style=\"padding-left: 1em; padding-right: 1em; text-align: center; vertical-align: top\">0</td>\n",
       "        <td style=\"padding-left: 1em; padding-right: 1em; text-align: center; vertical-align: top\">0</td>\n",
       "        <td style=\"padding-left: 1em; padding-right: 1em; text-align: center; vertical-align: top\">0</td>\n",
       "        <td style=\"padding-left: 1em; padding-right: 1em; text-align: center; vertical-align: top\">0</td>\n",
       "        <td style=\"padding-left: 1em; padding-right: 1em; text-align: center; vertical-align: top\">0</td>\n",
       "        <td style=\"padding-left: 1em; padding-right: 1em; text-align: center; vertical-align: top\">0</td>\n",
       "    </tr>\n",
       "    <tr>\n",
       "        <td style=\"padding-left: 1em; padding-right: 1em; text-align: center; vertical-align: top\">0</td>\n",
       "        <td style=\"padding-left: 1em; padding-right: 1em; text-align: center; vertical-align: top\">0</td>\n",
       "        <td style=\"padding-left: 1em; padding-right: 1em; text-align: center; vertical-align: top\">0</td>\n",
       "        <td style=\"padding-left: 1em; padding-right: 1em; text-align: center; vertical-align: top\">0</td>\n",
       "        <td style=\"padding-left: 1em; padding-right: 1em; text-align: center; vertical-align: top\">0</td>\n",
       "        <td style=\"padding-left: 1em; padding-right: 1em; text-align: center; vertical-align: top\">0</td>\n",
       "        <td style=\"padding-left: 1em; padding-right: 1em; text-align: center; vertical-align: top\">0</td>\n",
       "        <td style=\"padding-left: 1em; padding-right: 1em; text-align: center; vertical-align: top\">0</td>\n",
       "        <td style=\"padding-left: 1em; padding-right: 1em; text-align: center; vertical-align: top\">0</td>\n",
       "        <td style=\"padding-left: 1em; padding-right: 1em; text-align: center; vertical-align: top\">0</td>\n",
       "    </tr>\n",
       "    <tr>\n",
       "        <td style=\"padding-left: 1em; padding-right: 1em; text-align: center; vertical-align: top\">0</td>\n",
       "        <td style=\"padding-left: 1em; padding-right: 1em; text-align: center; vertical-align: top\">0</td>\n",
       "        <td style=\"padding-left: 1em; padding-right: 1em; text-align: center; vertical-align: top\">0</td>\n",
       "        <td style=\"padding-left: 1em; padding-right: 1em; text-align: center; vertical-align: top\">0</td>\n",
       "        <td style=\"padding-left: 1em; padding-right: 1em; text-align: center; vertical-align: top\">0</td>\n",
       "        <td style=\"padding-left: 1em; padding-right: 1em; text-align: center; vertical-align: top\">0</td>\n",
       "        <td style=\"padding-left: 1em; padding-right: 1em; text-align: center; vertical-align: top\">0</td>\n",
       "        <td style=\"padding-left: 1em; padding-right: 1em; text-align: center; vertical-align: top\">0</td>\n",
       "        <td style=\"padding-left: 1em; padding-right: 1em; text-align: center; vertical-align: top\">0</td>\n",
       "        <td style=\"padding-left: 1em; padding-right: 1em; text-align: center; vertical-align: top\">0</td>\n",
       "    </tr>\n",
       "</table>\n",
       "[10 rows x 22 columns]<br/>\n",
       "</div>"
      ],
      "text/plain": [
       "Columns:\n",
       "\tX1\tint\n",
       "\titem_id\tint\n",
       "\trating\tint\n",
       "\tunknown\tint\n",
       "\taction\tint\n",
       "\tadventure\tint\n",
       "\tanimation\tint\n",
       "\tchildren's\tint\n",
       "\tcomedy\tint\n",
       "\tcrime\tint\n",
       "\tdocumentary\tint\n",
       "\tdrama\tint\n",
       "\tfantasy\tint\n",
       "\tfilm-noir\tint\n",
       "\thorror\tint\n",
       "\tmusical\tint\n",
       "\tmystery\tint\n",
       "\tromance\tint\n",
       "\tsci-fi\tint\n",
       "\tthriller\tint\n",
       "\twar\tint\n",
       "\twestern\tint\n",
       "\n",
       "Rows: 10\n",
       "\n",
       "Data:\n",
       "+----+---------+--------+---------+--------+-----------+-----------+------------+\n",
       "| X1 | item_id | rating | unknown | action | adventure | animation | children's |\n",
       "+----+---------+--------+---------+--------+-----------+-----------+------------+\n",
       "| 0  |   242   |   3    |    0    |   0    |     0     |     0     |     0      |\n",
       "| 1  |   242   |   5    |    0    |   0    |     0     |     0     |     0      |\n",
       "| 2  |   242   |   4    |    0    |   0    |     0     |     0     |     0      |\n",
       "| 3  |   242   |   4    |    0    |   0    |     0     |     0     |     0      |\n",
       "| 4  |   242   |   3    |    0    |   0    |     0     |     0     |     0      |\n",
       "| 5  |   242   |   1    |    0    |   0    |     0     |     0     |     0      |\n",
       "| 6  |   242   |   4    |    0    |   0    |     0     |     0     |     0      |\n",
       "| 7  |   242   |   5    |    0    |   0    |     0     |     0     |     0      |\n",
       "| 8  |   242   |   2    |    0    |   0    |     0     |     0     |     0      |\n",
       "| 9  |   242   |   3    |    0    |   0    |     0     |     0     |     0      |\n",
       "+----+---------+--------+---------+--------+-----------+-----------+------------+\n",
       "+--------+-------+-------------+-------+---------+-----------+--------+---------+\n",
       "| comedy | crime | documentary | drama | fantasy | film-noir | horror | musical |\n",
       "+--------+-------+-------------+-------+---------+-----------+--------+---------+\n",
       "|   1    |   0   |      0      |   0   |    0    |     0     |   0    |    0    |\n",
       "|   1    |   0   |      0      |   0   |    0    |     0     |   0    |    0    |\n",
       "|   1    |   0   |      0      |   0   |    0    |     0     |   0    |    0    |\n",
       "|   1    |   0   |      0      |   0   |    0    |     0     |   0    |    0    |\n",
       "|   1    |   0   |      0      |   0   |    0    |     0     |   0    |    0    |\n",
       "|   1    |   0   |      0      |   0   |    0    |     0     |   0    |    0    |\n",
       "|   1    |   0   |      0      |   0   |    0    |     0     |   0    |    0    |\n",
       "|   1    |   0   |      0      |   0   |    0    |     0     |   0    |    0    |\n",
       "|   1    |   0   |      0      |   0   |    0    |     0     |   0    |    0    |\n",
       "|   1    |   0   |      0      |   0   |    0    |     0     |   0    |    0    |\n",
       "+--------+-------+-------------+-------+---------+-----------+--------+---------+\n",
       "+---------+---------+--------+----------+-----+\n",
       "| mystery | romance | sci-fi | thriller | ... |\n",
       "+---------+---------+--------+----------+-----+\n",
       "|    0    |    0    |   0    |    0     | ... |\n",
       "|    0    |    0    |   0    |    0     | ... |\n",
       "|    0    |    0    |   0    |    0     | ... |\n",
       "|    0    |    0    |   0    |    0     | ... |\n",
       "|    0    |    0    |   0    |    0     | ... |\n",
       "|    0    |    0    |   0    |    0     | ... |\n",
       "|    0    |    0    |   0    |    0     | ... |\n",
       "|    0    |    0    |   0    |    0     | ... |\n",
       "|    0    |    0    |   0    |    0     | ... |\n",
       "|    0    |    0    |   0    |    0     | ... |\n",
       "+---------+---------+--------+----------+-----+\n",
       "[10 rows x 22 columns]"
      ]
     },
     "execution_count": 6,
     "metadata": {},
     "output_type": "execute_result"
    }
   ],
   "source": [
    "item.head()"
   ]
  },
  {
   "cell_type": "code",
   "execution_count": 7,
   "metadata": {
    "collapsed": false
   },
   "outputs": [],
   "source": [
    "train, test = tc.recommender.util.random_split_by_user(data)\n"
   ]
  },
  {
   "cell_type": "code",
   "execution_count": 8,
   "metadata": {
    "collapsed": false
   },
   "outputs": [
    {
     "data": {
      "text/html": [
       "<pre>Preparing data set.</pre>"
      ],
      "text/plain": [
       "Preparing data set."
      ]
     },
     "metadata": {},
     "output_type": "display_data"
    },
    {
     "data": {
      "text/html": [
       "<pre>    Data has 80009 observations with 943 users and 1682 items.</pre>"
      ],
      "text/plain": [
       "    Data has 80009 observations with 943 users and 1682 items."
      ]
     },
     "metadata": {},
     "output_type": "display_data"
    },
    {
     "data": {
      "text/html": [
       "<pre>    Data prepared in: 0.799792s</pre>"
      ],
      "text/plain": [
       "    Data prepared in: 0.799792s"
      ]
     },
     "metadata": {},
     "output_type": "display_data"
    },
    {
     "data": {
      "text/html": [
       "<pre>Training factorization_recommender for recommendations.</pre>"
      ],
      "text/plain": [
       "Training factorization_recommender for recommendations."
      ]
     },
     "metadata": {},
     "output_type": "display_data"
    },
    {
     "data": {
      "text/html": [
       "<pre>+--------------------------------+--------------------------------------------------+----------+</pre>"
      ],
      "text/plain": [
       "+--------------------------------+--------------------------------------------------+----------+"
      ]
     },
     "metadata": {},
     "output_type": "display_data"
    },
    {
     "data": {
      "text/html": [
       "<pre>| Parameter                      | Description                                      | Value    |</pre>"
      ],
      "text/plain": [
       "| Parameter                      | Description                                      | Value    |"
      ]
     },
     "metadata": {},
     "output_type": "display_data"
    },
    {
     "data": {
      "text/html": [
       "<pre>+--------------------------------+--------------------------------------------------+----------+</pre>"
      ],
      "text/plain": [
       "+--------------------------------+--------------------------------------------------+----------+"
      ]
     },
     "metadata": {},
     "output_type": "display_data"
    },
    {
     "data": {
      "text/html": [
       "<pre>| num_factors                    | Factor Dimension                                 | 8        |</pre>"
      ],
      "text/plain": [
       "| num_factors                    | Factor Dimension                                 | 8        |"
      ]
     },
     "metadata": {},
     "output_type": "display_data"
    },
    {
     "data": {
      "text/html": [
       "<pre>| regularization                 | L2 Regularization on Factors                     | 1e-08    |</pre>"
      ],
      "text/plain": [
       "| regularization                 | L2 Regularization on Factors                     | 1e-08    |"
      ]
     },
     "metadata": {},
     "output_type": "display_data"
    },
    {
     "data": {
      "text/html": [
       "<pre>| solver                         | Solver used for training                         | adagrad  |</pre>"
      ],
      "text/plain": [
       "| solver                         | Solver used for training                         | adagrad  |"
      ]
     },
     "metadata": {},
     "output_type": "display_data"
    },
    {
     "data": {
      "text/html": [
       "<pre>| linear_regularization          | L2 Regularization on Linear Coefficients         | 1e-10    |</pre>"
      ],
      "text/plain": [
       "| linear_regularization          | L2 Regularization on Linear Coefficients         | 1e-10    |"
      ]
     },
     "metadata": {},
     "output_type": "display_data"
    },
    {
     "data": {
      "text/html": [
       "<pre>| side_data_factorization        | Assign Factors for Side Data                     | True     |</pre>"
      ],
      "text/plain": [
       "| side_data_factorization        | Assign Factors for Side Data                     | True     |"
      ]
     },
     "metadata": {},
     "output_type": "display_data"
    },
    {
     "data": {
      "text/html": [
       "<pre>| max_iterations                 | Maximum Number of Iterations                     | 50       |</pre>"
      ],
      "text/plain": [
       "| max_iterations                 | Maximum Number of Iterations                     | 50       |"
      ]
     },
     "metadata": {},
     "output_type": "display_data"
    },
    {
     "data": {
      "text/html": [
       "<pre>+--------------------------------+--------------------------------------------------+----------+</pre>"
      ],
      "text/plain": [
       "+--------------------------------+--------------------------------------------------+----------+"
      ]
     },
     "metadata": {},
     "output_type": "display_data"
    },
    {
     "data": {
      "text/html": [
       "<pre>  Optimizing model using SGD; tuning step size.</pre>"
      ],
      "text/plain": [
       "  Optimizing model using SGD; tuning step size."
      ]
     },
     "metadata": {},
     "output_type": "display_data"
    },
    {
     "data": {
      "text/html": [
       "<pre>  Using 10001 / 80009 points for tuning the step size.</pre>"
      ],
      "text/plain": [
       "  Using 10001 / 80009 points for tuning the step size."
      ]
     },
     "metadata": {},
     "output_type": "display_data"
    },
    {
     "data": {
      "text/html": [
       "<pre>+---------+-------------------+------------------------------------------+</pre>"
      ],
      "text/plain": [
       "+---------+-------------------+------------------------------------------+"
      ]
     },
     "metadata": {},
     "output_type": "display_data"
    },
    {
     "data": {
      "text/html": [
       "<pre>| Attempt | Initial Step Size | Estimated Objective Value                |</pre>"
      ],
      "text/plain": [
       "| Attempt | Initial Step Size | Estimated Objective Value                |"
      ]
     },
     "metadata": {},
     "output_type": "display_data"
    },
    {
     "data": {
      "text/html": [
       "<pre>+---------+-------------------+------------------------------------------+</pre>"
      ],
      "text/plain": [
       "+---------+-------------------+------------------------------------------+"
      ]
     },
     "metadata": {},
     "output_type": "display_data"
    },
    {
     "data": {
      "text/html": [
       "<pre>| 0       | 1.02041           | Not Viable                               |</pre>"
      ],
      "text/plain": [
       "| 0       | 1.02041           | Not Viable                               |"
      ]
     },
     "metadata": {},
     "output_type": "display_data"
    },
    {
     "data": {
      "text/html": [
       "<pre>| 1       | 0.255102          | Not Viable                               |</pre>"
      ],
      "text/plain": [
       "| 1       | 0.255102          | Not Viable                               |"
      ]
     },
     "metadata": {},
     "output_type": "display_data"
    },
    {
     "data": {
      "text/html": [
       "<pre>| 2       | 0.0637755         | Not Viable                               |</pre>"
      ],
      "text/plain": [
       "| 2       | 0.0637755         | Not Viable                               |"
      ]
     },
     "metadata": {},
     "output_type": "display_data"
    },
    {
     "data": {
      "text/html": [
       "<pre>| 3       | 0.0159439         | 0.97191                                  |</pre>"
      ],
      "text/plain": [
       "| 3       | 0.0159439         | 0.97191                                  |"
      ]
     },
     "metadata": {},
     "output_type": "display_data"
    },
    {
     "data": {
      "text/html": [
       "<pre>| 4       | 0.00797194        | 1.07155                                  |</pre>"
      ],
      "text/plain": [
       "| 4       | 0.00797194        | 1.07155                                  |"
      ]
     },
     "metadata": {},
     "output_type": "display_data"
    },
    {
     "data": {
      "text/html": [
       "<pre>| 5       | 0.00398597        | 1.13213                                  |</pre>"
      ],
      "text/plain": [
       "| 5       | 0.00398597        | 1.13213                                  |"
      ]
     },
     "metadata": {},
     "output_type": "display_data"
    },
    {
     "data": {
      "text/html": [
       "<pre>| 6       | 0.00199298        | 1.16809                                  |</pre>"
      ],
      "text/plain": [
       "| 6       | 0.00199298        | 1.16809                                  |"
      ]
     },
     "metadata": {},
     "output_type": "display_data"
    },
    {
     "data": {
      "text/html": [
       "<pre>+---------+-------------------+------------------------------------------+</pre>"
      ],
      "text/plain": [
       "+---------+-------------------+------------------------------------------+"
      ]
     },
     "metadata": {},
     "output_type": "display_data"
    },
    {
     "data": {
      "text/html": [
       "<pre>| Final   | 0.0159439         | 0.97191                                  |</pre>"
      ],
      "text/plain": [
       "| Final   | 0.0159439         | 0.97191                                  |"
      ]
     },
     "metadata": {},
     "output_type": "display_data"
    },
    {
     "data": {
      "text/html": [
       "<pre>+---------+-------------------+------------------------------------------+</pre>"
      ],
      "text/plain": [
       "+---------+-------------------+------------------------------------------+"
      ]
     },
     "metadata": {},
     "output_type": "display_data"
    },
    {
     "data": {
      "text/html": [
       "<pre>Starting Optimization.</pre>"
      ],
      "text/plain": [
       "Starting Optimization."
      ]
     },
     "metadata": {},
     "output_type": "display_data"
    },
    {
     "data": {
      "text/html": [
       "<pre>+---------+--------------+-------------------+-----------------------+-------------+</pre>"
      ],
      "text/plain": [
       "+---------+--------------+-------------------+-----------------------+-------------+"
      ]
     },
     "metadata": {},
     "output_type": "display_data"
    },
    {
     "data": {
      "text/html": [
       "<pre>| Iter.   | Elapsed Time | Approx. Objective | Approx. Training RMSE | Step Size   |</pre>"
      ],
      "text/plain": [
       "| Iter.   | Elapsed Time | Approx. Objective | Approx. Training RMSE | Step Size   |"
      ]
     },
     "metadata": {},
     "output_type": "display_data"
    },
    {
     "data": {
      "text/html": [
       "<pre>+---------+--------------+-------------------+-----------------------+-------------+</pre>"
      ],
      "text/plain": [
       "+---------+--------------+-------------------+-----------------------+-------------+"
      ]
     },
     "metadata": {},
     "output_type": "display_data"
    },
    {
     "data": {
      "text/html": [
       "<pre>| Initial | 213us        | 1.26149           | 1.12316               |             |</pre>"
      ],
      "text/plain": [
       "| Initial | 213us        | 1.26149           | 1.12316               |             |"
      ]
     },
     "metadata": {},
     "output_type": "display_data"
    },
    {
     "data": {
      "text/html": [
       "<pre>+---------+--------------+-------------------+-----------------------+-------------+</pre>"
      ],
      "text/plain": [
       "+---------+--------------+-------------------+-----------------------+-------------+"
      ]
     },
     "metadata": {},
     "output_type": "display_data"
    },
    {
     "data": {
      "text/html": [
       "<pre>| 1       | 368.141ms    | 1.06851           | 1.03369               | 0.0159439   |</pre>"
      ],
      "text/plain": [
       "| 1       | 368.141ms    | 1.06851           | 1.03369               | 0.0159439   |"
      ]
     },
     "metadata": {},
     "output_type": "display_data"
    },
    {
     "data": {
      "text/html": [
       "<pre>| 2       | 634.819ms    | 0.989992          | 0.994983              | 0.0159439   |</pre>"
      ],
      "text/plain": [
       "| 2       | 634.819ms    | 0.989992          | 0.994983              | 0.0159439   |"
      ]
     },
     "metadata": {},
     "output_type": "display_data"
    },
    {
     "data": {
      "text/html": [
       "<pre>| 3       | 867.699ms    | 0.980235          | 0.990068              | 0.0159439   |</pre>"
      ],
      "text/plain": [
       "| 3       | 867.699ms    | 0.980235          | 0.990068              | 0.0159439   |"
      ]
     },
     "metadata": {},
     "output_type": "display_data"
    },
    {
     "data": {
      "text/html": [
       "<pre>| 4       | 1.15s        | 0.957614          | 0.978577              | 0.0159439   |</pre>"
      ],
      "text/plain": [
       "| 4       | 1.15s        | 0.957614          | 0.978577              | 0.0159439   |"
      ]
     },
     "metadata": {},
     "output_type": "display_data"
    },
    {
     "data": {
      "text/html": [
       "<pre>| 5       | 1.41s        | 0.962209          | 0.980922              | 0.0159439   |</pre>"
      ],
      "text/plain": [
       "| 5       | 1.41s        | 0.962209          | 0.980922              | 0.0159439   |"
      ]
     },
     "metadata": {},
     "output_type": "display_data"
    },
    {
     "data": {
      "text/html": [
       "<pre>| 10      | 2.54s        | 1.18669           | 1.08935               | 0.0159439   |</pre>"
      ],
      "text/plain": [
       "| 10      | 2.54s        | 1.18669           | 1.08935               | 0.0159439   |"
      ]
     },
     "metadata": {},
     "output_type": "display_data"
    },
    {
     "data": {
      "text/html": [
       "<pre>| 14      | 3.47s        | DIVERGED          | DIVERGED              | 0.0159439   |</pre>"
      ],
      "text/plain": [
       "| 14      | 3.47s        | DIVERGED          | DIVERGED              | 0.0159439   |"
      ]
     },
     "metadata": {},
     "output_type": "display_data"
    },
    {
     "data": {
      "text/html": [
       "<pre>| RESET   | 3.56s        | 1.26163           | 1.12322               |             |</pre>"
      ],
      "text/plain": [
       "| RESET   | 3.56s        | 1.26163           | 1.12322               |             |"
      ]
     },
     "metadata": {},
     "output_type": "display_data"
    },
    {
     "data": {
      "text/html": [
       "<pre>| 11      | 6.05s        | 0.978207          | 0.989043              | 0.00797194  |</pre>"
      ],
      "text/plain": [
       "| 11      | 6.05s        | 0.978207          | 0.989043              | 0.00797194  |"
      ]
     },
     "metadata": {},
     "output_type": "display_data"
    },
    {
     "data": {
      "text/html": [
       "<pre>| 36      | 12.05s       | 0.967436          | 0.983583              | 0.00797194  |</pre>"
      ],
      "text/plain": [
       "| 36      | 12.05s       | 0.967436          | 0.983583              | 0.00797194  |"
      ]
     },
     "metadata": {},
     "output_type": "display_data"
    },
    {
     "data": {
      "text/html": [
       "<pre>| 41      | 13.84s       | 0.941178          | 0.970143              | 0.00797194  |</pre>"
      ],
      "text/plain": [
       "| 41      | 13.84s       | 0.941178          | 0.970143              | 0.00797194  |"
      ]
     },
     "metadata": {},
     "output_type": "display_data"
    },
    {
     "data": {
      "text/html": [
       "<pre>+---------+--------------+-------------------+-----------------------+-------------+</pre>"
      ],
      "text/plain": [
       "+---------+--------------+-------------------+-----------------------+-------------+"
      ]
     },
     "metadata": {},
     "output_type": "display_data"
    },
    {
     "data": {
      "text/html": [
       "<pre>Optimization Complete: Maximum number of passes through the data reached (hard limit).</pre>"
      ],
      "text/plain": [
       "Optimization Complete: Maximum number of passes through the data reached (hard limit)."
      ]
     },
     "metadata": {},
     "output_type": "display_data"
    },
    {
     "data": {
      "text/html": [
       "<pre>Computing final objective value and training RMSE.</pre>"
      ],
      "text/plain": [
       "Computing final objective value and training RMSE."
      ]
     },
     "metadata": {},
     "output_type": "display_data"
    },
    {
     "data": {
      "text/html": [
       "<pre>       Final objective value: 0.939629</pre>"
      ],
      "text/plain": [
       "       Final objective value: 0.939629"
      ]
     },
     "metadata": {},
     "output_type": "display_data"
    },
    {
     "data": {
      "text/html": [
       "<pre>       Final training RMSE: 0.969344</pre>"
      ],
      "text/plain": [
       "       Final training RMSE: 0.969344"
      ]
     },
     "metadata": {},
     "output_type": "display_data"
    }
   ],
   "source": [
    "model = tc.factorization_recommender.create(train, target='rating', user_data=user, item_data=item)"
   ]
  },
  {
   "cell_type": "code",
   "execution_count": 9,
   "metadata": {
    "collapsed": false
   },
   "outputs": [
    {
     "data": {
      "text/plain": [
       "Class                            : FactorizationRecommender\n",
       "\n",
       "Schema\n",
       "------\n",
       "User ID                          : user_id\n",
       "Item ID                          : item_id\n",
       "Target                           : rating\n",
       "Additional observation features  : 23\n",
       "User side features               : ['user_id', 'age', 'gender', 'occupation']\n",
       "Item side features               : ['X1', 'item_id', 'rating', 'unknown', 'action', 'adventure', 'animation', \"children's\", 'comedy', 'crime', 'documentary', 'drama', 'fantasy', 'film-noir', 'horror', 'musical', 'mystery', 'romance', 'sci-fi', 'thriller', 'war', 'western']\n",
       "\n",
       "Statistics\n",
       "----------\n",
       "Number of observations           : 80009\n",
       "Number of users                  : 943\n",
       "Number of items                  : 1682\n",
       "\n",
       "Training summary\n",
       "----------------\n",
       "Training time                    : 16.8619\n",
       "\n",
       "Model Parameters\n",
       "----------------\n",
       "Model class                      : FactorizationRecommender\n",
       "num_factors                      : 8\n",
       "binary_target                    : 0\n",
       "side_data_factorization          : 1\n",
       "solver                           : auto\n",
       "nmf                              : 0\n",
       "max_iterations                   : 50\n",
       "\n",
       "Regularization Settings\n",
       "-----------------------\n",
       "regularization                   : 0.0\n",
       "regularization_type              : normal\n",
       "linear_regularization            : 0.0\n",
       "\n",
       "Optimization Settings\n",
       "---------------------\n",
       "init_random_sigma                : 0.01\n",
       "sgd_convergence_interval         : 4\n",
       "sgd_convergence_threshold        : 0.0\n",
       "sgd_max_trial_iterations         : 5\n",
       "sgd_sampling_block_size          : 131072\n",
       "sgd_step_adjustment_interval     : 4\n",
       "sgd_step_size                    : 0.0\n",
       "sgd_trial_sample_minimum_size    : 10000\n",
       "sgd_trial_sample_proportion      : 0.125\n",
       "step_size_decrease_rate          : 0.75\n",
       "additional_iterations_if_unhealthy : 5\n",
       "adagrad_momentum_weighting       : 0.9\n",
       "num_tempering_iterations         : 4\n",
       "tempering_regularization_start_value : 0.0\n",
       "track_exact_loss                 : 0"
      ]
     },
     "execution_count": 9,
     "metadata": {},
     "output_type": "execute_result"
    }
   ],
   "source": [
    "model"
   ]
  },
  {
   "cell_type": "code",
   "execution_count": 10,
   "metadata": {
    "collapsed": false
   },
   "outputs": [],
   "source": [
    "predictions = model.predict(test)"
   ]
  },
  {
   "cell_type": "code",
   "execution_count": 11,
   "metadata": {
    "collapsed": false
   },
   "outputs": [
    {
     "data": {
      "text/plain": [
       "dtype: float\n",
       "Rows: 19991\n",
       "[3.75571142607336, 3.6813931028847797, 3.865132541416976, 4.1727077867973, 3.8046644915167285, 4.375917796870681, 3.8158348231399977, 3.37089153317032, 4.051127709570702, 4.300957683059216, 3.6807767961022906, 4.60536107993255, 4.328074940892417, 3.9950306959793562, 3.7302274002764593, 3.4648223565837033, 3.564880018547599, 3.4836338892111014, 3.1862525040403957, 3.843657341509319, 3.8255353743337297, 3.7813315509705308, 4.846875189389286, 3.3358663717082857, 3.2654488910135955, 3.217045677765636, 3.3731070638365255, 2.827458968499647, 4.109023158794715, 3.479892986988786, 4.0794399492698314, 3.0610411986853094, 3.188070384672208, 3.9677161536348873, 3.222930241459168, 3.2122915029948143, 3.4032135647329063, 4.422510173662973, 2.9918441072075637, 3.779446818855313, 2.966888411030203, 3.2502866475722163, 3.456950560134087, 3.610687572030015, 2.9758809948237426, 3.5398862600761243, 3.0081799070144806, 3.120229627771401, 3.0485352014959477, 2.9909655579634653, 2.944365585493412, 2.647867400836377, 3.1287082625177414, 3.609889220887891, 3.9085333464454215, 2.9678794607773797, 3.857215050537637, 3.7792174376881404, 2.841536898805112, 3.6471962289183764, 3.7553091447426437, 3.7280299820211096, 2.661091032456373, 3.1871625457649952, 3.447089240404869, 4.231526624301744, 3.492083616854132, 4.025250439434834, 4.049738960890543, 3.504585474613697, 3.598528659664733, 3.7542188286156883, 3.8248314055674135, 3.7390329437427243, 3.6601215160848564, 3.7958718654202515, 3.7296423852643232, 3.7659025402190696, 3.655524240959387, 3.6456202133305635, 3.5442468872292943, 4.110656644507735, 3.5719368653929906, 3.7093777680956035, 3.997653328298762, 3.913096199051487, 4.508481500108105, 4.448595560283911, 4.565938635591438, 3.550295620743891, 4.0995347837002525, 3.888921350538892, 3.430235081177556, 3.3584277040301296, 3.9613866394188024, 3.556133037819096, 4.140868738844993, 3.9323907871919586, 3.5374659503848926, 3.7843163701538844, ... ]"
      ]
     },
     "execution_count": 11,
     "metadata": {},
     "output_type": "execute_result"
    }
   ],
   "source": [
    "predictions"
   ]
  },
  {
   "cell_type": "code",
   "execution_count": 12,
   "metadata": {
    "collapsed": false
   },
   "outputs": [],
   "source": [
    "summary = test.add_column(predictions, \"predictions\")\n",
    "summary = summary.select_columns(['user_id', 'item_id', 'rating', 'predictions'])"
   ]
  },
  {
   "cell_type": "code",
   "execution_count": 13,
   "metadata": {
    "collapsed": false
   },
   "outputs": [
    {
     "data": {
      "text/html": [
       "<div style=\"max-height:1000px;max-width:1500px;overflow:auto;\"><table frame=\"box\" rules=\"cols\">\n",
       "    <tr>\n",
       "        <th style=\"padding-left: 1em; padding-right: 1em; text-align: center\">user_id</th>\n",
       "        <th style=\"padding-left: 1em; padding-right: 1em; text-align: center\">item_id</th>\n",
       "        <th style=\"padding-left: 1em; padding-right: 1em; text-align: center\">rating</th>\n",
       "        <th style=\"padding-left: 1em; padding-right: 1em; text-align: center\">predictions</th>\n",
       "    </tr>\n",
       "    <tr>\n",
       "        <td style=\"padding-left: 1em; padding-right: 1em; text-align: center; vertical-align: top\">6</td>\n",
       "        <td style=\"padding-left: 1em; padding-right: 1em; text-align: center; vertical-align: top\">242</td>\n",
       "        <td style=\"padding-left: 1em; padding-right: 1em; text-align: center; vertical-align: top\">4</td>\n",
       "        <td style=\"padding-left: 1em; padding-right: 1em; text-align: center; vertical-align: top\">3.75571142607</td>\n",
       "    </tr>\n",
       "    <tr>\n",
       "        <td style=\"padding-left: 1em; padding-right: 1em; text-align: center; vertical-align: top\">63</td>\n",
       "        <td style=\"padding-left: 1em; padding-right: 1em; text-align: center; vertical-align: top\">242</td>\n",
       "        <td style=\"padding-left: 1em; padding-right: 1em; text-align: center; vertical-align: top\">3</td>\n",
       "        <td style=\"padding-left: 1em; padding-right: 1em; text-align: center; vertical-align: top\">3.68139310288</td>\n",
       "    </tr>\n",
       "    <tr>\n",
       "        <td style=\"padding-left: 1em; padding-right: 1em; text-align: center; vertical-align: top\">90</td>\n",
       "        <td style=\"padding-left: 1em; padding-right: 1em; text-align: center; vertical-align: top\">242</td>\n",
       "        <td style=\"padding-left: 1em; padding-right: 1em; text-align: center; vertical-align: top\">4</td>\n",
       "        <td style=\"padding-left: 1em; padding-right: 1em; text-align: center; vertical-align: top\">3.86513254142</td>\n",
       "    </tr>\n",
       "    <tr>\n",
       "        <td style=\"padding-left: 1em; padding-right: 1em; text-align: center; vertical-align: top\">123</td>\n",
       "        <td style=\"padding-left: 1em; padding-right: 1em; text-align: center; vertical-align: top\">242</td>\n",
       "        <td style=\"padding-left: 1em; padding-right: 1em; text-align: center; vertical-align: top\">5</td>\n",
       "        <td style=\"padding-left: 1em; padding-right: 1em; text-align: center; vertical-align: top\">4.1727077868</td>\n",
       "    </tr>\n",
       "    <tr>\n",
       "        <td style=\"padding-left: 1em; padding-right: 1em; text-align: center; vertical-align: top\">154</td>\n",
       "        <td style=\"padding-left: 1em; padding-right: 1em; text-align: center; vertical-align: top\">242</td>\n",
       "        <td style=\"padding-left: 1em; padding-right: 1em; text-align: center; vertical-align: top\">3</td>\n",
       "        <td style=\"padding-left: 1em; padding-right: 1em; text-align: center; vertical-align: top\">3.80466449152</td>\n",
       "    </tr>\n",
       "    <tr>\n",
       "        <td style=\"padding-left: 1em; padding-right: 1em; text-align: center; vertical-align: top\">239</td>\n",
       "        <td style=\"padding-left: 1em; padding-right: 1em; text-align: center; vertical-align: top\">242</td>\n",
       "        <td style=\"padding-left: 1em; padding-right: 1em; text-align: center; vertical-align: top\">5</td>\n",
       "        <td style=\"padding-left: 1em; padding-right: 1em; text-align: center; vertical-align: top\">4.37591779687</td>\n",
       "    </tr>\n",
       "    <tr>\n",
       "        <td style=\"padding-left: 1em; padding-right: 1em; text-align: center; vertical-align: top\">129</td>\n",
       "        <td style=\"padding-left: 1em; padding-right: 1em; text-align: center; vertical-align: top\">242</td>\n",
       "        <td style=\"padding-left: 1em; padding-right: 1em; text-align: center; vertical-align: top\">4</td>\n",
       "        <td style=\"padding-left: 1em; padding-right: 1em; text-align: center; vertical-align: top\">3.81583482314</td>\n",
       "    </tr>\n",
       "    <tr>\n",
       "        <td style=\"padding-left: 1em; padding-right: 1em; text-align: center; vertical-align: top\">195</td>\n",
       "        <td style=\"padding-left: 1em; padding-right: 1em; text-align: center; vertical-align: top\">242</td>\n",
       "        <td style=\"padding-left: 1em; padding-right: 1em; text-align: center; vertical-align: top\">4</td>\n",
       "        <td style=\"padding-left: 1em; padding-right: 1em; text-align: center; vertical-align: top\">3.37089153317</td>\n",
       "    </tr>\n",
       "    <tr>\n",
       "        <td style=\"padding-left: 1em; padding-right: 1em; text-align: center; vertical-align: top\">202</td>\n",
       "        <td style=\"padding-left: 1em; padding-right: 1em; text-align: center; vertical-align: top\">242</td>\n",
       "        <td style=\"padding-left: 1em; padding-right: 1em; text-align: center; vertical-align: top\">3</td>\n",
       "        <td style=\"padding-left: 1em; padding-right: 1em; text-align: center; vertical-align: top\">4.05112770957</td>\n",
       "    </tr>\n",
       "    <tr>\n",
       "        <td style=\"padding-left: 1em; padding-right: 1em; text-align: center; vertical-align: top\">30</td>\n",
       "        <td style=\"padding-left: 1em; padding-right: 1em; text-align: center; vertical-align: top\">242</td>\n",
       "        <td style=\"padding-left: 1em; padding-right: 1em; text-align: center; vertical-align: top\">5</td>\n",
       "        <td style=\"padding-left: 1em; padding-right: 1em; text-align: center; vertical-align: top\">4.30095768306</td>\n",
       "    </tr>\n",
       "</table>\n",
       "[19991 rows x 4 columns]<br/>Note: Only the head of the SFrame is printed.<br/>You can use print_rows(num_rows=m, num_columns=n) to print more rows and columns.\n",
       "</div>"
      ],
      "text/plain": [
       "Columns:\n",
       "\tuser_id\tint\n",
       "\titem_id\tint\n",
       "\trating\tint\n",
       "\tpredictions\tfloat\n",
       "\n",
       "Rows: 19991\n",
       "\n",
       "Data:\n",
       "+---------+---------+--------+---------------+\n",
       "| user_id | item_id | rating |  predictions  |\n",
       "+---------+---------+--------+---------------+\n",
       "|    6    |   242   |   4    | 3.75571142607 |\n",
       "|    63   |   242   |   3    | 3.68139310288 |\n",
       "|    90   |   242   |   4    | 3.86513254142 |\n",
       "|   123   |   242   |   5    |  4.1727077868 |\n",
       "|   154   |   242   |   3    | 3.80466449152 |\n",
       "|   239   |   242   |   5    | 4.37591779687 |\n",
       "|   129   |   242   |   4    | 3.81583482314 |\n",
       "|   195   |   242   |   4    | 3.37089153317 |\n",
       "|   202   |   242   |   3    | 4.05112770957 |\n",
       "|    30   |   242   |   5    | 4.30095768306 |\n",
       "+---------+---------+--------+---------------+\n",
       "[19991 rows x 4 columns]\n",
       "Note: Only the head of the SFrame is printed.\n",
       "You can use print_rows(num_rows=m, num_columns=n) to print more rows and columns."
      ]
     },
     "execution_count": 13,
     "metadata": {},
     "output_type": "execute_result"
    }
   ],
   "source": [
    "summary"
   ]
  },
  {
   "cell_type": "code",
   "execution_count": 14,
   "metadata": {
    "collapsed": false
   },
   "outputs": [
    {
     "data": {
      "text/html": [
       "<div style=\"max-height:1000px;max-width:1500px;overflow:auto;\"><table frame=\"box\" rules=\"cols\">\n",
       "    <tr>\n",
       "        <th style=\"padding-left: 1em; padding-right: 1em; text-align: center\">user_id</th>\n",
       "        <th style=\"padding-left: 1em; padding-right: 1em; text-align: center\">item_id</th>\n",
       "        <th style=\"padding-left: 1em; padding-right: 1em; text-align: center\">rating</th>\n",
       "        <th style=\"padding-left: 1em; padding-right: 1em; text-align: center\">predictions</th>\n",
       "    </tr>\n",
       "    <tr>\n",
       "        <td style=\"padding-left: 1em; padding-right: 1em; text-align: center; vertical-align: top\">451</td>\n",
       "        <td style=\"padding-left: 1em; padding-right: 1em; text-align: center; vertical-align: top\">683</td>\n",
       "        <td style=\"padding-left: 1em; padding-right: 1em; text-align: center; vertical-align: top\">1</td>\n",
       "        <td style=\"padding-left: 1em; padding-right: 1em; text-align: center; vertical-align: top\">2.94431056644</td>\n",
       "    </tr>\n",
       "    <tr>\n",
       "        <td style=\"padding-left: 1em; padding-right: 1em; text-align: center; vertical-align: top\">405</td>\n",
       "        <td style=\"padding-left: 1em; padding-right: 1em; text-align: center; vertical-align: top\">959</td>\n",
       "        <td style=\"padding-left: 1em; padding-right: 1em; text-align: center; vertical-align: top\">1</td>\n",
       "        <td style=\"padding-left: 1em; padding-right: 1em; text-align: center; vertical-align: top\">1.96863730539</td>\n",
       "    </tr>\n",
       "    <tr>\n",
       "        <td style=\"padding-left: 1em; padding-right: 1em; text-align: center; vertical-align: top\">198</td>\n",
       "        <td style=\"padding-left: 1em; padding-right: 1em; text-align: center; vertical-align: top\">410</td>\n",
       "        <td style=\"padding-left: 1em; padding-right: 1em; text-align: center; vertical-align: top\">1</td>\n",
       "        <td style=\"padding-left: 1em; padding-right: 1em; text-align: center; vertical-align: top\">3.11543439834</td>\n",
       "    </tr>\n",
       "    <tr>\n",
       "        <td style=\"padding-left: 1em; padding-right: 1em; text-align: center; vertical-align: top\">445</td>\n",
       "        <td style=\"padding-left: 1em; padding-right: 1em; text-align: center; vertical-align: top\">410</td>\n",
       "        <td style=\"padding-left: 1em; padding-right: 1em; text-align: center; vertical-align: top\">1</td>\n",
       "        <td style=\"padding-left: 1em; padding-right: 1em; text-align: center; vertical-align: top\">2.43439087794</td>\n",
       "    </tr>\n",
       "    <tr>\n",
       "        <td style=\"padding-left: 1em; padding-right: 1em; text-align: center; vertical-align: top\">246</td>\n",
       "        <td style=\"padding-left: 1em; padding-right: 1em; text-align: center; vertical-align: top\">628</td>\n",
       "        <td style=\"padding-left: 1em; padding-right: 1em; text-align: center; vertical-align: top\">1</td>\n",
       "        <td style=\"padding-left: 1em; padding-right: 1em; text-align: center; vertical-align: top\">3.04888515222</td>\n",
       "    </tr>\n",
       "    <tr>\n",
       "        <td style=\"padding-left: 1em; padding-right: 1em; text-align: center; vertical-align: top\">537</td>\n",
       "        <td style=\"padding-left: 1em; padding-right: 1em; text-align: center; vertical-align: top\">739</td>\n",
       "        <td style=\"padding-left: 1em; padding-right: 1em; text-align: center; vertical-align: top\">1</td>\n",
       "        <td style=\"padding-left: 1em; padding-right: 1em; text-align: center; vertical-align: top\">2.88708341609</td>\n",
       "    </tr>\n",
       "    <tr>\n",
       "        <td style=\"padding-left: 1em; padding-right: 1em; text-align: center; vertical-align: top\">730</td>\n",
       "        <td style=\"padding-left: 1em; padding-right: 1em; text-align: center; vertical-align: top\">410</td>\n",
       "        <td style=\"padding-left: 1em; padding-right: 1em; text-align: center; vertical-align: top\">1</td>\n",
       "        <td style=\"padding-left: 1em; padding-right: 1em; text-align: center; vertical-align: top\">3.15190394126</td>\n",
       "    </tr>\n",
       "    <tr>\n",
       "        <td style=\"padding-left: 1em; padding-right: 1em; text-align: center; vertical-align: top\">385</td>\n",
       "        <td style=\"padding-left: 1em; padding-right: 1em; text-align: center; vertical-align: top\">739</td>\n",
       "        <td style=\"padding-left: 1em; padding-right: 1em; text-align: center; vertical-align: top\">1</td>\n",
       "        <td style=\"padding-left: 1em; padding-right: 1em; text-align: center; vertical-align: top\">3.18611023005</td>\n",
       "    </tr>\n",
       "    <tr>\n",
       "        <td style=\"padding-left: 1em; padding-right: 1em; text-align: center; vertical-align: top\">847</td>\n",
       "        <td style=\"padding-left: 1em; padding-right: 1em; text-align: center; vertical-align: top\">410</td>\n",
       "        <td style=\"padding-left: 1em; padding-right: 1em; text-align: center; vertical-align: top\">1</td>\n",
       "        <td style=\"padding-left: 1em; padding-right: 1em; text-align: center; vertical-align: top\">2.84016575427</td>\n",
       "    </tr>\n",
       "    <tr>\n",
       "        <td style=\"padding-left: 1em; padding-right: 1em; text-align: center; vertical-align: top\">393</td>\n",
       "        <td style=\"padding-left: 1em; padding-right: 1em; text-align: center; vertical-align: top\">40</td>\n",
       "        <td style=\"padding-left: 1em; padding-right: 1em; text-align: center; vertical-align: top\">1</td>\n",
       "        <td style=\"padding-left: 1em; padding-right: 1em; text-align: center; vertical-align: top\">3.11114646652</td>\n",
       "    </tr>\n",
       "</table>\n",
       "[19991 rows x 4 columns]<br/>Note: Only the head of the SFrame is printed.<br/>You can use print_rows(num_rows=m, num_columns=n) to print more rows and columns.\n",
       "</div>"
      ],
      "text/plain": [
       "Columns:\n",
       "\tuser_id\tint\n",
       "\titem_id\tint\n",
       "\trating\tint\n",
       "\tpredictions\tfloat\n",
       "\n",
       "Rows: 19991\n",
       "\n",
       "Data:\n",
       "+---------+---------+--------+---------------+\n",
       "| user_id | item_id | rating |  predictions  |\n",
       "+---------+---------+--------+---------------+\n",
       "|   451   |   683   |   1    | 2.94431056644 |\n",
       "|   405   |   959   |   1    | 1.96863730539 |\n",
       "|   198   |   410   |   1    | 3.11543439834 |\n",
       "|   445   |   410   |   1    | 2.43439087794 |\n",
       "|   246   |   628   |   1    | 3.04888515222 |\n",
       "|   537   |   739   |   1    | 2.88708341609 |\n",
       "|   730   |   410   |   1    | 3.15190394126 |\n",
       "|   385   |   739   |   1    | 3.18611023005 |\n",
       "|   847   |   410   |   1    | 2.84016575427 |\n",
       "|   393   |    40   |   1    | 3.11114646652 |\n",
       "+---------+---------+--------+---------------+\n",
       "[19991 rows x 4 columns]\n",
       "Note: Only the head of the SFrame is printed.\n",
       "You can use print_rows(num_rows=m, num_columns=n) to print more rows and columns."
      ]
     },
     "execution_count": 14,
     "metadata": {},
     "output_type": "execute_result"
    }
   ],
   "source": [
    "summary.sort('rating')"
   ]
  },
  {
   "cell_type": "code",
   "execution_count": 15,
   "metadata": {
    "collapsed": false
   },
   "outputs": [],
   "source": [
    "predictions = predictions.astype(int)"
   ]
  },
  {
   "cell_type": "code",
   "execution_count": 16,
   "metadata": {
    "collapsed": false
   },
   "outputs": [],
   "source": [
    "targets = test['rating']\n"
   ]
  },
  {
   "cell_type": "code",
   "execution_count": 17,
   "metadata": {
    "collapsed": false
   },
   "outputs": [],
   "source": [
    "targets = targets.astype(int)"
   ]
  },
  {
   "cell_type": "code",
   "execution_count": 18,
   "metadata": {
    "collapsed": false
   },
   "outputs": [
    {
     "data": {
      "text/plain": [
       "0.3039367715471962"
      ]
     },
     "execution_count": 18,
     "metadata": {},
     "output_type": "execute_result"
    }
   ],
   "source": [
    "eval = tc.evaluation.accuracy(targets, predictions, average = \"micro\")\n",
    "eval"
   ]
  },
  {
   "cell_type": "code",
   "execution_count": 19,
   "metadata": {
    "collapsed": false
   },
   "outputs": [
    {
     "data": {
      "text/plain": [
       "{1: 0.6981132075471698,\n",
       " 2: 0.28565488565488567,\n",
       " 3: 0.289741800418702,\n",
       " 4: 0.3627831715210356,\n",
       " 5: 0.7142857142857143}"
      ]
     },
     "execution_count": 19,
     "metadata": {},
     "output_type": "execute_result"
    }
   ],
   "source": [
    "eval1 = tc.evaluation.accuracy(targets, predictions, average = None)\n",
    "eval1"
   ]
  },
  {
   "cell_type": "code",
   "execution_count": 20,
   "metadata": {
    "collapsed": false
   },
   "outputs": [
    {
     "name": "stdout",
     "output_type": "stream",
     "text": [
      "\n",
      "Precision and recall summary statistics by cutoff\n",
      "+--------+-----------------+------------------+\n",
      "| cutoff |  mean_precision |   mean_recall    |\n",
      "+--------+-----------------+------------------+\n",
      "|   1    |  0.083864118896 | 0.00256376574653 |\n",
      "|   2    | 0.0966029723992 | 0.00713803799207 |\n",
      "|   3    |   0.1008492569  | 0.0130915751664  |\n",
      "|   4    |  0.105891719745 | 0.0196555286199  |\n",
      "|   5    |  0.103184713376 | 0.0230085243152  |\n",
      "|   6    |  0.101556970984 | 0.0268995303119  |\n",
      "|   7    |  0.101759175008 | 0.0307707711779  |\n",
      "|   8    |  0.100318471338 | 0.0341694724382  |\n",
      "|   9    | 0.0993158763859 | 0.0373512068225  |\n",
      "|   10   | 0.0975583864119 | 0.0400241950517  |\n",
      "+--------+-----------------+------------------+\n",
      "[10 rows x 3 columns]\n",
      "\n",
      "\n",
      "Overall RMSE: 0.986198437305\n",
      "\n",
      "Per User RMSE (best)\n",
      "+---------+-------+------------------+\n",
      "| user_id | count |       rmse       |\n",
      "+---------+-------+------------------+\n",
      "|   649   |   1   | 0.00161719169388 |\n",
      "+---------+-------+------------------+\n",
      "[1 rows x 3 columns]\n",
      "\n",
      "\n",
      "Per User RMSE (worst)\n",
      "+---------+-------+---------------+\n",
      "| user_id | count |      rmse     |\n",
      "+---------+-------+---------------+\n",
      "|   762   |   6   | 2.45605653075 |\n",
      "+---------+-------+---------------+\n",
      "[1 rows x 3 columns]\n",
      "\n",
      "\n",
      "Per Item RMSE (best)\n",
      "+---------+-------+------------------+\n",
      "| item_id | count |       rmse       |\n",
      "+---------+-------+------------------+\n",
      "|   1145  |   1   | 0.00198324528898 |\n",
      "+---------+-------+------------------+\n",
      "[1 rows x 3 columns]\n",
      "\n",
      "\n",
      "Per Item RMSE (worst)\n",
      "+---------+-------+---------------+\n",
      "| item_id | count |      rmse     |\n",
      "+---------+-------+---------------+\n",
      "|   1512  |   1   | 2.47635000199 |\n",
      "+---------+-------+---------------+\n",
      "[1 rows x 3 columns]\n",
      "\n"
     ]
    },
    {
     "data": {
      "text/plain": [
       "{'precision_recall_by_user': Columns:\n",
       " \tuser_id\tint\n",
       " \tcutoff\tint\n",
       " \tprecision\tfloat\n",
       " \trecall\tfloat\n",
       " \tcount\tint\n",
       " \n",
       " Rows: 16956\n",
       " \n",
       " Data:\n",
       " +---------+--------+----------------+-----------------+-------+\n",
       " | user_id | cutoff |   precision    |      recall     | count |\n",
       " +---------+--------+----------------+-----------------+-------+\n",
       " |    1    |   1    |      1.0       | 0.0153846153846 |   65  |\n",
       " |    1    |   2    |      0.5       | 0.0153846153846 |   65  |\n",
       " |    1    |   3    | 0.333333333333 | 0.0153846153846 |   65  |\n",
       " |    1    |   4    |      0.5       | 0.0307692307692 |   65  |\n",
       " |    1    |   5    |      0.4       | 0.0307692307692 |   65  |\n",
       " |    1    |   6    | 0.333333333333 | 0.0307692307692 |   65  |\n",
       " |    1    |   7    | 0.285714285714 | 0.0307692307692 |   65  |\n",
       " |    1    |   8    |      0.25      | 0.0307692307692 |   65  |\n",
       " |    1    |   9    | 0.333333333333 | 0.0461538461538 |   65  |\n",
       " |    1    |   10   |      0.4       | 0.0615384615385 |   65  |\n",
       " +---------+--------+----------------+-----------------+-------+\n",
       " [16956 rows x 5 columns]\n",
       " Note: Only the head of the SFrame is printed.\n",
       " You can use print_rows(num_rows=m, num_columns=n) to print more rows and columns.,\n",
       " 'precision_recall_overall': Columns:\n",
       " \tcutoff\tint\n",
       " \tprecision\tfloat\n",
       " \trecall\tfloat\n",
       " \n",
       " Rows: 18\n",
       " \n",
       " Data:\n",
       " +--------+-----------------+------------------+\n",
       " | cutoff |    precision    |      recall      |\n",
       " +--------+-----------------+------------------+\n",
       " |   1    |  0.083864118896 | 0.00256376574653 |\n",
       " |   2    | 0.0966029723992 | 0.00713803799207 |\n",
       " |   3    |   0.1008492569  | 0.0130915751664  |\n",
       " |   4    |  0.105891719745 | 0.0196555286199  |\n",
       " |   5    |  0.103184713376 | 0.0230085243152  |\n",
       " |   6    |  0.101556970984 | 0.0268995303119  |\n",
       " |   7    |  0.101759175008 | 0.0307707711779  |\n",
       " |   8    |  0.100318471338 | 0.0341694724382  |\n",
       " |   9    | 0.0993158763859 | 0.0373512068225  |\n",
       " |   10   | 0.0975583864119 | 0.0400241950517  |\n",
       " +--------+-----------------+------------------+\n",
       " [18 rows x 3 columns]\n",
       " Note: Only the head of the SFrame is printed.\n",
       " You can use print_rows(num_rows=m, num_columns=n) to print more rows and columns.,\n",
       " 'rmse_by_item': Columns:\n",
       " \titem_id\tint\n",
       " \tcount\tint\n",
       " \trmse\tfloat\n",
       " \n",
       " Rows: 1425\n",
       " \n",
       " Data:\n",
       " +---------+-------+----------------+\n",
       " | item_id | count |      rmse      |\n",
       " +---------+-------+----------------+\n",
       " |   118   |   60  | 1.03804106087  |\n",
       " |   1029  |   1   | 2.31612057907  |\n",
       " |   435   |   45  | 0.869099295139 |\n",
       " |   1517  |   1   | 0.465449764142 |\n",
       " |   537   |   8   | 0.859397331959 |\n",
       " |   526   |   20  | 0.876570170565 |\n",
       " |   232   |   19  | 1.12934866209  |\n",
       " |   310   |   33  |  1.0508784195  |\n",
       " |    49   |   15  | 0.683936273627 |\n",
       " |    13   |   37  | 0.896763031626 |\n",
       " +---------+-------+----------------+\n",
       " [1425 rows x 3 columns]\n",
       " Note: Only the head of the SFrame is printed.\n",
       " You can use print_rows(num_rows=m, num_columns=n) to print more rows and columns.,\n",
       " 'rmse_by_user': Columns:\n",
       " \tuser_id\tint\n",
       " \tcount\tint\n",
       " \trmse\tfloat\n",
       " \n",
       " Rows: 942\n",
       " \n",
       " Data:\n",
       " +---------+-------+----------------+\n",
       " | user_id | count |      rmse      |\n",
       " +---------+-------+----------------+\n",
       " |   118   |   11  | 0.801702002714 |\n",
       " |   435   |   72  | 0.96015425821  |\n",
       " |   537   |   96  | 0.779339131479 |\n",
       " |   526   |   14  | 0.980151472756 |\n",
       " |   232   |   18  | 0.829339521583 |\n",
       " |   310   |   2   | 0.515672131309 |\n",
       " |    49   |   43  | 1.16147143224  |\n",
       " |    13   |  130  | 1.26310654513  |\n",
       " |   511   |   3   | 1.66115980223  |\n",
       " |   363   |   72  | 1.25715775436  |\n",
       " +---------+-------+----------------+\n",
       " [942 rows x 3 columns]\n",
       " Note: Only the head of the SFrame is printed.\n",
       " You can use print_rows(num_rows=m, num_columns=n) to print more rows and columns.,\n",
       " 'rmse_overall': 0.9861984373053326}"
      ]
     },
     "execution_count": 20,
     "metadata": {},
     "output_type": "execute_result"
    }
   ],
   "source": [
    "model.evaluate(test)"
   ]
  },
  {
   "cell_type": "code",
   "execution_count": 21,
   "metadata": {
    "collapsed": false
   },
   "outputs": [
    {
     "data": {
      "text/html": [
       "<pre>Warning: Ignoring columns X1, age, gender, occupation, unknown, action, adventure, animation, children's, comedy, crime, documentary, drama, fantasy, film-noir, horror, musical, mystery, romance, sci-fi, thriller, war, western;</pre>"
      ],
      "text/plain": [
       "Warning: Ignoring columns X1, age, gender, occupation, unknown, action, adventure, animation, children's, comedy, crime, documentary, drama, fantasy, film-noir, horror, musical, mystery, romance, sci-fi, thriller, war, western;"
      ]
     },
     "metadata": {},
     "output_type": "display_data"
    },
    {
     "data": {
      "text/html": [
       "<pre>    To use these columns in scoring predictions, use a model that allows the use of additional features.</pre>"
      ],
      "text/plain": [
       "    To use these columns in scoring predictions, use a model that allows the use of additional features."
      ]
     },
     "metadata": {},
     "output_type": "display_data"
    },
    {
     "data": {
      "text/html": [
       "<pre>Preparing data set.</pre>"
      ],
      "text/plain": [
       "Preparing data set."
      ]
     },
     "metadata": {},
     "output_type": "display_data"
    },
    {
     "data": {
      "text/html": [
       "<pre>    Data has 80009 observations with 943 users and 1682 items.</pre>"
      ],
      "text/plain": [
       "    Data has 80009 observations with 943 users and 1682 items."
      ]
     },
     "metadata": {},
     "output_type": "display_data"
    },
    {
     "data": {
      "text/html": [
       "<pre>    Data prepared in: 0.361212s</pre>"
      ],
      "text/plain": [
       "    Data prepared in: 0.361212s"
      ]
     },
     "metadata": {},
     "output_type": "display_data"
    },
    {
     "data": {
      "text/html": [
       "<pre>80009 observations to process; with 1682 unique items.</pre>"
      ],
      "text/plain": [
       "80009 observations to process; with 1682 unique items."
      ]
     },
     "metadata": {},
     "output_type": "display_data"
    }
   ],
   "source": [
    "model2 = tc.recommender.popularity_recommender.create(train, target=\"rating\", user_data=user, item_data=item)"
   ]
  },
  {
   "cell_type": "code",
   "execution_count": 22,
   "metadata": {
    "collapsed": false
   },
   "outputs": [],
   "source": [
    "predictions2 = model2.predict(test)"
   ]
  },
  {
   "cell_type": "code",
   "execution_count": 23,
   "metadata": {
    "collapsed": false
   },
   "outputs": [
    {
     "name": "stdout",
     "output_type": "stream",
     "text": [
      "\n",
      "Precision and recall summary statistics by cutoff\n",
      "+--------+-------------------+-------------------+\n",
      "| cutoff |   mean_precision  |    mean_recall    |\n",
      "+--------+-------------------+-------------------+\n",
      "|   1    |  0.00212314225053 | 0.000183647325468 |\n",
      "|   2    |  0.00106157112527 | 0.000183647325468 |\n",
      "|   3    |  0.00106157112527 | 0.000259473834415 |\n",
      "|   4    | 0.000796178343949 | 0.000259473834415 |\n",
      "|   5    | 0.000849256900212 | 0.000267002707644 |\n",
      "|   6    | 0.000884642604388 | 0.000363509173577 |\n",
      "|   7    | 0.000758265089475 | 0.000363509173577 |\n",
      "|   8    | 0.000928874734607 | 0.000430014220432 |\n",
      "|   9    |  0.00106157112527 | 0.000458888644978 |\n",
      "|   10   |  0.00127388535032 | 0.000584500235558 |\n",
      "+--------+-------------------+-------------------+\n",
      "[10 rows x 3 columns]\n",
      "\n",
      "\n",
      "Overall RMSE: 1.02782753624\n",
      "\n",
      "Per User RMSE (best)\n",
      "+---------+-------+------+\n",
      "| user_id | count | rmse |\n",
      "+---------+-------+------+\n",
      "|   740   |   1   | 0.0  |\n",
      "+---------+-------+------+\n",
      "[1 rows x 3 columns]\n",
      "\n",
      "\n",
      "Per User RMSE (worst)\n",
      "+---------+-------+---------------+\n",
      "| user_id | count |      rmse     |\n",
      "+---------+-------+---------------+\n",
      "|   418   |   4   | 2.28773456814 |\n",
      "+---------+-------+---------------+\n",
      "[1 rows x 3 columns]\n",
      "\n",
      "\n",
      "Per Item RMSE (best)\n",
      "+---------+-------+------+\n",
      "| item_id | count | rmse |\n",
      "+---------+-------+------+\n",
      "|   1513  |   1   | 0.0  |\n",
      "+---------+-------+------+\n",
      "[1 rows x 3 columns]\n",
      "\n",
      "\n",
      "Per Item RMSE (worst)\n",
      "+---------+-------+------+\n",
      "| item_id | count | rmse |\n",
      "+---------+-------+------+\n",
      "|   1599  |   1   | 5.0  |\n",
      "+---------+-------+------+\n",
      "[1 rows x 3 columns]\n",
      "\n"
     ]
    },
    {
     "data": {
      "text/plain": [
       "{'precision_recall_by_user': Columns:\n",
       " \tuser_id\tint\n",
       " \tcutoff\tint\n",
       " \tprecision\tfloat\n",
       " \trecall\tfloat\n",
       " \tcount\tint\n",
       " \n",
       " Rows: 16956\n",
       " \n",
       " Data:\n",
       " +---------+--------+-----------+--------+-------+\n",
       " | user_id | cutoff | precision | recall | count |\n",
       " +---------+--------+-----------+--------+-------+\n",
       " |    1    |   1    |    0.0    |  0.0   |   65  |\n",
       " |    1    |   2    |    0.0    |  0.0   |   65  |\n",
       " |    1    |   3    |    0.0    |  0.0   |   65  |\n",
       " |    1    |   4    |    0.0    |  0.0   |   65  |\n",
       " |    1    |   5    |    0.0    |  0.0   |   65  |\n",
       " |    1    |   6    |    0.0    |  0.0   |   65  |\n",
       " |    1    |   7    |    0.0    |  0.0   |   65  |\n",
       " |    1    |   8    |    0.0    |  0.0   |   65  |\n",
       " |    1    |   9    |    0.0    |  0.0   |   65  |\n",
       " |    1    |   10   |    0.0    |  0.0   |   65  |\n",
       " +---------+--------+-----------+--------+-------+\n",
       " [16956 rows x 5 columns]\n",
       " Note: Only the head of the SFrame is printed.\n",
       " You can use print_rows(num_rows=m, num_columns=n) to print more rows and columns.,\n",
       " 'precision_recall_overall': Columns:\n",
       " \tcutoff\tint\n",
       " \tprecision\tfloat\n",
       " \trecall\tfloat\n",
       " \n",
       " Rows: 18\n",
       " \n",
       " Data:\n",
       " +--------+-------------------+-------------------+\n",
       " | cutoff |     precision     |       recall      |\n",
       " +--------+-------------------+-------------------+\n",
       " |   1    |  0.00212314225053 | 0.000183647325468 |\n",
       " |   2    |  0.00106157112527 | 0.000183647325468 |\n",
       " |   3    |  0.00106157112527 | 0.000259473834415 |\n",
       " |   4    | 0.000796178343949 | 0.000259473834415 |\n",
       " |   5    | 0.000849256900212 | 0.000267002707644 |\n",
       " |   6    | 0.000884642604388 | 0.000363509173577 |\n",
       " |   7    | 0.000758265089475 | 0.000363509173577 |\n",
       " |   8    | 0.000928874734607 | 0.000430014220432 |\n",
       " |   9    |  0.00106157112527 | 0.000458888644978 |\n",
       " |   10   |  0.00127388535032 | 0.000584500235558 |\n",
       " +--------+-------------------+-------------------+\n",
       " [18 rows x 3 columns]\n",
       " Note: Only the head of the SFrame is printed.\n",
       " You can use print_rows(num_rows=m, num_columns=n) to print more rows and columns.,\n",
       " 'rmse_by_item': Columns:\n",
       " \titem_id\tint\n",
       " \tcount\tint\n",
       " \trmse\tfloat\n",
       " \n",
       " Rows: 1425\n",
       " \n",
       " Data:\n",
       " +---------+-------+----------------+\n",
       " | item_id | count |      rmse      |\n",
       " +---------+-------+----------------+\n",
       " |   118   |   60  | 1.10361964654  |\n",
       " |   1029  |   1   | 1.07692307692  |\n",
       " |   435   |   45  | 0.931522228205 |\n",
       " |   1517  |   1   |      1.5       |\n",
       " |   537   |   8   | 1.11108241469  |\n",
       " |   526   |   20  | 1.00791982164  |\n",
       " |   232   |   19  | 1.08677844353  |\n",
       " |   310   |   33  | 1.05371816426  |\n",
       " |    49   |   15  | 0.71837997522  |\n",
       " |    13   |   37  | 0.963798993741 |\n",
       " +---------+-------+----------------+\n",
       " [1425 rows x 3 columns]\n",
       " Note: Only the head of the SFrame is printed.\n",
       " You can use print_rows(num_rows=m, num_columns=n) to print more rows and columns.,\n",
       " 'rmse_by_user': Columns:\n",
       " \tuser_id\tint\n",
       " \tcount\tint\n",
       " \trmse\tfloat\n",
       " \n",
       " Rows: 942\n",
       " \n",
       " Data:\n",
       " +---------+-------+----------------+\n",
       " | user_id | count |      rmse      |\n",
       " +---------+-------+----------------+\n",
       " |   118   |   11  | 1.27595006156  |\n",
       " |   435   |   72  | 0.909882815187 |\n",
       " |   537   |   96  | 1.13191273624  |\n",
       " |   526   |   14  | 0.913455088011 |\n",
       " |   232   |   18  | 0.870153710772 |\n",
       " |   310   |   2   | 0.369898996016 |\n",
       " |    49   |   43  | 1.24498513661  |\n",
       " |    13   |  130  | 1.30475712501  |\n",
       " |   511   |   3   | 1.60673493111  |\n",
       " |   363   |   72  | 1.29176472428  |\n",
       " +---------+-------+----------------+\n",
       " [942 rows x 3 columns]\n",
       " Note: Only the head of the SFrame is printed.\n",
       " You can use print_rows(num_rows=m, num_columns=n) to print more rows and columns.,\n",
       " 'rmse_overall': 1.0278275362358786}"
      ]
     },
     "execution_count": 23,
     "metadata": {},
     "output_type": "execute_result"
    }
   ],
   "source": [
    "model2.evaluate(test)"
   ]
  },
  {
   "cell_type": "code",
   "execution_count": 24,
   "metadata": {
    "collapsed": false
   },
   "outputs": [],
   "source": [
    "predictions2 = predictions2.astype(int)\n",
    "targets2 = test['rating']\n",
    "targets2 = targets2.astype(int)"
   ]
  },
  {
   "cell_type": "code",
   "execution_count": 25,
   "metadata": {
    "collapsed": false
   },
   "outputs": [
    {
     "data": {
      "text/plain": [
       "0.3009854434495523"
      ]
     },
     "execution_count": 25,
     "metadata": {},
     "output_type": "execute_result"
    }
   ],
   "source": [
    "eval3 = tc.evaluation.accuracy(targets2, predictions2, average = \"micro\")\n",
    "eval3"
   ]
  },
  {
   "cell_type": "code",
   "execution_count": 26,
   "metadata": {
    "collapsed": false
   },
   "outputs": [
    {
     "data": {
      "text/plain": [
       "{0: 0.0,\n",
       " 1: 0.4166666666666667,\n",
       " 2: 0.25110619469026546,\n",
       " 3: 0.28943235360107694,\n",
       " 4: 0.3772023491724506,\n",
       " 5: 0.23076923076923078}"
      ]
     },
     "execution_count": 26,
     "metadata": {},
     "output_type": "execute_result"
    }
   ],
   "source": [
    "eval4 = tc.evaluation.accuracy(targets2, predictions2, average = None)\n",
    "eval4"
   ]
  },
  {
   "cell_type": "code",
   "execution_count": null,
   "metadata": {
    "collapsed": true
   },
   "outputs": [],
   "source": []
  }
 ],
 "metadata": {
  "kernelspec": {
   "display_name": "venv",
   "language": "python",
   "name": "venv"
  },
  "language_info": {
   "codemirror_mode": {
    "name": "ipython",
    "version": 2
   },
   "file_extension": ".py",
   "mimetype": "text/x-python",
   "name": "python",
   "nbconvert_exporter": "python",
   "pygments_lexer": "ipython2",
   "version": "2.7.16"
  }
 },
 "nbformat": 4,
 "nbformat_minor": 2
}
